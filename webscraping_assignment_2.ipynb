{
 "cells": [
  {
   "cell_type": "code",
   "execution_count": 1,
   "metadata": {},
   "outputs": [
    {
     "name": "stdout",
     "output_type": "stream",
     "text": [
      "Requirement already satisfied: selenium in c:\\users\\public\\anaconda3\\lib\\site-packages (3.141.0)\n",
      "Requirement already satisfied: urllib3 in c:\\users\\public\\anaconda3\\lib\\site-packages (from selenium) (1.25.11)\n"
     ]
    }
   ],
   "source": [
    "#Let's first install the Selenium library\n",
    "!pip install selenium"
   ]
  },
  {
   "cell_type": "code",
   "execution_count": 2,
   "metadata": {},
   "outputs": [],
   "source": [
    "#Now let's import the required libraries\n",
    "import selenium\n",
    "import pandas as pd\n",
    "from selenium import webdriver\n",
    "import time\n",
    "from selenium.common.exceptions import StaleElementReferenceException\n",
    "from selenium.common.exceptions import NoSuchElementException\n",
    "from selenium.webdriver.support.ui import WebDriverWait"
   ]
  },
  {
   "cell_type": "code",
   "execution_count": 3,
   "metadata": {},
   "outputs": [],
   "source": [
    "#Creating driver variable and connecting to the web driver\n",
    "driver = webdriver.Chrome(\"chromedriver.exe\")"
   ]
  },
  {
   "cell_type": "markdown",
   "metadata": {},
   "source": [
    "### Q1: Write a python program to scrape data for “Data Analyst” Job position in “Bangalore” location. You have to scrape the job-title, job-location, company_name, experience_required. You have to scrape first 10 jobs data."
   ]
  },
  {
   "cell_type": "code",
   "execution_count": 49,
   "metadata": {},
   "outputs": [],
   "source": [
    "#1. first get the webpage https://www.naukri.com/\n",
    "driver.get('https://www.naukri.com/')"
   ]
  },
  {
   "cell_type": "code",
   "execution_count": 50,
   "metadata": {},
   "outputs": [],
   "source": [
    "#2. Enter “Data Analyst” in “Skill,Designations,Companies” field and enter “Bangalore”\n",
    "#in “enter the location” field.\n",
    "\n",
    "#sending keys to type in “Skill,Designations,Companies” field\n",
    "search_job = driver.find_element_by_id(\"qsb-keyword-sugg\")\n",
    "search_job.send_keys('Data Analyst')\n",
    "\n",
    "#sending keys to type in “enter the location” field\n",
    "search_loc = driver.find_element_by_id('qsb-location-sugg')\n",
    "search_loc.send_keys('Bangalore')\n"
   ]
  },
  {
   "cell_type": "code",
   "execution_count": 51,
   "metadata": {},
   "outputs": [],
   "source": [
    "#3. Then click the Search button.\n",
    "search_btn = driver.find_element_by_xpath(\"//button[@class='btn']\")\n",
    "search_btn.click()\n",
    "time.sleep(3)"
   ]
  },
  {
   "cell_type": "code",
   "execution_count": 52,
   "metadata": {},
   "outputs": [
    {
     "data": {
      "text/plain": [
       "[<selenium.webdriver.remote.webelement.WebElement (session=\"8b960c5e39afba9d486a230a0daf5802\", element=\"262c11c3-278c-4134-b453-b4fcfb4cac9d\")>,\n",
       " <selenium.webdriver.remote.webelement.WebElement (session=\"8b960c5e39afba9d486a230a0daf5802\", element=\"577aae8a-d9a5-4927-8025-a2b41e081269\")>,\n",
       " <selenium.webdriver.remote.webelement.WebElement (session=\"8b960c5e39afba9d486a230a0daf5802\", element=\"b0087cb1-4c76-47da-873c-a1c0d104006c\")>,\n",
       " <selenium.webdriver.remote.webelement.WebElement (session=\"8b960c5e39afba9d486a230a0daf5802\", element=\"6b516637-6529-498a-bca4-92c7f71130b8\")>,\n",
       " <selenium.webdriver.remote.webelement.WebElement (session=\"8b960c5e39afba9d486a230a0daf5802\", element=\"9e12b269-9f7f-41e0-b286-be53c05d2ac8\")>,\n",
       " <selenium.webdriver.remote.webelement.WebElement (session=\"8b960c5e39afba9d486a230a0daf5802\", element=\"85a50a2a-43fe-4c88-8e61-ae3e6b74c0c7\")>,\n",
       " <selenium.webdriver.remote.webelement.WebElement (session=\"8b960c5e39afba9d486a230a0daf5802\", element=\"e1742d87-139f-4b46-a0e6-8a22358d5018\")>,\n",
       " <selenium.webdriver.remote.webelement.WebElement (session=\"8b960c5e39afba9d486a230a0daf5802\", element=\"3aa780c1-e2e3-43a4-8005-50b8af04092f\")>,\n",
       " <selenium.webdriver.remote.webelement.WebElement (session=\"8b960c5e39afba9d486a230a0daf5802\", element=\"5ea63b4a-5989-416a-9c83-d71d1001ae6e\")>,\n",
       " <selenium.webdriver.remote.webelement.WebElement (session=\"8b960c5e39afba9d486a230a0daf5802\", element=\"9d903b8b-d285-4f42-ad4e-8561c802f256\")>,\n",
       " <selenium.webdriver.remote.webelement.WebElement (session=\"8b960c5e39afba9d486a230a0daf5802\", element=\"f91674c6-ce5d-4c9e-895e-df846c8fd967\")>,\n",
       " <selenium.webdriver.remote.webelement.WebElement (session=\"8b960c5e39afba9d486a230a0daf5802\", element=\"843ecebd-1552-4799-9564-dc5897df01d2\")>,\n",
       " <selenium.webdriver.remote.webelement.WebElement (session=\"8b960c5e39afba9d486a230a0daf5802\", element=\"41fd93e9-a6c6-46fc-b13f-d2deadee3b5a\")>,\n",
       " <selenium.webdriver.remote.webelement.WebElement (session=\"8b960c5e39afba9d486a230a0daf5802\", element=\"b4576825-08ef-41ae-b776-bb4d9d09a11c\")>,\n",
       " <selenium.webdriver.remote.webelement.WebElement (session=\"8b960c5e39afba9d486a230a0daf5802\", element=\"2656fb78-937d-4f9b-af41-5108865c38de\")>,\n",
       " <selenium.webdriver.remote.webelement.WebElement (session=\"8b960c5e39afba9d486a230a0daf5802\", element=\"3601b47f-0cd2-4871-9d88-714a543cd345\")>,\n",
       " <selenium.webdriver.remote.webelement.WebElement (session=\"8b960c5e39afba9d486a230a0daf5802\", element=\"5092c0aa-10cc-4ab9-a110-6f76d455ead0\")>,\n",
       " <selenium.webdriver.remote.webelement.WebElement (session=\"8b960c5e39afba9d486a230a0daf5802\", element=\"6b6dea1e-4170-4c97-bd91-7500ba429df7\")>,\n",
       " <selenium.webdriver.remote.webelement.WebElement (session=\"8b960c5e39afba9d486a230a0daf5802\", element=\"50979f99-409f-4fab-bca8-291bbb1bb201\")>,\n",
       " <selenium.webdriver.remote.webelement.WebElement (session=\"8b960c5e39afba9d486a230a0daf5802\", element=\"feb669a4-d632-4ba2-ae9f-de18b84e4399\")>]"
      ]
     },
     "execution_count": 52,
     "metadata": {},
     "output_type": "execute_result"
    }
   ],
   "source": [
    "#4. Then scrape the data for the first 10 jobs results you get.\n",
    "#Let's extract all the tags with job title\n",
    "titles_tags = driver.find_elements_by_xpath(\"//a[@class='title fw500 ellipsis']\")\n",
    "titles_tags"
   ]
  },
  {
   "cell_type": "code",
   "execution_count": 53,
   "metadata": {},
   "outputs": [
    {
     "data": {
      "text/plain": [
       "['Data Analyst',\n",
       " 'Data Analyst',\n",
       " 'Senior Data Analyst',\n",
       " 'Senior Business Analyst- Data Science',\n",
       " 'Business/Data Analyst - Colleague Experience & Technology',\n",
       " 'Senior Data Analyst',\n",
       " 'Senior Data Analyst - Einstein Analytics',\n",
       " 'Senior Specialist - Data Analyst',\n",
       " 'Data Analyst - Python',\n",
       " 'Data Analyst - 0-2 years (6 month contract)']"
      ]
     },
     "execution_count": 53,
     "metadata": {},
     "output_type": "execute_result"
    }
   ],
   "source": [
    "#Extracting the top 10 title text from the web elements we got\n",
    "job_titles=[]\n",
    "for i in titles_tags[:10]:       #titles_tags[:10] will display only 10 entries\n",
    "    job_titles.append(i.text)    #i.text is used to extract the text from webelement\n",
    "job_titles"
   ]
  },
  {
   "cell_type": "code",
   "execution_count": 54,
   "metadata": {},
   "outputs": [
    {
     "data": {
      "text/plain": [
       "[<selenium.webdriver.remote.webelement.WebElement (session=\"8b960c5e39afba9d486a230a0daf5802\", element=\"61b209dc-3c72-4073-971b-4244122d196e\")>,\n",
       " <selenium.webdriver.remote.webelement.WebElement (session=\"8b960c5e39afba9d486a230a0daf5802\", element=\"e6ff8406-b19b-4af7-a2a9-c5b71a572326\")>,\n",
       " <selenium.webdriver.remote.webelement.WebElement (session=\"8b960c5e39afba9d486a230a0daf5802\", element=\"2c4bdd7d-6ced-4f71-b3de-2af13ac35833\")>,\n",
       " <selenium.webdriver.remote.webelement.WebElement (session=\"8b960c5e39afba9d486a230a0daf5802\", element=\"3b7ded0c-3383-468c-b439-dfd086a86a67\")>,\n",
       " <selenium.webdriver.remote.webelement.WebElement (session=\"8b960c5e39afba9d486a230a0daf5802\", element=\"f55af020-dfe8-4fb1-8232-f7f4d8e8a8a1\")>,\n",
       " <selenium.webdriver.remote.webelement.WebElement (session=\"8b960c5e39afba9d486a230a0daf5802\", element=\"8d3ae261-5c70-42bd-9adc-3fe0ae979dd8\")>,\n",
       " <selenium.webdriver.remote.webelement.WebElement (session=\"8b960c5e39afba9d486a230a0daf5802\", element=\"cf97863d-de14-415b-8416-95e2576dc0fa\")>,\n",
       " <selenium.webdriver.remote.webelement.WebElement (session=\"8b960c5e39afba9d486a230a0daf5802\", element=\"944dc03a-4a76-4972-965d-91c184db2f71\")>,\n",
       " <selenium.webdriver.remote.webelement.WebElement (session=\"8b960c5e39afba9d486a230a0daf5802\", element=\"92b61eca-951f-4a46-a3eb-c269fa560f5b\")>,\n",
       " <selenium.webdriver.remote.webelement.WebElement (session=\"8b960c5e39afba9d486a230a0daf5802\", element=\"e14061bc-a5d3-48d2-9970-25f6052f0058\")>,\n",
       " <selenium.webdriver.remote.webelement.WebElement (session=\"8b960c5e39afba9d486a230a0daf5802\", element=\"a43f6df3-8d73-479b-aa49-45aea03a17a1\")>,\n",
       " <selenium.webdriver.remote.webelement.WebElement (session=\"8b960c5e39afba9d486a230a0daf5802\", element=\"a4904efc-350c-44d7-bbe9-0c984a5784f3\")>,\n",
       " <selenium.webdriver.remote.webelement.WebElement (session=\"8b960c5e39afba9d486a230a0daf5802\", element=\"9f078316-94bd-493d-98c3-aac8d664aa46\")>,\n",
       " <selenium.webdriver.remote.webelement.WebElement (session=\"8b960c5e39afba9d486a230a0daf5802\", element=\"d728305a-f874-4166-9e07-6dc29a6ad860\")>,\n",
       " <selenium.webdriver.remote.webelement.WebElement (session=\"8b960c5e39afba9d486a230a0daf5802\", element=\"be0f56af-ccf8-41c5-b4ba-5a3d1903ed7f\")>,\n",
       " <selenium.webdriver.remote.webelement.WebElement (session=\"8b960c5e39afba9d486a230a0daf5802\", element=\"5e6c4b91-217b-4301-b200-4f0dad19078d\")>,\n",
       " <selenium.webdriver.remote.webelement.WebElement (session=\"8b960c5e39afba9d486a230a0daf5802\", element=\"3fb27d91-6890-4d38-84ea-d2fffc4afcdc\")>,\n",
       " <selenium.webdriver.remote.webelement.WebElement (session=\"8b960c5e39afba9d486a230a0daf5802\", element=\"4b06ef10-296e-4a52-9533-a4aed6afaf62\")>,\n",
       " <selenium.webdriver.remote.webelement.WebElement (session=\"8b960c5e39afba9d486a230a0daf5802\", element=\"bdce9e17-0ae3-40a8-b2bb-df025d0c91d1\")>,\n",
       " <selenium.webdriver.remote.webelement.WebElement (session=\"8b960c5e39afba9d486a230a0daf5802\", element=\"4bfde910-0c6b-4ed1-88b7-a04ce728793c\")>]"
      ]
     },
     "execution_count": 54,
     "metadata": {},
     "output_type": "execute_result"
    }
   ],
   "source": [
    "#Let's extract all the tags with company name\n",
    "comp_tags = driver.find_elements_by_xpath(\"//a[@class='subTitle ellipsis fleft']\")\n",
    "comp_tags"
   ]
  },
  {
   "cell_type": "code",
   "execution_count": 55,
   "metadata": {},
   "outputs": [
    {
     "data": {
      "text/plain": [
       "['CAREERLABS TECHNOLOGIES PRIVATE LIMITED',\n",
       " 'Tata Consultancy Services Ltd.',\n",
       " 'Nx-DT',\n",
       " 'Evalueserve.com Pvt. Ltd',\n",
       " 'Vmware',\n",
       " 'Telstra India Pvt Ltd',\n",
       " 'Enquero',\n",
       " 'Philips India Limited',\n",
       " 'Suyati Technologies Pvt Ltd',\n",
       " 'NIUM INDIA PRIVATE LIMITED']"
      ]
     },
     "execution_count": 55,
     "metadata": {},
     "output_type": "execute_result"
    }
   ],
   "source": [
    "#Extracting the company name text from the web elements we got\n",
    "comp_name=[]\n",
    "for i in comp_tags[:10]:       #This will display only 10 entries\n",
    "    comp_name.append(i.text)    #i.text is used to extract the text from webelement\n",
    "comp_name"
   ]
  },
  {
   "cell_type": "code",
   "execution_count": 56,
   "metadata": {},
   "outputs": [
    {
     "data": {
      "text/plain": [
       "[<selenium.webdriver.remote.webelement.WebElement (session=\"8b960c5e39afba9d486a230a0daf5802\", element=\"ddc388d9-3461-44aa-9a53-817c40b5ca8f\")>,\n",
       " <selenium.webdriver.remote.webelement.WebElement (session=\"8b960c5e39afba9d486a230a0daf5802\", element=\"b3fd1bf8-a661-4ee8-a0d2-fa40f782e1ab\")>,\n",
       " <selenium.webdriver.remote.webelement.WebElement (session=\"8b960c5e39afba9d486a230a0daf5802\", element=\"c44e856e-4b9d-4049-bf14-aeef76b687cd\")>,\n",
       " <selenium.webdriver.remote.webelement.WebElement (session=\"8b960c5e39afba9d486a230a0daf5802\", element=\"a4a7191d-58f6-4f94-a5aa-5147fdbc27ae\")>,\n",
       " <selenium.webdriver.remote.webelement.WebElement (session=\"8b960c5e39afba9d486a230a0daf5802\", element=\"fce5acba-b38a-48d6-9717-64ac8e200a4c\")>,\n",
       " <selenium.webdriver.remote.webelement.WebElement (session=\"8b960c5e39afba9d486a230a0daf5802\", element=\"0efb41cc-f626-4949-a3a1-a5e8fe831def\")>,\n",
       " <selenium.webdriver.remote.webelement.WebElement (session=\"8b960c5e39afba9d486a230a0daf5802\", element=\"aadc8446-c40c-4dbd-b3a9-09f8db945223\")>,\n",
       " <selenium.webdriver.remote.webelement.WebElement (session=\"8b960c5e39afba9d486a230a0daf5802\", element=\"5991b460-3fd2-4ff2-a395-98a8779c5103\")>,\n",
       " <selenium.webdriver.remote.webelement.WebElement (session=\"8b960c5e39afba9d486a230a0daf5802\", element=\"b5da8f55-22bc-4720-b430-76c31be8e813\")>,\n",
       " <selenium.webdriver.remote.webelement.WebElement (session=\"8b960c5e39afba9d486a230a0daf5802\", element=\"7dcb0ef3-bea1-4514-8d55-6e27177a89aa\")>,\n",
       " <selenium.webdriver.remote.webelement.WebElement (session=\"8b960c5e39afba9d486a230a0daf5802\", element=\"a24b129c-96e5-4a47-aebf-824a2b4aef20\")>,\n",
       " <selenium.webdriver.remote.webelement.WebElement (session=\"8b960c5e39afba9d486a230a0daf5802\", element=\"13c36009-12b1-4b4c-b03a-c4099951a992\")>,\n",
       " <selenium.webdriver.remote.webelement.WebElement (session=\"8b960c5e39afba9d486a230a0daf5802\", element=\"bd63c994-b6de-4831-b531-e16a66dc682a\")>,\n",
       " <selenium.webdriver.remote.webelement.WebElement (session=\"8b960c5e39afba9d486a230a0daf5802\", element=\"b7ebc23a-d12b-4047-bd2e-f622181228f0\")>,\n",
       " <selenium.webdriver.remote.webelement.WebElement (session=\"8b960c5e39afba9d486a230a0daf5802\", element=\"8b54546d-db20-4b1b-bb65-8b7bd848b6ba\")>,\n",
       " <selenium.webdriver.remote.webelement.WebElement (session=\"8b960c5e39afba9d486a230a0daf5802\", element=\"3671386f-b8b6-4a59-9c18-812ed44e4614\")>,\n",
       " <selenium.webdriver.remote.webelement.WebElement (session=\"8b960c5e39afba9d486a230a0daf5802\", element=\"0a95b475-90d6-487a-9834-850f7895d73f\")>,\n",
       " <selenium.webdriver.remote.webelement.WebElement (session=\"8b960c5e39afba9d486a230a0daf5802\", element=\"2b0f404e-db3b-49a4-b8fc-2448759ca5cc\")>,\n",
       " <selenium.webdriver.remote.webelement.WebElement (session=\"8b960c5e39afba9d486a230a0daf5802\", element=\"dd877d5a-0984-4762-b174-0d8127776c01\")>,\n",
       " <selenium.webdriver.remote.webelement.WebElement (session=\"8b960c5e39afba9d486a230a0daf5802\", element=\"6b7966f8-dea4-4c73-9ef4-0eda41184062\")>,\n",
       " <selenium.webdriver.remote.webelement.WebElement (session=\"8b960c5e39afba9d486a230a0daf5802\", element=\"4b8440d1-6047-4621-b3bb-49f8bb0995bf\")>,\n",
       " <selenium.webdriver.remote.webelement.WebElement (session=\"8b960c5e39afba9d486a230a0daf5802\", element=\"3aa7dce9-43e9-4768-91f4-71e65fb9d1f2\")>,\n",
       " <selenium.webdriver.remote.webelement.WebElement (session=\"8b960c5e39afba9d486a230a0daf5802\", element=\"aa42f037-27d2-453d-9878-cb925100c8e5\")>]"
      ]
     },
     "execution_count": 56,
     "metadata": {},
     "output_type": "execute_result"
    }
   ],
   "source": [
    "#Let's extract all the tags with comp location\n",
    "loc_tags = driver.find_elements_by_xpath(\"//li[@class='fleft grey-text br2 placeHolderLi location']//span\")\n",
    "loc_tags"
   ]
  },
  {
   "cell_type": "code",
   "execution_count": 57,
   "metadata": {},
   "outputs": [
    {
     "data": {
      "text/plain": [
       "['Bangalore/Bengaluru',\n",
       " '(WFH during Covid)',\n",
       " 'Pune, Chennai, Bangalore/Bengaluru',\n",
       " 'Hyderabad/Secunderabad, Pune, Bangalore/Bengaluru',\n",
       " '(WFH during Covid)',\n",
       " 'Bangalore/Bengaluru(Whitefield)',\n",
       " 'Bangalore/Bengaluru',\n",
       " 'Bangalore/Bengaluru',\n",
       " 'Hyderabad/Secunderabad, Bangalore/Bengaluru',\n",
       " 'Bangalore/Bengaluru']"
      ]
     },
     "execution_count": 57,
     "metadata": {},
     "output_type": "execute_result"
    }
   ],
   "source": [
    "#Extracting the job location text from the web elements we got\n",
    "comp_loc=[]\n",
    "for i in loc_tags[:10]:       #This will display only 10 entries\n",
    "    comp_loc.append(i.text)    #i.text is used to extract the text from webelement\n",
    "comp_loc"
   ]
  },
  {
   "cell_type": "code",
   "execution_count": 58,
   "metadata": {},
   "outputs": [
    {
     "data": {
      "text/plain": [
       "[<selenium.webdriver.remote.webelement.WebElement (session=\"8b960c5e39afba9d486a230a0daf5802\", element=\"d177ca67-41a5-41cf-a3ed-8bdebeb9227f\")>,\n",
       " <selenium.webdriver.remote.webelement.WebElement (session=\"8b960c5e39afba9d486a230a0daf5802\", element=\"aa7ae44a-2cf7-4d37-a56e-127b0f6f14bc\")>,\n",
       " <selenium.webdriver.remote.webelement.WebElement (session=\"8b960c5e39afba9d486a230a0daf5802\", element=\"496bd952-0779-4616-9218-b3c3fc2dc21e\")>,\n",
       " <selenium.webdriver.remote.webelement.WebElement (session=\"8b960c5e39afba9d486a230a0daf5802\", element=\"388ac685-5a1c-4e17-8e52-77773ff518cf\")>,\n",
       " <selenium.webdriver.remote.webelement.WebElement (session=\"8b960c5e39afba9d486a230a0daf5802\", element=\"250a9afc-46aa-4b68-be87-5ee7cc0408f9\")>,\n",
       " <selenium.webdriver.remote.webelement.WebElement (session=\"8b960c5e39afba9d486a230a0daf5802\", element=\"2cb52c6a-9cca-43b7-85b8-a883c4604f08\")>,\n",
       " <selenium.webdriver.remote.webelement.WebElement (session=\"8b960c5e39afba9d486a230a0daf5802\", element=\"4837111c-7a43-4934-95ff-85a211e3a8e4\")>,\n",
       " <selenium.webdriver.remote.webelement.WebElement (session=\"8b960c5e39afba9d486a230a0daf5802\", element=\"f299b084-e11a-4670-be28-b0935f136642\")>,\n",
       " <selenium.webdriver.remote.webelement.WebElement (session=\"8b960c5e39afba9d486a230a0daf5802\", element=\"dd95a920-58f9-4334-9959-f41cf76630b8\")>,\n",
       " <selenium.webdriver.remote.webelement.WebElement (session=\"8b960c5e39afba9d486a230a0daf5802\", element=\"a6464304-3053-43e0-9733-8164f6a11a78\")>,\n",
       " <selenium.webdriver.remote.webelement.WebElement (session=\"8b960c5e39afba9d486a230a0daf5802\", element=\"98fb102f-aa91-4a9f-822c-eefc1965dd7c\")>,\n",
       " <selenium.webdriver.remote.webelement.WebElement (session=\"8b960c5e39afba9d486a230a0daf5802\", element=\"6698480b-5931-4cda-91ff-4ee22d7cbdf6\")>,\n",
       " <selenium.webdriver.remote.webelement.WebElement (session=\"8b960c5e39afba9d486a230a0daf5802\", element=\"919c40f9-cd7c-41f8-aef9-9d08f2289433\")>,\n",
       " <selenium.webdriver.remote.webelement.WebElement (session=\"8b960c5e39afba9d486a230a0daf5802\", element=\"ca13c4d4-42a8-4a09-827f-d18b46c25318\")>,\n",
       " <selenium.webdriver.remote.webelement.WebElement (session=\"8b960c5e39afba9d486a230a0daf5802\", element=\"f08ebf65-1e08-4935-a6b6-65e0ea60d52e\")>,\n",
       " <selenium.webdriver.remote.webelement.WebElement (session=\"8b960c5e39afba9d486a230a0daf5802\", element=\"c3083de0-806d-436c-9c5e-440f831ec054\")>,\n",
       " <selenium.webdriver.remote.webelement.WebElement (session=\"8b960c5e39afba9d486a230a0daf5802\", element=\"0324d192-c0fa-4013-bf3d-7dcc07a4e7bd\")>,\n",
       " <selenium.webdriver.remote.webelement.WebElement (session=\"8b960c5e39afba9d486a230a0daf5802\", element=\"b3d97ca5-edb2-453c-8676-bcfd20572db7\")>,\n",
       " <selenium.webdriver.remote.webelement.WebElement (session=\"8b960c5e39afba9d486a230a0daf5802\", element=\"753fe5b0-6b33-4dc4-977f-957a2daccb46\")>,\n",
       " <selenium.webdriver.remote.webelement.WebElement (session=\"8b960c5e39afba9d486a230a0daf5802\", element=\"b19a6437-5d34-4f24-8802-227f2a22bc96\")>]"
      ]
     },
     "execution_count": 58,
     "metadata": {},
     "output_type": "execute_result"
    }
   ],
   "source": [
    "#Let's extract all the tags with experience required\n",
    "exp_tags = driver.find_elements_by_xpath(\"//li[@class='fleft grey-text br2 placeHolderLi experience']//span\")\n",
    "exp_tags"
   ]
  },
  {
   "cell_type": "code",
   "execution_count": 59,
   "metadata": {},
   "outputs": [
    {
     "data": {
      "text/plain": [
       "['0-3 Yrs',\n",
       " '4-8 Yrs',\n",
       " '10-16 Yrs',\n",
       " '2-7 Yrs',\n",
       " '3-8 Yrs',\n",
       " '7-8 Yrs',\n",
       " '3-5 Yrs',\n",
       " '4-8 Yrs',\n",
       " '4-6 Yrs',\n",
       " '0-2 Yrs']"
      ]
     },
     "execution_count": 59,
     "metadata": {},
     "output_type": "execute_result"
    }
   ],
   "source": [
    "#Extracting the experience text from the web elements we got\n",
    "experience_list=[]\n",
    "for i in exp_tags[:10]:       #This will display only 10 entries\n",
    "    experience_list.append(i.text)    #i.text is used to extract the text from webelement\n",
    "experience_list"
   ]
  },
  {
   "cell_type": "code",
   "execution_count": 60,
   "metadata": {},
   "outputs": [
    {
     "data": {
      "text/html": [
       "<div>\n",
       "<style scoped>\n",
       "    .dataframe tbody tr th:only-of-type {\n",
       "        vertical-align: middle;\n",
       "    }\n",
       "\n",
       "    .dataframe tbody tr th {\n",
       "        vertical-align: top;\n",
       "    }\n",
       "\n",
       "    .dataframe thead th {\n",
       "        text-align: right;\n",
       "    }\n",
       "</style>\n",
       "<table border=\"1\" class=\"dataframe\">\n",
       "  <thead>\n",
       "    <tr style=\"text-align: right;\">\n",
       "      <th></th>\n",
       "      <th>Job Title</th>\n",
       "      <th>Job Location</th>\n",
       "      <th>Company Name</th>\n",
       "      <th>Experience Required</th>\n",
       "    </tr>\n",
       "  </thead>\n",
       "  <tbody>\n",
       "    <tr>\n",
       "      <th>0</th>\n",
       "      <td>Data Analyst</td>\n",
       "      <td>Bangalore/Bengaluru</td>\n",
       "      <td>CAREERLABS TECHNOLOGIES PRIVATE LIMITED</td>\n",
       "      <td>0-3 Yrs</td>\n",
       "    </tr>\n",
       "    <tr>\n",
       "      <th>1</th>\n",
       "      <td>Data Analyst</td>\n",
       "      <td>(WFH during Covid)</td>\n",
       "      <td>Tata Consultancy Services Ltd.</td>\n",
       "      <td>4-8 Yrs</td>\n",
       "    </tr>\n",
       "    <tr>\n",
       "      <th>2</th>\n",
       "      <td>Senior Data Analyst</td>\n",
       "      <td>Pune, Chennai, Bangalore/Bengaluru</td>\n",
       "      <td>Nx-DT</td>\n",
       "      <td>10-16 Yrs</td>\n",
       "    </tr>\n",
       "    <tr>\n",
       "      <th>3</th>\n",
       "      <td>Senior Business Analyst- Data Science</td>\n",
       "      <td>Hyderabad/Secunderabad, Pune, Bangalore/Bengaluru</td>\n",
       "      <td>Evalueserve.com Pvt. Ltd</td>\n",
       "      <td>2-7 Yrs</td>\n",
       "    </tr>\n",
       "    <tr>\n",
       "      <th>4</th>\n",
       "      <td>Business/Data Analyst - Colleague Experience &amp;...</td>\n",
       "      <td>(WFH during Covid)</td>\n",
       "      <td>Vmware</td>\n",
       "      <td>3-8 Yrs</td>\n",
       "    </tr>\n",
       "    <tr>\n",
       "      <th>5</th>\n",
       "      <td>Senior Data Analyst</td>\n",
       "      <td>Bangalore/Bengaluru(Whitefield)</td>\n",
       "      <td>Telstra India Pvt Ltd</td>\n",
       "      <td>7-8 Yrs</td>\n",
       "    </tr>\n",
       "    <tr>\n",
       "      <th>6</th>\n",
       "      <td>Senior Data Analyst - Einstein Analytics</td>\n",
       "      <td>Bangalore/Bengaluru</td>\n",
       "      <td>Enquero</td>\n",
       "      <td>3-5 Yrs</td>\n",
       "    </tr>\n",
       "    <tr>\n",
       "      <th>7</th>\n",
       "      <td>Senior Specialist - Data Analyst</td>\n",
       "      <td>Bangalore/Bengaluru</td>\n",
       "      <td>Philips India Limited</td>\n",
       "      <td>4-8 Yrs</td>\n",
       "    </tr>\n",
       "    <tr>\n",
       "      <th>8</th>\n",
       "      <td>Data Analyst - Python</td>\n",
       "      <td>Hyderabad/Secunderabad, Bangalore/Bengaluru</td>\n",
       "      <td>Suyati Technologies Pvt Ltd</td>\n",
       "      <td>4-6 Yrs</td>\n",
       "    </tr>\n",
       "    <tr>\n",
       "      <th>9</th>\n",
       "      <td>Data Analyst - 0-2 years (6 month contract)</td>\n",
       "      <td>Bangalore/Bengaluru</td>\n",
       "      <td>NIUM INDIA PRIVATE LIMITED</td>\n",
       "      <td>0-2 Yrs</td>\n",
       "    </tr>\n",
       "  </tbody>\n",
       "</table>\n",
       "</div>"
      ],
      "text/plain": [
       "                                           Job Title  \\\n",
       "0                                       Data Analyst   \n",
       "1                                       Data Analyst   \n",
       "2                                Senior Data Analyst   \n",
       "3              Senior Business Analyst- Data Science   \n",
       "4  Business/Data Analyst - Colleague Experience &...   \n",
       "5                                Senior Data Analyst   \n",
       "6           Senior Data Analyst - Einstein Analytics   \n",
       "7                   Senior Specialist - Data Analyst   \n",
       "8                              Data Analyst - Python   \n",
       "9        Data Analyst - 0-2 years (6 month contract)   \n",
       "\n",
       "                                        Job Location  \\\n",
       "0                                Bangalore/Bengaluru   \n",
       "1                                 (WFH during Covid)   \n",
       "2                 Pune, Chennai, Bangalore/Bengaluru   \n",
       "3  Hyderabad/Secunderabad, Pune, Bangalore/Bengaluru   \n",
       "4                                 (WFH during Covid)   \n",
       "5                    Bangalore/Bengaluru(Whitefield)   \n",
       "6                                Bangalore/Bengaluru   \n",
       "7                                Bangalore/Bengaluru   \n",
       "8        Hyderabad/Secunderabad, Bangalore/Bengaluru   \n",
       "9                                Bangalore/Bengaluru   \n",
       "\n",
       "                              Company Name Experience Required  \n",
       "0  CAREERLABS TECHNOLOGIES PRIVATE LIMITED             0-3 Yrs  \n",
       "1           Tata Consultancy Services Ltd.             4-8 Yrs  \n",
       "2                                    Nx-DT           10-16 Yrs  \n",
       "3                 Evalueserve.com Pvt. Ltd             2-7 Yrs  \n",
       "4                                   Vmware             3-8 Yrs  \n",
       "5                    Telstra India Pvt Ltd             7-8 Yrs  \n",
       "6                                  Enquero             3-5 Yrs  \n",
       "7                    Philips India Limited             4-8 Yrs  \n",
       "8              Suyati Technologies Pvt Ltd             4-6 Yrs  \n",
       "9               NIUM INDIA PRIVATE LIMITED             0-2 Yrs  "
      ]
     },
     "execution_count": 60,
     "metadata": {},
     "output_type": "execute_result"
    }
   ],
   "source": [
    "#5. Finally create a dataframe of the scraped data.\n",
    "#Creating a dataframe for job-title, job-location, company_name, experience_required.\n",
    "\n",
    "df = pd.DataFrame({})\n",
    "\n",
    "df[\"Job Title\"] = job_titles[:10]\n",
    "df[\"Job Location\"] = comp_loc[:10]\n",
    "df[\"Company Name\"] = comp_name[:10]\n",
    "df[\"Experience Required\"] = experience_list[:10]\n",
    "df"
   ]
  },
  {
   "cell_type": "markdown",
   "metadata": {},
   "source": [
    "### Q2: Write a python program to scrape data for “Data Scientist” Job position in “Bangalore” location. You have to scrape the job-title, job-location, company_name, full job-description. You have to scrape first 10 jobs data."
   ]
  },
  {
   "cell_type": "code",
   "execution_count": 61,
   "metadata": {},
   "outputs": [],
   "source": [
    "#1. first get the webpage https://www.naukri.com/\n",
    "driver.get('https://www.naukri.com/')"
   ]
  },
  {
   "cell_type": "code",
   "execution_count": 62,
   "metadata": {},
   "outputs": [],
   "source": [
    "#2. Enter “Data Scientist” in “Skill,Designations,Companies” field and enter “Bangalore”\n",
    "#in “enter the location” field.\n",
    "\n",
    "#sending keys to type in “Skill,Designations,Companies” field\n",
    "search_job = driver.find_element_by_id(\"qsb-keyword-sugg\")\n",
    "search_job.send_keys('Data Scientist')\n",
    "\n",
    "#sending keys to type in “enter the location” field\n",
    "search_loc = driver.find_element_by_id('qsb-location-sugg')\n",
    "search_loc.send_keys('Bangalore')"
   ]
  },
  {
   "cell_type": "code",
   "execution_count": 63,
   "metadata": {},
   "outputs": [],
   "source": [
    "#3. Then click the Search button.\n",
    "search_btn = driver.find_element_by_xpath(\"//button[@class='btn']\")\n",
    "search_btn.click()\n",
    "time.sleep(3)"
   ]
  },
  {
   "cell_type": "code",
   "execution_count": 64,
   "metadata": {},
   "outputs": [
    {
     "data": {
      "text/plain": [
       "[<selenium.webdriver.remote.webelement.WebElement (session=\"8b960c5e39afba9d486a230a0daf5802\", element=\"b3cbe88a-ce84-4a87-8d31-6fa3ec3d3da2\")>,\n",
       " <selenium.webdriver.remote.webelement.WebElement (session=\"8b960c5e39afba9d486a230a0daf5802\", element=\"6dc27961-d828-4fc1-b0ba-ed24fa3b6a76\")>,\n",
       " <selenium.webdriver.remote.webelement.WebElement (session=\"8b960c5e39afba9d486a230a0daf5802\", element=\"cfea84cb-43f2-4056-ba35-da5d7f833dac\")>,\n",
       " <selenium.webdriver.remote.webelement.WebElement (session=\"8b960c5e39afba9d486a230a0daf5802\", element=\"bd43c062-e89f-41a8-94c5-16ce78a83ac5\")>,\n",
       " <selenium.webdriver.remote.webelement.WebElement (session=\"8b960c5e39afba9d486a230a0daf5802\", element=\"a1ea4a2a-a5b8-4f38-ab12-f4efd0debcee\")>,\n",
       " <selenium.webdriver.remote.webelement.WebElement (session=\"8b960c5e39afba9d486a230a0daf5802\", element=\"f3e91d35-5ac4-487c-9717-54ed399a8020\")>,\n",
       " <selenium.webdriver.remote.webelement.WebElement (session=\"8b960c5e39afba9d486a230a0daf5802\", element=\"d416f30b-ef1f-4367-bda6-ffbc2432dcaa\")>,\n",
       " <selenium.webdriver.remote.webelement.WebElement (session=\"8b960c5e39afba9d486a230a0daf5802\", element=\"70be7b5e-04dc-4137-8614-2cb4651a0e48\")>,\n",
       " <selenium.webdriver.remote.webelement.WebElement (session=\"8b960c5e39afba9d486a230a0daf5802\", element=\"b9b2ec2a-3813-485d-b6ea-aec5bafa5a60\")>,\n",
       " <selenium.webdriver.remote.webelement.WebElement (session=\"8b960c5e39afba9d486a230a0daf5802\", element=\"db59d735-0ddf-42e5-b861-567c2218a075\")>,\n",
       " <selenium.webdriver.remote.webelement.WebElement (session=\"8b960c5e39afba9d486a230a0daf5802\", element=\"0f481573-32f3-4977-ba0e-fe32acc6023a\")>,\n",
       " <selenium.webdriver.remote.webelement.WebElement (session=\"8b960c5e39afba9d486a230a0daf5802\", element=\"33390f23-4fc9-4e2c-8ade-606db9c4d5c3\")>,\n",
       " <selenium.webdriver.remote.webelement.WebElement (session=\"8b960c5e39afba9d486a230a0daf5802\", element=\"ddebfb33-fbc2-4701-a258-de449299db74\")>,\n",
       " <selenium.webdriver.remote.webelement.WebElement (session=\"8b960c5e39afba9d486a230a0daf5802\", element=\"ae0ec99c-ab6b-47da-8e06-338a4bb73cf6\")>,\n",
       " <selenium.webdriver.remote.webelement.WebElement (session=\"8b960c5e39afba9d486a230a0daf5802\", element=\"44eebab4-5df5-4737-ae8e-7bf973b492f5\")>,\n",
       " <selenium.webdriver.remote.webelement.WebElement (session=\"8b960c5e39afba9d486a230a0daf5802\", element=\"66e414cd-95f2-413a-a9fa-313287e3202c\")>,\n",
       " <selenium.webdriver.remote.webelement.WebElement (session=\"8b960c5e39afba9d486a230a0daf5802\", element=\"efeddf27-90e7-4438-9abf-3f5edf13b5b3\")>,\n",
       " <selenium.webdriver.remote.webelement.WebElement (session=\"8b960c5e39afba9d486a230a0daf5802\", element=\"643df941-0746-447a-ac13-fce88aee39bb\")>,\n",
       " <selenium.webdriver.remote.webelement.WebElement (session=\"8b960c5e39afba9d486a230a0daf5802\", element=\"10c6f79c-4b3a-428c-ac2c-df811682c238\")>,\n",
       " <selenium.webdriver.remote.webelement.WebElement (session=\"8b960c5e39afba9d486a230a0daf5802\", element=\"c3a0b31c-f4da-4658-ae4b-b0e68f86ecd2\")>]"
      ]
     },
     "execution_count": 64,
     "metadata": {},
     "output_type": "execute_result"
    }
   ],
   "source": [
    "#4. Then scrape the data for the first 10 jobs results you get.\n",
    "#Let's extract all the tags with job title\n",
    "titles_tags = driver.find_elements_by_xpath(\"//a[@class='title fw500 ellipsis']\")\n",
    "titles_tags"
   ]
  },
  {
   "cell_type": "code",
   "execution_count": 65,
   "metadata": {},
   "outputs": [
    {
     "data": {
      "text/plain": [
       "['Data Scientist- Senior Business Analyst/Lead Analyst',\n",
       " 'Senior Data Scientist',\n",
       " 'Senior Data Scientist (Analytics),',\n",
       " 'Data Scientist: Advanced Analytics',\n",
       " 'Data Scientist',\n",
       " 'Senior Data Scientist',\n",
       " 'Lead Data Scientist',\n",
       " 'Senior Data Scientist',\n",
       " 'Senior Data Scientist - KPO',\n",
       " 'Senior Data Scientist']"
      ]
     },
     "execution_count": 65,
     "metadata": {},
     "output_type": "execute_result"
    }
   ],
   "source": [
    "#Extracting the top 10 title text from the web elements we got\n",
    "job_titles=[]\n",
    "for i in titles_tags[:10]:       #titles_tags[:10] will display only 10 entries\n",
    "    job_titles.append(i.text)    #i.text is used to extract the text from webelement\n",
    "job_titles"
   ]
  },
  {
   "cell_type": "code",
   "execution_count": 66,
   "metadata": {},
   "outputs": [
    {
     "data": {
      "text/plain": [
       "[<selenium.webdriver.remote.webelement.WebElement (session=\"8b960c5e39afba9d486a230a0daf5802\", element=\"eda7500e-09d6-4027-bffe-8bb888ec2726\")>,\n",
       " <selenium.webdriver.remote.webelement.WebElement (session=\"8b960c5e39afba9d486a230a0daf5802\", element=\"7ce05e8b-21a4-473a-9c10-829e7eb1145a\")>,\n",
       " <selenium.webdriver.remote.webelement.WebElement (session=\"8b960c5e39afba9d486a230a0daf5802\", element=\"7c55f4ba-6f49-4c19-9a2e-cde5410dca36\")>,\n",
       " <selenium.webdriver.remote.webelement.WebElement (session=\"8b960c5e39afba9d486a230a0daf5802\", element=\"b6f88930-d7d5-40a3-aa8a-f1e029a8d13f\")>,\n",
       " <selenium.webdriver.remote.webelement.WebElement (session=\"8b960c5e39afba9d486a230a0daf5802\", element=\"b5d25ab2-9a63-4118-81c5-4ba398b4bf7a\")>,\n",
       " <selenium.webdriver.remote.webelement.WebElement (session=\"8b960c5e39afba9d486a230a0daf5802\", element=\"d3e61fc9-4b65-4c2e-b5bf-00b0718160d5\")>,\n",
       " <selenium.webdriver.remote.webelement.WebElement (session=\"8b960c5e39afba9d486a230a0daf5802\", element=\"f474b8ad-7406-4142-af30-1976b47aaab2\")>,\n",
       " <selenium.webdriver.remote.webelement.WebElement (session=\"8b960c5e39afba9d486a230a0daf5802\", element=\"d23d4e3b-3f8a-4941-a595-236338e1e941\")>,\n",
       " <selenium.webdriver.remote.webelement.WebElement (session=\"8b960c5e39afba9d486a230a0daf5802\", element=\"a3aee22d-b9bd-490a-a519-446b648f87af\")>,\n",
       " <selenium.webdriver.remote.webelement.WebElement (session=\"8b960c5e39afba9d486a230a0daf5802\", element=\"f0b3dd18-6dab-4fb2-b99f-4ea6d92ca9da\")>,\n",
       " <selenium.webdriver.remote.webelement.WebElement (session=\"8b960c5e39afba9d486a230a0daf5802\", element=\"098eb9b3-c1a4-419f-8cc4-64f60a8b9f83\")>,\n",
       " <selenium.webdriver.remote.webelement.WebElement (session=\"8b960c5e39afba9d486a230a0daf5802\", element=\"f6dce9ce-fd74-4f60-9bee-acef14201b8c\")>,\n",
       " <selenium.webdriver.remote.webelement.WebElement (session=\"8b960c5e39afba9d486a230a0daf5802\", element=\"2b2fd042-4a9c-46c1-944c-96556c95d0a6\")>,\n",
       " <selenium.webdriver.remote.webelement.WebElement (session=\"8b960c5e39afba9d486a230a0daf5802\", element=\"dc51816f-05bb-42b7-a71f-0b2adb948114\")>,\n",
       " <selenium.webdriver.remote.webelement.WebElement (session=\"8b960c5e39afba9d486a230a0daf5802\", element=\"5020bdbf-10a2-4a13-be22-539313c63a8a\")>,\n",
       " <selenium.webdriver.remote.webelement.WebElement (session=\"8b960c5e39afba9d486a230a0daf5802\", element=\"fa209f2d-ff30-4a84-b941-74b682ef7ab0\")>,\n",
       " <selenium.webdriver.remote.webelement.WebElement (session=\"8b960c5e39afba9d486a230a0daf5802\", element=\"9205674d-ae48-4238-9086-40cf3bcecafb\")>,\n",
       " <selenium.webdriver.remote.webelement.WebElement (session=\"8b960c5e39afba9d486a230a0daf5802\", element=\"47b0cbcb-a42a-4a2b-b795-66ac526fce22\")>,\n",
       " <selenium.webdriver.remote.webelement.WebElement (session=\"8b960c5e39afba9d486a230a0daf5802\", element=\"2a990df7-672a-40ee-9b95-b6d61aeee0e7\")>,\n",
       " <selenium.webdriver.remote.webelement.WebElement (session=\"8b960c5e39afba9d486a230a0daf5802\", element=\"6deb73a7-2285-4d79-87bf-f973c3736dea\")>]"
      ]
     },
     "execution_count": 66,
     "metadata": {},
     "output_type": "execute_result"
    }
   ],
   "source": [
    "#Let's extract all the tags with company name\n",
    "comp_tags = driver.find_elements_by_xpath(\"//a[@class='subTitle ellipsis fleft']\")\n",
    "comp_tags"
   ]
  },
  {
   "cell_type": "code",
   "execution_count": 67,
   "metadata": {},
   "outputs": [
    {
     "data": {
      "text/plain": [
       "['Evalueserve.com Pvt. Ltd',\n",
       " 'Signify',\n",
       " 'Luxoft',\n",
       " 'IBM India Pvt. Limited',\n",
       " 'IBM India Pvt. Limited',\n",
       " 'SMITHS DETECTION SYSTEMS PRIVATE LIMITED',\n",
       " 'TransOrg Solutions Services (P) Ltd.',\n",
       " 'Philips India Limited',\n",
       " 'TalentCo Search Pvt Ltd',\n",
       " 'TalentCo Search Pvt Ltd']"
      ]
     },
     "execution_count": 67,
     "metadata": {},
     "output_type": "execute_result"
    }
   ],
   "source": [
    "#Extracting the company name text from the web elements we got\n",
    "comp_name=[]\n",
    "for i in comp_tags[:10]:       #This will display only 10 entries\n",
    "    comp_name.append(i.text)    #i.text is used to extract the text from webelement\n",
    "comp_name"
   ]
  },
  {
   "cell_type": "code",
   "execution_count": 68,
   "metadata": {},
   "outputs": [
    {
     "data": {
      "text/plain": [
       "[<selenium.webdriver.remote.webelement.WebElement (session=\"8b960c5e39afba9d486a230a0daf5802\", element=\"ea02cddd-e907-4efa-8dda-da2b0a3188b7\")>,\n",
       " <selenium.webdriver.remote.webelement.WebElement (session=\"8b960c5e39afba9d486a230a0daf5802\", element=\"0e7edb8b-ae0c-4880-b8b7-120499685d54\")>,\n",
       " <selenium.webdriver.remote.webelement.WebElement (session=\"8b960c5e39afba9d486a230a0daf5802\", element=\"db4e6bca-e103-49be-aa6c-a1045cc7080f\")>,\n",
       " <selenium.webdriver.remote.webelement.WebElement (session=\"8b960c5e39afba9d486a230a0daf5802\", element=\"44260762-f8bf-4ebc-9baa-c13b8c1f4822\")>,\n",
       " <selenium.webdriver.remote.webelement.WebElement (session=\"8b960c5e39afba9d486a230a0daf5802\", element=\"6910a180-bf69-400f-ac8d-4426ad6747dc\")>,\n",
       " <selenium.webdriver.remote.webelement.WebElement (session=\"8b960c5e39afba9d486a230a0daf5802\", element=\"a4e4fbf8-74f5-4540-a32b-79ee0079bb6e\")>,\n",
       " <selenium.webdriver.remote.webelement.WebElement (session=\"8b960c5e39afba9d486a230a0daf5802\", element=\"8adcc8a4-05dc-48c6-af6d-4a4d78b5630b\")>,\n",
       " <selenium.webdriver.remote.webelement.WebElement (session=\"8b960c5e39afba9d486a230a0daf5802\", element=\"ee0ab816-f19d-490c-aec9-a2f2a2a81714\")>,\n",
       " <selenium.webdriver.remote.webelement.WebElement (session=\"8b960c5e39afba9d486a230a0daf5802\", element=\"3fdfba3f-8849-4a77-9fad-f7af4f6f3921\")>,\n",
       " <selenium.webdriver.remote.webelement.WebElement (session=\"8b960c5e39afba9d486a230a0daf5802\", element=\"aaa1a962-0008-4386-9548-c86816ceccfa\")>,\n",
       " <selenium.webdriver.remote.webelement.WebElement (session=\"8b960c5e39afba9d486a230a0daf5802\", element=\"dcccb776-270f-4297-888d-e73ad3eda520\")>,\n",
       " <selenium.webdriver.remote.webelement.WebElement (session=\"8b960c5e39afba9d486a230a0daf5802\", element=\"191ec17c-81c6-411d-ad88-c4d6d35203b3\")>,\n",
       " <selenium.webdriver.remote.webelement.WebElement (session=\"8b960c5e39afba9d486a230a0daf5802\", element=\"800392b7-b3b7-4fe5-825b-e1dd90bc99b1\")>,\n",
       " <selenium.webdriver.remote.webelement.WebElement (session=\"8b960c5e39afba9d486a230a0daf5802\", element=\"099fbfad-a731-47be-b574-ce1eb6d5edaf\")>,\n",
       " <selenium.webdriver.remote.webelement.WebElement (session=\"8b960c5e39afba9d486a230a0daf5802\", element=\"fa5203fc-b2e0-4b75-bf3e-6f705c6e2b62\")>,\n",
       " <selenium.webdriver.remote.webelement.WebElement (session=\"8b960c5e39afba9d486a230a0daf5802\", element=\"f2f20427-7a45-42e1-af16-3e8673011e10\")>,\n",
       " <selenium.webdriver.remote.webelement.WebElement (session=\"8b960c5e39afba9d486a230a0daf5802\", element=\"d971825d-0f60-4f55-9f05-d0d9227bd37d\")>,\n",
       " <selenium.webdriver.remote.webelement.WebElement (session=\"8b960c5e39afba9d486a230a0daf5802\", element=\"d3b5326b-a4a0-4b4a-bbeb-ff5fc31b9053\")>,\n",
       " <selenium.webdriver.remote.webelement.WebElement (session=\"8b960c5e39afba9d486a230a0daf5802\", element=\"faea4406-8a64-460b-9d22-91ce235f7323\")>,\n",
       " <selenium.webdriver.remote.webelement.WebElement (session=\"8b960c5e39afba9d486a230a0daf5802\", element=\"6a5a18db-3b98-44b7-bf43-e2cbbe3c936f\")>,\n",
       " <selenium.webdriver.remote.webelement.WebElement (session=\"8b960c5e39afba9d486a230a0daf5802\", element=\"8f8ff7ec-8f7f-484d-a77e-268ac4c822fc\")>]"
      ]
     },
     "execution_count": 68,
     "metadata": {},
     "output_type": "execute_result"
    }
   ],
   "source": [
    "#Let's extract all the tags with comp location\n",
    "loc_tags = driver.find_elements_by_xpath(\"//li[@class='fleft grey-text br2 placeHolderLi location']//span\")\n",
    "loc_tags"
   ]
  },
  {
   "cell_type": "code",
   "execution_count": 69,
   "metadata": {},
   "outputs": [
    {
     "data": {
      "text/plain": [
       "['Gurgaon/Gurugram, Bangalore/Bengaluru',\n",
       " 'Bangalore/Bengaluru',\n",
       " 'Bangalore/Bengaluru',\n",
       " 'Bangalore/Bengaluru',\n",
       " 'Bangalore/Bengaluru',\n",
       " 'Bangalore/Bengaluru',\n",
       " 'Bangalore/Bengaluru, Delhi / NCR, Mumbai (All Areas)',\n",
       " '(WFH during Covid)',\n",
       " 'Bangalore/Bengaluru',\n",
       " 'Mumbai, Bangalore/Bengaluru, Delhi / NCR']"
      ]
     },
     "execution_count": 69,
     "metadata": {},
     "output_type": "execute_result"
    }
   ],
   "source": [
    "#Extracting the job location text from the web elements we got\n",
    "comp_loc=[]\n",
    "for i in loc_tags[:10]:       #This will display only 10 entries\n",
    "    comp_loc.append(i.text)    #i.text is used to extract the text from webelement\n",
    "comp_loc"
   ]
  },
  {
   "cell_type": "code",
   "execution_count": 70,
   "metadata": {},
   "outputs": [
    {
     "data": {
      "text/plain": [
       "[<selenium.webdriver.remote.webelement.WebElement (session=\"8b960c5e39afba9d486a230a0daf5802\", element=\"b3cbe88a-ce84-4a87-8d31-6fa3ec3d3da2\")>,\n",
       " <selenium.webdriver.remote.webelement.WebElement (session=\"8b960c5e39afba9d486a230a0daf5802\", element=\"6dc27961-d828-4fc1-b0ba-ed24fa3b6a76\")>,\n",
       " <selenium.webdriver.remote.webelement.WebElement (session=\"8b960c5e39afba9d486a230a0daf5802\", element=\"cfea84cb-43f2-4056-ba35-da5d7f833dac\")>,\n",
       " <selenium.webdriver.remote.webelement.WebElement (session=\"8b960c5e39afba9d486a230a0daf5802\", element=\"bd43c062-e89f-41a8-94c5-16ce78a83ac5\")>,\n",
       " <selenium.webdriver.remote.webelement.WebElement (session=\"8b960c5e39afba9d486a230a0daf5802\", element=\"a1ea4a2a-a5b8-4f38-ab12-f4efd0debcee\")>,\n",
       " <selenium.webdriver.remote.webelement.WebElement (session=\"8b960c5e39afba9d486a230a0daf5802\", element=\"f3e91d35-5ac4-487c-9717-54ed399a8020\")>,\n",
       " <selenium.webdriver.remote.webelement.WebElement (session=\"8b960c5e39afba9d486a230a0daf5802\", element=\"d416f30b-ef1f-4367-bda6-ffbc2432dcaa\")>,\n",
       " <selenium.webdriver.remote.webelement.WebElement (session=\"8b960c5e39afba9d486a230a0daf5802\", element=\"70be7b5e-04dc-4137-8614-2cb4651a0e48\")>,\n",
       " <selenium.webdriver.remote.webelement.WebElement (session=\"8b960c5e39afba9d486a230a0daf5802\", element=\"b9b2ec2a-3813-485d-b6ea-aec5bafa5a60\")>,\n",
       " <selenium.webdriver.remote.webelement.WebElement (session=\"8b960c5e39afba9d486a230a0daf5802\", element=\"db59d735-0ddf-42e5-b861-567c2218a075\")>,\n",
       " <selenium.webdriver.remote.webelement.WebElement (session=\"8b960c5e39afba9d486a230a0daf5802\", element=\"0f481573-32f3-4977-ba0e-fe32acc6023a\")>,\n",
       " <selenium.webdriver.remote.webelement.WebElement (session=\"8b960c5e39afba9d486a230a0daf5802\", element=\"33390f23-4fc9-4e2c-8ade-606db9c4d5c3\")>,\n",
       " <selenium.webdriver.remote.webelement.WebElement (session=\"8b960c5e39afba9d486a230a0daf5802\", element=\"ddebfb33-fbc2-4701-a258-de449299db74\")>,\n",
       " <selenium.webdriver.remote.webelement.WebElement (session=\"8b960c5e39afba9d486a230a0daf5802\", element=\"ae0ec99c-ab6b-47da-8e06-338a4bb73cf6\")>,\n",
       " <selenium.webdriver.remote.webelement.WebElement (session=\"8b960c5e39afba9d486a230a0daf5802\", element=\"44eebab4-5df5-4737-ae8e-7bf973b492f5\")>,\n",
       " <selenium.webdriver.remote.webelement.WebElement (session=\"8b960c5e39afba9d486a230a0daf5802\", element=\"66e414cd-95f2-413a-a9fa-313287e3202c\")>,\n",
       " <selenium.webdriver.remote.webelement.WebElement (session=\"8b960c5e39afba9d486a230a0daf5802\", element=\"efeddf27-90e7-4438-9abf-3f5edf13b5b3\")>,\n",
       " <selenium.webdriver.remote.webelement.WebElement (session=\"8b960c5e39afba9d486a230a0daf5802\", element=\"643df941-0746-447a-ac13-fce88aee39bb\")>,\n",
       " <selenium.webdriver.remote.webelement.WebElement (session=\"8b960c5e39afba9d486a230a0daf5802\", element=\"10c6f79c-4b3a-428c-ac2c-df811682c238\")>,\n",
       " <selenium.webdriver.remote.webelement.WebElement (session=\"8b960c5e39afba9d486a230a0daf5802\", element=\"c3a0b31c-f4da-4658-ae4b-b0e68f86ecd2\")>]"
      ]
     },
     "execution_count": 70,
     "metadata": {},
     "output_type": "execute_result"
    }
   ],
   "source": [
    "#Let's extract all the tags with links\n",
    "link_tags = driver.find_elements_by_xpath(\"//a[@class='title fw500 ellipsis']\")\n",
    "link_tags"
   ]
  },
  {
   "cell_type": "code",
   "execution_count": 71,
   "metadata": {},
   "outputs": [
    {
     "data": {
      "text/plain": [
       "['https://www.naukri.com/job-listings-data-scientist-senior-business-analyst-lead-analyst-evalueserve-com-pvt-ltd-gurgaon-gurugram-bangalore-bengaluru-2-to-7-years-110821005065?src=jobsearchDesk&sid=162885567422085&xp=1&px=1',\n",
       " 'https://www.naukri.com/job-listings-senior-data-scientist-signify-bangalore-bengaluru-4-to-9-years-120821500683?src=jobsearchDesk&sid=162885567422085&xp=2&px=1',\n",
       " 'https://www.naukri.com/job-listings-senior-data-scientist-analytics-luxoft-bangalore-bengaluru-5-to-10-years-120821501307?src=jobsearchDesk&sid=162885567422085&xp=3&px=1',\n",
       " 'https://www.naukri.com/job-listings-data-scientist-advanced-analytics-ibm-india-pvt-limited-bangalore-bengaluru-5-to-10-years-110821906281?src=jobsearchDesk&sid=162885567422085&xp=4&px=1',\n",
       " 'https://www.naukri.com/job-listings-data-scientist-ibm-india-pvt-limited-bangalore-bengaluru-3-to-6-years-120821907824?src=jobsearchDesk&sid=162885567422085&xp=5&px=1',\n",
       " 'https://www.naukri.com/job-listings-senior-data-scientist-smiths-detection-systems-private-limited-bangalore-bengaluru-8-to-10-years-260721903257?src=jobsearchDesk&sid=162885567422085&xp=6&px=1',\n",
       " 'https://www.naukri.com/job-listings-lead-data-scientist-transorg-solutions-services-p-ltd-bangalore-bengaluru-delhi-ncr-mumbai-all-areas-4-to-6-years-160721005471?src=jobsearchDesk&sid=162885567422085&xp=7&px=1',\n",
       " 'https://www.naukri.com/job-listings-senior-data-scientist-philips-india-limited-bangalore-bengaluru-8-to-10-years-060821501599?src=jobsearchDesk&sid=162885567422085&xp=8&px=1',\n",
       " 'https://www.naukri.com/job-listings-senior-data-scientist-kpo-talentco-search-pvt-ltd-mumbai-bangalore-bengaluru-delhi-ncr-6-to-10-years-110821908145?src=jobsearchDesk&sid=162885567422085&xp=9&px=1',\n",
       " 'https://www.naukri.com/job-listings-senior-data-scientist-talentco-search-pvt-ltd-mumbai-delhi-ncr-bangalore-bengaluru-6-to-10-years-130821901245?src=jobsearchDesk&sid=162885567422085&xp=10&px=1']"
      ]
     },
     "execution_count": 71,
     "metadata": {},
     "output_type": "execute_result"
    }
   ],
   "source": [
    "#Extracting the links from the web elements we got\n",
    "link_list=[]\n",
    "for i in link_tags[:10]:       #This will display only 10 entries\n",
    "    link_list.append(i.get_attribute('href'))    #get_attribute('href') is used to extract the links from webelement\n",
    "link_list"
   ]
  },
  {
   "cell_type": "code",
   "execution_count": 72,
   "metadata": {},
   "outputs": [
    {
     "data": {
      "text/plain": [
       "['Job Description\\nUnderstand and design analytical solutions to business problems leveraging data science\\nUnderstand and get requirements from Stakeholders\\nPropose and execute solutions and present deliverables to stakeholders\\nManage and optimize deliverables\\nMentor and train new team members\\nDevelop POCs to enhance the teams capability\\n\\nRequirements\\nUnderstanding of mathematical, statistical, and theoretical foundations of statistics and machine learning (ML) and parametric and non-parametric models\\nKnowledge of advanced data mining techniques, curating, processing, and transforming data to produce datasets\\nUse statistical techniques and ML methods for predictive modeling / classification of problems around clients, distribution, sales, marketing, client profiles, and segmentation\\nProvide relevant and actionable recommendations / insights for businesses\\nUnderstanding of ML lifecycle that includes feature engineering, training, validation, scaling, deployment, scoring, monitoring, and feedback loop\\nExpertise in SAS Visual Analytics, Tableau, and Python\\nExpert in Python / R / SAS\\nExperience with cloud computing infrastructure, such as AWS / Azure / GCP\\nAble to develop, test, and deploy models on cloud / web\\n\\nEducation and Experience\\nBE / B.Tech. / MBA / M.Stat. / M.SC. or equivalent degree in Quant. from a reputed institute\\n2-8 years of relevant experience',\n",
       " 'What you ll do\\nResearch, design and prototype robust and scalable models based on machine learning, data mining, and statistical modeling to answer key business problems\\nBuild tools and support structures needed to analyze data, perform elements of data cleaning, feature selection and feature engineering and deliver projects in conjunction with best practices\\nWork with development teams business groups to ensure models can be implemented as part of a delivered solution and can be replicated across multiple markets / countries\\nPresent findings to stakeholders to drive improvements and solutions from concept through to delivery\\nKeep abreast of the latest developments in the field by continuous learning and proactively champion promising new methods relevant to the problems at hand\\nWhat you ll need\\nPhD / Masters / B.Tech in computer science, computer engineering with 7+ years of demonstrated experience in the Advanced Analytics / Machine Learning field\\nDemonstrated history of driving and delivering analytics models and solutions\\nDeep knowledge of fundamentals of machine learning, data mining and statistical modeling, and extensive experience applying these methods to real world problems\\nStrong skills in software prototyping and engineering with expertise in applicable programming and analytics languages (Python, R, SQL) and various open source machine learning and analytics packages. Good knowledge of SAP Datahub is highly desired\\nAbility and inclination to work in multi-disciplinary environments, and desire to see ideas realize in practice\\nWhat you ll get in return\\nOpportunity to work on some of the highly complex and challenging business problems across a variety of functional domains and consumer markets\\nCompetitive salary depending on experience\\nExtensive set of tools to drive your career, such as a personalized learning platform, free training and coaching',\n",
       " '  Data and Analytics Proposal Responses for Cross Industry Solutions.\\nThe position is for the global client solutioning team. Analytics client solutioning team supports various Analytics opportunities, which mainly includes RFP responses, Analytics technical consulting etc.\\n\\nWe are a global team and we provide Analytics solutioning support from India spanning across all regions globally.\\n\\nOur current openings are for the Solution Architects, who can provide solutions like:\\n- Data Engineering This includes data engineering solutioning and data management solutioning ( Both on Premise and on Cloud solutions)\\n- Data Modernization This involves Analytics workload migration to cloud solutions , Analytics modernization (end-to-end).\\n- Analytics AI - This involves solutioning Advanced analytics models / solutions spanning across all Industries\\n\\n\\nResponsibilities\\nGlobal Analytics Client Solutioning -\\nResponsible for constructing responses to Analytics Solutions as response to RFP\\nResponsible for providing consulting services on Analytics\\nResponsible for Analytics Solutions as response to RFP\\n\\n\\nSkills\\nMust have\\n9+ years working as a Data Scientist with Lead experience.\\nMSc or PhD in machine learning, computer science, mathematical science or similar.\\nExperience in Solutioning Business requirements into fully operationalized AI / ML Projects\\nExperience in leading data science engagements and/or other data scientists within a project.\\nAble to articulate complex data science concepts to both technical and non-technical audiences\\nExperience in Deep Learning and other Machine Learning techniques (e.g. regression, classification, topic modelling, time series, Neural Networks).\\nExposure / Knowledge in all Data Science offerings (Machine Learning, Anomaly Detection, Text Analytics / NLP, Computer Vision, Deep Learning)\\nStrong Experience with machine learning in Python, SQL, Pandas, Numpy, Scikit Learn, Tensorflow, Keras, PyTorch or equivalent\\nShould be able to drive creation of PoCs and contribute to CoEs working with the Delivery team\\nShould have sound understanding of Agile, DevOps, CI/CD, source control and automated testing\\nExpertise in ML Ops Deployments in one or more projects\\nExperience of working in cloud environments (Azure, GCP, AWS etc)\\nSpark / Hive/ Big Data Tools (Athena/Big Query etc...)\\nStrong domain expertise in 1 or more industry or have exposure to multiple business process scenario\\nExcited about data science!\\nNice to have\\nShould have sound understanding of Agile, DevOps, CI/CD, source control and automated testing\\nExperience of working in cloud environments (Azure, GCP, AWS etc)\\nSpark / Hive/ Big Data Tools (Athena/Big Query etc...)\\n\\n ',\n",
       " ' ',\n",
       " ' ',\n",
       " ' ',\n",
       " \"Roles and Responsibilities\\n\\nWell-versed in quantitative analysis, data mining, trend analysis, customer profiling, clustering and predictive modelling.\\nExecuting the data-driven planning process by building models and frameworks that connect business unit drivers to company financials and forecast to take the correct decision as per the business need.\\nShould be able to handle assigned tasks in the capacity of individual contributor.\\nDemonstrate excellent teamwork.\\nCollaborate with other data analysts to provide development coverage, support, and Knowledge sharing and mentoring of junior team members.\\n\\n\\n\\nDesired Candidate Profile\\n\\nBachelor's in Computer Science, Engineering, Statistics, Maths or related quantitative degree preferably from IIT, NIT, DTU and NSIT.\\n4-6 years of relevant experience in data science.\\nProblem solver who is passionate to deep dive into data and generate insights\\nExperience of data pre-processing and data manipulation using R, Python or SQL\\nShould have some experience in statistical techniques like linear regression, logistic regression, clustering etc.\\nFamiliarity with Machine Learning and AI techniques is a plus\\nTrack record of managing data project delivery including ability to meet deadlines, overcome challenges, manage stakeholder expectations, and produce clear deliverables\\nExcellent critical thinker with a strong verbal and written communications skills.\\nAbility and desire to work in a proactive, highly engaging, high-pressure, client service environment.\\nUnderstanding of Cloud Platforms (e.g. Azure / AWS) and ability to use them for developing, training and testing deep learning models\",\n",
       " '  Be a part of the Enterprise IT , Information and Data Science team and drive a strategic and actionable Data Science architecture to activate the needed business capabilities. Deliver business use cases like Care Provider (Customer, Product , IB ) 360 initiative, Product bundling , Value Based pricing , Conversational AI, Indirect Trade partner classification , Data pipeline predictions etc - an ambition to better understand the needs of Healthcare Providers, the way Philips serves its customers and how and where Philips can add value to the customer decision journey.\\nYour responsibilities\\nEnsure strategic direction for data science capabilities for Philips is created and kept up to date on a regular basis\\nContinuously evaluate the latest techniques in Artificial intelligence, machine learning, robotics, statistical analysis\\nImplement advanced algorithms for business problems based on statistical analysis, coding, deep learning, advanced data mining techniques etc.\\nDevelop new algorithms if necessary, to bring predictive, advanced statistics / learning based solutions\\nDevelop algorithms to further automate processes and feed insights back into PIL for better business outcome\\nCo-create with business / market / functions or IT platforms on requirements\\nEnsure quality of data and solution developed\\nLead and drive data mining, creating algorithms, collection of data, collection of procedures during the design, build phases of a project\\nLead and drive in deploy and testing of the solutions and insights\\nSpot and evaluate emerging/cutting edge, open source, data science/machine learning libraries\\nYou are part of:\\nYou will be part of Group IT , Information and Data Management team that drives business impact through Data Science and Advanced analytics. A team that instigates collaboration across diverse teams globally to manage Data as an asset at Philips.\\nCore competencies needed to be successful:\\nA Master s Degree or PhD in Computer Science, Econometrics, Artificial Intelligence, Applied Mathematics, Statistics or equivalent;\\n8-10 years of overall experience in data science, data analytics roles\\n8+ years of experience in multiple of machine learning, data mining, deep learning, artificial intelligence, pattern recognition areas\\nExperience in driving implementation of solutions, data and algorithms on data warehouse and lakes like Azure , AWS, SQL etc\\nDemonstrable advanced programming experience in Python or another programming language such as Azure ML/R/Python etc ;\\nStrong analytical and social skills and the capability to translate data intelligence into valuable insights for the senior stakeholders in the company\\nAbility to formulate multiple complex business problems into hypothesis and proof of concepts for testing\\nManage Projects and lead a sub-portfolio of data science project teams to deliver results\\nCoach, Guide and direct teams of internal and vendor resources\\nCollaborate across IT platform teams to deploy solutions and drive continuous improvements\\nManage senior stakeholder in the company in a matrix organization i.e. Market / BG / Function leaders',\n",
       " '- Ability to understand a problem statement and implement analytical solutions & techniques independently with independently/proactively/thought-leadership.\\n\\n- Work with stakeholders throughout the organization to identify opportunities for leveraging company/client data to drive business solutions.\\n\\n- Fast learner: ability to learn and pick up a new language/tool/ platform quickly.\\n\\n- Conceptualize, design, and deliver high-quality solutions and insightful analysis.\\n\\n- Conduct research and prototyping innovations; data and requirements gathering; solution scoping and architecture; consulting clients and client facing teams on advanced statistical and machine learning problems.\\n\\n- Collaborate and Coordinate with different functional teams(engineering and product development) to implement models and monitor outcomes.\\n\\n- Ability to deliver AIML based solutions around a host of domains and problems, with some of them being: Customer Segmentation & Targeting, Propensity Modeling, Churn Modeling, Lifetime Value Estimation, Forecasting, Recommender Systems, Modeling Response to Incentives, Marketing Mix Optimization, Price Optimization\\n\\nExperience Required:\\n\\n- Expert level proficiency in Python.\\n\\n- Ability to create efficient solutions to complex problems. Strong skills in data-structures and ML algorithms.\\n\\n- Experience of working on end-to-end data science pipeline: problem scoping, data gathering, EDA, modelling, insights, visualizations, monitoring and maintenance.\\n\\n- Problem-solving: Ability to break the problem into small parts and applying relevant techniques to drive required outcomes.\\n\\n- Intermediate to advanced knowledge of machine learning, probability theory, statistics, and algorithms. You will be required to discuss and use various algorithms and approaches on a daily basis.\\n\\n- We use regression, Bayesian methods, tree-based learners, SVM, RF, XGBOOST, time series modeling, dimensionality reduction, SEM, GLM, GLMM, clustering, Deep learning etc. on a regular basis. If you know few of them you are good to go.\\n\\nGood to Have:\\n\\n- Experience in one of the upcoming technologies like deep learning, NLP, image processing, recommender systems\\n\\n- Experience of working in on one or more domains:\\n\\n- CPG: pricing and promotion analytics, marketing analytics, trade promotions, supply chain management\\n\\n- BFSI: cross-sell, up-sell, campaign analytics, treasury analytics, fraud detection\\n\\n- Healthcare: medical adherence, medical risk profiling, EHR data, fraud-waste-abuse\\n\\n- Experience in working with Linux computing environment and use of command line tools like sed/awk\\n\\n- Good grasp on databases including RDBMS, NoSQL, MongoDB etc.',\n",
       " '- Ability to understand a problem statement and implement analytical solutions & techniques independently with independently/proactively/thought-leadership.\\n\\n- Work with stakeholders throughout the organization to identify opportunities for leveraging company/client data to drive business solutions.\\n\\n- Fast learner: ability to learn and pick up a new language/tool/ platform quickly.\\n\\n- Conceptualize, design, and deliver high-quality solutions and insightful analysis.\\n\\n- Conduct research and prototyping innovations; data and requirements gathering; solution scoping and architecture; consulting clients and client facing teams on advanced statistical and machine learning problems.\\n\\n- Collaborate and Coordinate with different functional teams(engineering and product development) to implement models and monitor outcomes.\\n\\n- Ability to deliver AIML based solutions around a host of domains and problems, with some of them being: Customer Segmentation & Targeting, Propensity Modeling, Churn Modeling, Lifetime Value Estimation, Forecasting, Recommender Systems, Modeling Response to Incentives, Marketing Mix Optimization, Price Optimization\\n\\nExperience Required:\\n\\n- Expert level proficiency in Python.\\n\\n- Ability to create efficient solutions to complex problems. Strong skills in data-structures and ML algorithms.\\n\\n- Experience of working on end-to-end data science pipeline: problem scoping, data gathering, EDA, modelling, insights, visualizations, monitoring and maintenance.\\n\\n- Problem-solving: Ability to break the problem into small parts and applying relevant techniques to drive required outcomes.\\n\\n- Intermediate to advanced knowledge of machine learning, probability theory, statistics, and algorithms. You will be required to discuss and use various algorithms and approaches on a daily basis.\\n\\n- We use regression, Bayesian methods, tree-based learners, SVM, RF, XGBOOST, time series modeling, dimensionality reduction, SEM, GLM, GLMM, clustering, Deep learning etc. on a regular basis. If you know few of them you are good to go.\\n\\nGood to Have:\\n\\n- Experience in one of the upcoming technologies like deep learning, NLP, image processing, recommender systems\\n\\n- Experience of working in on one or more domains:\\n\\n- CPG: pricing and promotion analytics, marketing analytics, trade promotions, supply chain management\\n\\n- BFSI: cross-sell, up-sell, campaign analytics, treasury analytics, fraud detection\\n\\n- Healthcare: medical adherence, medical risk profiling, EHR data, fraud-waste-abuse\\n\\n- Experience in working with Linux computing environment and use of command line tools like sed/awk\\n\\n- Good grasp on databases including RDBMS, NoSQL, MongoDB etc.']"
      ]
     },
     "execution_count": 72,
     "metadata": {},
     "output_type": "execute_result"
    }
   ],
   "source": [
    "#opening all the links one-by-one to get the job description\n",
    "decsriptions_list = []\n",
    "\n",
    "for i in link_list:\n",
    "    driver.get(i)\n",
    "    try:\n",
    "        job_desc = driver.find_element_by_xpath(\"//div[@class='dang-inner-html']\")\n",
    "        decsriptions_list.append(job_desc.text)\n",
    "    except:\n",
    "        decsriptions_list.append(\" \")\n",
    "decsriptions_list"
   ]
  },
  {
   "cell_type": "code",
   "execution_count": 73,
   "metadata": {},
   "outputs": [
    {
     "data": {
      "text/html": [
       "<div>\n",
       "<style scoped>\n",
       "    .dataframe tbody tr th:only-of-type {\n",
       "        vertical-align: middle;\n",
       "    }\n",
       "\n",
       "    .dataframe tbody tr th {\n",
       "        vertical-align: top;\n",
       "    }\n",
       "\n",
       "    .dataframe thead th {\n",
       "        text-align: right;\n",
       "    }\n",
       "</style>\n",
       "<table border=\"1\" class=\"dataframe\">\n",
       "  <thead>\n",
       "    <tr style=\"text-align: right;\">\n",
       "      <th></th>\n",
       "      <th>Job Title</th>\n",
       "      <th>Job Location</th>\n",
       "      <th>Company Name</th>\n",
       "      <th>Job Description</th>\n",
       "    </tr>\n",
       "  </thead>\n",
       "  <tbody>\n",
       "    <tr>\n",
       "      <th>0</th>\n",
       "      <td>Data Scientist- Senior Business Analyst/Lead A...</td>\n",
       "      <td>Gurgaon/Gurugram, Bangalore/Bengaluru</td>\n",
       "      <td>Evalueserve.com Pvt. Ltd</td>\n",
       "      <td>Job Description\\nUnderstand and design analyti...</td>\n",
       "    </tr>\n",
       "    <tr>\n",
       "      <th>1</th>\n",
       "      <td>Senior Data Scientist</td>\n",
       "      <td>Bangalore/Bengaluru</td>\n",
       "      <td>Signify</td>\n",
       "      <td>What you ll do\\nResearch, design and prototype...</td>\n",
       "    </tr>\n",
       "    <tr>\n",
       "      <th>2</th>\n",
       "      <td>Senior Data Scientist (Analytics),</td>\n",
       "      <td>Bangalore/Bengaluru</td>\n",
       "      <td>Luxoft</td>\n",
       "      <td>Data and Analytics Proposal Responses for Cr...</td>\n",
       "    </tr>\n",
       "    <tr>\n",
       "      <th>3</th>\n",
       "      <td>Data Scientist: Advanced Analytics</td>\n",
       "      <td>Bangalore/Bengaluru</td>\n",
       "      <td>IBM India Pvt. Limited</td>\n",
       "      <td></td>\n",
       "    </tr>\n",
       "    <tr>\n",
       "      <th>4</th>\n",
       "      <td>Data Scientist</td>\n",
       "      <td>Bangalore/Bengaluru</td>\n",
       "      <td>IBM India Pvt. Limited</td>\n",
       "      <td></td>\n",
       "    </tr>\n",
       "    <tr>\n",
       "      <th>5</th>\n",
       "      <td>Senior Data Scientist</td>\n",
       "      <td>Bangalore/Bengaluru</td>\n",
       "      <td>SMITHS DETECTION SYSTEMS PRIVATE LIMITED</td>\n",
       "      <td></td>\n",
       "    </tr>\n",
       "    <tr>\n",
       "      <th>6</th>\n",
       "      <td>Lead Data Scientist</td>\n",
       "      <td>Bangalore/Bengaluru, Delhi / NCR, Mumbai (All ...</td>\n",
       "      <td>TransOrg Solutions Services (P) Ltd.</td>\n",
       "      <td>Roles and Responsibilities\\n\\nWell-versed in q...</td>\n",
       "    </tr>\n",
       "    <tr>\n",
       "      <th>7</th>\n",
       "      <td>Senior Data Scientist</td>\n",
       "      <td>(WFH during Covid)</td>\n",
       "      <td>Philips India Limited</td>\n",
       "      <td>Be a part of the Enterprise IT , Information...</td>\n",
       "    </tr>\n",
       "    <tr>\n",
       "      <th>8</th>\n",
       "      <td>Senior Data Scientist - KPO</td>\n",
       "      <td>Bangalore/Bengaluru</td>\n",
       "      <td>TalentCo Search Pvt Ltd</td>\n",
       "      <td>- Ability to understand a problem statement an...</td>\n",
       "    </tr>\n",
       "    <tr>\n",
       "      <th>9</th>\n",
       "      <td>Senior Data Scientist</td>\n",
       "      <td>Mumbai, Bangalore/Bengaluru, Delhi / NCR</td>\n",
       "      <td>TalentCo Search Pvt Ltd</td>\n",
       "      <td>- Ability to understand a problem statement an...</td>\n",
       "    </tr>\n",
       "  </tbody>\n",
       "</table>\n",
       "</div>"
      ],
      "text/plain": [
       "                                           Job Title  \\\n",
       "0  Data Scientist- Senior Business Analyst/Lead A...   \n",
       "1                              Senior Data Scientist   \n",
       "2                 Senior Data Scientist (Analytics),   \n",
       "3                 Data Scientist: Advanced Analytics   \n",
       "4                                     Data Scientist   \n",
       "5                              Senior Data Scientist   \n",
       "6                                Lead Data Scientist   \n",
       "7                              Senior Data Scientist   \n",
       "8                        Senior Data Scientist - KPO   \n",
       "9                              Senior Data Scientist   \n",
       "\n",
       "                                        Job Location  \\\n",
       "0              Gurgaon/Gurugram, Bangalore/Bengaluru   \n",
       "1                                Bangalore/Bengaluru   \n",
       "2                                Bangalore/Bengaluru   \n",
       "3                                Bangalore/Bengaluru   \n",
       "4                                Bangalore/Bengaluru   \n",
       "5                                Bangalore/Bengaluru   \n",
       "6  Bangalore/Bengaluru, Delhi / NCR, Mumbai (All ...   \n",
       "7                                 (WFH during Covid)   \n",
       "8                                Bangalore/Bengaluru   \n",
       "9           Mumbai, Bangalore/Bengaluru, Delhi / NCR   \n",
       "\n",
       "                               Company Name  \\\n",
       "0                  Evalueserve.com Pvt. Ltd   \n",
       "1                                   Signify   \n",
       "2                                    Luxoft   \n",
       "3                    IBM India Pvt. Limited   \n",
       "4                    IBM India Pvt. Limited   \n",
       "5  SMITHS DETECTION SYSTEMS PRIVATE LIMITED   \n",
       "6      TransOrg Solutions Services (P) Ltd.   \n",
       "7                     Philips India Limited   \n",
       "8                   TalentCo Search Pvt Ltd   \n",
       "9                   TalentCo Search Pvt Ltd   \n",
       "\n",
       "                                     Job Description  \n",
       "0  Job Description\\nUnderstand and design analyti...  \n",
       "1  What you ll do\\nResearch, design and prototype...  \n",
       "2    Data and Analytics Proposal Responses for Cr...  \n",
       "3                                                     \n",
       "4                                                     \n",
       "5                                                     \n",
       "6  Roles and Responsibilities\\n\\nWell-versed in q...  \n",
       "7    Be a part of the Enterprise IT , Information...  \n",
       "8  - Ability to understand a problem statement an...  \n",
       "9  - Ability to understand a problem statement an...  "
      ]
     },
     "execution_count": 73,
     "metadata": {},
     "output_type": "execute_result"
    }
   ],
   "source": [
    "#5. Finally create a dataframe of the scraped data.\n",
    "#Creating a dataframe for job-title, job-location, company_name, full job-description.\n",
    "\n",
    "df = pd.DataFrame({})\n",
    "\n",
    "df[\"Job Title\"] = job_titles[:10]\n",
    "df[\"Job Location\"] = comp_loc[:10]\n",
    "df[\"Company Name\"] = comp_name[:10]\n",
    "df[\"Job Description\"] = decsriptions_list\n",
    "df"
   ]
  },
  {
   "cell_type": "markdown",
   "metadata": {},
   "source": [
    "### Q3: In this question you have to scrape data using the filters available on the webpage as shown\n",
    "You have to use the location and salary filter.\n",
    "You have to scrape data for “Data Scientist” designation for first 10 job results.\n",
    "You have to scrape the job-title, job-location, company_name,\n",
    "experience_required.\n",
    "The location filter to be used is “Delhi/NCR”\n",
    "The salary filter to be used is “3-6” lakhs"
   ]
  },
  {
   "cell_type": "code",
   "execution_count": 74,
   "metadata": {},
   "outputs": [],
   "source": [
    "#1. first get the webpage https://www.naukri.com/\n",
    "driver.get('https://www.naukri.com/')"
   ]
  },
  {
   "cell_type": "code",
   "execution_count": 75,
   "metadata": {},
   "outputs": [],
   "source": [
    "#2. Enter “Data Scientist” in “Skill,Designations,Companies” field\n",
    "search_job = driver.find_element_by_id(\"qsb-keyword-sugg\")\n",
    "search_job.send_keys('Data Scientist')"
   ]
  },
  {
   "cell_type": "code",
   "execution_count": 76,
   "metadata": {},
   "outputs": [],
   "source": [
    "#3. Then click the Search button.\n",
    "search_btn = driver.find_element_by_xpath(\"//button[@class='btn']\")\n",
    "search_btn.click()\n",
    "time.sleep(3)"
   ]
  },
  {
   "cell_type": "code",
   "execution_count": 80,
   "metadata": {},
   "outputs": [],
   "source": [
    "#4. Then apply the location filter and salary filter by checking the respective boxes\n",
    "\n",
    "#We'll get the element of these two filters:\n",
    "#a.The location filter to be used is “Delhi/NCR”\n",
    "location_filter = driver.find_element_by_xpath(\"//span[@title='Delhi / NCR']\")\n",
    "location_filter.click()\n",
    "time.sleep(3)"
   ]
  },
  {
   "cell_type": "code",
   "execution_count": 81,
   "metadata": {},
   "outputs": [],
   "source": [
    "\n",
    "#b. The salary filter to be used is “3-6” lakhs\n",
    "salary_filter = driver.find_element_by_xpath(\"//span[@title='3-6 Lakhs']\")\n",
    "salary_filter.click()\n",
    "time.sleep(3)"
   ]
  },
  {
   "cell_type": "code",
   "execution_count": 82,
   "metadata": {},
   "outputs": [
    {
     "data": {
      "text/plain": [
       "[<selenium.webdriver.remote.webelement.WebElement (session=\"8b960c5e39afba9d486a230a0daf5802\", element=\"87e6238d-fdc2-427e-b1ad-8059c7c89d8d\")>,\n",
       " <selenium.webdriver.remote.webelement.WebElement (session=\"8b960c5e39afba9d486a230a0daf5802\", element=\"c21d5483-ea6b-4a20-b243-f785f840bcab\")>,\n",
       " <selenium.webdriver.remote.webelement.WebElement (session=\"8b960c5e39afba9d486a230a0daf5802\", element=\"d3a90c8e-d6eb-42d8-b998-daff9336216f\")>,\n",
       " <selenium.webdriver.remote.webelement.WebElement (session=\"8b960c5e39afba9d486a230a0daf5802\", element=\"cd2b8da7-34f5-4d3e-9f9d-3f33c8124623\")>,\n",
       " <selenium.webdriver.remote.webelement.WebElement (session=\"8b960c5e39afba9d486a230a0daf5802\", element=\"7744e95d-bcdd-41c4-afcd-cad742c7a193\")>,\n",
       " <selenium.webdriver.remote.webelement.WebElement (session=\"8b960c5e39afba9d486a230a0daf5802\", element=\"ed1349f1-7552-4a9d-b361-3668a834dc68\")>,\n",
       " <selenium.webdriver.remote.webelement.WebElement (session=\"8b960c5e39afba9d486a230a0daf5802\", element=\"2a5d3053-9005-4193-b675-765f6023dcd9\")>,\n",
       " <selenium.webdriver.remote.webelement.WebElement (session=\"8b960c5e39afba9d486a230a0daf5802\", element=\"2bd8e271-1341-40e0-9d1b-40056cb110f8\")>,\n",
       " <selenium.webdriver.remote.webelement.WebElement (session=\"8b960c5e39afba9d486a230a0daf5802\", element=\"518f9658-3ae7-41cc-83e5-035ace211963\")>,\n",
       " <selenium.webdriver.remote.webelement.WebElement (session=\"8b960c5e39afba9d486a230a0daf5802\", element=\"504c1718-82ca-4b14-b52c-db68ed9a141e\")>,\n",
       " <selenium.webdriver.remote.webelement.WebElement (session=\"8b960c5e39afba9d486a230a0daf5802\", element=\"23eb033c-7e21-4443-9e9d-9633d4eee035\")>,\n",
       " <selenium.webdriver.remote.webelement.WebElement (session=\"8b960c5e39afba9d486a230a0daf5802\", element=\"4ea4bdc8-3c4f-4f8c-a43f-241eb3f2a8a2\")>,\n",
       " <selenium.webdriver.remote.webelement.WebElement (session=\"8b960c5e39afba9d486a230a0daf5802\", element=\"dc0aebfa-1307-479a-b179-481e6111dee0\")>,\n",
       " <selenium.webdriver.remote.webelement.WebElement (session=\"8b960c5e39afba9d486a230a0daf5802\", element=\"978cbb80-9b86-4361-a868-ec989cea7ad2\")>,\n",
       " <selenium.webdriver.remote.webelement.WebElement (session=\"8b960c5e39afba9d486a230a0daf5802\", element=\"781b0354-0bcf-4b50-9922-553bf0934623\")>,\n",
       " <selenium.webdriver.remote.webelement.WebElement (session=\"8b960c5e39afba9d486a230a0daf5802\", element=\"7a25a0c2-3343-42f0-a756-3cb4e91d3716\")>,\n",
       " <selenium.webdriver.remote.webelement.WebElement (session=\"8b960c5e39afba9d486a230a0daf5802\", element=\"2cd1ef3b-bfcf-4321-a1d4-718b73a78d4f\")>,\n",
       " <selenium.webdriver.remote.webelement.WebElement (session=\"8b960c5e39afba9d486a230a0daf5802\", element=\"39eb56e4-0f0e-43a5-9e2e-fc611153a089\")>,\n",
       " <selenium.webdriver.remote.webelement.WebElement (session=\"8b960c5e39afba9d486a230a0daf5802\", element=\"d94036ae-6204-4597-b8ca-ffe830caae07\")>,\n",
       " <selenium.webdriver.remote.webelement.WebElement (session=\"8b960c5e39afba9d486a230a0daf5802\", element=\"bf858b3f-5b5d-483f-9509-1aad11776d89\")>]"
      ]
     },
     "execution_count": 82,
     "metadata": {},
     "output_type": "execute_result"
    }
   ],
   "source": [
    "#4. Then scrape the data for the first 10 jobs results you get.\n",
    "#Let's extract all the tags with job title\n",
    "titles_tags = driver.find_elements_by_xpath(\"//a[@class='title fw500 ellipsis']\")\n",
    "titles_tags"
   ]
  },
  {
   "cell_type": "code",
   "execution_count": 83,
   "metadata": {},
   "outputs": [
    {
     "data": {
      "text/plain": [
       "['Data Scientist Internship',\n",
       " 'Data Scientist',\n",
       " 'Data Scientist',\n",
       " 'Data Scientist / Sr. Data Scientist',\n",
       " 'Only Fresher / Data Scientist / Data Analyst / Analytics - MNC Jobs',\n",
       " 'Data Scientist',\n",
       " 'Data Scientist- Image Processing & Computer Vision',\n",
       " 'Senior Data Scientist - Noida',\n",
       " 'Data Scientist',\n",
       " 'Immediate Openings For DATA Scientist with 6 To 7 yrs of Experience']"
      ]
     },
     "execution_count": 83,
     "metadata": {},
     "output_type": "execute_result"
    }
   ],
   "source": [
    "#Extracting the top 10 title text from the web elements we got\n",
    "job_titles=[]\n",
    "for i in titles_tags[:10]:       #titles_tags[:10] will display only 10 entries\n",
    "    job_titles.append(i.text)    #i.text is used to extract the text from webelement\n",
    "job_titles"
   ]
  },
  {
   "cell_type": "code",
   "execution_count": 84,
   "metadata": {},
   "outputs": [
    {
     "data": {
      "text/plain": [
       "[<selenium.webdriver.remote.webelement.WebElement (session=\"8b960c5e39afba9d486a230a0daf5802\", element=\"e6ac66cb-2853-428d-8098-857be310b008\")>,\n",
       " <selenium.webdriver.remote.webelement.WebElement (session=\"8b960c5e39afba9d486a230a0daf5802\", element=\"f7917892-dbf3-412d-94af-40acec0fd2ac\")>,\n",
       " <selenium.webdriver.remote.webelement.WebElement (session=\"8b960c5e39afba9d486a230a0daf5802\", element=\"592d48a1-ad54-4c26-a1d2-aaf7c80fe7a8\")>,\n",
       " <selenium.webdriver.remote.webelement.WebElement (session=\"8b960c5e39afba9d486a230a0daf5802\", element=\"0d3951d6-6bb6-4fb6-bb0e-1f33ddd8a37b\")>,\n",
       " <selenium.webdriver.remote.webelement.WebElement (session=\"8b960c5e39afba9d486a230a0daf5802\", element=\"7818f95b-2207-4805-811c-c122027918af\")>,\n",
       " <selenium.webdriver.remote.webelement.WebElement (session=\"8b960c5e39afba9d486a230a0daf5802\", element=\"571cdb93-64bb-4cfd-a7b1-6f237a2d8272\")>,\n",
       " <selenium.webdriver.remote.webelement.WebElement (session=\"8b960c5e39afba9d486a230a0daf5802\", element=\"36fa0c3e-9edb-4b9f-af34-1c682a011ba7\")>,\n",
       " <selenium.webdriver.remote.webelement.WebElement (session=\"8b960c5e39afba9d486a230a0daf5802\", element=\"be19a5f0-c6c7-4ff5-a0ce-446797d4b596\")>,\n",
       " <selenium.webdriver.remote.webelement.WebElement (session=\"8b960c5e39afba9d486a230a0daf5802\", element=\"1840bcd2-b1c2-4b2e-a12a-ce05508c8096\")>,\n",
       " <selenium.webdriver.remote.webelement.WebElement (session=\"8b960c5e39afba9d486a230a0daf5802\", element=\"2728e7f7-1215-48b9-afd2-199dfb91108e\")>,\n",
       " <selenium.webdriver.remote.webelement.WebElement (session=\"8b960c5e39afba9d486a230a0daf5802\", element=\"7cc2725a-5ad5-4a84-85df-9b3b873395ee\")>,\n",
       " <selenium.webdriver.remote.webelement.WebElement (session=\"8b960c5e39afba9d486a230a0daf5802\", element=\"776dc7fe-d981-493a-ace7-0f993001ea1e\")>,\n",
       " <selenium.webdriver.remote.webelement.WebElement (session=\"8b960c5e39afba9d486a230a0daf5802\", element=\"d0efb36f-793e-481e-bd4c-8242850ae7ac\")>,\n",
       " <selenium.webdriver.remote.webelement.WebElement (session=\"8b960c5e39afba9d486a230a0daf5802\", element=\"0488b433-4af3-45cc-8562-f97e935af4e7\")>,\n",
       " <selenium.webdriver.remote.webelement.WebElement (session=\"8b960c5e39afba9d486a230a0daf5802\", element=\"9b7bc63e-7b2f-4469-8e94-9294810a0aa8\")>,\n",
       " <selenium.webdriver.remote.webelement.WebElement (session=\"8b960c5e39afba9d486a230a0daf5802\", element=\"9bccd952-44fc-49fc-a5f1-187d77a24a6a\")>,\n",
       " <selenium.webdriver.remote.webelement.WebElement (session=\"8b960c5e39afba9d486a230a0daf5802\", element=\"0779b190-aabd-4867-910c-0e69e80de95a\")>,\n",
       " <selenium.webdriver.remote.webelement.WebElement (session=\"8b960c5e39afba9d486a230a0daf5802\", element=\"1435f0f8-5d18-4e83-a20a-4b7b619fb505\")>,\n",
       " <selenium.webdriver.remote.webelement.WebElement (session=\"8b960c5e39afba9d486a230a0daf5802\", element=\"debfdaa9-e58c-416a-b4c4-9fa05dae357f\")>,\n",
       " <selenium.webdriver.remote.webelement.WebElement (session=\"8b960c5e39afba9d486a230a0daf5802\", element=\"3712debc-7f09-40de-b508-6d75610cd977\")>]"
      ]
     },
     "execution_count": 84,
     "metadata": {},
     "output_type": "execute_result"
    }
   ],
   "source": [
    "#Let's extract all the tags with company name\n",
    "comp_tags = driver.find_elements_by_xpath(\"//a[@class='subTitle ellipsis fleft']\")\n",
    "comp_tags"
   ]
  },
  {
   "cell_type": "code",
   "execution_count": 85,
   "metadata": {},
   "outputs": [
    {
     "data": {
      "text/plain": [
       "['iHackers Inc',\n",
       " 'CBRE South Asia Pvt Ltd',\n",
       " 'Agreeya',\n",
       " 'WEGARNER SOLUTIONS PRIVATE LIMITED',\n",
       " 'GABA Consultancy services',\n",
       " 'Experiture',\n",
       " 'ProtoGene Consulting Private Limited',\n",
       " 'Optum Global Solutions (India) Private Limited',\n",
       " 'R Systems International Ltd.',\n",
       " 'Entune IT Consulting Private Limited']"
      ]
     },
     "execution_count": 85,
     "metadata": {},
     "output_type": "execute_result"
    }
   ],
   "source": [
    "#Extracting the company name text from the web elements we got\n",
    "comp_name=[]\n",
    "for i in comp_tags[:10]:       #This will display only 10 entries\n",
    "    comp_name.append(i.text)    #i.text is used to extract the text from webelement\n",
    "comp_name"
   ]
  },
  {
   "cell_type": "code",
   "execution_count": 86,
   "metadata": {},
   "outputs": [
    {
     "data": {
      "text/plain": [
       "[<selenium.webdriver.remote.webelement.WebElement (session=\"8b960c5e39afba9d486a230a0daf5802\", element=\"0690058b-40e1-4e65-ac63-4fdb93d8ae08\")>,\n",
       " <selenium.webdriver.remote.webelement.WebElement (session=\"8b960c5e39afba9d486a230a0daf5802\", element=\"ea2cb2a7-4feb-46fe-8b54-fef7553435f3\")>,\n",
       " <selenium.webdriver.remote.webelement.WebElement (session=\"8b960c5e39afba9d486a230a0daf5802\", element=\"4dda00e4-bf3b-4c88-ac4b-c23e950777fb\")>,\n",
       " <selenium.webdriver.remote.webelement.WebElement (session=\"8b960c5e39afba9d486a230a0daf5802\", element=\"81062920-2022-4d74-ac29-250da7bba565\")>,\n",
       " <selenium.webdriver.remote.webelement.WebElement (session=\"8b960c5e39afba9d486a230a0daf5802\", element=\"9e312a4b-8e82-46b1-a8a0-73da2d52d5d0\")>,\n",
       " <selenium.webdriver.remote.webelement.WebElement (session=\"8b960c5e39afba9d486a230a0daf5802\", element=\"c58b0883-66d8-421c-9c19-cbfc3a3f64ef\")>,\n",
       " <selenium.webdriver.remote.webelement.WebElement (session=\"8b960c5e39afba9d486a230a0daf5802\", element=\"5424de8c-2e4c-41d8-b76c-59654aa9e515\")>,\n",
       " <selenium.webdriver.remote.webelement.WebElement (session=\"8b960c5e39afba9d486a230a0daf5802\", element=\"5168323d-4f9f-42d0-a9ce-5743ae7b6f88\")>,\n",
       " <selenium.webdriver.remote.webelement.WebElement (session=\"8b960c5e39afba9d486a230a0daf5802\", element=\"a344032e-1691-4d5f-998d-edd2a7a66409\")>,\n",
       " <selenium.webdriver.remote.webelement.WebElement (session=\"8b960c5e39afba9d486a230a0daf5802\", element=\"eeac645e-83f2-40fb-86b2-23eb6f9f503b\")>,\n",
       " <selenium.webdriver.remote.webelement.WebElement (session=\"8b960c5e39afba9d486a230a0daf5802\", element=\"dd681d47-16b9-41c3-8731-290bafceee6f\")>,\n",
       " <selenium.webdriver.remote.webelement.WebElement (session=\"8b960c5e39afba9d486a230a0daf5802\", element=\"226a578e-36bc-4fab-ad6e-6df642785a3d\")>,\n",
       " <selenium.webdriver.remote.webelement.WebElement (session=\"8b960c5e39afba9d486a230a0daf5802\", element=\"81d4cb4c-73be-49a8-a0ed-02c45d984795\")>,\n",
       " <selenium.webdriver.remote.webelement.WebElement (session=\"8b960c5e39afba9d486a230a0daf5802\", element=\"c30ea341-f911-4b83-b979-3e816d957090\")>,\n",
       " <selenium.webdriver.remote.webelement.WebElement (session=\"8b960c5e39afba9d486a230a0daf5802\", element=\"6867f8b9-1a57-44f7-a47c-5b46294a129f\")>,\n",
       " <selenium.webdriver.remote.webelement.WebElement (session=\"8b960c5e39afba9d486a230a0daf5802\", element=\"18aa734e-8e80-475c-bebd-c3e1adfb20bd\")>,\n",
       " <selenium.webdriver.remote.webelement.WebElement (session=\"8b960c5e39afba9d486a230a0daf5802\", element=\"ed575279-8df9-49f7-9f39-5bd89e5851ec\")>,\n",
       " <selenium.webdriver.remote.webelement.WebElement (session=\"8b960c5e39afba9d486a230a0daf5802\", element=\"975d5146-466b-407a-9777-00cb74acd44d\")>,\n",
       " <selenium.webdriver.remote.webelement.WebElement (session=\"8b960c5e39afba9d486a230a0daf5802\", element=\"5ede915b-5818-4377-9773-16783c6a93ae\")>,\n",
       " <selenium.webdriver.remote.webelement.WebElement (session=\"8b960c5e39afba9d486a230a0daf5802\", element=\"0aa002f3-5f21-496a-9633-6dee5cdc329c\")>,\n",
       " <selenium.webdriver.remote.webelement.WebElement (session=\"8b960c5e39afba9d486a230a0daf5802\", element=\"862f5135-5956-4bb6-b85f-56b84693ed96\")>,\n",
       " <selenium.webdriver.remote.webelement.WebElement (session=\"8b960c5e39afba9d486a230a0daf5802\", element=\"03163a7d-ce2d-424f-a7ed-5a02977e7d5b\")>,\n",
       " <selenium.webdriver.remote.webelement.WebElement (session=\"8b960c5e39afba9d486a230a0daf5802\", element=\"c50901f0-e4a3-4b2c-a2dd-746502c226c5\")>]"
      ]
     },
     "execution_count": 86,
     "metadata": {},
     "output_type": "execute_result"
    }
   ],
   "source": [
    "#Let's extract all the tags with comp location\n",
    "loc_tags = driver.find_elements_by_xpath(\"//li[@class='fleft grey-text br2 placeHolderLi location']//span\")\n",
    "loc_tags"
   ]
  },
  {
   "cell_type": "code",
   "execution_count": 87,
   "metadata": {},
   "outputs": [
    {
     "data": {
      "text/plain": [
       "['New Delhi',\n",
       " 'Gurgaon/Gurugram',\n",
       " 'Noida, Gurgaon/Gurugram, Delhi / NCR',\n",
       " 'Noida, Pune, Mumbai (All Areas)',\n",
       " 'Noida, Gurgaon/Gurugram, Delhi / NCR',\n",
       " 'Kolkata, Hyderabad/Secunderabad, Ahmedabad, Bangalore/Bengaluru, Delhi / NCR, jharkhand, odisha, west bengal',\n",
       " '(WFH during Covid)',\n",
       " 'Delhi / NCR',\n",
       " 'Noida',\n",
       " 'Noida(Sector-59 Noida)']"
      ]
     },
     "execution_count": 87,
     "metadata": {},
     "output_type": "execute_result"
    }
   ],
   "source": [
    "#Extracting the job location text from the web elements we got\n",
    "comp_loc=[]\n",
    "for i in loc_tags[:10]:       #This will display only 10 entries\n",
    "    comp_loc.append(i.text)    #i.text is used to extract the text from webelement\n",
    "comp_loc"
   ]
  },
  {
   "cell_type": "code",
   "execution_count": 88,
   "metadata": {},
   "outputs": [
    {
     "data": {
      "text/plain": [
       "[<selenium.webdriver.remote.webelement.WebElement (session=\"8b960c5e39afba9d486a230a0daf5802\", element=\"f4baff39-501a-4e73-afd3-0b439a98ca6a\")>,\n",
       " <selenium.webdriver.remote.webelement.WebElement (session=\"8b960c5e39afba9d486a230a0daf5802\", element=\"ceb0dc12-773d-4fea-9600-d827b7b2a275\")>,\n",
       " <selenium.webdriver.remote.webelement.WebElement (session=\"8b960c5e39afba9d486a230a0daf5802\", element=\"46892b92-1f22-4420-be68-e72e461d52ae\")>,\n",
       " <selenium.webdriver.remote.webelement.WebElement (session=\"8b960c5e39afba9d486a230a0daf5802\", element=\"f411fabe-c67a-46e9-947d-6612b6147f57\")>,\n",
       " <selenium.webdriver.remote.webelement.WebElement (session=\"8b960c5e39afba9d486a230a0daf5802\", element=\"632d6a58-516b-4a46-8039-113e9666216a\")>,\n",
       " <selenium.webdriver.remote.webelement.WebElement (session=\"8b960c5e39afba9d486a230a0daf5802\", element=\"43f1253d-b8ac-4b12-86e4-fea93c41e0f9\")>,\n",
       " <selenium.webdriver.remote.webelement.WebElement (session=\"8b960c5e39afba9d486a230a0daf5802\", element=\"af6b790e-65db-4f23-9edf-571ee9d2d055\")>,\n",
       " <selenium.webdriver.remote.webelement.WebElement (session=\"8b960c5e39afba9d486a230a0daf5802\", element=\"3d030bff-3068-473b-b08e-f90b429492e0\")>,\n",
       " <selenium.webdriver.remote.webelement.WebElement (session=\"8b960c5e39afba9d486a230a0daf5802\", element=\"bb1e8f30-40bc-45c2-9cae-288d048fa75e\")>,\n",
       " <selenium.webdriver.remote.webelement.WebElement (session=\"8b960c5e39afba9d486a230a0daf5802\", element=\"f170a344-5b1e-4208-a898-ece33aac2e2a\")>,\n",
       " <selenium.webdriver.remote.webelement.WebElement (session=\"8b960c5e39afba9d486a230a0daf5802\", element=\"25ead330-922d-4cd4-a6fd-2d7f97c9304e\")>,\n",
       " <selenium.webdriver.remote.webelement.WebElement (session=\"8b960c5e39afba9d486a230a0daf5802\", element=\"acb088f6-886e-488a-ad6d-007ca6e09e50\")>,\n",
       " <selenium.webdriver.remote.webelement.WebElement (session=\"8b960c5e39afba9d486a230a0daf5802\", element=\"60fd4ccf-6255-4339-b4c9-d6525c438f10\")>,\n",
       " <selenium.webdriver.remote.webelement.WebElement (session=\"8b960c5e39afba9d486a230a0daf5802\", element=\"1ff44051-86d1-4afb-996a-48d194693e06\")>,\n",
       " <selenium.webdriver.remote.webelement.WebElement (session=\"8b960c5e39afba9d486a230a0daf5802\", element=\"d7017674-4018-481e-8b75-1a015d5168fa\")>,\n",
       " <selenium.webdriver.remote.webelement.WebElement (session=\"8b960c5e39afba9d486a230a0daf5802\", element=\"c13747bb-6035-40ce-9876-7b4814db9240\")>,\n",
       " <selenium.webdriver.remote.webelement.WebElement (session=\"8b960c5e39afba9d486a230a0daf5802\", element=\"9da71a16-de2d-454b-9b59-d6affb05c5ad\")>,\n",
       " <selenium.webdriver.remote.webelement.WebElement (session=\"8b960c5e39afba9d486a230a0daf5802\", element=\"b61bed29-ab57-4099-9518-7e6c7f1a837b\")>,\n",
       " <selenium.webdriver.remote.webelement.WebElement (session=\"8b960c5e39afba9d486a230a0daf5802\", element=\"e276b8b3-7a44-4fd7-9935-f4bf1b780b8d\")>,\n",
       " <selenium.webdriver.remote.webelement.WebElement (session=\"8b960c5e39afba9d486a230a0daf5802\", element=\"800a882a-8744-4ebb-8935-55aa2c4ce6cb\")>]"
      ]
     },
     "execution_count": 88,
     "metadata": {},
     "output_type": "execute_result"
    }
   ],
   "source": [
    "#Let's extract all the tags with experience required\n",
    "exp_tags = driver.find_elements_by_xpath(\"//li[@class='fleft grey-text br2 placeHolderLi experience']//span\")\n",
    "exp_tags"
   ]
  },
  {
   "cell_type": "code",
   "execution_count": 89,
   "metadata": {},
   "outputs": [
    {
     "data": {
      "text/plain": [
       "['0-1 Yrs',\n",
       " '2-4 Yrs',\n",
       " '3-6 Yrs',\n",
       " '0-5 Yrs',\n",
       " '0-0 Yrs',\n",
       " '5-7 Yrs',\n",
       " '4-7 Yrs',\n",
       " '2-6 Yrs',\n",
       " '5-10 Yrs',\n",
       " '5-8 Yrs']"
      ]
     },
     "execution_count": 89,
     "metadata": {},
     "output_type": "execute_result"
    }
   ],
   "source": [
    "#Extracting the experience text from the web elements we got\n",
    "experience_list=[]\n",
    "for i in exp_tags[:10]:       #This will display only 10 entries\n",
    "    experience_list.append(i.text)    #i.text is used to extract the text from webelement\n",
    "experience_list"
   ]
  },
  {
   "cell_type": "code",
   "execution_count": 90,
   "metadata": {},
   "outputs": [
    {
     "data": {
      "text/html": [
       "<div>\n",
       "<style scoped>\n",
       "    .dataframe tbody tr th:only-of-type {\n",
       "        vertical-align: middle;\n",
       "    }\n",
       "\n",
       "    .dataframe tbody tr th {\n",
       "        vertical-align: top;\n",
       "    }\n",
       "\n",
       "    .dataframe thead th {\n",
       "        text-align: right;\n",
       "    }\n",
       "</style>\n",
       "<table border=\"1\" class=\"dataframe\">\n",
       "  <thead>\n",
       "    <tr style=\"text-align: right;\">\n",
       "      <th></th>\n",
       "      <th>Job Title</th>\n",
       "      <th>Job Location</th>\n",
       "      <th>Company Name</th>\n",
       "      <th>Experience Required</th>\n",
       "    </tr>\n",
       "  </thead>\n",
       "  <tbody>\n",
       "    <tr>\n",
       "      <th>0</th>\n",
       "      <td>Data Scientist Internship</td>\n",
       "      <td>New Delhi</td>\n",
       "      <td>iHackers Inc</td>\n",
       "      <td>0-1 Yrs</td>\n",
       "    </tr>\n",
       "    <tr>\n",
       "      <th>1</th>\n",
       "      <td>Data Scientist</td>\n",
       "      <td>Gurgaon/Gurugram</td>\n",
       "      <td>CBRE South Asia Pvt Ltd</td>\n",
       "      <td>2-4 Yrs</td>\n",
       "    </tr>\n",
       "    <tr>\n",
       "      <th>2</th>\n",
       "      <td>Data Scientist</td>\n",
       "      <td>Noida, Gurgaon/Gurugram, Delhi / NCR</td>\n",
       "      <td>Agreeya</td>\n",
       "      <td>3-6 Yrs</td>\n",
       "    </tr>\n",
       "    <tr>\n",
       "      <th>3</th>\n",
       "      <td>Data Scientist / Sr. Data Scientist</td>\n",
       "      <td>Noida, Pune, Mumbai (All Areas)</td>\n",
       "      <td>WEGARNER SOLUTIONS PRIVATE LIMITED</td>\n",
       "      <td>0-5 Yrs</td>\n",
       "    </tr>\n",
       "    <tr>\n",
       "      <th>4</th>\n",
       "      <td>Only Fresher / Data Scientist / Data Analyst /...</td>\n",
       "      <td>Noida, Gurgaon/Gurugram, Delhi / NCR</td>\n",
       "      <td>GABA Consultancy services</td>\n",
       "      <td>0-0 Yrs</td>\n",
       "    </tr>\n",
       "    <tr>\n",
       "      <th>5</th>\n",
       "      <td>Data Scientist</td>\n",
       "      <td>Kolkata, Hyderabad/Secunderabad, Ahmedabad, Ba...</td>\n",
       "      <td>Experiture</td>\n",
       "      <td>5-7 Yrs</td>\n",
       "    </tr>\n",
       "    <tr>\n",
       "      <th>6</th>\n",
       "      <td>Data Scientist- Image Processing &amp; Computer Vi...</td>\n",
       "      <td>(WFH during Covid)</td>\n",
       "      <td>ProtoGene Consulting Private Limited</td>\n",
       "      <td>4-7 Yrs</td>\n",
       "    </tr>\n",
       "    <tr>\n",
       "      <th>7</th>\n",
       "      <td>Senior Data Scientist - Noida</td>\n",
       "      <td>Delhi / NCR</td>\n",
       "      <td>Optum Global Solutions (India) Private Limited</td>\n",
       "      <td>2-6 Yrs</td>\n",
       "    </tr>\n",
       "    <tr>\n",
       "      <th>8</th>\n",
       "      <td>Data Scientist</td>\n",
       "      <td>Noida</td>\n",
       "      <td>R Systems International Ltd.</td>\n",
       "      <td>5-10 Yrs</td>\n",
       "    </tr>\n",
       "    <tr>\n",
       "      <th>9</th>\n",
       "      <td>Immediate Openings For DATA Scientist with 6 T...</td>\n",
       "      <td>Noida(Sector-59 Noida)</td>\n",
       "      <td>Entune IT Consulting Private Limited</td>\n",
       "      <td>5-8 Yrs</td>\n",
       "    </tr>\n",
       "  </tbody>\n",
       "</table>\n",
       "</div>"
      ],
      "text/plain": [
       "                                           Job Title  \\\n",
       "0                          Data Scientist Internship   \n",
       "1                                     Data Scientist   \n",
       "2                                     Data Scientist   \n",
       "3                Data Scientist / Sr. Data Scientist   \n",
       "4  Only Fresher / Data Scientist / Data Analyst /...   \n",
       "5                                     Data Scientist   \n",
       "6  Data Scientist- Image Processing & Computer Vi...   \n",
       "7                      Senior Data Scientist - Noida   \n",
       "8                                     Data Scientist   \n",
       "9  Immediate Openings For DATA Scientist with 6 T...   \n",
       "\n",
       "                                        Job Location  \\\n",
       "0                                          New Delhi   \n",
       "1                                   Gurgaon/Gurugram   \n",
       "2               Noida, Gurgaon/Gurugram, Delhi / NCR   \n",
       "3                    Noida, Pune, Mumbai (All Areas)   \n",
       "4               Noida, Gurgaon/Gurugram, Delhi / NCR   \n",
       "5  Kolkata, Hyderabad/Secunderabad, Ahmedabad, Ba...   \n",
       "6                                 (WFH during Covid)   \n",
       "7                                        Delhi / NCR   \n",
       "8                                              Noida   \n",
       "9                             Noida(Sector-59 Noida)   \n",
       "\n",
       "                                     Company Name Experience Required  \n",
       "0                                    iHackers Inc             0-1 Yrs  \n",
       "1                         CBRE South Asia Pvt Ltd             2-4 Yrs  \n",
       "2                                         Agreeya             3-6 Yrs  \n",
       "3              WEGARNER SOLUTIONS PRIVATE LIMITED             0-5 Yrs  \n",
       "4                       GABA Consultancy services             0-0 Yrs  \n",
       "5                                      Experiture             5-7 Yrs  \n",
       "6            ProtoGene Consulting Private Limited             4-7 Yrs  \n",
       "7  Optum Global Solutions (India) Private Limited             2-6 Yrs  \n",
       "8                    R Systems International Ltd.            5-10 Yrs  \n",
       "9            Entune IT Consulting Private Limited             5-8 Yrs  "
      ]
     },
     "execution_count": 90,
     "metadata": {},
     "output_type": "execute_result"
    }
   ],
   "source": [
    "#5. Finally create a dataframe of the scraped with applied filters.\n",
    "#Creating a dataframe for job-title, job-location, company_name, experience_required.\n",
    "\n",
    "df = pd.DataFrame({})\n",
    "\n",
    "df[\"Job Title\"] = job_titles[:10]\n",
    "df[\"Job Location\"] = comp_loc[:10]\n",
    "df[\"Company Name\"] = comp_name[:10]\n",
    "df[\"Experience Required\"] = experience_list[:10]\n",
    "df"
   ]
  },
  {
   "cell_type": "markdown",
   "metadata": {},
   "source": [
    "### Q4: Write a python program to scrape data for first 10 job results for Data scientist Designation in Noida location. You have to scrape company_name, No. of days ago when job was posted, Rating of the company.\n"
   ]
  },
  {
   "cell_type": "code",
   "execution_count": 91,
   "metadata": {},
   "outputs": [],
   "source": [
    "#1. first get the webpage 'https://www.glassdoor.co.in/index.htm'\n",
    "\n",
    "#driver.get('https://www.glassdoor.co.in/index.htm')"
   ]
  },
  {
   "cell_type": "code",
   "execution_count": 92,
   "metadata": {},
   "outputs": [],
   "source": [
    "#2. Enter “Data Scientist” in “Job Title,Keyword,Company” field and enter “Noida”\n",
    "#in “location” field\n",
    "\n",
    "#sending keys to type in “Job Title,Keyword,Company” field\n",
    "\n",
    "#search_job = driver.get_element_by_ID('KeywordSearch')\n",
    "#search_job.send_keys(\"Data Scientist\")*/"
   ]
  },
  {
   "cell_type": "markdown",
   "metadata": {},
   "source": [
    "### Getting sign up pop up hence unable to scrape the data from Glassdoor website"
   ]
  },
  {
   "cell_type": "markdown",
   "metadata": {},
   "source": [
    "### Q6 : Scrape data of first 100 sunglasses listings on flipkart.com. You have to scrape four attributes:\n",
    "1. Brand\n",
    "2. Product Description\n",
    "3. Price\n",
    "4. Discount %"
   ]
  },
  {
   "cell_type": "code",
   "execution_count": 152,
   "metadata": {},
   "outputs": [],
   "source": [
    "#1. first get the webpage 'https://www.flipkart.com/'\n",
    "\n",
    "driver.get('https://www.flipkart.com/')"
   ]
  },
  {
   "cell_type": "code",
   "execution_count": 153,
   "metadata": {},
   "outputs": [],
   "source": [
    "#2. Enter “sunglasses” in the search field where “search for products, brands and more” is written and click the search icon\n",
    "search_product = driver.find_element_by_name('q')\n",
    "search_product.send_keys('sunglasses')"
   ]
  },
  {
   "cell_type": "code",
   "execution_count": 154,
   "metadata": {},
   "outputs": [],
   "source": [
    "#clicking on the search button to show the result\n",
    "search_button = driver.find_element_by_xpath(\"//button[@class='L0Z3Pu']\")\n",
    "search_button.click()\n",
    "time.sleep(3)"
   ]
  },
  {
   "cell_type": "code",
   "execution_count": 160,
   "metadata": {},
   "outputs": [
    {
     "data": {
      "text/plain": [
       "['https://www.flipkart.com/search?q=sunglasses&otracker=search&otracker1=search&marketplace=FLIPKART&as-show=on&as=off&page=1',\n",
       " 'https://www.flipkart.com/search?q=sunglasses&otracker=search&otracker1=search&marketplace=FLIPKART&as-show=on&as=off&page=2',\n",
       " 'https://www.flipkart.com/search?q=sunglasses&otracker=search&otracker1=search&marketplace=FLIPKART&as-show=on&as=off&page=3',\n",
       " 'https://www.flipkart.com/search?q=sunglasses&otracker=search&otracker1=search&marketplace=FLIPKART&as-show=on&as=off&page=4',\n",
       " 'https://www.flipkart.com/search?q=sunglasses&otracker=search&otracker1=search&marketplace=FLIPKART&as-show=on&as=off&page=5',\n",
       " 'https://www.flipkart.com/search?q=sunglasses&otracker=search&otracker1=search&marketplace=FLIPKART&as-show=on&as=off&page=6',\n",
       " 'https://www.flipkart.com/search?q=sunglasses&otracker=search&otracker1=search&marketplace=FLIPKART&as-show=on&as=off&page=7',\n",
       " 'https://www.flipkart.com/search?q=sunglasses&otracker=search&otracker1=search&marketplace=FLIPKART&as-show=on&as=off&page=8',\n",
       " 'https://www.flipkart.com/search?q=sunglasses&otracker=search&otracker1=search&marketplace=FLIPKART&as-show=on&as=off&page=9',\n",
       " 'https://www.flipkart.com/search?q=sunglasses&otracker=search&otracker1=search&marketplace=FLIPKART&as-show=on&as=off&page=10',\n",
       " 'https://www.flipkart.com/search?q=sunglasses&otracker=search&otracker1=search&marketplace=FLIPKART&as-show=on&as=off&page=3']"
      ]
     },
     "execution_count": 160,
     "metadata": {},
     "output_type": "execute_result"
    }
   ],
   "source": [
    "#3. After that you will reach to a webpage having a lot of sunglasses. From this page you can scrap the required data as usual.\n",
    "#4. after scraping data from the first page, go to the “Next” Button at the bottom of the page , then click on it\n",
    "#5. Now scrape data from this page as usual\n",
    "#6. repeat this until you get data for 100 sunglasses.\n",
    "\n",
    "#Getting URLs of all the pages\n",
    "page_url = []\n",
    "url = driver.find_elements_by_xpath(\"//nav[@class='yFHi8N']//a\")\n",
    "for i in url:\n",
    "    page_url.append(i.get_attribute('href'))\n",
    "page_url"
   ]
  },
  {
   "cell_type": "code",
   "execution_count": 161,
   "metadata": {},
   "outputs": [
    {
     "data": {
      "text/plain": [
       "['Elligator',\n",
       " 'Fastrack',\n",
       " 'Fastrack',\n",
       " 'PIRASO',\n",
       " 'kingsunglasses',\n",
       " 'Fastrack',\n",
       " 'SUNBEE',\n",
       " 'Fastrack',\n",
       " 'PIRASO',\n",
       " 'kingsunglasses',\n",
       " 'PHENOMENAL',\n",
       " 'SHAAH COLLECTIONS',\n",
       " 'Fastrack',\n",
       " 'Fastrack',\n",
       " 'ROZZETTA CRAFT',\n",
       " 'Fastrack',\n",
       " 'GANSTA',\n",
       " 'ROZZETTA CRAFT',\n",
       " 'hipe',\n",
       " 'Silver Kartz',\n",
       " 'Fastrack',\n",
       " 'kingsunglasses',\n",
       " 'Fastrack',\n",
       " 'kingsunglasses',\n",
       " 'Elligator',\n",
       " 'Fravy',\n",
       " 'SHAAH COLLECTIONS',\n",
       " 'Singco India',\n",
       " 'Fravy',\n",
       " 'NuVew',\n",
       " 'kingsunglasses',\n",
       " 'Singco India',\n",
       " 'kingsunglasses',\n",
       " 'PHENOMENAL',\n",
       " 'ROYAL SON',\n",
       " 'DEIXELS',\n",
       " 'kingsunglasses',\n",
       " 'PHENOMENAL',\n",
       " 'SRPM',\n",
       " 'PIRASO',\n",
       " 'AISLIN',\n",
       " 'Fastrack',\n",
       " 'Fastrack',\n",
       " 'VINCENT CHASE',\n",
       " 'hipe',\n",
       " 'HIPPON',\n",
       " 'Badfella',\n",
       " 'NuVew',\n",
       " 'Fastrack',\n",
       " 'Fastrack',\n",
       " 'Singco',\n",
       " 'Fravy',\n",
       " 'Elligator',\n",
       " 'NuVew',\n",
       " 'AISLIN',\n",
       " 'AISLIN',\n",
       " 'ROYAL SON',\n",
       " 'ROZZETTA CRAFT',\n",
       " 'ROYAL SON',\n",
       " 'ROYAL SON',\n",
       " 'Fastrack',\n",
       " 'Fastrack',\n",
       " 'elegante',\n",
       " 'AISLIN',\n",
       " 'PHENOMENAL',\n",
       " 'ROZZETTA CRAFT',\n",
       " 'GANSTA',\n",
       " 'ROYAL SON',\n",
       " 'kingsunglasses',\n",
       " 'Fastrack',\n",
       " 'Singco India',\n",
       " 'GANSTA',\n",
       " 'Fastrack',\n",
       " 'DEIXELS',\n",
       " 'Elligator',\n",
       " 'ROYAL SON',\n",
       " 'Fastrack',\n",
       " 'kingsunglasses',\n",
       " 'PHENOMENAL',\n",
       " 'Billion',\n",
       " 'PIRASO',\n",
       " 'SUNBEE',\n",
       " 'Villain',\n",
       " 'VINCENT CHASE',\n",
       " 'Flizz',\n",
       " 'hipe',\n",
       " 'GANSTA',\n",
       " 'NuVew',\n",
       " 'elegante',\n",
       " 'ROZZETTA CRAFT',\n",
       " 'Fastrack',\n",
       " 'AISLIN',\n",
       " 'Wrogn',\n",
       " 'Fastrack',\n",
       " 'Singco India',\n",
       " 'ROYAL SON',\n",
       " 'PIRASO',\n",
       " 'NuVew',\n",
       " 'kingsunglasses',\n",
       " 'AISLIN',\n",
       " 'Fastrack',\n",
       " 'Fastrack',\n",
       " 'AISLIN',\n",
       " 'ROYAL SON',\n",
       " 'Fastrack',\n",
       " 'Fravy',\n",
       " 'ROZZETTA CRAFT',\n",
       " 'ROYAL SON',\n",
       " 'hipe',\n",
       " 'Ray-Ban',\n",
       " 'Wrogn',\n",
       " 'GANSTA',\n",
       " 'kingsunglasses',\n",
       " 'AISLIN',\n",
       " 'ROZZETTA CRAFT',\n",
       " 'VINCENT CHASE',\n",
       " 'Fastrack',\n",
       " 'IRUS by IDEE',\n",
       " 'Fastrack',\n",
       " 'Billion']"
      ]
     },
     "execution_count": 161,
     "metadata": {},
     "output_type": "execute_result"
    }
   ],
   "source": [
    "#finding the brand name tags from first 3 pages/URLs and scraping the text from it in an empty list\n",
    "brand_list = []\n",
    "for i in page_url[:3]:\n",
    "    driver.get(i)\n",
    "    time.sleep(2)\n",
    "    brand_tags = driver.find_elements_by_xpath(\"//div[@class='_2WkVRV']\")\n",
    "    for i in brand_tags:\n",
    "        brand_list.append(i.text)\n",
    "brand_list"
   ]
  },
  {
   "cell_type": "code",
   "execution_count": 162,
   "metadata": {},
   "outputs": [
    {
     "data": {
      "text/plain": [
       "120"
      ]
     },
     "execution_count": 162,
     "metadata": {},
     "output_type": "execute_result"
    }
   ],
   "source": [
    "#Confirming the length of my data. It should be 120 for 3 pages\n",
    "len(brand_list)"
   ]
  },
  {
   "cell_type": "code",
   "execution_count": 163,
   "metadata": {},
   "outputs": [
    {
     "data": {
      "text/plain": [
       "['UV Protection, Polarized Round Sunglasses (53)',\n",
       " 'UV Protection Aviator Sunglasses (57)',\n",
       " 'UV Protection Round Sunglasses (54)',\n",
       " 'UV Protection Rectangular Sunglasses (Free Size)',\n",
       " 'UV Protection Wayfarer Sunglasses (Free Size)',\n",
       " 'UV Protection Aviator Sunglasses (54)',\n",
       " 'Mirrored, UV Protection Wayfarer Sunglasses (Free Size)',\n",
       " 'UV Protection, Gradient Round, Cat-eye Sunglasses (60)',\n",
       " 'Gradient, UV Protection Wayfarer Sunglasses (Free Size)',\n",
       " 'UV Protection, Polarized, Mirrored Round Sunglasses (Fr...',\n",
       " 'UV Protection Aviator Sunglasses (58)',\n",
       " 'UV Protection Retro Square Sunglasses (49)',\n",
       " 'UV Protection Aviator Sunglasses (54)',\n",
       " 'UV Protection Round Sunglasses (54)',\n",
       " 'UV Protection Retro Square Sunglasses (Free Size)',\n",
       " 'UV Protection, Polarized Aviator Sunglasses (60)',\n",
       " 'UV Protection, Polarized, Mirrored Rectangular Sunglass...',\n",
       " 'UV Protection Aviator Sunglasses (58)',\n",
       " 'UV Protection Wayfarer Sunglasses (Free Size)',\n",
       " 'UV Protection, Gradient Wayfarer Sunglasses (57)',\n",
       " 'UV Protection Retro Square Sunglasses (Free Size)',\n",
       " 'UV Protection Aviator Sunglasses (Free Size)',\n",
       " 'UV Protection Aviator Sunglasses (57)',\n",
       " 'by Lenskart Polarized, UV Protection Cat-eye Sunglasses...',\n",
       " 'UV Protection, Gradient Rectangular Sunglasses (Free Si...',\n",
       " 'Mirrored, UV Protection, Gradient Round Sunglasses (55)',\n",
       " 'UV Protection Wayfarer Sunglasses (Free Size)',\n",
       " 'Gradient, UV Protection Cat-eye, Over-sized Sunglasses ...',\n",
       " 'Mirrored, UV Protection Wayfarer Sunglasses (Free Size)',\n",
       " 'Mirrored, UV Protection Wayfarer Sunglasses (Free Size)',\n",
       " 'UV Protection Sports Sunglasses (Free Size)',\n",
       " 'UV Protection, Gradient, Riding Glasses Wayfarer Sungla...',\n",
       " 'UV Protection Rectangular Sunglasses (Free Size)',\n",
       " 'Mirrored Round Sunglasses (53)',\n",
       " 'UV Protection Retro Square Sunglasses (Free Size)',\n",
       " 'Polarized, UV Protection, Riding Glasses, Mirrored Wayf...',\n",
       " 'UV Protection Round Sunglasses (Free Size)',\n",
       " 'UV Protection Aviator Sunglasses (Free Size)',\n",
       " 'UV Protection Wayfarer Sunglasses (56)',\n",
       " 'UV Protection, Gradient Butterfly, Retro Square Sunglas...',\n",
       " 'UV Protection, Gradient Butterfly, Retro Square Sunglas...',\n",
       " 'UV Protection Wrap-around Sunglasses (Free Size)',\n",
       " 'UV Protection Wayfarer Sunglasses (Free Size)',\n",
       " 'UV Protection, Polarized Round Sunglasses (53)',\n",
       " 'UV Protection, Gradient, Mirrored, Riding Glasses Aviat...',\n",
       " 'UV Protection Wayfarer Sunglasses (55)',\n",
       " 'Polarized, UV Protection Retro Square Sunglasses (53)',\n",
       " 'UV Protection Aviator Sunglasses (57)',\n",
       " 'UV Protection Wayfarer Sunglasses (Free Size)',\n",
       " 'UV Protection Rectangular Sunglasses (59)',\n",
       " 'Mirrored Aviator Sunglasses (53)',\n",
       " 'UV Protection, Gradient Round, Cat-eye Sunglasses (60)',\n",
       " 'UV Protection Round Sunglasses (54)',\n",
       " 'UV Protection, Mirrored, Night Vision, Riding Glasses S...',\n",
       " 'UV Protection, Gradient Butterfly, Retro Square Sunglas...',\n",
       " 'UV Protection Retro Square Sunglasses (49)',\n",
       " 'Mirrored Aviator Sunglasses (55)',\n",
       " 'UV Protection, Gradient Rectangular Sunglasses (Free Si...',\n",
       " 'UV Protection Rectangular Sunglasses (58)',\n",
       " 'UV Protection, Gradient Wayfarer Sunglasses (57)',\n",
       " 'UV Protection Wayfarer Sunglasses (56)',\n",
       " 'UV Protection Wayfarer Sunglasses (Free Size)',\n",
       " 'UV Protection Round Sunglasses (Free Size)',\n",
       " 'Gradient, UV Protection Cat-eye, Over-sized Sunglasses ...',\n",
       " 'UV Protection, Mirrored Retro Square Sunglasses (53)',\n",
       " 'UV Protection, Riding Glasses Rectangular Sunglasses (F...',\n",
       " 'UV Protection, Night Vision, Riding Glasses Aviator Sun...',\n",
       " 'UV Protection, Gradient, Riding Glasses Wayfarer Sungla...',\n",
       " 'Mirrored, UV Protection Wayfarer, Wayfarer, Wayfarer, W...',\n",
       " 'Gradient, UV Protection Wayfarer Sunglasses (Free Size)',\n",
       " 'Mirrored, UV Protection, Riding Glasses, Others Wrap-ar...',\n",
       " 'UV Protection, Polarized Aviator Sunglasses (60)',\n",
       " 'UV Protection Round Sunglasses (52)',\n",
       " 'Polarized, UV Protection, Riding Glasses Wayfarer Sungl...',\n",
       " 'UV Protection, Gradient, Mirrored Aviator, Round, Wayfa...',\n",
       " 'Polarized, UV Protection, Riding Glasses, Mirrored Wayf...',\n",
       " 'UV Protection Aviator Sunglasses (Free Size)',\n",
       " 'UV Protection, Riding Glasses, Mirrored Wayfarer Sungla...',\n",
       " 'UV Protection Round Sunglasses (53)',\n",
       " 'by Lenskart Polarized, UV Protection Cat-eye Sunglasses...',\n",
       " 'UV Protection Aviator Sunglasses (58)',\n",
       " 'UV Protection, Polarized, Mirrored Round Sunglasses (Fr...',\n",
       " 'Others Retro Square Sunglasses (Free Size)',\n",
       " 'UV Protection, Polarized Round Sunglasses (53)',\n",
       " 'UV Protection Retro Square Sunglasses (Free Size)',\n",
       " 'UV Protection Sports Sunglasses (Free Size)',\n",
       " 'UV Protection Aviator Sunglasses (57)',\n",
       " 'UV Protection Aviator Sunglasses (57)',\n",
       " 'UV Protection Round Sunglasses (Free Size)',\n",
       " 'UV Protection, Gradient Round Sunglasses (Free Size)',\n",
       " 'UV Protection Wayfarer Sunglasses (Free Size)',\n",
       " 'UV Protection, Gradient Round, Cat-eye Sunglasses (60)',\n",
       " 'UV Protection Wayfarer Sunglasses (56)',\n",
       " 'UV Protection Round Sunglasses (52)',\n",
       " 'Riding Glasses, Others, UV Protection Wrap-around Sungl...',\n",
       " 'UV Protection Retro Square Sunglasses (49)',\n",
       " 'UV Protection Wayfarer Sunglasses (32)',\n",
       " 'UV Protection, Riding Glasses Wayfarer Sunglasses (56)',\n",
       " 'UV Protection Rectangular Sunglasses (55)',\n",
       " 'Gradient, UV Protection Cat-eye, Over-sized Sunglasses ...',\n",
       " 'Gradient, UV Protection Wayfarer Sunglasses (Free Size)',\n",
       " 'UV Protection Wayfarer Sunglasses (56)',\n",
       " 'Toughened Glass Lens, UV Protection Wayfarer, Rectangul...',\n",
       " 'UV Protection, Polarized Aviator Sunglasses (60)',\n",
       " 'UV Protection Shield Sunglasses (Free Size)',\n",
       " 'UV Protection, Gradient, Night Vision Retro Square Sung...',\n",
       " 'UV Protection Retro Square Sunglasses (Free Size)',\n",
       " 'UV Protection, Gradient, Riding Glasses Wayfarer Sungla...',\n",
       " 'Mirrored Wayfarer Sunglasses (55)',\n",
       " 'UV Protection Retro Square Sunglasses (55)',\n",
       " 'Mirrored Wayfarer Sunglasses (52)',\n",
       " 'by Lenskart Polarized, UV Protection Cat-eye Sunglasses...',\n",
       " 'UV Protection Round Sunglasses (Free Size)',\n",
       " 'UV Protection Oval Sunglasses (60)',\n",
       " 'UV Protection Retro Square Sunglasses (Free Size)',\n",
       " 'Polarized, UV Protection, Riding Glasses, Mirrored Wayf...',\n",
       " 'UV Protection Aviator Sunglasses (58)',\n",
       " 'Gradient Rectangular Sunglasses (56)',\n",
       " 'UV Protection Aviator Sunglasses (Free Size)',\n",
       " 'UV Protection Wrap-around Sunglasses (52)']"
      ]
     },
     "execution_count": 163,
     "metadata": {},
     "output_type": "execute_result"
    }
   ],
   "source": [
    "#finding the product description tags from first 3 pages/URLs and scraping the text from it in an empty list\n",
    "\n",
    "description_list = []\n",
    "for i in page_url[:3]:\n",
    "    driver.get(i)\n",
    "    time.sleep(2)\n",
    "    #description_tags = driver.find_elements_by_xpath(\"//a[@class='IRpwTa']\")  By this I missed 2 entries from 120.  \n",
    "    #Hence I used contains to get all 40 values per page.\n",
    "    description_tags = driver.find_elements_by_xpath(\"//*[contains(concat(' ', @class, ' ' ), 'IRpwTa')]\")\n",
    "    for i in description_tags:\n",
    "        try:\n",
    "            description_list.append(i.text)   \n",
    "        except:\n",
    "            description_list.append(\" \")\n",
    "description_list"
   ]
  },
  {
   "cell_type": "code",
   "execution_count": 164,
   "metadata": {},
   "outputs": [
    {
     "data": {
      "text/plain": [
       "120"
      ]
     },
     "execution_count": 164,
     "metadata": {},
     "output_type": "execute_result"
    }
   ],
   "source": [
    "#Confirming the length of my data. It should be 120 for 3 pages\n",
    "len(description_list)"
   ]
  },
  {
   "cell_type": "code",
   "execution_count": 165,
   "metadata": {},
   "outputs": [
    {
     "data": {
      "text/plain": [
       "['₹1,415',\n",
       " '₹258',\n",
       " '₹295',\n",
       " '₹513',\n",
       " '₹758',\n",
       " '₹237',\n",
       " '₹299',\n",
       " '₹498',\n",
       " '₹509',\n",
       " '₹314',\n",
       " '₹1,010',\n",
       " '₹664',\n",
       " '₹237',\n",
       " '₹225',\n",
       " '₹379',\n",
       " '₹711',\n",
       " '₹198',\n",
       " '₹1,085',\n",
       " '₹733',\n",
       " '₹1,415',\n",
       " '₹499',\n",
       " '₹546',\n",
       " '₹266',\n",
       " '₹664',\n",
       " '₹404',\n",
       " '₹199',\n",
       " '₹246',\n",
       " '₹303',\n",
       " '₹738',\n",
       " '₹299',\n",
       " '₹771',\n",
       " '₹279',\n",
       " '₹210',\n",
       " '₹312',\n",
       " '₹299',\n",
       " '₹498',\n",
       " '₹314',\n",
       " '₹334',\n",
       " '₹199',\n",
       " '₹625',\n",
       " '₹545',\n",
       " '₹522',\n",
       " '₹826',\n",
       " '₹1,415',\n",
       " '₹209',\n",
       " '₹257',\n",
       " '₹255',\n",
       " '₹258',\n",
       " '₹539',\n",
       " '₹1,021',\n",
       " '₹239',\n",
       " '₹339',\n",
       " '₹331',\n",
       " '₹345',\n",
       " '₹516',\n",
       " '₹498',\n",
       " '₹379',\n",
       " '₹474',\n",
       " '₹474',\n",
       " '₹664',\n",
       " '₹655',\n",
       " '₹758',\n",
       " '₹379',\n",
       " '₹664',\n",
       " '₹379',\n",
       " '₹426',\n",
       " '₹295',\n",
       " '₹303',\n",
       " '₹299',\n",
       " '₹558',\n",
       " '₹331',\n",
       " '₹711',\n",
       " '₹1,093',\n",
       " '₹224',\n",
       " '₹246',\n",
       " '₹1,415',\n",
       " '₹695',\n",
       " '₹229',\n",
       " '₹282',\n",
       " '₹279',\n",
       " '₹399',\n",
       " '₹314',\n",
       " '₹599',\n",
       " '₹1,415',\n",
       " '₹399',\n",
       " '₹303',\n",
       " '₹230',\n",
       " '₹258',\n",
       " '₹189',\n",
       " '₹449',\n",
       " '₹655',\n",
       " '₹498',\n",
       " '₹684',\n",
       " '₹1,220',\n",
       " '₹293',\n",
       " '₹664',\n",
       " '₹237',\n",
       " '₹232',\n",
       " '₹210',\n",
       " '₹625',\n",
       " '₹715',\n",
       " '₹633',\n",
       " '₹821',\n",
       " '₹664',\n",
       " '₹853',\n",
       " '₹339',\n",
       " '₹499',\n",
       " '₹711',\n",
       " '₹208',\n",
       " '₹3,843',\n",
       " '₹695',\n",
       " '₹303',\n",
       " '₹349',\n",
       " '₹725',\n",
       " '₹380',\n",
       " '₹1,415',\n",
       " '₹1,148',\n",
       " '₹606',\n",
       " '₹1,699',\n",
       " '₹279']"
      ]
     },
     "execution_count": 165,
     "metadata": {},
     "output_type": "execute_result"
    }
   ],
   "source": [
    "#finding the price tags from first 3 pages/URLs and scraping the text from it in an empty list\n",
    "\n",
    "price_list = []\n",
    "for i in page_url[:3]:\n",
    "    driver.get(i)\n",
    "    time.sleep(2)\n",
    "    price_tags = driver.find_elements_by_xpath(\"//div[@class='_30jeq3']\")\n",
    "    for i in price_tags:\n",
    "        price_list.append(i.text)\n",
    "price_list"
   ]
  },
  {
   "cell_type": "code",
   "execution_count": 166,
   "metadata": {},
   "outputs": [
    {
     "data": {
      "text/plain": [
       "120"
      ]
     },
     "execution_count": 166,
     "metadata": {},
     "output_type": "execute_result"
    }
   ],
   "source": [
    "#Confirming the length of my data. It should be 120 for 3 pages\n",
    "len(price_list)"
   ]
  },
  {
   "cell_type": "code",
   "execution_count": 167,
   "metadata": {},
   "outputs": [
    {
     "data": {
      "text/plain": [
       "['29% off',\n",
       " '72% off',\n",
       " '88% off',\n",
       " '35% off',\n",
       " '15% off',\n",
       " '85% off',\n",
       " '88% off',\n",
       " '70% off',\n",
       " '36% off',\n",
       " '81% off',\n",
       " '22% off',\n",
       " '83% off',\n",
       " '85% off',\n",
       " '79% off',\n",
       " '81% off',\n",
       " '66% off',\n",
       " '88% off',\n",
       " '16% off',\n",
       " '18% off',\n",
       " '64% off',\n",
       " '77% off',\n",
       " '31% off',\n",
       " '86% off',\n",
       " '29% off',\n",
       " '79% off',\n",
       " '86% off',\n",
       " '83% off',\n",
       " '55% off',\n",
       " '26% off',\n",
       " '88% off',\n",
       " '14% off',\n",
       " '84% off',\n",
       " '82% off',\n",
       " '87% off',\n",
       " '80% off',\n",
       " '78% off',\n",
       " '81% off',\n",
       " '72% off',\n",
       " '77% off',\n",
       " '67% off',\n",
       " '64% off',\n",
       " '41% off',\n",
       " '8% off',\n",
       " '29% off',\n",
       " '79% off',\n",
       " '78% off',\n",
       " '74% off',\n",
       " '72% off',\n",
       " '32% off',\n",
       " '21% off',\n",
       " '76% off',\n",
       " '83% off',\n",
       " '74% off',\n",
       " '62% off',\n",
       " '66% off',\n",
       " '70% off',\n",
       " '74% off',\n",
       " '78% off',\n",
       " '68% off',\n",
       " '66% off',\n",
       " '27% off',\n",
       " '15% off',\n",
       " '81% off',\n",
       " '55% off',\n",
       " '81% off',\n",
       " '80% off',\n",
       " '85% off',\n",
       " '84% off',\n",
       " '80% off',\n",
       " '30% off',\n",
       " '83% off',\n",
       " '64% off',\n",
       " '15% off',\n",
       " '62% off',\n",
       " '87% off',\n",
       " '78% off',\n",
       " '13% off',\n",
       " '80% off',\n",
       " '87% off',\n",
       " '29% off',\n",
       " '84% off',\n",
       " '81% off',\n",
       " '20% off',\n",
       " '29% off',\n",
       " '81% off',\n",
       " '84% off',\n",
       " '82% off',\n",
       " '72% off',\n",
       " '81% off',\n",
       " '77% off',\n",
       " '18% off',\n",
       " '70% off',\n",
       " '73% off',\n",
       " '6% off',\n",
       " '82% off',\n",
       " '66% off',\n",
       " '85% off',\n",
       " '76% off',\n",
       " '83% off',\n",
       " '70% off',\n",
       " '10% off',\n",
       " '29% off',\n",
       " '77% off',\n",
       " '55% off',\n",
       " '5% off',\n",
       " '83% off',\n",
       " '77% off',\n",
       " '64% off',\n",
       " '79% off',\n",
       " '30% off',\n",
       " '73% off',\n",
       " '84% off',\n",
       " '78% off',\n",
       " '70% off',\n",
       " '77% off',\n",
       " '29% off',\n",
       " '11% off',\n",
       " '52% off',\n",
       " '15% off',\n",
       " '78% off']"
      ]
     },
     "execution_count": 167,
     "metadata": {},
     "output_type": "execute_result"
    }
   ],
   "source": [
    "#finding the Discount % tags from first 3 pages and scraping the text from it in an empty list\n",
    "discount_list = []\n",
    "for i in page_url[:3]:\n",
    "    driver.get(i)\n",
    "    time.sleep(2)\n",
    "    discount_tags = driver.find_elements_by_xpath(\"//div[@class='_3Ay6Sb']//span\")\n",
    "    for i in discount_tags:\n",
    "        discount_list.append(i.text)\n",
    "discount_list"
   ]
  },
  {
   "cell_type": "code",
   "execution_count": 169,
   "metadata": {},
   "outputs": [
    {
     "data": {
      "text/plain": [
       "120"
      ]
     },
     "execution_count": 169,
     "metadata": {},
     "output_type": "execute_result"
    }
   ],
   "source": [
    "#Confirming the length of my data. It should be 120 for 3 pages\n",
    "len(discount_list)"
   ]
  },
  {
   "cell_type": "code",
   "execution_count": 168,
   "metadata": {},
   "outputs": [
    {
     "data": {
      "text/html": [
       "<div>\n",
       "<style scoped>\n",
       "    .dataframe tbody tr th:only-of-type {\n",
       "        vertical-align: middle;\n",
       "    }\n",
       "\n",
       "    .dataframe tbody tr th {\n",
       "        vertical-align: top;\n",
       "    }\n",
       "\n",
       "    .dataframe thead th {\n",
       "        text-align: right;\n",
       "    }\n",
       "</style>\n",
       "<table border=\"1\" class=\"dataframe\">\n",
       "  <thead>\n",
       "    <tr style=\"text-align: right;\">\n",
       "      <th></th>\n",
       "      <th>Brand</th>\n",
       "      <th>Product Description</th>\n",
       "      <th>Price</th>\n",
       "      <th>Discount</th>\n",
       "    </tr>\n",
       "  </thead>\n",
       "  <tbody>\n",
       "    <tr>\n",
       "      <th>0</th>\n",
       "      <td>Elligator</td>\n",
       "      <td>UV Protection, Polarized Round Sunglasses (53)</td>\n",
       "      <td>₹1,415</td>\n",
       "      <td>29% off</td>\n",
       "    </tr>\n",
       "    <tr>\n",
       "      <th>1</th>\n",
       "      <td>Fastrack</td>\n",
       "      <td>UV Protection Aviator Sunglasses (57)</td>\n",
       "      <td>₹258</td>\n",
       "      <td>72% off</td>\n",
       "    </tr>\n",
       "    <tr>\n",
       "      <th>2</th>\n",
       "      <td>Fastrack</td>\n",
       "      <td>UV Protection Round Sunglasses (54)</td>\n",
       "      <td>₹295</td>\n",
       "      <td>88% off</td>\n",
       "    </tr>\n",
       "    <tr>\n",
       "      <th>3</th>\n",
       "      <td>PIRASO</td>\n",
       "      <td>UV Protection Rectangular Sunglasses (Free Size)</td>\n",
       "      <td>₹513</td>\n",
       "      <td>35% off</td>\n",
       "    </tr>\n",
       "    <tr>\n",
       "      <th>4</th>\n",
       "      <td>kingsunglasses</td>\n",
       "      <td>UV Protection Wayfarer Sunglasses (Free Size)</td>\n",
       "      <td>₹758</td>\n",
       "      <td>15% off</td>\n",
       "    </tr>\n",
       "    <tr>\n",
       "      <th>...</th>\n",
       "      <td>...</td>\n",
       "      <td>...</td>\n",
       "      <td>...</td>\n",
       "      <td>...</td>\n",
       "    </tr>\n",
       "    <tr>\n",
       "      <th>95</th>\n",
       "      <td>ROYAL SON</td>\n",
       "      <td>UV Protection Retro Square Sunglasses (49)</td>\n",
       "      <td>₹664</td>\n",
       "      <td>66% off</td>\n",
       "    </tr>\n",
       "    <tr>\n",
       "      <th>96</th>\n",
       "      <td>PIRASO</td>\n",
       "      <td>UV Protection Wayfarer Sunglasses (32)</td>\n",
       "      <td>₹237</td>\n",
       "      <td>85% off</td>\n",
       "    </tr>\n",
       "    <tr>\n",
       "      <th>97</th>\n",
       "      <td>NuVew</td>\n",
       "      <td>UV Protection, Riding Glasses Wayfarer Sunglas...</td>\n",
       "      <td>₹232</td>\n",
       "      <td>76% off</td>\n",
       "    </tr>\n",
       "    <tr>\n",
       "      <th>98</th>\n",
       "      <td>kingsunglasses</td>\n",
       "      <td>UV Protection Rectangular Sunglasses (55)</td>\n",
       "      <td>₹210</td>\n",
       "      <td>83% off</td>\n",
       "    </tr>\n",
       "    <tr>\n",
       "      <th>99</th>\n",
       "      <td>AISLIN</td>\n",
       "      <td>Gradient, UV Protection Cat-eye, Over-sized Su...</td>\n",
       "      <td>₹625</td>\n",
       "      <td>70% off</td>\n",
       "    </tr>\n",
       "  </tbody>\n",
       "</table>\n",
       "<p>100 rows × 4 columns</p>\n",
       "</div>"
      ],
      "text/plain": [
       "             Brand                                Product Description   Price  \\\n",
       "0        Elligator     UV Protection, Polarized Round Sunglasses (53)  ₹1,415   \n",
       "1         Fastrack              UV Protection Aviator Sunglasses (57)    ₹258   \n",
       "2         Fastrack                UV Protection Round Sunglasses (54)    ₹295   \n",
       "3           PIRASO   UV Protection Rectangular Sunglasses (Free Size)    ₹513   \n",
       "4   kingsunglasses      UV Protection Wayfarer Sunglasses (Free Size)    ₹758   \n",
       "..             ...                                                ...     ...   \n",
       "95       ROYAL SON         UV Protection Retro Square Sunglasses (49)    ₹664   \n",
       "96          PIRASO             UV Protection Wayfarer Sunglasses (32)    ₹237   \n",
       "97           NuVew  UV Protection, Riding Glasses Wayfarer Sunglas...    ₹232   \n",
       "98  kingsunglasses          UV Protection Rectangular Sunglasses (55)    ₹210   \n",
       "99          AISLIN  Gradient, UV Protection Cat-eye, Over-sized Su...    ₹625   \n",
       "\n",
       "   Discount  \n",
       "0   29% off  \n",
       "1   72% off  \n",
       "2   88% off  \n",
       "3   35% off  \n",
       "4   15% off  \n",
       "..      ...  \n",
       "95  66% off  \n",
       "96  85% off  \n",
       "97  76% off  \n",
       "98  83% off  \n",
       "99  70% off  \n",
       "\n",
       "[100 rows x 4 columns]"
      ]
     },
     "execution_count": 168,
     "metadata": {},
     "output_type": "execute_result"
    }
   ],
   "source": [
    "#5. Finally create a dataframe of the scraped with applied filters.\n",
    "#Creating a dataframe for Brand, Product Description, Price & Discount %\n",
    "\n",
    "df = pd.DataFrame({})\n",
    "\n",
    "df[\"Brand\"] = brand_list[:100]\n",
    "df[\"Product Description\"] = description_list[:100]\n",
    "df[\"Price\"] = price_list[:100]\n",
    "df[\"Discount\"] = discount_list[:100]\n",
    "df"
   ]
  },
  {
   "cell_type": "markdown",
   "metadata": {},
   "source": [
    "Crosschecked the 100th value on Flipkart website and can confirm that the data was scraped correctly."
   ]
  },
  {
   "cell_type": "markdown",
   "metadata": {},
   "source": [
    "### Q7: Scrape 100 reviews data from flipkart.com for iphone11 phone. You have to go the link:\n",
    "https://www.flipkart.com/apple-iphone-11-black-64-gb-includesearpods-poweradapter/p/itm0f37c2240b217?pid=MOBFKCTSVZAXUHGR&lid=LSTMOBFKCTSVZAXUHGREPBFGI&marketplace\n",
    "As shown in the above page you have to scrape the tick marked attributes.\n",
    "These are:\n",
    "1. Rating\n",
    "2. Review_summary\n",
    "3. Full review\n",
    "You have to scrape this data for first 100 reviews."
   ]
  },
  {
   "cell_type": "code",
   "execution_count": 9,
   "metadata": {},
   "outputs": [],
   "source": [
    "#first get the webpage 'https://www.flipkart.com/apple-iphone-11-black-64-gb-includes-earpods-power-adapter/p/itm0f37c2240b217?pid=MOBFKCTSVZAXUHGR&lid=LSTMOBFKCTSVZAXUHGREPBFGI&marketplace'\n",
    "\n",
    "driver.get('https://www.flipkart.com/apple-iphone-11-black-64-gb-includes-earpods-power-adapter/p/itm0f37c2240b217?pid=MOBFKCTSVZAXUHGR&lid=LSTMOBFKCTSVZAXUHGREPBFGI&marketplace')"
   ]
  },
  {
   "cell_type": "code",
   "execution_count": 10,
   "metadata": {},
   "outputs": [],
   "source": [
    "#Now let's find and click on \"All reviews\" so I can see all the reviews.\n",
    "allreview_button = driver.find_element_by_xpath(\"//div[@class='_3UAT2v _16PBlm']//span\")\n",
    "allreview_button.click()\n",
    "time.sleep(3)"
   ]
  },
  {
   "cell_type": "code",
   "execution_count": 11,
   "metadata": {},
   "outputs": [
    {
     "data": {
      "text/plain": [
       "['https://www.flipkart.com/apple-iphone-11-black-64-gb-includes-earpods-power-adapter/product-reviews/itm0f37c2240b217?pid=MOBFKCTSVZAXUHGR&lid=LSTMOBFKCTSVZAXUHGREPBFGI&marketplace=FLIPKART&page=1',\n",
       " 'https://www.flipkart.com/apple-iphone-11-black-64-gb-includes-earpods-power-adapter/product-reviews/itm0f37c2240b217?pid=MOBFKCTSVZAXUHGR&lid=LSTMOBFKCTSVZAXUHGREPBFGI&marketplace=FLIPKART&page=2',\n",
       " 'https://www.flipkart.com/apple-iphone-11-black-64-gb-includes-earpods-power-adapter/product-reviews/itm0f37c2240b217?pid=MOBFKCTSVZAXUHGR&lid=LSTMOBFKCTSVZAXUHGREPBFGI&marketplace=FLIPKART&page=3',\n",
       " 'https://www.flipkart.com/apple-iphone-11-black-64-gb-includes-earpods-power-adapter/product-reviews/itm0f37c2240b217?pid=MOBFKCTSVZAXUHGR&lid=LSTMOBFKCTSVZAXUHGREPBFGI&marketplace=FLIPKART&page=4',\n",
       " 'https://www.flipkart.com/apple-iphone-11-black-64-gb-includes-earpods-power-adapter/product-reviews/itm0f37c2240b217?pid=MOBFKCTSVZAXUHGR&lid=LSTMOBFKCTSVZAXUHGREPBFGI&marketplace=FLIPKART&page=5',\n",
       " 'https://www.flipkart.com/apple-iphone-11-black-64-gb-includes-earpods-power-adapter/product-reviews/itm0f37c2240b217?pid=MOBFKCTSVZAXUHGR&lid=LSTMOBFKCTSVZAXUHGREPBFGI&marketplace=FLIPKART&page=6',\n",
       " 'https://www.flipkart.com/apple-iphone-11-black-64-gb-includes-earpods-power-adapter/product-reviews/itm0f37c2240b217?pid=MOBFKCTSVZAXUHGR&lid=LSTMOBFKCTSVZAXUHGREPBFGI&marketplace=FLIPKART&page=7',\n",
       " 'https://www.flipkart.com/apple-iphone-11-black-64-gb-includes-earpods-power-adapter/product-reviews/itm0f37c2240b217?pid=MOBFKCTSVZAXUHGR&lid=LSTMOBFKCTSVZAXUHGREPBFGI&marketplace=FLIPKART&page=8',\n",
       " 'https://www.flipkart.com/apple-iphone-11-black-64-gb-includes-earpods-power-adapter/product-reviews/itm0f37c2240b217?pid=MOBFKCTSVZAXUHGR&lid=LSTMOBFKCTSVZAXUHGREPBFGI&marketplace=FLIPKART&page=9',\n",
       " 'https://www.flipkart.com/apple-iphone-11-black-64-gb-includes-earpods-power-adapter/product-reviews/itm0f37c2240b217?pid=MOBFKCTSVZAXUHGR&lid=LSTMOBFKCTSVZAXUHGREPBFGI&marketplace=FLIPKART&page=10']"
      ]
     },
     "execution_count": 11,
     "metadata": {},
     "output_type": "execute_result"
    }
   ],
   "source": [
    "#let's extract the URLs of all the pages using navigation bar as I want to scape 100 reviews\n",
    "page_url = []\n",
    "url = driver.find_elements_by_xpath(\"//a[contains(@class, 'ge-49M')]\")  #used contains as other methods ignored 1st page with add-on attribute value \n",
    "for i in url:\n",
    "    page_url.append(i.get_attribute('href'))\n",
    "i.click()\n",
    "page_url"
   ]
  },
  {
   "cell_type": "code",
   "execution_count": 12,
   "metadata": {},
   "outputs": [
    {
     "data": {
      "text/plain": [
       "['https://www.flipkart.com/apple-iphone-11-black-64-gb-includes-earpods-power-adapter/product-reviews/itm0f37c2240b217?pid=MOBFKCTSVZAXUHGR&lid=LSTMOBFKCTSVZAXUHGREPBFGI&marketplace=FLIPKART&page=1',\n",
       " 'https://www.flipkart.com/apple-iphone-11-black-64-gb-includes-earpods-power-adapter/product-reviews/itm0f37c2240b217?pid=MOBFKCTSVZAXUHGR&lid=LSTMOBFKCTSVZAXUHGREPBFGI&marketplace=FLIPKART&page=2',\n",
       " 'https://www.flipkart.com/apple-iphone-11-black-64-gb-includes-earpods-power-adapter/product-reviews/itm0f37c2240b217?pid=MOBFKCTSVZAXUHGR&lid=LSTMOBFKCTSVZAXUHGREPBFGI&marketplace=FLIPKART&page=3',\n",
       " 'https://www.flipkart.com/apple-iphone-11-black-64-gb-includes-earpods-power-adapter/product-reviews/itm0f37c2240b217?pid=MOBFKCTSVZAXUHGR&lid=LSTMOBFKCTSVZAXUHGREPBFGI&marketplace=FLIPKART&page=4',\n",
       " 'https://www.flipkart.com/apple-iphone-11-black-64-gb-includes-earpods-power-adapter/product-reviews/itm0f37c2240b217?pid=MOBFKCTSVZAXUHGR&lid=LSTMOBFKCTSVZAXUHGREPBFGI&marketplace=FLIPKART&page=5',\n",
       " 'https://www.flipkart.com/apple-iphone-11-black-64-gb-includes-earpods-power-adapter/product-reviews/itm0f37c2240b217?pid=MOBFKCTSVZAXUHGR&lid=LSTMOBFKCTSVZAXUHGREPBFGI&marketplace=FLIPKART&page=6',\n",
       " 'https://www.flipkart.com/apple-iphone-11-black-64-gb-includes-earpods-power-adapter/product-reviews/itm0f37c2240b217?pid=MOBFKCTSVZAXUHGR&lid=LSTMOBFKCTSVZAXUHGREPBFGI&marketplace=FLIPKART&page=7',\n",
       " 'https://www.flipkart.com/apple-iphone-11-black-64-gb-includes-earpods-power-adapter/product-reviews/itm0f37c2240b217?pid=MOBFKCTSVZAXUHGR&lid=LSTMOBFKCTSVZAXUHGREPBFGI&marketplace=FLIPKART&page=8',\n",
       " 'https://www.flipkart.com/apple-iphone-11-black-64-gb-includes-earpods-power-adapter/product-reviews/itm0f37c2240b217?pid=MOBFKCTSVZAXUHGR&lid=LSTMOBFKCTSVZAXUHGREPBFGI&marketplace=FLIPKART&page=9',\n",
       " 'https://www.flipkart.com/apple-iphone-11-black-64-gb-includes-earpods-power-adapter/product-reviews/itm0f37c2240b217?pid=MOBFKCTSVZAXUHGR&lid=LSTMOBFKCTSVZAXUHGREPBFGI&marketplace=FLIPKART&page=10',\n",
       " 'https://www.flipkart.com/apple-iphone-11-black-64-gb-includes-earpods-power-adapter/product-reviews/itm0f37c2240b217?pid=MOBFKCTSVZAXUHGR&lid=LSTMOBFKCTSVZAXUHGREPBFGI&marketplace=FLIPKART&page=11',\n",
       " 'https://www.flipkart.com/apple-iphone-11-black-64-gb-includes-earpods-power-adapter/product-reviews/itm0f37c2240b217?pid=MOBFKCTSVZAXUHGR&lid=LSTMOBFKCTSVZAXUHGREPBFGI&marketplace=FLIPKART&page=12',\n",
       " 'https://www.flipkart.com/apple-iphone-11-black-64-gb-includes-earpods-power-adapter/product-reviews/itm0f37c2240b217?pid=MOBFKCTSVZAXUHGR&lid=LSTMOBFKCTSVZAXUHGREPBFGI&marketplace=FLIPKART&page=13',\n",
       " 'https://www.flipkart.com/apple-iphone-11-black-64-gb-includes-earpods-power-adapter/product-reviews/itm0f37c2240b217?pid=MOBFKCTSVZAXUHGR&lid=LSTMOBFKCTSVZAXUHGREPBFGI&marketplace=FLIPKART&page=14',\n",
       " 'https://www.flipkart.com/apple-iphone-11-black-64-gb-includes-earpods-power-adapter/product-reviews/itm0f37c2240b217?pid=MOBFKCTSVZAXUHGR&lid=LSTMOBFKCTSVZAXUHGREPBFGI&marketplace=FLIPKART&page=15',\n",
       " 'https://www.flipkart.com/apple-iphone-11-black-64-gb-includes-earpods-power-adapter/product-reviews/itm0f37c2240b217?pid=MOBFKCTSVZAXUHGR&lid=LSTMOBFKCTSVZAXUHGREPBFGI&marketplace=FLIPKART&page=16',\n",
       " 'https://www.flipkart.com/apple-iphone-11-black-64-gb-includes-earpods-power-adapter/product-reviews/itm0f37c2240b217?pid=MOBFKCTSVZAXUHGR&lid=LSTMOBFKCTSVZAXUHGREPBFGI&marketplace=FLIPKART&page=17',\n",
       " 'https://www.flipkart.com/apple-iphone-11-black-64-gb-includes-earpods-power-adapter/product-reviews/itm0f37c2240b217?pid=MOBFKCTSVZAXUHGR&lid=LSTMOBFKCTSVZAXUHGREPBFGI&marketplace=FLIPKART&page=18',\n",
       " 'https://www.flipkart.com/apple-iphone-11-black-64-gb-includes-earpods-power-adapter/product-reviews/itm0f37c2240b217?pid=MOBFKCTSVZAXUHGR&lid=LSTMOBFKCTSVZAXUHGREPBFGI&marketplace=FLIPKART&page=19',\n",
       " 'https://www.flipkart.com/apple-iphone-11-black-64-gb-includes-earpods-power-adapter/product-reviews/itm0f37c2240b217?pid=MOBFKCTSVZAXUHGR&lid=LSTMOBFKCTSVZAXUHGREPBFGI&marketplace=FLIPKART&page=20']"
      ]
     },
     "execution_count": 12,
     "metadata": {},
     "output_type": "execute_result"
    }
   ],
   "source": [
    "#Getting the next 10 pages URL\n",
    "url = driver.find_elements_by_xpath(\"//a[contains(@class, 'ge-49M')]\")\n",
    "for x in url:\n",
    "    page_url.append(x.get_attribute('href'))\n",
    "page_url"
   ]
  },
  {
   "cell_type": "code",
   "execution_count": 13,
   "metadata": {},
   "outputs": [
    {
     "data": {
      "text/plain": [
       "['5',\n",
       " '5',\n",
       " '5',\n",
       " '5',\n",
       " '5',\n",
       " '5',\n",
       " '4',\n",
       " '5',\n",
       " '5',\n",
       " '5',\n",
       " '5',\n",
       " '5',\n",
       " '5',\n",
       " '5',\n",
       " '5',\n",
       " '5',\n",
       " '5',\n",
       " '5',\n",
       " '5',\n",
       " '5',\n",
       " '5',\n",
       " '4',\n",
       " '5',\n",
       " '5',\n",
       " '5',\n",
       " '4',\n",
       " '5',\n",
       " '5',\n",
       " '5',\n",
       " '5',\n",
       " '5',\n",
       " '5',\n",
       " '5',\n",
       " '5',\n",
       " '5',\n",
       " '4',\n",
       " '1',\n",
       " '5',\n",
       " '5',\n",
       " '5',\n",
       " '5',\n",
       " '5',\n",
       " '5',\n",
       " '5',\n",
       " '5',\n",
       " '5',\n",
       " '4',\n",
       " '5',\n",
       " '5',\n",
       " '5',\n",
       " '5',\n",
       " '5',\n",
       " '5',\n",
       " '5',\n",
       " '5',\n",
       " '5',\n",
       " '5',\n",
       " '5',\n",
       " '5',\n",
       " '5',\n",
       " '5',\n",
       " '1',\n",
       " '5',\n",
       " '5',\n",
       " '5',\n",
       " '4',\n",
       " '5',\n",
       " '5',\n",
       " '4',\n",
       " '5',\n",
       " '5',\n",
       " '5',\n",
       " '4',\n",
       " '5',\n",
       " '5',\n",
       " '5',\n",
       " '5',\n",
       " '5',\n",
       " '5',\n",
       " '5',\n",
       " '5',\n",
       " '4',\n",
       " '5',\n",
       " '5',\n",
       " '4',\n",
       " '3',\n",
       " '5',\n",
       " '5',\n",
       " '5',\n",
       " '5',\n",
       " '5',\n",
       " '5',\n",
       " '5',\n",
       " '5',\n",
       " '5',\n",
       " '3',\n",
       " '5',\n",
       " '5',\n",
       " '5',\n",
       " '5',\n",
       " '5',\n",
       " '4',\n",
       " '4',\n",
       " '5',\n",
       " '4',\n",
       " '5',\n",
       " '4',\n",
       " '5',\n",
       " '5',\n",
       " '5']"
      ]
     },
     "execution_count": 13,
     "metadata": {},
     "output_type": "execute_result"
    }
   ],
   "source": [
    "# (1) finding the Review tags from first 11 pages/URLs and scraping the text from it in an empty list\n",
    "# One page has 9/10 reviews\n",
    "review_list = []\n",
    "for i in page_url[:11]:\n",
    "    driver.get(i)\n",
    "    time.sleep(1)\n",
    "    review_tags = driver.find_elements_by_xpath(\"//div[contains(@class,'_3LWZlK ')]\")\n",
    "    for i in review_tags:\n",
    "        review_list.append(i.text)\n",
    "review_list"
   ]
  },
  {
   "cell_type": "code",
   "execution_count": 14,
   "metadata": {},
   "outputs": [
    {
     "data": {
      "text/plain": [
       "110"
      ]
     },
     "execution_count": 14,
     "metadata": {},
     "output_type": "execute_result"
    }
   ],
   "source": [
    "#Confirming the length of my data. It should be more than 100 for 11 pages\n",
    "len(review_list)"
   ]
  },
  {
   "cell_type": "markdown",
   "metadata": {},
   "source": [
    "Third page had only 9 reviews. So my data was correctly scraped."
   ]
  },
  {
   "cell_type": "code",
   "execution_count": 15,
   "metadata": {},
   "outputs": [
    {
     "data": {
      "text/plain": [
       "['Brilliant',\n",
       " 'Simply awesome',\n",
       " 'Perfect product!',\n",
       " 'Fabulous!',\n",
       " 'Worth every penny',\n",
       " 'Great product',\n",
       " 'Good choice',\n",
       " 'Worth every penny',\n",
       " 'Best in the market!',\n",
       " 'Highly recommended',\n",
       " 'Perfect product!',\n",
       " 'Highly recommended',\n",
       " 'Perfect product!',\n",
       " 'Classy product',\n",
       " 'Worth every penny',\n",
       " 'Perfect product!',\n",
       " 'Simply awesome',\n",
       " 'Worth every penny',\n",
       " 'Highly recommended',\n",
       " 'Terrific',\n",
       " 'Wonderful',\n",
       " 'Nice product',\n",
       " 'Classy product',\n",
       " 'Brilliant',\n",
       " 'Must buy!',\n",
       " 'Good choice',\n",
       " 'Wonderful',\n",
       " 'Perfect product!',\n",
       " 'Terrific purchase',\n",
       " 'Great product',\n",
       " 'Simply awesome',\n",
       " 'Mind-blowing purchase',\n",
       " 'Terrific purchase',\n",
       " 'Excellent',\n",
       " 'Simply awesome',\n",
       " 'Good quality product',\n",
       " 'Very poor',\n",
       " 'Classy product',\n",
       " 'Perfect product!',\n",
       " 'Must buy!',\n",
       " 'Fabulous!',\n",
       " 'Mind-blowing purchase',\n",
       " 'Mind-blowing purchase',\n",
       " 'Wonderful',\n",
       " 'Worth every penny',\n",
       " 'Great product',\n",
       " 'Very Good',\n",
       " 'Perfect product!',\n",
       " 'Classy product',\n",
       " 'Perfect product!',\n",
       " 'Just wow!',\n",
       " 'Awesome',\n",
       " 'Terrific',\n",
       " 'Terrific purchase',\n",
       " 'Awesome',\n",
       " 'Classy product',\n",
       " 'Brilliant',\n",
       " 'Terrific',\n",
       " 'Perfect product!',\n",
       " 'Awesome',\n",
       " 'Perfect product!',\n",
       " 'Very poor',\n",
       " 'Fabulous!',\n",
       " 'Excellent',\n",
       " 'Must buy!',\n",
       " 'Value-for-money',\n",
       " 'Brilliant',\n",
       " 'Terrific purchase',\n",
       " 'Good quality product',\n",
       " 'Best in the market!',\n",
       " 'Perfect product!',\n",
       " 'Awesome',\n",
       " 'Value-for-money',\n",
       " 'Just wow!',\n",
       " 'Super!',\n",
       " 'Classy product',\n",
       " 'Highly recommended',\n",
       " 'Must buy!',\n",
       " 'Mind-blowing purchase',\n",
       " 'Excellent',\n",
       " 'Excellent',\n",
       " 'Nice product',\n",
       " 'Mind-blowing purchase',\n",
       " 'Terrific',\n",
       " 'Pretty good',\n",
       " 'Does the job',\n",
       " 'Wonderful',\n",
       " 'Worth every penny',\n",
       " 'Worth every penny',\n",
       " 'Wonderful',\n",
       " 'Fabulous!',\n",
       " 'Mind-blowing purchase',\n",
       " 'Super!',\n",
       " 'Terrific purchase',\n",
       " 'Awesome',\n",
       " 'Decent product',\n",
       " 'Fabulous!',\n",
       " 'Awesome',\n",
       " 'Just wow!',\n",
       " 'Excellent',\n",
       " 'Excellent',\n",
       " 'Pretty good',\n",
       " 'Wonderful',\n",
       " 'Mind-blowing purchase',\n",
       " 'Good quality product',\n",
       " 'Super!',\n",
       " 'Good quality product',\n",
       " 'Best in the market!',\n",
       " 'Excellent',\n",
       " 'Mind-blowing purchase']"
      ]
     },
     "execution_count": 15,
     "metadata": {},
     "output_type": "execute_result"
    }
   ],
   "source": [
    "# (2) finding the Review_summary tags from first 11 pages/URLs and scraping the text from it in an empty list\n",
    "# One page has 9/10 Review_summary\n",
    "summary_list = []\n",
    "for i in page_url[:11]:\n",
    "    driver.get(i)\n",
    "    time.sleep(1)\n",
    "    summary_tags = driver.find_elements_by_xpath(\"//p[@class='_2-N8zT']\")\n",
    "    for i in summary_tags:\n",
    "        summary_list.append(i.text)\n",
    "summary_list"
   ]
  },
  {
   "cell_type": "code",
   "execution_count": 16,
   "metadata": {},
   "outputs": [
    {
     "data": {
      "text/plain": [
       "110"
      ]
     },
     "execution_count": 16,
     "metadata": {},
     "output_type": "execute_result"
    }
   ],
   "source": [
    "#Confirming the length of my data. It should be 109 for 11 pages as 3rd page had just 9 reviews\n",
    "len(summary_list)"
   ]
  },
  {
   "cell_type": "code",
   "execution_count": 17,
   "metadata": {},
   "outputs": [
    {
     "data": {
      "text/plain": [
       "['The Best Phone for the Money\\n\\nThe iPhone 11 offers superb cameras, a more durable design and excellent battery life for an affordable price.\\n\\nCompelling ultra-wide camera\\nNew Night mode is excellent\\nLong battery life',\n",
       " 'Really satisfied with the Product I received... It’s totally genuine and the packaging was also really good so if ur planning to buy just go for it.',\n",
       " 'Amazing phone with great cameras and better battery which gives you the best performance. I just love the camera .',\n",
       " 'This is my first iOS phone. I am very happy with this product. Very much satisfied with this. I love this phone.',\n",
       " 'Previously I was using one plus 3t it was a great phone\\nAnd then I decided to upgrade I am stuck between Samsung s10 plus or iPhone 11\\nI have seen the specs and everything were good except the display it’s somewhere between 720-1080 and it’s not even an amoled it’s an LCD display\\nBut I decided to go with iPhone because I have never used an IOS device I have Been an android user from the past 9 years I ordered IPhone 11 (128gb) product red\\nMy experience after using 3 weeks\\n1. The delivery ...\\nREAD MORE',\n",
       " 'Amazing Powerful and Durable Gadget.\\n\\nI’m am very happy with the camera picture quality, Amazing face id unlocked in dark room, Strong battery with perfect screen size as you can carry easily in pocket. This is my third iPhone.\\n\\nI shifted from android Samsung Note series to iPhone because of the strong build quality and peace of mind for next 3-4 years.\\n\\nDon’t think to much just go for it and I suggest you to go for minimum 128gb variant or more 256gb.\\n\\nI’ve attached my puppy pics and no fi...\\nREAD MORE',\n",
       " 'So far it’s been an AMAZING experience coming back to iOS after nearly a decade but it’s not as versatile as android though phone is sturdy dropped it accidentally a couple of times and nothing happened fortunately camera is awesome',\n",
       " 'i11 is worthy to buy, too much happy with the product. Thank u flipkart I received the item on time..loved it..',\n",
       " 'Great iPhone very snappy experience as apple kind. Upgraded from iPhone 7.\\nPros\\n-Camera top class\\n- Battery top performed\\n-Chipset no need to say as apple kind\\n-Security as you expect from apple\\n- Display super bright industry leading colour\\naccuracy and super responsive\\n-Build quality as expect from apple sturdy\\npremium durable beautiful stylish.\\n-Os most stable os in smartphone industry\\n\\nCons\\n-No 5G\\n-Display is not based on OLED technology\\n-Charger headphones and 1 apple stic...\\nREAD MORE',\n",
       " 'iphone 11 is a very good phone to buy only if you can compromise for the display. The display on this is device is pretty good but you can get other options with better displays in this price segment.\\nIf you can survive with an HD+ LCD panel with thicker bezels and a notch up top then this is a very good phone for you.\\nCameras are awesome, battery backup excellent, great performance and a decent premium look. Good job Apple !',\n",
       " 'It’s a must buy who is looking for an upgrade from previous generation of iPhones. If you are using XR then still you can hold on for sometime and upgrade to 2020 model else this phone is a must buy . Camera quality is amazing and wide angle is something to count upon. Performance wise it’s amazing and feels premium while holding in hand. So a big YES for this device. Go for 128 GB variant as the 4K videos will occupy lots of space and the storage can get over very quickly. Try to buy it with...\\nREAD MORE',\n",
       " 'What a camera .....just awesome ..you can feel this iPhone just awesome . Good for gaming also ...try pubg in hd it’s just wow',\n",
       " 'Value for money❤️❤️\\nIts awesome mobile phone in the world ...\\nDisplay was very good and bright ..\\nTrust me freinds you r never regret after Buying..\\nJust go for it....\\nI love this phone and i switch to iphone x to 11',\n",
       " 'Totally in love with this ❤ the camera quality is amazing just love it 😘😘😘 itsss dammnnnnnn amazing... Must buy iPhone 11 this is my best experience ever ☀👌👌🧡🧡🧡🧡🧡 thanku apple ❤',\n",
       " 'Best budget Iphone till date ❤️ go for it guys without second thought. Let me explain you guys about Camera, Display, battery, and performance.\\n\\nCamera: at this price range there is no comparison of camera, you’ll love the picture quality as well as video quality. I am a Vlogger I wanted an iPhone with 4k video by front camera and I got this phone and I am more than happy 😃\\n\\nBattery: I use this phone roughly as I am active social media person and I have a youtube channel. so the battery ba...\\nREAD MORE',\n",
       " \"Iphone is just awesome.. battery backup is very very nice.. continuously for 10 hours we can use it.camera is just awesome.. display is just fab.i love it alot..i had to wait 15 days for it as i pre ordered it..overalll it's worth the price..these all images are clicked by my iPhone..and i love it.\",\n",
       " 'Excellent camera, good performance, no lag. The lcd display is also good.. but difference come when we watch movie in prime and Netflix, the colours are not vibrant.. as we see in amoled display.. and the charger in box is of 5 watts.. takes more than 3 hours to charge from 0 to 100.. so guys be prepare to buy 18 watts charger . Finally I am an android user, it was my first Iapple phone, I promise u guys the iOS is so smooth.. overall the phone is damn good.... close eyes to buy it.. thanks t...\\nREAD MORE',\n",
       " 'It’s been almost a month since I have been using this phone. I upgraded from an iPhone 8. The main issue with my 8 was battery and this phone is just awesome when it comes to battery. It lasts a day and a half for me with my regular use , internet connected always with 4g\\nCan’t move forward without saying this. Battery of this phone is a life saver when I am traveling or at work when I don’t get the option to charge\\nCamera is superb. Front cam selfies and back cam photos are just awesome.\\n...\\nREAD MORE',\n",
       " \"It's my first time to use iOS phone and I am loving my upgradation 😍😍 I love the color, I love the assebility of the phone....I need to learn more about its functionality, but as far as I have seen, it's quite easy and it has a lot of functions to work on, specially if you are a content writer or a blogger you get a lot of content creation platforms and they are really amazing.\\n\\nThis phone not only for good quality photography but a lot of other task too.😍💯\",\n",
       " 'Really worth of money. i just love it. It is the best phone ever.',\n",
       " 'This is my first ever I phone. Before this I was using my google nexus 5. But moving from android to iOS is a great experience. It’s worth at this price. I will highly recommend it if you want to move to iOS. The best part of this phone is it’s camera and it’s battery life. This two things have won my heart. I loved it. Happy to have it in my hand. Still exploring its features. And can’t forget to mention Flipkart service. Very prompt service and fast delivery.',\n",
       " 'Awesome Phone. Slightly high price but worth. Better than iPhone XR.\\nCamera is superb and wide angle camera is very clear.\\n12MP selfie camera is also very good.\\nA13 Chip gives a very good and smooth performance.',\n",
       " 'Superb Product !!!\\nA big and worthy upgrade from mi 3S to iphone 11 .\\nTotally loved it !',\n",
       " 'I have migrated from OP 7pro... and trust me, iPhone 11 is totally worth it.. following are the reasons:-\\n1)there is ABSOLUTELY NO ISSUE WITH THE DISPLAY... its crisp, sharp and I found it to be much much better than OP7 pro. Netflix, Prime video all run crisply... you won’t miss a thing. True Tone works flawlessly...the display brightness is perfect. OP have not calibrated their screens properly.\\n2) iPhone 11 series have really good cameras... others have spoken in depth about them.\\n3) bat...\\nREAD MORE',\n",
       " 'It’s an amazing product from apple and the camera is simply superb. Phone is faster.Night shot is simply superb and detailing and colour differentiation from camera is an added advantage\\n\\nThis review I have written from iPhone 11 only and I am glad to say outside.\\n\\nCons wise if we see HD+ display only, no battery percentage indicator as in older iPhone 8.\\nNo assistive touch control button in it\\nNo oleophobic coating on back panel glass and finger prints are visible but since I bought mint gr...\\nREAD MORE',\n",
       " 'Looking so good 👍 😍 super 👌 stylish 😎 phone\\nClean box 📦 good 👍 delivery 👌 fast delivery\\nOriginal box Original iphone 📱 👌 😍😍😍',\n",
       " 'I just directly switch from iphone 6s to iphone 11 .The best premium smartphone I recommend to everyone. Excellent quality and colors the iphone have in 11 series.\\nCamera quality is just awesome and the major feel when we hold in our hands. The sound quality and volume is also higher then the previous models.\\nI will recommend to buy iphone 11 instead of pro models , there is nothing much difference as this model contains everything which fulfill our needs.\\n\\nOnly one thing that I dislike abo...\\nREAD MORE',\n",
       " 'After 1 month use I found camera quality best compared to my previous Samsung note 10+.Display not good as note 10 also charging too slow.Apple should add fast charger like 11 plus and pro.Best phone for daily use',\n",
       " 'Upgraded from iphone 6 to 11 best phone for iphone users battery is much better than other iphones camera is awesome love to use it.camera is so clear in night.',\n",
       " 'Well you all know the specifications . One of a kind. Best iPhone till date. Many enhancements to the camera app with many options. Love the glass body with matte finish in the lens area on the back. Lovely colours to choose from. Best battery in an iPhone till date, enough to last more than a day in normal usage. I tested my iPhone 11 battery and lasted for than 24 hours after full charge still with 30% battery charge left. Watched movies for some time. Normal usage on calls, browsing, musi...\\nREAD MORE',\n",
       " \"It's very high performances devise i am like the service of flipkart delevary very fast and packing very nice perfect phone\",\n",
       " 'This will help you more. See if you are planning to buy iPhone 11. I will say. Yes. But there are some plans I just want to disclose before you buy. 1) If you are an existing iPhone X/XS/XS Max/ XR user, better you guys do not think it to buy. You guys have more or less better gadget. 2) If you are an android user and planning to buy premium phone. I will suggest them to please buy iPhone instead of buying an Android. I bet you will never go back to android after using IOS. Now I want to shar...\\nREAD MORE',\n",
       " 'The built quality is not very premium.\\nThe battery back is great .\\nThe LCD panel is not so sharp but the brightness level is very High .\\nCamera is super duper awesome.\\nThe red colour which people think is bright is actually very soothing and excellent colour to choose from .\\nThe A13 Bionic chip is really a flagship processor and can beat any phone which even has 12 gb ram .\\nCamera module is very great and looks very stylish.',\n",
       " 'Amazing camera and feel super machine I am not describe my feeling but this is amazing Phone I am so lucky I have this',\n",
       " 'Really good actually this is my first apple product am using its really awesome performance wise excellent. Am really happy with this iphone11',\n",
       " 'it is very good at performance. Camera is best like before and very smooth response even in water. Don’t buy 12 mini buy iPhone 11 , it is far better than 12 mini believe me ! Have a nice day \\uf8ff ☺️',\n",
       " 'Reviewing again after 5 months. At the beginning the battery and performance was good but it degraded soon. Also I was facing heating issues. The mobile will heat up like a stove sometimes. You cannot even play Pubg even in low settings properly, performance is not a problem but heating is. Also if you play that game for 10 mins the brightness will be automatically down due to over heating even when the auto brightness is set to off. This will not be solved even if u manually increase the bri...\\nREAD MORE',\n",
       " 'We are on apple ecosystem for almost eight years now with couple of iPads and iPhones, including Xr.\\n\\nBought iPhone 11 as a gift to my daughter who loves it. We chose for a purple coloured one. Believe me it is gorgeous and towards the lighter shade. Dazzling and brilliant!\\n\\nThe phone is great and does excellent RAM management like any other Apple device.\\n\\nThe screen, though a LCD and lesser ppi as compared to other flagship phones of competitor brands, is a delight to watch with perfect re...\\nREAD MORE',\n",
       " 'It is just awesome mobile for this price from Apple,\\n\\nAfter 10 days review\\n\\nBattery enough for 1 day even 24*7 Internet will be on and mostly internet usage\\n\\nCamera is just awesome cool , android 64 MP is equal to this just 12 MP\\n\\nA13 Bionic chip will give more high performance without hanging\\n\\nAudio stereo speakers will give Dolby atoms sound with crystal clear\\n\\nVideo recording is like cinematic shots of every sec can be a 4K 60fps. Just awesome this phone\\niPhone 11 loved one',\n",
       " 'Best Apple iPhone that i have bought at a very reasonable price, camera quality is next level just awesome n of superior quality android phones not even close(RIP) to that and also battery is really good but packaging by Flipkart of iPhone was very poor of such a expensive product, firstly im bit worried about the quality of product if i purchased it through online how was the product but i think now this was mine best decision to bought it through Flipkart online because i got genuine Apple...\\nREAD MORE',\n",
       " \"I can say I'm damn impressed with iPhone 11. As they says iPhone 11 have the toughest glass ever in the smartphone which you'll find on the front and back and it's totally smooth. The fit and finish is full apple quality - there's no sense that any cheaping out has happened in the construction. Without saying it's camera features this review won't complete. The iPhone 11 has a dual camera system, consisting of a wide angle len's that's pretty much same as found on the iPhone XR last year, but...\\nREAD MORE\",\n",
       " 'Best Quality Product OF iPhone Series , Sound Quality & Camera quality is very awesome, Battery Life is very Sufficient for 24 hr Backup With Full Internet Access , I love this this Product too much , It is very fast & making me Very fast in all my daily Routine\\nHighlights;\\n1.Camera: 5 STAR\\n2.Video Recording: 5 star\\n3.Night mODE sHOOTING & Camera:4 star\\n4. Audio Quality: Awesome\\n5. Battery : 5 Star\\n6. Touch:5 Star\\n7. Processor: Very Fast\\nThe M...\\nREAD MORE',\n",
       " 'First thanks to Flipkart for this amazing deal and phone is outstanding. I upgraded from iPhone 7 and this is like very big upgrade. But the packaging was very basic I expected a good packaging as they only wrapped one layer of bubble wrap which I don’t think is enough to protect this expensive phone. And I recommend this phone and seller as well.\\n\\nAnd I’m posting this review after using it for 4 days.',\n",
       " 'Superfast delivery by Flipkart. Thanks.\\n\\n1. iPhone 11 is a pretty solid phone for the money you are paying.\\n2. All the bad reviews about the display is confusing. It’s not that bad.\\n3. I switched from a Oneplus 7t. I have no complaints about the display quality of iPhone. Yes, it’s not OLED, so, we are missing on the deep blacks. But that’s it. It is a very colour accurate display. Gets adequately bright and I could not find any pixelation.\\n4. Performance is one of the best, if not best, in ...\\nREAD MORE',\n",
       " 'Smooth like butter, camera like fantabulous, sound is crystal clear & its red color is damn attractive, i am just loving it. Must buy if you love photography.\\n\\nLucky to get it in sale, thank you Flipkart.',\n",
       " \"Again back to apple iphone after a gap of 2-3 years. It's pleasure to use iOS and the quality product by Apple. Iphone 11 still works like a beast in 2021 also. It really capable of doing day to day usage as well as hard core gaming. Battery is awesome. I'm really too much satisfied with it. Apart fto the very gorgious IPS LCD (AMOLED will be better) everything is mind boggling. Iphone💕.\",\n",
       " 'impressive super phone and best in class camera ,sound and face unlock is super fast just see and phone is unlock and fast in daily apps use',\n",
       " 'Battery backup is extraordinary, camera is decent & performance offered by A13 bionic is awsome. The display is good in practical usage like the visibility of display is very good in direct sun light compare to pro models. Iam extremely satisfied for the money I spent.',\n",
       " 'Well while switching from android to iOS the first thing you need to be careful about is that you will loose all your whatsapp chat backups as both are different operating systems. Camera clarity is awesome and though being an lcd screen clarity and resolution is good. Battery backup is also good unlike previous gen iPhone. So far the experience is good will Padre after a few months of usage.\\n\\nP.S the black is more of a dark grey shade and not jet black',\n",
       " 'In love with this iphone great performance,camera ,battery everything. Go for it have a uncompareble battery backup, no doubts in iPhone camera here You can see the picture which is shot on my iPhone In love with this iphone great performance,camera ,battery everything. Go for it have a uncompareble battery backup, no doubts in iPhone camera here You can see the picture which is shot on my iPhone In love with this iphone great performance,camera ,battery everything. Go for it have a uncompare...\\nREAD MORE',\n",
       " 'Best in class. Battery backup is good especially when you play games like Pubg COD. But it is sort of heavy when you hold in hands. Portrait mode is best to click pictures. Stage light effect is awesome. Try to click photos outside in nature because photos inside home or room will not give you the quality in any phone even in DSLR.',\n",
       " 'Very excited to have this phone. This phone has the real power unlike the android phones having SD 855 . The battery life is very good and the camera quality is excellent as comapred to redmi and other phones except google pixel. I M enjoying every single bit of it. Would recommed only if you have the budget.',\n",
       " \"I upgraded (downgraded?) from my iPhone X since the phone fell down and I didn't want to repair the screen. The box that the phone came in was super slim and I was worried that there'd be no 5W charger with it and my fears were confirmed. However, thankfully I had the 18W USB-C PD charger from Apple which I bought for my iPhone X and it worked perfectly. The charging time is as lethargic as ever though and it takes about 1:30 mins or even 2 hours depending on charge remaining. I'll list some ...\\nREAD MORE\",\n",
       " 'Its Very awesome product working and good camera quality and all about best product and also flipkart is very great deal and offer nice price',\n",
       " 'I am using this phone for 5 days and its one of the best camera out there ❤️ the screen is not oled and i am coming from iphone xs so its little bit not up to the mark i would say\\nBut overall value for money💕😍the battery back up is far better than my iphone xs and its worth in my apple ecosystem💫❤️if u are an apple User and have the eco system then go for it❤️though i will be getting the new iphone but its pretty good💫',\n",
       " 'Best and amazing product.....phone looks so premium.... battary is also good as expected .... Wide angle camera is so addictive ...if you are a IOS lover....then this phone will be the best choice for you all!!💯🔥',\n",
       " 'Excellent camera and display touching very nice and smooth very improvement against iPhone XR and new processor is very fast',\n",
       " \"I got this beast today. And I must say the picture quality of its camera is awesome. Both the cameras works fine.\\n\\nAs for as the processing is concerned, it runs without any lag. You can play and do whatever you want without a glitch.\\n\\nThe battery runs for a day with medium and high workload.\\n\\nThe display is good and the speakers are working fine.\\n\\nThe earphones doesn't have any base and you can use it for calling mostly.\\n\\nThe charging time is approximately for 90 minutes for full charging...\\nREAD MORE\",\n",
       " 'Awesome purchase. Amazing phone with good battery backup. It’s a top notch device. White colour looks amazing. Phone has a few extra feature than iPhone XR. Overall, this is value for money',\n",
       " 'Always love the apple products, upgraded from old iPhone 6S plus to this after having my first baby. I just love to click baby’s photos with it. Overall I just love this phone. Battery back up is okay, sound quality is good. Haven’t tested yet waterproof yet. Only one thing I hate is apple could have given charger & headphones in box.',\n",
       " 'Value for money\\n5 star rating\\nExcellent camera\\nBattery backup full day in single charge.\\n\\nTougher and water resistant design, glossy back.\\nThe screen has excellent brightness and contrast.\\nApple A13 Bionic is the fastest smartphone chip on the planet.\\nExcellent battery life, fast charging support.\\nStereo speakers with great quality.',\n",
       " 'Please DONT buy from here,\\n\\nI purchased Apple iPhone 11. with an exchange of IPhone 7, the exchange did not go well, iPhone 7 had a small scratch out side screen which i could never identify till date, but the FLIPKART person could, so he reduced 50% from exchange rate. I decided not to trade in, but paid money.\\n\\niPhone 11 Detail Below\\n---------------------------------------------\\nIt came with no charging, then i have put for charging, it took lot of time for charging, the phone also showe...\\nREAD MORE',\n",
       " 'awesome phone to have. it has got many smart features apart from mind blowing looks, camera, display, battery and sound. have fallen in love with this phone. must buy phone if you have got enough money. thanks to flipkart and apple of course..',\n",
       " 'Its a fabulous mobile look awesome performance unbeaten camera like dslr battery good i think this is a beast of mobile',\n",
       " 'Dear friends... I want to share my experience with you about this amazing I phone 11....this is my first iPhone and special things about this mobile is it has great camera, battery backup and awesome display.... I mean everything is perfect.loved it 👍👍👍',\n",
       " \"Just got this iphone 11\\nAnd it is most powerful mobile phone I have used ever\\n\\nSo,go for it if you want a phone with best specification like camera,battery backup,display, A13 bionic chip\\n\\nThat's my review about this phone but yours can be differ from me....\",\n",
       " 'Amazing phone and on great deal I received with super fast delivery by Flipkart...',\n",
       " 'finally an iPhone with very nice battery backup. update from iPhone 7 and happy to have it. camera is not up to the mark in low light but overall a recommended phone if your budget allows 😀',\n",
       " \"I'm switching this phone to oppo reno 10x zoom\\nIt's really impressive\\nRarely I'm missing smooth display touch response like oppo reno but\\nI really loved it.\\nCamera really impressive\",\n",
       " 'Damn this phone is a blast . Upgraded from android to ios and is a duperb experience. Battery backup is top notch and display also pretty good',\n",
       " 'Worth the money’ starting first from its performance it beats out all phones , second the smoothness of camera is awesome, contrast ratio is much than expected. Price will not matter if u r a quality person, if not other phones are available with better discount',\n",
       " 'I dreamt about this day from a long time.... Getting an iPhone with my own money.... Super happy and worth spending every penny',\n",
       " \"I'm Really happy with the product\\nDelivery was fast as well\\n..it was a gift for my sister and she loved it so much.\",\n",
       " 'Great iphone.\\nI am writing this review after 2 months of usage.\\nCamera is excellent, especially the nightmode\\nDisplay perfect\\nBattery backup awesome\\nSound quality very good\\nOverall Apple gives you a perfect iphone in this range.\\nReally in love with iPhone 11',\n",
       " 'Did an upgrade from 6s plus to iphone 11.\\nAo far the experience is well and good. Felt smoother than 6s plus. The camera quality is superb. Battery backup is descent. Not a heavy user, and gets power more than a day. Go for it if you need an alrounder iphone in a competitve price.',\n",
       " 'Gifted my man on his 30th birthday 🎂 He loves it.. Him happy so i am more than happy 😍😘❤️🥰',\n",
       " 'Thanks Flipkart For this amazing deal! I had a dream of owning a iphone since i had known about.\\nIm very happy with my purchase & it is totally worth it.\\nAmazing experience all over !!\\n\\nAnyone who’s thinking of buying it in 2021, i would simply say go for it without any second thoughts ❤️',\n",
       " 'I rate this product 5* as it has got amazing user experience with the best performing A13 bionic processor. The screen responds and graphics rendering is top notch. With casual gaming and internet browsing, the battery lasts for approx. 1 day. Camera is very good. You will fall in love with the portrait mode. You can call me a loyal Apple customer or whatever but I won’t stop praising the products and overall experience. That user experience matters and is worth every penny you pay.\\n\\nBelow ar...\\nREAD MORE',\n",
       " 'awesome Phone Smooth Touch Too good Sexyy looks one word Awesome',\n",
       " \"It was amazing experience for me. Honestly i am using iPhone first time so I don't have that much past experience about that. But after using 7 days this mobile i want to give some honest feedback.\\n1- Display 9 out of 10\\n2- Camera 9.5 out of 10\\n3- Battery 7 out of 10\\n4- Performance 9.5 out of 10\\n5- Features & Functions 10 out of 10\\n6- Outer looks and colour 10 out of 10\\nRest i think i will understand after using this for few months.\\nI will highly recommend you guys if you have budget then you...\\nREAD MORE\",\n",
       " \"Just go for it.\\nThis phone is really amazing. I ordered it for my wife and we click photos on this thing which are better than dslr. I own OnePlus 6t but it's camera sucks. iPhone is really amazing when it comes to camera. It's worth spending 50k on this. Cons- only display is lcd. While using u don't feel it but if u compare with other phone then u can see difference quite easily.\\nChanging from Android to iphone is bit difficult coz most of things u don't know but I liked it. Some of the a...\\nREAD MORE\",\n",
       " \"If you are looking for a premium phone under 55k, this is the one for you.Got the iPhone 11 during the Republic day sale. Performance is top notch in this price range. Camera's do a perfect job in taking good quality photos and videos. Battery backup too is satisfactory. Writing this review after using for a week. Any further observations would be updated.\",\n",
       " 'Absolutely powerful gadget. Loved it’s look! Soo glassy and classy. I would definitely recommend this model of Apple. Only disappointed with the 5W charger, one should purchase an 18W adapter for fast charging. Though battery backup is great. Bought it in September 2020, reviewing after so long so I’m gonna put the genuine review here.✅',\n",
       " 'I bought iPhone 11 On March 2021, And I am Writing this review after using the phone for 4 Months. I would Say Everything is fine, Top Performance, Nice Camera as Anyone would Expect from any series of iPhone but when the Question comes to Battery it is complicated. The Battery is fully optimised and it comes 3110 mAh capacity but the problem is with the charger. Honestly Apple Removed charger from in Box items in the name of Environment and they are also forcing us to buy any 20W PD 3rd part...\\nREAD MORE',\n",
       " \"I've used this phone for over a month now and here are my takeaways.\\nI would like to first talk about the best things about this phone and then the cons of it.\\n\\nPros:\\nThis phone is a performance beast. It handles large games and applications effortlessly and you won't find any stutters or lags while playing graphic intensive games like pubg, cod , mortal kombat and asphalt.\\n\\nThis phone has only 4gb ram and yet the ram management is amazing, it can keep 3 heavy games in memory without reload...\\nREAD MORE\",\n",
       " \"phone is good but in display is 720p lcd in this price range we can get full hd OLED displays with higher refresh rate processor is very good camera is nice but looks kind of oldish in front of todays phone also there's no charging in box had to buy it seperately\",\n",
       " 'Nice value for money good and best price I phone mind blowing camera processor very fast other android mobile I am happy India top selling phone 2020',\n",
       " 'Here is the thing\\n\\nThe only reason why you should buy this phone is for the camera, iOS, and if you have headaches looking at AMOLED display.\\n\\nI’m not an avid gamer but watch a lot of movies on smartphone. However, my migraine attacks increased considerably after using AMOLED Smartphone. That’s why I made a calculated decision to buy iPhone 11. It has the best LCD display and the blacks, though not as natural as an AMOLED, is better than some of the other smartphones.\\n\\nAdding to this the ste...\\nREAD MORE',\n",
       " 'Undoubtedly Iphone 11 is the most successful model till now and its performance is extraordinary and the security features are very impressive, display is more vibrant sound quality Camera Quality 5*****, but Iphone should add accessories too and act like scrooge.',\n",
       " 'Super and marvellous phone look very cute and nice sound. I love this phone i think white is good colur.Excellent camer 5*😍😘♥️♥️',\n",
       " 'I purchased the iPhone 11 a month back. I must say Apple has impressed me yet again . I have been an Apple user for past 5 years . The phone is power packed with amazing features . What impressed me the most was the battery backup the phone offers . Battery can easily run upto 1.5 days in single charge with moderate to\\nHeavy usage . If you’re looking for a value for money device , I don’t see any other phone in the price range which can match the iPhone 11 .\\nOne thing I didn’t like was that ...\\nREAD MORE',\n",
       " 'Excellent camera 📸 And Display touching very Nice And Smooth and very improvement against\\nI phone 11 and new processor is very fast',\n",
       " 'This is my first ever iPhone.\\nAnd I truly don’t regret switching to IOS from my Android.\\n\\nIt is easily an alternative to a DSLR camera.\\nIf you’re obsessed with photos and videos, just don’t think twice or don’t compare to other androids(Samsung S10 lite or OnePlus 8/8T), as it’s far better from them in every field.\\nComparing will only make you confused.\\n\\nI am getting an average Screen on Time of around 10 hours with 30 percent left. I haven’t let my device discharged below 30 % as it aff...\\nREAD MORE',\n",
       " 'I use a Note10+ and have been using both iOS and Android devices.\\n\\nCamera has really good features and portraits are super good, better than Samsung flagship. Overall camera setup can still be enhanced and hopeful for better upgrades on software in next release\\n\\nOperating system is quite a breeze and user experience of daily usage is very high as compared to Android. I moved to iOS very swiftly in 2 days for all my office work from Note10+\\n\\nBattery holds up quite well with 4 hrs of call and ...\\nREAD MORE',\n",
       " 'The phone is completely good\\nAs far as camera Apple is king of it\\nAnd its a beast in performance\\nAnd the battery is pretty good too',\n",
       " 'Everything u ll like it when u use this iPhone. Simple changes only not many to lower models but it’s nice to use. Little heavy compared to previous models like 7,8',\n",
       " 'Everything is perfect pictures come out so clearly and at first I wasn’t sure when I got it then when I started to use it and get the hang of it it was amazing!! I can’t wait to see what the next future phones will be like. The screen display on this bad boy are unbelievable they are so clear and never fail me. The performance is super cool there is a lot of cool features as well I like this phone because I feel that it is easy to use and one of my favorite things about this phone is the Face...\\nREAD MORE',\n",
       " 'Can’t beat the software and hardware integration of apple.\\nPerforms like a beast. Great quality camera\\n6-7 hours screen on time which is good. Nothing much to complaint about the screen. Good connectivity speeds.\\nGreat buy and Flipkart’s delivery top notch as usual',\n",
       " 'The ultimate performance\\nCamera is superb\\nThe battery backup also very good i never saw iphone gives this much of battery backup\\nIf any one wana buy iphone 11 definitely i will recommend this mobile\\nIt has the better battery and powerfull processer peak performance glorious camera and the display also 100% high quality lcd display if u had money for for 12 if u dont wana invest much money on that then go for iphone 11 it has maximum same specs only main difference between the 12 and 11 is...\\nREAD MORE',\n",
       " 'A perfect phone and a good battery super camera and the sound is dynamic overall the phone is perfect for upgrading from lower iPhone model to iPhone 11',\n",
       " 'Value for money product. This iphone 11 is really amazing. Again nice release by apple. Great camera, battery backup is excellent. I just love this phone',\n",
       " 'I was using Iphone 6s and also Oneplus 6t. Both mobiles were perfectly alright in Photos, gaming, and smooth interface . My 6s mobile getting battery issue. thought upgrade to 11. Really like this mobile of its Internal storage (compare to 6s) , camera and its touch feeling. Its a worth buying mobile for me.',\n",
       " \"I genuinely liked it. One of the best mobile phones I have used. It's sho smooth and it's security is very astonishing. Plus it has a very good camera quality. so overall it's a win win.\",\n",
       " 'Flipkart honoured on time delivery, I have used 6s , now I have upgraded apple 11 . Really great experience for new iPhone. Thank you apple and flipkart.',\n",
       " 'Awesome camera, smooth and fast UI, display is great (though not LED) but the black area at the top could have been reduced. Battery remains a day even if used heavily. Charger in the box is ok, but 12 or 18W could have been nothing like anything. Overall an excellent product and comfortable to use. I have got it almost a month back and so far so good.',\n",
       " \"It's a great phone. From camera to display everything is best for the price.\\nBest camera , best performance. I think everyone should buy it . This phone has best battery life so far in iphone series which I had used earlier. Happy to have it. Thanks Flipkart\",\n",
       " 'I was torn between the oneplus 8 pro and the iphone 11. I had to shell out extra money for this, but I say if you can afford it, this truely is the best package.\\nMind blowing camera, battery and overall performance. Face Id works like magic even in complete darkness without firing up the screen brightness. The phones with in display fingerprint scanners do this at night time and it really burns your eyes.\\nI wanted the oneplus for its display but tbh the OLEDs on oneplus is really bad. Flick...\\nREAD MORE',\n",
       " \"The best all rounder iphone. Flipkart is doing a great job. They're delivery services are blazing fast. I got delivery on the same day. Genuine Apple Product. Working great. Talking about review There's no need of review for iphones. They're simply the best.\",\n",
       " 'Seller - SuperComNet ( my trust in you has grown deeper. Thanks for the genuine product )\\nThe package came packed perfectly. The box was sealed which gave me a big relief.\\n\\nApple needs no introduction since its the dominant market player. I just love the way how IPhone 11 stands out so boldly. The moment I took it out from the box, I could feel the premium intensity. The body is remarkable and crafted for giving you a elite vibe.\\n\\nCamera is to die for. There is no other phone that can beat...\\nREAD MORE',\n",
       " \"i was confused between 11 and 11 pro. i was going towards 11 pro, but the screen size was not enough for me.\\nAnd i saw 11 in the showroom. i didn't find much difference in screen quality.And cameras seems to be ok with me. And i saw offer's in flipkart and made the purchase.\\nthe device is fabulous. The hardware and software quality is excellent. The new iOS is something you need to experience yourself. The drawback i found was absence of fast charger, but the pricing can compensate that. Am...\\nREAD MORE\"]"
      ]
     },
     "execution_count": 17,
     "metadata": {},
     "output_type": "execute_result"
    }
   ],
   "source": [
    "# (3) finding the Full review tags from first 11 pages/URLs and scraping the text from it in an empty list\n",
    "# One page has 9/10 Full review\n",
    "fullreview_list = []\n",
    "for i in page_url[:11]:\n",
    "    driver.get(i)\n",
    "    time.sleep(1)\n",
    "    fullreview_tags = driver.find_elements_by_xpath(\"//div[@class='t-ZTKy']\")\n",
    "    for i in fullreview_tags:\n",
    "        fullreview_list.append(i.text)\n",
    "fullreview_list"
   ]
  },
  {
   "cell_type": "code",
   "execution_count": 18,
   "metadata": {},
   "outputs": [
    {
     "data": {
      "text/plain": [
       "110"
      ]
     },
     "execution_count": 18,
     "metadata": {},
     "output_type": "execute_result"
    }
   ],
   "source": [
    "#Confirming the length of my data. It should be 109 for 11 pages as 3rd page had just 9 reviews\n",
    "len(fullreview_list)"
   ]
  },
  {
   "cell_type": "code",
   "execution_count": 19,
   "metadata": {
    "scrolled": true
   },
   "outputs": [
    {
     "data": {
      "text/html": [
       "<div>\n",
       "<style scoped>\n",
       "    .dataframe tbody tr th:only-of-type {\n",
       "        vertical-align: middle;\n",
       "    }\n",
       "\n",
       "    .dataframe tbody tr th {\n",
       "        vertical-align: top;\n",
       "    }\n",
       "\n",
       "    .dataframe thead th {\n",
       "        text-align: right;\n",
       "    }\n",
       "</style>\n",
       "<table border=\"1\" class=\"dataframe\">\n",
       "  <thead>\n",
       "    <tr style=\"text-align: right;\">\n",
       "      <th></th>\n",
       "      <th>Rating</th>\n",
       "      <th>Review Summary</th>\n",
       "      <th>Full review</th>\n",
       "    </tr>\n",
       "  </thead>\n",
       "  <tbody>\n",
       "    <tr>\n",
       "      <th>0</th>\n",
       "      <td>5</td>\n",
       "      <td>Brilliant</td>\n",
       "      <td>The Best Phone for the Money\\n\\nThe iPhone 11 ...</td>\n",
       "    </tr>\n",
       "    <tr>\n",
       "      <th>1</th>\n",
       "      <td>5</td>\n",
       "      <td>Simply awesome</td>\n",
       "      <td>Really satisfied with the Product I received.....</td>\n",
       "    </tr>\n",
       "    <tr>\n",
       "      <th>2</th>\n",
       "      <td>5</td>\n",
       "      <td>Perfect product!</td>\n",
       "      <td>Amazing phone with great cameras and better ba...</td>\n",
       "    </tr>\n",
       "    <tr>\n",
       "      <th>3</th>\n",
       "      <td>5</td>\n",
       "      <td>Fabulous!</td>\n",
       "      <td>This is my first iOS phone. I am very happy wi...</td>\n",
       "    </tr>\n",
       "    <tr>\n",
       "      <th>4</th>\n",
       "      <td>5</td>\n",
       "      <td>Worth every penny</td>\n",
       "      <td>Previously I was using one plus 3t it was a gr...</td>\n",
       "    </tr>\n",
       "    <tr>\n",
       "      <th>...</th>\n",
       "      <td>...</td>\n",
       "      <td>...</td>\n",
       "      <td>...</td>\n",
       "    </tr>\n",
       "    <tr>\n",
       "      <th>95</th>\n",
       "      <td>3</td>\n",
       "      <td>Decent product</td>\n",
       "      <td>Everything u ll like it when u use this iPhone...</td>\n",
       "    </tr>\n",
       "    <tr>\n",
       "      <th>96</th>\n",
       "      <td>5</td>\n",
       "      <td>Fabulous!</td>\n",
       "      <td>Everything is perfect pictures come out so cle...</td>\n",
       "    </tr>\n",
       "    <tr>\n",
       "      <th>97</th>\n",
       "      <td>5</td>\n",
       "      <td>Awesome</td>\n",
       "      <td>Can’t beat the software and hardware integrati...</td>\n",
       "    </tr>\n",
       "    <tr>\n",
       "      <th>98</th>\n",
       "      <td>5</td>\n",
       "      <td>Just wow!</td>\n",
       "      <td>The ultimate performance\\nCamera is superb\\nTh...</td>\n",
       "    </tr>\n",
       "    <tr>\n",
       "      <th>99</th>\n",
       "      <td>5</td>\n",
       "      <td>Excellent</td>\n",
       "      <td>A perfect phone and a good battery super camer...</td>\n",
       "    </tr>\n",
       "  </tbody>\n",
       "</table>\n",
       "<p>100 rows × 3 columns</p>\n",
       "</div>"
      ],
      "text/plain": [
       "   Rating     Review Summary  \\\n",
       "0       5          Brilliant   \n",
       "1       5     Simply awesome   \n",
       "2       5   Perfect product!   \n",
       "3       5          Fabulous!   \n",
       "4       5  Worth every penny   \n",
       "..    ...                ...   \n",
       "95      3     Decent product   \n",
       "96      5          Fabulous!   \n",
       "97      5            Awesome   \n",
       "98      5          Just wow!   \n",
       "99      5          Excellent   \n",
       "\n",
       "                                          Full review  \n",
       "0   The Best Phone for the Money\\n\\nThe iPhone 11 ...  \n",
       "1   Really satisfied with the Product I received.....  \n",
       "2   Amazing phone with great cameras and better ba...  \n",
       "3   This is my first iOS phone. I am very happy wi...  \n",
       "4   Previously I was using one plus 3t it was a gr...  \n",
       "..                                                ...  \n",
       "95  Everything u ll like it when u use this iPhone...  \n",
       "96  Everything is perfect pictures come out so cle...  \n",
       "97  Can’t beat the software and hardware integrati...  \n",
       "98  The ultimate performance\\nCamera is superb\\nTh...  \n",
       "99  A perfect phone and a good battery super camer...  \n",
       "\n",
       "[100 rows x 3 columns]"
      ]
     },
     "execution_count": 19,
     "metadata": {},
     "output_type": "execute_result"
    }
   ],
   "source": [
    "#Finally creating a dataframe of first 100 reviews scraped.\n",
    "#Creating a dataframe for Rating, Review_summary & Full review.\n",
    "\n",
    "df = pd.DataFrame({})\n",
    "\n",
    "df[\"Rating\"] = review_list[:100]\n",
    "df[\"Review Summary\"] = summary_list[:100]\n",
    "df[\"Full review\"] = fullreview_list[:100]\n",
    "df"
   ]
  },
  {
   "cell_type": "markdown",
   "metadata": {},
   "source": [
    "Crosschecked the 100th review on Flipkart website and can confirm that the data was scraped correctly."
   ]
  },
  {
   "cell_type": "markdown",
   "metadata": {},
   "source": [
    "### Q8: Scrape data for first 100 sneakers you find when you visit flipkart.com and search for “sneakers” in the search field.\n",
    "You have to scrape 4 attributes of each sneaker :\n",
    "1. Brand\n",
    "2. Product Description\n",
    "3. Price\n",
    "4. discount %"
   ]
  },
  {
   "cell_type": "code",
   "execution_count": 20,
   "metadata": {},
   "outputs": [],
   "source": [
    "#first get the webpage \"https://www.flipkart.com/\"\n",
    "driver.get('https://www.flipkart.com/')"
   ]
  },
  {
   "cell_type": "code",
   "execution_count": 21,
   "metadata": {},
   "outputs": [],
   "source": [
    "# Now enter “sneakers” in the search field where “search for products, brands and more” is written and click the search icon\n",
    "search_product = driver.find_element_by_name('q')\n",
    "search_product.send_keys('sneakers')"
   ]
  },
  {
   "cell_type": "code",
   "execution_count": 22,
   "metadata": {},
   "outputs": [],
   "source": [
    "#clicking on the search button to show the result\n",
    "search_button = driver.find_element_by_xpath(\"//button[@class='L0Z3Pu']\")\n",
    "search_button.click()\n",
    "time.sleep(3)"
   ]
  },
  {
   "cell_type": "code",
   "execution_count": 24,
   "metadata": {},
   "outputs": [
    {
     "data": {
      "text/plain": [
       "['https://www.flipkart.com/search?q=sneakers&otracker=search&otracker1=search&marketplace=FLIPKART&as-show=on&as=off&page=1',\n",
       " 'https://www.flipkart.com/search?q=sneakers&otracker=search&otracker1=search&marketplace=FLIPKART&as-show=on&as=off&page=2',\n",
       " 'https://www.flipkart.com/search?q=sneakers&otracker=search&otracker1=search&marketplace=FLIPKART&as-show=on&as=off&page=3',\n",
       " 'https://www.flipkart.com/search?q=sneakers&otracker=search&otracker1=search&marketplace=FLIPKART&as-show=on&as=off&page=4',\n",
       " 'https://www.flipkart.com/search?q=sneakers&otracker=search&otracker1=search&marketplace=FLIPKART&as-show=on&as=off&page=5',\n",
       " 'https://www.flipkart.com/search?q=sneakers&otracker=search&otracker1=search&marketplace=FLIPKART&as-show=on&as=off&page=6',\n",
       " 'https://www.flipkart.com/search?q=sneakers&otracker=search&otracker1=search&marketplace=FLIPKART&as-show=on&as=off&page=7',\n",
       " 'https://www.flipkart.com/search?q=sneakers&otracker=search&otracker1=search&marketplace=FLIPKART&as-show=on&as=off&page=8',\n",
       " 'https://www.flipkart.com/search?q=sneakers&otracker=search&otracker1=search&marketplace=FLIPKART&as-show=on&as=off&page=9',\n",
       " 'https://www.flipkart.com/search?q=sneakers&otracker=search&otracker1=search&marketplace=FLIPKART&as-show=on&as=off&page=10']"
      ]
     },
     "execution_count": 24,
     "metadata": {},
     "output_type": "execute_result"
    }
   ],
   "source": [
    "#Now I'll scrape the URLs of all the pages\n",
    "page_url = []\n",
    "url = driver.find_elements_by_xpath(\"//a[contains(@class, 'ge-49M')]\")\n",
    "for i in url:\n",
    "    page_url.append(i.get_attribute('href'))\n",
    "page_url"
   ]
  },
  {
   "cell_type": "code",
   "execution_count": 25,
   "metadata": {},
   "outputs": [
    {
     "data": {
      "text/plain": [
       "['Chevit',\n",
       " 'PEHANOSA',\n",
       " 'luxury fashion',\n",
       " 'Shoes Bank',\n",
       " 'Chevit',\n",
       " 'BRUTON',\n",
       " 'TR',\n",
       " 'World Wear Footwear',\n",
       " 'Chevit',\n",
       " 'Numenzo',\n",
       " 'ASTEROID',\n",
       " 'bluemaker',\n",
       " 'ASTEROID',\n",
       " 'Chevit',\n",
       " 'Numenzo',\n",
       " 'Chevit',\n",
       " 'Kraasa',\n",
       " 'Chevit',\n",
       " 'Longwalk',\n",
       " 'BIRDE',\n",
       " 'HOTSTYLE',\n",
       " 'SPARX',\n",
       " 'restinfoot',\n",
       " 'Chevit',\n",
       " 'SCATCHITE',\n",
       " 'Rising Wolf',\n",
       " 'RODDICK SHOES',\n",
       " 'T-ROCK',\n",
       " 'ESSENCE',\n",
       " 'BRUTON',\n",
       " 'World Wear Footwear',\n",
       " 'HOC',\n",
       " 'Red Rose',\n",
       " 'Absolute comfort',\n",
       " 'Robbie jones',\n",
       " 'World Wear Footwear',\n",
       " 'bluemaker',\n",
       " 'Robbie jones',\n",
       " 'Creer',\n",
       " 'RODDICK SHOES',\n",
       " 'bluemaker',\n",
       " 'believe',\n",
       " 'bacca bucci',\n",
       " 'Arohi',\n",
       " 'Extoes',\n",
       " 'SPARX',\n",
       " 'BIRDE',\n",
       " 'Nilatin',\n",
       " 'luxury fashion',\n",
       " 'India hub',\n",
       " 'BRUTON',\n",
       " 'Chevit',\n",
       " 'Zsyto',\n",
       " 'Edoeviv',\n",
       " 'World Wear Footwear',\n",
       " 'Airland',\n",
       " 'D-SNEAKERZ',\n",
       " 'ESSENCE',\n",
       " 'Robbie jones',\n",
       " 'RODDICK SHOES',\n",
       " 'ROCKFIELD',\n",
       " 'Ktiz',\n",
       " 'Chevit',\n",
       " 'Jack Diamond',\n",
       " 'Zsyto',\n",
       " 'PUMA',\n",
       " 'Chevit',\n",
       " 'ESSENCE',\n",
       " 'Jokatoo',\n",
       " 'BRUTON',\n",
       " 'Magnolia',\n",
       " 'SPARX',\n",
       " 'PUMA',\n",
       " 'Treadfit',\n",
       " 'ESSENCE',\n",
       " 'SPARX',\n",
       " 'ESSENCE',\n",
       " 'HOTSTYLE',\n",
       " 'Nilatin',\n",
       " 'India hub',\n",
       " 'bluemaker',\n",
       " 'HOC',\n",
       " 'Zorth',\n",
       " 'BRUTON',\n",
       " 'ORICUM',\n",
       " 'Ktiz',\n",
       " 'SPARX',\n",
       " 'Chevit',\n",
       " 'World Wear Footwear',\n",
       " 'Labbin',\n",
       " 'Wakefield',\n",
       " 'Labbin',\n",
       " 'India hub',\n",
       " 'WRIZT',\n",
       " 'ASIAN',\n",
       " 'VIPSJAZZY',\n",
       " 'Robbie jones',\n",
       " 'ROCKFIELD',\n",
       " 'Chevit',\n",
       " 'PUMA',\n",
       " 'BRUTON',\n",
       " 'BIRDE',\n",
       " 'SPARX',\n",
       " 'BIRDE',\n",
       " 'SHOEFLY',\n",
       " 'D-SNEAKERZ',\n",
       " 'SPARX',\n",
       " 'Kraasa',\n",
       " 'Absolute comfort',\n",
       " 'Zsyto',\n",
       " 'SPARX',\n",
       " 'D-SNEAKERZ',\n",
       " 'DUCATI',\n",
       " 'luxury fashion',\n",
       " 'Edoeviv',\n",
       " 'Chevit',\n",
       " 'SPARX',\n",
       " 'Zsyto',\n",
       " 'Stefano Rads',\n",
       " 'SPARX']"
      ]
     },
     "execution_count": 25,
     "metadata": {},
     "output_type": "execute_result"
    }
   ],
   "source": [
    "#finding the brand name tags from first 3 pages/URLs and scraping the text from it in an empty list\n",
    "brand_list = []\n",
    "for i in page_url[:3]:\n",
    "    driver.get(i)\n",
    "    time.sleep(2)\n",
    "    brand_tags = driver.find_elements_by_xpath(\"//div[@class='_2WkVRV']\")\n",
    "    for i in brand_tags:\n",
    "        brand_list.append(i.text)\n",
    "brand_list"
   ]
  },
  {
   "cell_type": "code",
   "execution_count": 26,
   "metadata": {},
   "outputs": [
    {
     "data": {
      "text/plain": [
       "120"
      ]
     },
     "execution_count": 26,
     "metadata": {},
     "output_type": "execute_result"
    }
   ],
   "source": [
    "#Confirming the length of my data. It should be 120 for 3 pages\n",
    "len(brand_list)"
   ]
  },
  {
   "cell_type": "code",
   "execution_count": 27,
   "metadata": {},
   "outputs": [
    {
     "data": {
      "text/plain": [
       "['Super Stylish & Trendy Combo Pack of 02 Pairs Sneakers ...',\n",
       " 'Sneakers For Men',\n",
       " 'Luxury Fashionable casual sneaker shoes Sneakers For Me...',\n",
       " \"White Sneaker For Men's/Boy's Sneakers For Men\",\n",
       " 'Unique & Perfect Collection Combo Pack of 02 Shoes for ...',\n",
       " 'Combo Pack Of 4 Casual Shoes Loafer Shoes Sneakers For ...',\n",
       " '5011-Latest Collection Stylish Casual Loafer Sneakers S...',\n",
       " 'Sneakers For Men',\n",
       " 'Perfect & Affordable Combo Pack of 03 Pairs Casual Snea...',\n",
       " 'Sneakers For Men',\n",
       " \"Original Luxury Branded Fashionable Men's Casual Walkin...\",\n",
       " 'casual for men (blue 08) Sneakers For Men',\n",
       " \"Original Luxury Branded Fashionable Men's Casual Walkin...\",\n",
       " 'Perfect & Affordable Combo Pack of 02 Pairs Sneakers Ou...',\n",
       " 'Sneakers For Men',\n",
       " 'Super 445 Fashion Sneakers For Men',\n",
       " 'Series 7 Sneakers For Men',\n",
       " '494 Perfect Sports Shoes for Running Training Hikking &...',\n",
       " 'Men Boxer Sneakers For Men',\n",
       " 'Sneakers For Men',\n",
       " 'Combo Pack of 4 Casual Shoes Sneakers For Men',\n",
       " 'SM439G Sneakers For Men',\n",
       " 'Speed Set of 5 Pairs Sneakers Outdoors Casuals for Men ...',\n",
       " 'Sneakers Sneakers For Men',\n",
       " \"Casual shoes,Sneakers for men's,shoes for men's Sneaker...\",\n",
       " 'Sneakers For Men',\n",
       " 'Synthetic Leather Casual Partywear Wedding Sneakers Sho...',\n",
       " 'Fashion Outdoor Canvas Casual Light Weight Lace-up Even...',\n",
       " 'Casuals Sneakers For Men',\n",
       " 'Men 5014 Latest Collection Stylish Casual Sports Loafer...',\n",
       " 'Modern Trendy Sneakers Shoes Sneakers For Men',\n",
       " 'Lucury fashionable Breathable Casual Sneakers shoes for...',\n",
       " 'Sneakers For Men',\n",
       " 'SOFT Sneakers For Men',\n",
       " 'Sneakers For Men',\n",
       " 'Sneakers For Men',\n",
       " 'Latest Collection-1227 Stylish Casual Sports Sneakers F...',\n",
       " 'Fashion Outdoor Canvas Casual Light Weight Lace-up Even...',\n",
       " 'Combo Pack of 2 Casual Shoes Sneakers For Men',\n",
       " 'Sneakers For Men',\n",
       " 'casual for men (beige 06) Sneakers For Men',\n",
       " 'Sneakers for men(black_6) Sneakers For Men',\n",
       " 'Fashion Sneakers Sneakers For Men',\n",
       " 'Sneakers For Men',\n",
       " 'Modern Trendy Shoes Combo pack of 4 Sneakers For Men',\n",
       " 'SM-322 Sneakers For Men',\n",
       " 'Sneakers For Men',\n",
       " 'Black Sneaker For Men Sneakers For Men',\n",
       " 'Luxury Fashionable casual sneaker shoes Sneakers For Me...',\n",
       " 'Fashionable casual sneakers shoes Sneakers For Men',\n",
       " 'Modern & Trendy Collection Combo Pack of 02 Shoes for M...',\n",
       " 'Modern Stylish Combo Pack of 3 Jogging, Walking, Gym Sh...',\n",
       " 'Sneakers For Men',\n",
       " \"Original Luxury Branded Fashionable Men's Casual Walkin...\",\n",
       " 'Combo Pack of 4 Latest Collection Stylish Casual Loafer...',\n",
       " 'shoe Sneakers For Men',\n",
       " \"Casual , Partywear Sneakers Shoes For Men's And Boys Wh...\",\n",
       " 'Sneakers For Men',\n",
       " 'Casual Sneakers Shoes For Men And Boys Sneakers For Men',\n",
       " 'Fashion Outdoor Canvas Casual Light Weight Lace-up Even...',\n",
       " 'Sneakers For Men',\n",
       " \"White Sneaker For Men's/Boy's Sneakers For Men\",\n",
       " 'Perfect & Affordable Combo Pack of 02 Pairs Sneakers Ou...',\n",
       " 'Sneakers For Men',\n",
       " 'Sneakers For Men',\n",
       " 'Hip Hop Mid Perf IDP Sneakers For Men',\n",
       " 'Affordable Combo Pack of 03 Pairs Sneakers Outdoor Loaf...',\n",
       " 'Sneakers For Men',\n",
       " 'casual sneaker shoes and partywear shoes Casuals For Me...',\n",
       " 'Modern & Trendy Collection Combo Pack of 02 Shoes for M...',\n",
       " 'White Sneakers Sneakers For Men',\n",
       " 'Casual Sneakers Sneakers For Men',\n",
       " 'Smash L Sneakers For Men',\n",
       " 'Treas Sneakers For Men',\n",
       " 'Trendy Sneakers For Men',\n",
       " 'SM-439 Sneakers For Men',\n",
       " 'Trendy Sneakers For Men',\n",
       " 'Sneakers For Men',\n",
       " 'White Sneaker for Men Sneakers For Men',\n",
       " 'Sneakers For Men',\n",
       " 'casual for men Sneakers For Men',\n",
       " 'Sneakers For Men',\n",
       " 'Sneakers For Men',\n",
       " 'Lightweight Pack Of 1 Trendy Sneakers Sneakers Sneakers...',\n",
       " 'Combo pack of 2 casual sneaker shoes for men Sneakers F...',\n",
       " 'Rockstyle Trending Multicolor Ultralight canvas Sport/ ...',\n",
       " 'Men White Sneakers Sneakers For Men',\n",
       " 'Chevit Latest Fashion Combo Pack of 2 Pairs Casual Outd...',\n",
       " 'Sneakers For Men',\n",
       " 'Sneakers For Men',\n",
       " 'Sneakers For Men',\n",
       " 'Casual Sneakers White Shoes For Men And Boys Sneakers F...',\n",
       " 'Fashionable casual sneakers shoes Sneakers For Men',\n",
       " 'Casual Sneakers,dancing, walking Sneakers For Men',\n",
       " 'Skypy-31 Walking Shoes,Training Shoes,Sneakers,Loafers,...',\n",
       " 'Sneakers For Men',\n",
       " 'Casual Sneakers Shoes For Men Sneakers For Men',\n",
       " 'Sneakers For Men',\n",
       " 'Chevit Combo Pack of 5 Casual Sneakers With Canvas Shoe...',\n",
       " 'Caracal Sneakers For Men',\n",
       " 'Lattest Sneakers Shoe Sneakers For Men',\n",
       " 'Combo Pack of 3 Casual Shoes Sneakers For Men',\n",
       " 'SM-162 Sneakers For Men',\n",
       " \"Men's Stylish Casual Shoes Sneakers For Men\",\n",
       " 'Combo Men Pack of 2 Loafers Shoes Sneakers For Men',\n",
       " \"Casual , Partywear Sneakers Shoes For Men's And Boys Wh...\",\n",
       " 'SM-175 Sneakers For Men',\n",
       " 'Shark-41 Sneakers For Men',\n",
       " 'Sneakers For Men',\n",
       " 'Sneakers For Men',\n",
       " 'SM-482 Sneakers For Men',\n",
       " \"Casual , Partywear Sneakers Shoes For Men's And Boys Re...\",\n",
       " 'DTSS18FT-003 Sneakers For Men',\n",
       " 'Fashionable casual sneaker shoes Sneakers For Men',\n",
       " \"Luxury Branded Fashionable Men's Casual Walking Partywe...\",\n",
       " \"Super & Trendy Men's Pack of 02 Pair Shoes for Boys Cas...\",\n",
       " 'SM-322 Sneakers For Men',\n",
       " 'Sneakers For Men',\n",
       " 'Classy Sneakers For Men',\n",
       " 'SM-675 Sneakers For Men']"
      ]
     },
     "execution_count": 27,
     "metadata": {},
     "output_type": "execute_result"
    }
   ],
   "source": [
    "#finding the product description tags from first 3 pages/URLs and scraping the text from it in an empty list\n",
    "\n",
    "description_list = []\n",
    "for i in page_url[:3]:\n",
    "    driver.get(i)\n",
    "    time.sleep(2)\n",
    "    #description_tags = driver.find_elements_by_xpath(\"//a[@class='IRpwTa']\")  By this I missed 2 entries from 120.  \n",
    "    #Hence I used contains to get all 40 values per page.\n",
    "    description_tags = driver.find_elements_by_xpath(\"//*[contains(concat(' ', @class, ' ' ), 'IRpwTa')]\")\n",
    "    for i in description_tags:\n",
    "        try:\n",
    "            description_list.append(i.text)   \n",
    "        except:\n",
    "            description_list.append(\" \")\n",
    "description_list"
   ]
  },
  {
   "cell_type": "code",
   "execution_count": 28,
   "metadata": {},
   "outputs": [
    {
     "data": {
      "text/plain": [
       "120"
      ]
     },
     "execution_count": 28,
     "metadata": {},
     "output_type": "execute_result"
    }
   ],
   "source": [
    "#Confirming the length of my data. It should be 120 for 3 pages\n",
    "len(description_list)"
   ]
  },
  {
   "cell_type": "code",
   "execution_count": 29,
   "metadata": {},
   "outputs": [
    {
     "data": {
      "text/plain": [
       "['₹599',\n",
       " '₹398',\n",
       " '₹399',\n",
       " '₹349',\n",
       " '₹449',\n",
       " '₹474',\n",
       " '₹240',\n",
       " '₹499',\n",
       " '₹664',\n",
       " '₹378',\n",
       " '₹499',\n",
       " '₹474',\n",
       " '₹499',\n",
       " '₹473',\n",
       " '₹426',\n",
       " '₹389',\n",
       " '₹499',\n",
       " '₹284',\n",
       " '₹260',\n",
       " '₹289',\n",
       " '₹735',\n",
       " '₹699',\n",
       " '₹759',\n",
       " '₹398',\n",
       " '₹369',\n",
       " '₹599',\n",
       " '₹399',\n",
       " '₹499',\n",
       " '₹499',\n",
       " '₹240',\n",
       " '₹359',\n",
       " '₹378',\n",
       " '₹399',\n",
       " '₹198',\n",
       " '₹474',\n",
       " '₹378',\n",
       " '₹240',\n",
       " '₹499',\n",
       " '₹525',\n",
       " '₹499',\n",
       " '₹474',\n",
       " '₹474',\n",
       " '₹999',\n",
       " '₹460',\n",
       " '₹789',\n",
       " '₹830',\n",
       " '₹399',\n",
       " '₹426',\n",
       " '₹399',\n",
       " '₹404',\n",
       " '₹567',\n",
       " '₹698',\n",
       " '₹398',\n",
       " '₹474',\n",
       " '₹499',\n",
       " '₹264',\n",
       " '₹348',\n",
       " '₹579',\n",
       " '₹474',\n",
       " '₹499',\n",
       " '₹399',\n",
       " '₹386',\n",
       " '₹499',\n",
       " '₹635',\n",
       " '₹328',\n",
       " '₹2,018',\n",
       " '₹664',\n",
       " '₹499',\n",
       " '₹418',\n",
       " '₹567',\n",
       " '₹348',\n",
       " '₹990',\n",
       " '₹2,249',\n",
       " '₹299',\n",
       " '₹579',\n",
       " '₹618',\n",
       " '₹579',\n",
       " '₹199',\n",
       " '₹407',\n",
       " '₹399',\n",
       " '₹474',\n",
       " '₹398',\n",
       " '₹439',\n",
       " '₹199',\n",
       " '₹397',\n",
       " '₹429',\n",
       " '₹629',\n",
       " '₹649',\n",
       " '₹240',\n",
       " '₹449',\n",
       " '₹199',\n",
       " '₹399',\n",
       " '₹387',\n",
       " '₹279',\n",
       " '₹599',\n",
       " '₹399',\n",
       " '₹379',\n",
       " '₹399',\n",
       " '₹798',\n",
       " '₹2,883',\n",
       " '₹323',\n",
       " '₹794',\n",
       " '₹730',\n",
       " '₹315',\n",
       " '₹362',\n",
       " '₹384',\n",
       " '₹809',\n",
       " '₹499',\n",
       " '₹284',\n",
       " '₹398',\n",
       " '₹975',\n",
       " '₹346',\n",
       " '₹789',\n",
       " '₹369',\n",
       " '₹449',\n",
       " '₹448',\n",
       " '₹699',\n",
       " '₹438',\n",
       " '₹242',\n",
       " '₹740']"
      ]
     },
     "execution_count": 29,
     "metadata": {},
     "output_type": "execute_result"
    }
   ],
   "source": [
    "#finding the price tags from first 3 pages/URLs and scraping the text from it in an empty list\n",
    "\n",
    "price_list = []\n",
    "for i in page_url[:3]:\n",
    "    driver.get(i)\n",
    "    time.sleep(2)\n",
    "    price_tags = driver.find_elements_by_xpath(\"//div[@class='_30jeq3']\")\n",
    "    for i in price_tags:\n",
    "        price_list.append(i.text)\n",
    "price_list"
   ]
  },
  {
   "cell_type": "code",
   "execution_count": 30,
   "metadata": {},
   "outputs": [
    {
     "data": {
      "text/plain": [
       "120"
      ]
     },
     "execution_count": 30,
     "metadata": {},
     "output_type": "execute_result"
    }
   ],
   "source": [
    "#Confirming the length of my data. It should be 120 for 3 pages\n",
    "len(price_list)"
   ]
  },
  {
   "cell_type": "code",
   "execution_count": 31,
   "metadata": {},
   "outputs": [
    {
     "data": {
      "text/plain": [
       "['62% off',\n",
       " '60% off',\n",
       " '69% off',\n",
       " '65% off',\n",
       " '70% off',\n",
       " '86% off',\n",
       " '51% off',\n",
       " '75% off',\n",
       " '74% off',\n",
       " '62% off',\n",
       " '75% off',\n",
       " '52% off',\n",
       " '50% off',\n",
       " '73% off',\n",
       " '78% off',\n",
       " '22% off',\n",
       " '50% off',\n",
       " '71% off',\n",
       " '47% off',\n",
       " '71% off',\n",
       " '63% off',\n",
       " '69% off',\n",
       " '60% off',\n",
       " '63% off',\n",
       " '62% off',\n",
       " '60% off',\n",
       " '50% off',\n",
       " '50% off',\n",
       " '51% off',\n",
       " '72% off',\n",
       " '81% off',\n",
       " '60% off',\n",
       " '60% off',\n",
       " '52% off',\n",
       " '62% off',\n",
       " '51% off',\n",
       " '50% off',\n",
       " '47% off',\n",
       " '50% off',\n",
       " '52% off',\n",
       " '52% off',\n",
       " '60% off',\n",
       " '53% off',\n",
       " '47% off',\n",
       " '20% off',\n",
       " '20% off',\n",
       " '67% off',\n",
       " '86% off',\n",
       " '86% off',\n",
       " '77% off',\n",
       " '70% off',\n",
       " '69% off',\n",
       " '40% off',\n",
       " '81% off',\n",
       " '47% off',\n",
       " '47% off',\n",
       " '42% off',\n",
       " '52% off',\n",
       " '50% off',\n",
       " '60% off',\n",
       " '61% off',\n",
       " '61% off',\n",
       " '36% off',\n",
       " '74% off',\n",
       " '42% off',\n",
       " '71% off',\n",
       " '50% off',\n",
       " '71% off',\n",
       " '77% off',\n",
       " '65% off',\n",
       " '18% off',\n",
       " '50% off',\n",
       " '70% off',\n",
       " '42% off',\n",
       " '11% off',\n",
       " '42% off',\n",
       " '60% off',\n",
       " '68% off',\n",
       " '69% off',\n",
       " '52% off',\n",
       " '80% off',\n",
       " '56% off',\n",
       " '66% off',\n",
       " '60% off',\n",
       " '66% off',\n",
       " '16% off',\n",
       " '56% off',\n",
       " '51% off',\n",
       " '55% off',\n",
       " '60% off',\n",
       " '60% off',\n",
       " '87% off',\n",
       " '72% off',\n",
       " '25% off',\n",
       " '60% off',\n",
       " '62% off',\n",
       " '60% off',\n",
       " '68% off',\n",
       " '42% off',\n",
       " '75% off',\n",
       " '47% off',\n",
       " '23% off',\n",
       " '36% off',\n",
       " '63% off',\n",
       " '61% off',\n",
       " '10% off',\n",
       " '50% off',\n",
       " '71% off',\n",
       " '69% off',\n",
       " '27% off',\n",
       " '65% off',\n",
       " '64% off',\n",
       " '78% off',\n",
       " '43% off',\n",
       " '77% off',\n",
       " '30% off',\n",
       " '56% off',\n",
       " '65% off',\n",
       " '7% off']"
      ]
     },
     "execution_count": 31,
     "metadata": {},
     "output_type": "execute_result"
    }
   ],
   "source": [
    "#finding the Discount % tags from first 3 pages and scraping the text from it in an empty list\n",
    "discount_list = []\n",
    "for i in page_url[:3]:\n",
    "    driver.get(i)\n",
    "    time.sleep(2)\n",
    "    discount_tags = driver.find_elements_by_xpath(\"//div[@class='_3Ay6Sb']//span\")\n",
    "    for i in discount_tags:\n",
    "        discount_list.append(i.text)\n",
    "discount_list"
   ]
  },
  {
   "cell_type": "code",
   "execution_count": 33,
   "metadata": {},
   "outputs": [
    {
     "data": {
      "text/html": [
       "<div>\n",
       "<style scoped>\n",
       "    .dataframe tbody tr th:only-of-type {\n",
       "        vertical-align: middle;\n",
       "    }\n",
       "\n",
       "    .dataframe tbody tr th {\n",
       "        vertical-align: top;\n",
       "    }\n",
       "\n",
       "    .dataframe thead th {\n",
       "        text-align: right;\n",
       "    }\n",
       "</style>\n",
       "<table border=\"1\" class=\"dataframe\">\n",
       "  <thead>\n",
       "    <tr style=\"text-align: right;\">\n",
       "      <th></th>\n",
       "      <th>Brand</th>\n",
       "      <th>Product Description</th>\n",
       "      <th>Price</th>\n",
       "      <th>Discount %</th>\n",
       "    </tr>\n",
       "  </thead>\n",
       "  <tbody>\n",
       "    <tr>\n",
       "      <th>0</th>\n",
       "      <td>Chevit</td>\n",
       "      <td>Super Stylish &amp; Trendy Combo Pack of 02 Pairs ...</td>\n",
       "      <td>₹599</td>\n",
       "      <td>62% off</td>\n",
       "    </tr>\n",
       "    <tr>\n",
       "      <th>1</th>\n",
       "      <td>PEHANOSA</td>\n",
       "      <td>Sneakers For Men</td>\n",
       "      <td>₹398</td>\n",
       "      <td>60% off</td>\n",
       "    </tr>\n",
       "    <tr>\n",
       "      <th>2</th>\n",
       "      <td>luxury fashion</td>\n",
       "      <td>Luxury Fashionable casual sneaker shoes Sneake...</td>\n",
       "      <td>₹399</td>\n",
       "      <td>69% off</td>\n",
       "    </tr>\n",
       "    <tr>\n",
       "      <th>3</th>\n",
       "      <td>Shoes Bank</td>\n",
       "      <td>White Sneaker For Men's/Boy's Sneakers For Men</td>\n",
       "      <td>₹349</td>\n",
       "      <td>65% off</td>\n",
       "    </tr>\n",
       "    <tr>\n",
       "      <th>4</th>\n",
       "      <td>Chevit</td>\n",
       "      <td>Unique &amp; Perfect Collection Combo Pack of 02 S...</td>\n",
       "      <td>₹449</td>\n",
       "      <td>70% off</td>\n",
       "    </tr>\n",
       "    <tr>\n",
       "      <th>...</th>\n",
       "      <td>...</td>\n",
       "      <td>...</td>\n",
       "      <td>...</td>\n",
       "      <td>...</td>\n",
       "    </tr>\n",
       "    <tr>\n",
       "      <th>95</th>\n",
       "      <td>VIPSJAZZY</td>\n",
       "      <td>Sneakers For Men</td>\n",
       "      <td>₹399</td>\n",
       "      <td>62% off</td>\n",
       "    </tr>\n",
       "    <tr>\n",
       "      <th>96</th>\n",
       "      <td>Robbie jones</td>\n",
       "      <td>Casual Sneakers Shoes For Men Sneakers For Men</td>\n",
       "      <td>₹379</td>\n",
       "      <td>60% off</td>\n",
       "    </tr>\n",
       "    <tr>\n",
       "      <th>97</th>\n",
       "      <td>ROCKFIELD</td>\n",
       "      <td>Sneakers For Men</td>\n",
       "      <td>₹399</td>\n",
       "      <td>68% off</td>\n",
       "    </tr>\n",
       "    <tr>\n",
       "      <th>98</th>\n",
       "      <td>Chevit</td>\n",
       "      <td>Chevit Combo Pack of 5 Casual Sneakers With Ca...</td>\n",
       "      <td>₹798</td>\n",
       "      <td>42% off</td>\n",
       "    </tr>\n",
       "    <tr>\n",
       "      <th>99</th>\n",
       "      <td>PUMA</td>\n",
       "      <td>Caracal Sneakers For Men</td>\n",
       "      <td>₹2,883</td>\n",
       "      <td>75% off</td>\n",
       "    </tr>\n",
       "  </tbody>\n",
       "</table>\n",
       "<p>100 rows × 4 columns</p>\n",
       "</div>"
      ],
      "text/plain": [
       "             Brand                                Product Description   Price  \\\n",
       "0           Chevit  Super Stylish & Trendy Combo Pack of 02 Pairs ...    ₹599   \n",
       "1         PEHANOSA                                   Sneakers For Men    ₹398   \n",
       "2   luxury fashion  Luxury Fashionable casual sneaker shoes Sneake...    ₹399   \n",
       "3       Shoes Bank     White Sneaker For Men's/Boy's Sneakers For Men    ₹349   \n",
       "4           Chevit  Unique & Perfect Collection Combo Pack of 02 S...    ₹449   \n",
       "..             ...                                                ...     ...   \n",
       "95       VIPSJAZZY                                   Sneakers For Men    ₹399   \n",
       "96    Robbie jones     Casual Sneakers Shoes For Men Sneakers For Men    ₹379   \n",
       "97       ROCKFIELD                                   Sneakers For Men    ₹399   \n",
       "98          Chevit  Chevit Combo Pack of 5 Casual Sneakers With Ca...    ₹798   \n",
       "99            PUMA                           Caracal Sneakers For Men  ₹2,883   \n",
       "\n",
       "   Discount %  \n",
       "0     62% off  \n",
       "1     60% off  \n",
       "2     69% off  \n",
       "3     65% off  \n",
       "4     70% off  \n",
       "..        ...  \n",
       "95    62% off  \n",
       "96    60% off  \n",
       "97    68% off  \n",
       "98    42% off  \n",
       "99    75% off  \n",
       "\n",
       "[100 rows x 4 columns]"
      ]
     },
     "execution_count": 33,
     "metadata": {},
     "output_type": "execute_result"
    }
   ],
   "source": [
    "#Finally create a dataframe of the scraped with applied filters.\n",
    "#Creating a dataframe for Brand, Product Description, Price & Discount %\n",
    "\n",
    "df = pd.DataFrame({})\n",
    "\n",
    "df[\"Brand\"] = brand_list[:100]\n",
    "df[\"Product Description\"] = description_list[:100]\n",
    "df[\"Price\"] = price_list[:100]\n",
    "df[\"Discount %\"] = discount_list[:100]\n",
    "df"
   ]
  },
  {
   "cell_type": "markdown",
   "metadata": {},
   "source": [
    "Crosschecked the 100th value on Flipkart website and can confirm that the data was scraped correctly."
   ]
  },
  {
   "cell_type": "markdown",
   "metadata": {},
   "source": [
    "### Q9: Go to the link - https://www.myntra.com/shoes\n",
    "Set Price filter to “Rs. 6649 to Rs. 13099” , Color filter to “Black”.\n",
    "And then scrape First 100 shoes data you get. The data should include “Brand” of the shoes , Short Shoe description, price of the shoe.\n",
    "\n",
    "Note: There was no price filter “Rs. 6649 to Rs. 13099” hence taking the second option \"Rs. 5349 to Rs. 10499\""
   ]
  },
  {
   "cell_type": "code",
   "execution_count": 43,
   "metadata": {},
   "outputs": [],
   "source": [
    "#first get the webpage 'https://www.myntra.com/shoes'\n",
    "\n",
    "driver.get('https://www.myntra.com/shoes')"
   ]
  },
  {
   "cell_type": "code",
   "execution_count": 44,
   "metadata": {},
   "outputs": [],
   "source": [
    "#Get the element tag of price filter \"Rs. 5349 to Rs. 10499\" and click on it:\n",
    "price_filter = driver.find_element_by_xpath(\"/html/body/div[2]/div/div[1]/main/div[3]/div[1]/section/div/div[5]/ul/li[2]/label\")\n",
    "price_filter.click()\n",
    "time.sleep(2)"
   ]
  },
  {
   "cell_type": "code",
   "execution_count": 45,
   "metadata": {},
   "outputs": [],
   "source": [
    "#Get the element tag of Color filter “Black” and click on it:\n",
    "color_filter = driver.find_element_by_xpath(\"/html/body/div[2]/div/div[1]/main/div[3]/div[1]/section/div/div[6]/ul/li[1]/label\")\n",
    "color_filter.click()\n",
    "time.sleep(2)"
   ]
  },
  {
   "cell_type": "code",
   "execution_count": 46,
   "metadata": {},
   "outputs": [
    {
     "data": {
      "text/plain": [
       "['https://www.myntra.com/shoes?f=Color%3ABlack_36454f&plaEnabled=false&rf=Price%3A5349.0_10499.0_5349.0%20TO%2010499.0',\n",
       " 'https://www.myntra.com/shoes?f=Color%3ABlack_36454f&plaEnabled=false&rf=Price%3A5349.0_10499.0_5349.0%20TO%2010499.0&p=2',\n",
       " 'https://www.myntra.com/shoes?f=Color%3ABlack_36454f&plaEnabled=false&rf=Price%3A5349.0_10499.0_5349.0%20TO%2010499.0&p=3',\n",
       " 'https://www.myntra.com/shoes?f=Color%3ABlack_36454f&plaEnabled=false&rf=Price%3A5349.0_10499.0_5349.0%20TO%2010499.0&p=4',\n",
       " 'https://www.myntra.com/shoes?f=Color%3ABlack_36454f&plaEnabled=false&rf=Price%3A5349.0_10499.0_5349.0%20TO%2010499.0&p=5',\n",
       " 'https://www.myntra.com/shoes?f=Color%3ABlack_36454f&plaEnabled=false&rf=Price%3A5349.0_10499.0_5349.0%20TO%2010499.0&p=6',\n",
       " 'https://www.myntra.com/shoes?f=Color%3ABlack_36454f&plaEnabled=false&rf=Price%3A5349.0_10499.0_5349.0%20TO%2010499.0&p=7',\n",
       " 'https://www.myntra.com/shoes?f=Color%3ABlack_36454f&plaEnabled=false&rf=Price%3A5349.0_10499.0_5349.0%20TO%2010499.0&p=8',\n",
       " 'https://www.myntra.com/shoes?f=Color%3ABlack_36454f&plaEnabled=false&rf=Price%3A5349.0_10499.0_5349.0%20TO%2010499.0&p=9',\n",
       " 'https://www.myntra.com/shoes?f=Color%3ABlack_36454f&plaEnabled=false&rf=Price%3A5349.0_10499.0_5349.0%20TO%2010499.0&p=10',\n",
       " 'https://www.myntra.com/shoes?f=Color%3ABlack_36454f&plaEnabled=false&rf=Price%3A5349.0_10499.0_5349.0%20TO%2010499.0&p=2']"
      ]
     },
     "execution_count": 46,
     "metadata": {},
     "output_type": "execute_result"
    }
   ],
   "source": [
    "#let's extract the URLs of all the pages using navigation bar as I want to scape first 100 shoes data \n",
    "page_url = []\n",
    "url = driver.find_elements_by_xpath(\"//ul[@class='pagination-container']//a\") \n",
    "for i in url:\n",
    "    page_url.append(i.get_attribute('href'))\n",
    "page_url"
   ]
  },
  {
   "cell_type": "code",
   "execution_count": 47,
   "metadata": {},
   "outputs": [
    {
     "data": {
      "text/plain": [
       "['Nike',\n",
       " 'Nike',\n",
       " 'Puma',\n",
       " 'Nike',\n",
       " 'ADIDAS',\n",
       " 'UNDER ARMOUR',\n",
       " 'UNDER ARMOUR',\n",
       " 'UNDER ARMOUR',\n",
       " 'PUMA Hoops',\n",
       " 'TARMAK By Decathlon',\n",
       " 'Puma',\n",
       " 'Nike',\n",
       " 'UNDER ARMOUR',\n",
       " 'UNDER ARMOUR',\n",
       " 'Puma',\n",
       " 'UNDER ARMOUR',\n",
       " 'UNDER ARMOUR',\n",
       " 'Hush Puppies',\n",
       " 'Hush Puppies',\n",
       " 'UNDER ARMOUR',\n",
       " 'Skechers',\n",
       " 'UNDER ARMOUR',\n",
       " 'RARE RABBIT',\n",
       " 'Jack & Jones',\n",
       " 'Reebok',\n",
       " 'Bugatti',\n",
       " 'ADIDAS',\n",
       " 'Puma',\n",
       " 'Lacoste',\n",
       " 'FORCLAZ By Decathlon',\n",
       " 'Quechua By Decathlon',\n",
       " 'Puma',\n",
       " 'Puma',\n",
       " 'Hush Puppies',\n",
       " 'PUMA Motorsport',\n",
       " 'Puma',\n",
       " 'Hush Puppies',\n",
       " 'RARE RABBIT',\n",
       " 'Hush Puppies',\n",
       " 'Hush Puppies',\n",
       " 'UNDER ARMOUR',\n",
       " 'UNDER ARMOUR',\n",
       " 'Geox',\n",
       " 'Quechua By Decathlon',\n",
       " 'Hush Puppies',\n",
       " 'Hush Puppies',\n",
       " 'Puma',\n",
       " 'RARE RABBIT',\n",
       " 'Nike',\n",
       " 'UNDER ARMOUR',\n",
       " 'UNDER ARMOUR',\n",
       " 'Xtep',\n",
       " 'Bugatti',\n",
       " 'RARE RABBIT',\n",
       " 'Jack & Jones',\n",
       " 'Hush Puppies',\n",
       " 'UNDER ARMOUR',\n",
       " 'RARE RABBIT',\n",
       " 'FORCLAZ By Decathlon',\n",
       " 'DAVINCHI',\n",
       " 'Geox',\n",
       " 'Geox',\n",
       " 'Alberto Torresi',\n",
       " 'J.FONTINI',\n",
       " 'Geox',\n",
       " 'Geox',\n",
       " 'J.FONTINI',\n",
       " 'Geox',\n",
       " 'Bugatti',\n",
       " 'Xtep',\n",
       " 'H&M',\n",
       " 'ADIDAS',\n",
       " 'Geox',\n",
       " 'Hush Puppies',\n",
       " 'Hush Puppies',\n",
       " 'Geox',\n",
       " 'Geox',\n",
       " 'Saint G',\n",
       " 'Puma',\n",
       " 'J.FONTINI',\n",
       " 'Geox',\n",
       " 'J.FONTINI',\n",
       " 'Hush Puppies',\n",
       " 'Geox',\n",
       " 'KIPRUN By Decathlon',\n",
       " 'Kenneth Cole',\n",
       " 'Kenneth Cole',\n",
       " 'Saint G',\n",
       " 'Metro',\n",
       " 'Quechua By Decathlon',\n",
       " 'ASICS',\n",
       " 'Blackberrys',\n",
       " 'Metro',\n",
       " 'UNDER ARMOUR',\n",
       " 'one8 Select BY VIRAT KOHLI',\n",
       " 'UNDER ARMOUR',\n",
       " 'Puma',\n",
       " 'Saint G',\n",
       " 'Saint G',\n",
       " 'FILA']"
      ]
     },
     "execution_count": 47,
     "metadata": {},
     "output_type": "execute_result"
    }
   ],
   "source": [
    "#finding the brand tags from first 2 pages/URLs and scraping the text from it in an empty list\n",
    "# One page has around 50 shoes listed\n",
    "brand_list = []\n",
    "for i in page_url[:2]:\n",
    "    driver.get(i)\n",
    "    time.sleep(1)\n",
    "    brand_tags = driver.find_elements_by_xpath(\"//h3[@class='product-brand']\")\n",
    "    for i in brand_tags:\n",
    "        brand_list.append(i.text)\n",
    "brand_list"
   ]
  },
  {
   "cell_type": "code",
   "execution_count": 48,
   "metadata": {},
   "outputs": [
    {
     "data": {
      "text/plain": [
       "100"
      ]
     },
     "execution_count": 48,
     "metadata": {},
     "output_type": "execute_result"
    }
   ],
   "source": [
    "#Confirming the length of my data. It should be 100 for 2 pages\n",
    "len(brand_list)"
   ]
  },
  {
   "cell_type": "code",
   "execution_count": 49,
   "metadata": {},
   "outputs": [
    {
     "data": {
      "text/plain": [
       "['Men Renew Retaliation TR 3',\n",
       " 'Men ZOOM SPAN 3 Running Shoes',\n",
       " 'Men Flex Run 2021 Running Shoe',\n",
       " 'Unisex Future Rider Sneakers',\n",
       " 'Women Response SR Running',\n",
       " 'Men Charged Pursuit 2 SE',\n",
       " 'Men Perforations Leather Brogues',\n",
       " 'Unisex Project Rock Recruit',\n",
       " 'Men Charged Pursuit 2 SE Shoes',\n",
       " 'Unisex Clyde Basketball Shoes',\n",
       " 'Men Basketball Shoes',\n",
       " 'Mesh Hybrid Fuego Running',\n",
       " \"Men BlazerLow '77 Sneakers\",\n",
       " 'Women Charged Bandit 6 Running',\n",
       " 'Men Charged Commit 3 Training',\n",
       " 'Women Velocity Nitro Running',\n",
       " 'Men Phade Running Shoes',\n",
       " 'Men Charged Assert 8 Marble',\n",
       " 'Men Leather Slip-On Sneakers',\n",
       " 'Men Leather Slip-On Sneakers',\n",
       " 'Men Equalizer 4.0 Trail',\n",
       " 'Men Charged Rogue 2.5 RFLCT',\n",
       " 'GS SC 3Zero IV Basketball',\n",
       " 'Men Leather Flat Boots',\n",
       " 'Forever Floatride Energy 2',\n",
       " 'Men Slip-On Sneakers',\n",
       " 'Men CourtJam Bounce Tennis Shoes',\n",
       " 'Men Black Running Shoes',\n",
       " 'Men Woven Design Slip-On Sneakers',\n",
       " 'TREKKING 100 Boots',\n",
       " 'Men Perforated Slip On Sneaker',\n",
       " 'Women Waterproof Hiking Shoes',\n",
       " 'Unisex Connect Splash Trainers',\n",
       " 'Men SOFTRIDE Rift Shoes',\n",
       " 'Men Leather Derbys',\n",
       " 'Men Leather Formal Oxfords',\n",
       " 'Unisex Sneakers',\n",
       " 'Men Leader VT Running Shoes',\n",
       " 'Men Leather Monk Shoes',\n",
       " 'Men Printed Slip-On Sneakers',\n",
       " 'Men Formal Derbys',\n",
       " 'Women Liquify Rebel Running',\n",
       " 'Men Victory Sneakers',\n",
       " 'Men Leather Slip-On Sneakers',\n",
       " 'Men Solid Leather Formal Slip-Ons',\n",
       " 'Men Trekking Shoes',\n",
       " 'Men Solid Leather Formal Oxfords',\n",
       " 'Women Eternity Nitro Running',\n",
       " 'Women AIR MAX VIVA Sneakers',\n",
       " 'Women Charged Rogue 2.5ClrSft',\n",
       " 'Women Charged Rogue 2.5ClrSft',\n",
       " 'Women Running Shoes',\n",
       " 'Men Sneakers',\n",
       " 'Men Camouflage Print Sneakers',\n",
       " 'Men Leather Formal Brogues',\n",
       " 'Women Charged Assert 8 Running',\n",
       " 'Men Printed Slip-On Sneakers',\n",
       " 'Men Hiking Shoes',\n",
       " 'Men Solid Formal Leather Slip-On Shoes',\n",
       " 'Men Textured Leather Driving Shoes',\n",
       " 'Men Leather Driving Shoes',\n",
       " 'Men Sneakers',\n",
       " 'Men Perforations Brogues',\n",
       " 'Men Textured Leather Loafers',\n",
       " 'Men Solid Sneakers',\n",
       " 'Men Leather Formal Oxfords',\n",
       " 'Men Textured Leather Loafers',\n",
       " 'Men Solid Leather Formal Slip-Ons',\n",
       " 'Women Mules',\n",
       " 'AIR MEGA Energy Ring Shoes',\n",
       " 'Men Woven Design Sneakers',\n",
       " 'Black Leather boots',\n",
       " 'Women SUPERNOVA Running Shoes',\n",
       " 'Men Leather Derbys',\n",
       " 'Men Solid Leather Formal Derbys',\n",
       " 'Men Leather Formal Monks',\n",
       " 'Leather Block Sandals',\n",
       " 'Women Deviate Nitro Running',\n",
       " 'Men Leather Formal Loafers',\n",
       " 'Men Solid Formal Loafers',\n",
       " 'Men Leather Formal Derbys',\n",
       " 'Women Running Shoes',\n",
       " 'Men Solid Leather Formal Derbys',\n",
       " 'Men Solid Leather Formal Slip-Ons',\n",
       " 'Women Leather Heeled Boots',\n",
       " 'Men Leather Boots',\n",
       " 'Men Leather Formal Slip-Ons',\n",
       " 'Waterproof Walking Shoes',\n",
       " 'Women Running Shoes',\n",
       " 'Women Charged Vantage ClrShft',\n",
       " 'Men Solid Formal Leather Slip-On Shoes',\n",
       " 'Men Textured Leather Handcrafted Sole Wingman Formal Slip-Ons',\n",
       " 'Women Charged Impulse Shft',\n",
       " 'Women Magnify Nitro Shoes',\n",
       " 'Women Leather Pumps',\n",
       " 'Women Leather Heeled Boots',\n",
       " 'Women Leather Heeled Boots',\n",
       " 'Men Running Shoes',\n",
       " 'Women Charged Breathe CLR SFT',\n",
       " 'Women Leather Horsebit Loafers']"
      ]
     },
     "execution_count": 49,
     "metadata": {},
     "output_type": "execute_result"
    }
   ],
   "source": [
    "#finding the description tags from first 2 pages/URLs and scraping the text from it in an empty list\n",
    "# One page has around 50 shoes listed\n",
    "description_list = []\n",
    "for i in page_url[:2]:\n",
    "    driver.get(i)\n",
    "    time.sleep(1)\n",
    "    description_tags = driver.find_elements_by_xpath(\"//h4[@class='product-product']\")\n",
    "    for i in description_tags:\n",
    "        description_list.append(i.text)\n",
    "description_list"
   ]
  },
  {
   "cell_type": "code",
   "execution_count": 50,
   "metadata": {},
   "outputs": [
    {
     "data": {
      "text/plain": [
       "100"
      ]
     },
     "execution_count": 50,
     "metadata": {},
     "output_type": "execute_result"
    }
   ],
   "source": [
    "#Confirming the length of my data. It should be 100 for 2 pages\n",
    "len(description_list)"
   ]
  },
  {
   "cell_type": "code",
   "execution_count": 51,
   "metadata": {},
   "outputs": [
    {
     "data": {
      "text/plain": [
       "['Rs. 5396Rs. 7195(25% OFF)',\n",
       " 'Rs. 6795',\n",
       " 'Rs. 5995',\n",
       " 'Rs. 6999',\n",
       " 'Rs. 6079Rs. 7599(20% OFF)',\n",
       " 'Rs. 8249Rs. 10999(25% OFF)',\n",
       " 'Rs. 6999',\n",
       " 'Rs. 9999',\n",
       " 'Rs. 6999',\n",
       " 'Rs. 7149Rs. 10999(35% OFF)',\n",
       " 'Rs. 5499',\n",
       " 'Rs. 6999',\n",
       " 'Rs. 7195',\n",
       " 'Rs. 8999',\n",
       " 'Rs. 7999',\n",
       " 'Rs. 7149Rs. 10999(35% OFF)',\n",
       " 'Rs. 6499',\n",
       " 'Rs. 6999',\n",
       " 'Rs. 6999Rs. 9999(30% OFF)',\n",
       " 'Rs. 6299Rs. 6999(10% OFF)',\n",
       " 'Rs. 5995',\n",
       " 'Rs. 7999',\n",
       " 'Rs. 6499',\n",
       " 'Rs. 7499',\n",
       " 'Rs. 5999',\n",
       " 'Rs. 6749Rs. 8999(25% OFF)',\n",
       " 'Rs. 5999Rs. 9999(40% OFF)',\n",
       " 'Rs. 6399Rs. 7999(20% OFF)',\n",
       " 'Rs. 5999Rs. 7999(25% OFF)',\n",
       " 'Rs. 5499',\n",
       " 'Rs. 5950Rs. 8500(30% OFF)',\n",
       " 'Rs. 6999',\n",
       " 'Rs. 5499',\n",
       " 'Rs. 8999',\n",
       " 'Rs. 6499',\n",
       " 'Rs. 5599Rs. 7999(30% OFF)',\n",
       " 'Rs. 5399Rs. 5999(10% OFF)',\n",
       " 'Rs. 5999',\n",
       " 'Rs. 5849Rs. 8999(35% OFF)',\n",
       " 'Rs. 5399Rs. 5999(10% OFF)',\n",
       " 'Rs. 5849Rs. 8999(35% OFF)',\n",
       " 'Rs. 8999Rs. 9999(10% OFF)',\n",
       " 'Rs. 8099Rs. 8999(10% OFF)',\n",
       " 'Rs. 5999',\n",
       " 'Rs. 9490',\n",
       " 'Rs. 9999',\n",
       " 'Rs. 5399Rs. 5999(10% OFF)',\n",
       " 'Rs. 5999Rs. 7999(25% OFF)',\n",
       " 'Rs. 8449Rs. 12999(35% OFF)',\n",
       " 'Rs. 8121Rs. 12495(35% OFF)',\n",
       " 'Rs. 8121Rs. 12495(35% OFF)',\n",
       " 'Rs. 7999',\n",
       " 'Rs. 5699',\n",
       " 'Rs. 7999',\n",
       " 'Rs. 5499',\n",
       " 'Rs. 5399Rs. 5999(10% OFF)',\n",
       " 'Rs. 6999',\n",
       " 'Rs. 7499Rs. 9999(25% OFF)',\n",
       " 'Rs. 5579Rs. 5999(7% OFF)',\n",
       " 'Rs. 6990',\n",
       " 'Rs. 9999',\n",
       " 'Rs. 9990',\n",
       " 'Rs. 7499Rs. 9999(25% OFF)',\n",
       " 'Rs. 5995',\n",
       " 'Rs. 8249Rs. 10999(25% OFF)',\n",
       " 'Rs. 7990',\n",
       " 'Rs. 10490',\n",
       " 'Rs. 6990',\n",
       " 'Rs. 5999Rs. 7499(20% OFF)',\n",
       " 'Rs. 5599Rs. 6999(20% OFF)',\n",
       " 'Rs. 5999',\n",
       " 'Rs. 6999Rs. 9999(30% OFF)',\n",
       " 'Rs. 8999Rs. 9999(10% OFF)',\n",
       " 'Rs. 8999Rs. 9999(10% OFF)',\n",
       " 'Rs. 7999Rs. 15999(50% OFF)',\n",
       " 'Rs. 10355Rs. 10900(5% OFF)',\n",
       " 'Rs. 8999Rs. 14999(40% OFF)',\n",
       " 'Rs. 6990',\n",
       " 'Rs. 5999Rs. 7999(25% OFF)',\n",
       " 'Rs. 9999',\n",
       " 'Rs. 6490',\n",
       " 'Rs. 7006Rs. 7149(2% OFF)',\n",
       " 'Rs. 6299Rs. 6999(10% OFF)',\n",
       " 'Rs. 6293Rs. 8990(30% OFF)',\n",
       " 'Rs. 7600',\n",
       " 'Rs. 5394Rs. 8990(40% OFF)',\n",
       " 'Rs. 5990',\n",
       " 'Rs. 5669Rs. 6999(19% OFF)',\n",
       " 'Rs. 6299Rs. 8999(30% OFF)',\n",
       " 'Rs. 7999',\n",
       " 'Rs. 5495',\n",
       " 'Rs. 5490',\n",
       " 'Rs. 5399Rs. 5999(10% OFF)',\n",
       " 'Rs. 7499',\n",
       " 'Rs. 10399Rs. 12999(20% OFF)',\n",
       " 'Rs. 6500',\n",
       " 'Rs. 6500',\n",
       " 'Rs. 6499',\n",
       " 'Rs. 5524Rs. 8499(35% OFF)',\n",
       " 'Rs. 7999']"
      ]
     },
     "execution_count": 51,
     "metadata": {},
     "output_type": "execute_result"
    }
   ],
   "source": [
    "#finding the price tags from first 2 pages/URLs and scraping the text from it in an empty list\n",
    "# One page has around 50 shoes listed\n",
    "price_list = []\n",
    "for i in page_url[:2]:\n",
    "    driver.get(i)\n",
    "    time.sleep(1)\n",
    "    price_tags = driver.find_elements_by_xpath(\"//div[@class='product-price']\")\n",
    "    for i in price_tags:\n",
    "        price_list.append(i.text)\n",
    "price_list"
   ]
  },
  {
   "cell_type": "code",
   "execution_count": 52,
   "metadata": {},
   "outputs": [
    {
     "data": {
      "text/plain": [
       "100"
      ]
     },
     "execution_count": 52,
     "metadata": {},
     "output_type": "execute_result"
    }
   ],
   "source": [
    "#Confirming the length of my data. It should be 100 for 2 pages\n",
    "len(price_list)"
   ]
  },
  {
   "cell_type": "code",
   "execution_count": 53,
   "metadata": {},
   "outputs": [
    {
     "data": {
      "text/html": [
       "<div>\n",
       "<style scoped>\n",
       "    .dataframe tbody tr th:only-of-type {\n",
       "        vertical-align: middle;\n",
       "    }\n",
       "\n",
       "    .dataframe tbody tr th {\n",
       "        vertical-align: top;\n",
       "    }\n",
       "\n",
       "    .dataframe thead th {\n",
       "        text-align: right;\n",
       "    }\n",
       "</style>\n",
       "<table border=\"1\" class=\"dataframe\">\n",
       "  <thead>\n",
       "    <tr style=\"text-align: right;\">\n",
       "      <th></th>\n",
       "      <th>Brand</th>\n",
       "      <th>Product description</th>\n",
       "      <th>Price</th>\n",
       "    </tr>\n",
       "  </thead>\n",
       "  <tbody>\n",
       "    <tr>\n",
       "      <th>0</th>\n",
       "      <td>Nike</td>\n",
       "      <td>Men Renew Retaliation TR 3</td>\n",
       "      <td>Rs. 5396Rs. 7195(25% OFF)</td>\n",
       "    </tr>\n",
       "    <tr>\n",
       "      <th>1</th>\n",
       "      <td>Nike</td>\n",
       "      <td>Men ZOOM SPAN 3 Running Shoes</td>\n",
       "      <td>Rs. 6795</td>\n",
       "    </tr>\n",
       "    <tr>\n",
       "      <th>2</th>\n",
       "      <td>Puma</td>\n",
       "      <td>Men Flex Run 2021 Running Shoe</td>\n",
       "      <td>Rs. 5995</td>\n",
       "    </tr>\n",
       "    <tr>\n",
       "      <th>3</th>\n",
       "      <td>Nike</td>\n",
       "      <td>Unisex Future Rider Sneakers</td>\n",
       "      <td>Rs. 6999</td>\n",
       "    </tr>\n",
       "    <tr>\n",
       "      <th>4</th>\n",
       "      <td>ADIDAS</td>\n",
       "      <td>Women Response SR Running</td>\n",
       "      <td>Rs. 6079Rs. 7599(20% OFF)</td>\n",
       "    </tr>\n",
       "    <tr>\n",
       "      <th>...</th>\n",
       "      <td>...</td>\n",
       "      <td>...</td>\n",
       "      <td>...</td>\n",
       "    </tr>\n",
       "    <tr>\n",
       "      <th>95</th>\n",
       "      <td>UNDER ARMOUR</td>\n",
       "      <td>Women Leather Heeled Boots</td>\n",
       "      <td>Rs. 6500</td>\n",
       "    </tr>\n",
       "    <tr>\n",
       "      <th>96</th>\n",
       "      <td>Puma</td>\n",
       "      <td>Women Leather Heeled Boots</td>\n",
       "      <td>Rs. 6500</td>\n",
       "    </tr>\n",
       "    <tr>\n",
       "      <th>97</th>\n",
       "      <td>Saint G</td>\n",
       "      <td>Men Running Shoes</td>\n",
       "      <td>Rs. 6499</td>\n",
       "    </tr>\n",
       "    <tr>\n",
       "      <th>98</th>\n",
       "      <td>Saint G</td>\n",
       "      <td>Women Charged Breathe CLR SFT</td>\n",
       "      <td>Rs. 5524Rs. 8499(35% OFF)</td>\n",
       "    </tr>\n",
       "    <tr>\n",
       "      <th>99</th>\n",
       "      <td>FILA</td>\n",
       "      <td>Women Leather Horsebit Loafers</td>\n",
       "      <td>Rs. 7999</td>\n",
       "    </tr>\n",
       "  </tbody>\n",
       "</table>\n",
       "<p>100 rows × 3 columns</p>\n",
       "</div>"
      ],
      "text/plain": [
       "           Brand             Product description                      Price\n",
       "0           Nike      Men Renew Retaliation TR 3  Rs. 5396Rs. 7195(25% OFF)\n",
       "1           Nike   Men ZOOM SPAN 3 Running Shoes                   Rs. 6795\n",
       "2           Puma  Men Flex Run 2021 Running Shoe                   Rs. 5995\n",
       "3           Nike    Unisex Future Rider Sneakers                   Rs. 6999\n",
       "4         ADIDAS       Women Response SR Running  Rs. 6079Rs. 7599(20% OFF)\n",
       "..           ...                             ...                        ...\n",
       "95  UNDER ARMOUR      Women Leather Heeled Boots                   Rs. 6500\n",
       "96          Puma      Women Leather Heeled Boots                   Rs. 6500\n",
       "97       Saint G               Men Running Shoes                   Rs. 6499\n",
       "98       Saint G   Women Charged Breathe CLR SFT  Rs. 5524Rs. 8499(35% OFF)\n",
       "99          FILA  Women Leather Horsebit Loafers                   Rs. 7999\n",
       "\n",
       "[100 rows x 3 columns]"
      ]
     },
     "execution_count": 53,
     "metadata": {},
     "output_type": "execute_result"
    }
   ],
   "source": [
    "#Finally creating a dataframe of first 100 shoes scraped.\n",
    "#Creating a dataframe for Brand, Product description & Price.\n",
    "\n",
    "df = pd.DataFrame({})\n",
    "\n",
    "df[\"Brand\"] = brand_list[:100]\n",
    "df[\"Product description\"] = description_list[:100]\n",
    "df[\"Price\"] = price_list[:100]\n",
    "df"
   ]
  },
  {
   "cell_type": "markdown",
   "metadata": {},
   "source": [
    "Crosschecked the 100th value on Flipkart website and can confirm that the data was scraped correctly."
   ]
  },
  {
   "cell_type": "markdown",
   "metadata": {},
   "source": [
    "### Q10: Go to webpage https://www.amazon.in/\n",
    "Enter “Laptop” in the search field and then click the search icon.\n",
    "Then set CPU Type filter to “Intel Core i7” and “Intel Core i9”\n",
    "After setting the filters scrape first 10 laptops data. You have to scrape 3 attributes for each laptop:\n",
    "1. title\n",
    "2. Ratings\n",
    "3. Price"
   ]
  },
  {
   "cell_type": "code",
   "execution_count": 140,
   "metadata": {},
   "outputs": [],
   "source": [
    "#First get the webpage https://www.amazon.in/\n",
    "driver.get('https://www.amazon.in/')"
   ]
  },
  {
   "cell_type": "code",
   "execution_count": 141,
   "metadata": {},
   "outputs": [],
   "source": [
    "#Enter “Laptop” in the search field and then click the search icon.\n",
    "\n",
    "#locating web element of search bar and sending keys to type in search field\n",
    "search_product = driver.find_element_by_id('twotabsearchtextbox')\n",
    "search_product.send_keys('Laptop')"
   ]
  },
  {
   "cell_type": "code",
   "execution_count": 142,
   "metadata": {},
   "outputs": [],
   "source": [
    "#Now find web element of search icon and click on it\n",
    "search_button = driver.find_element_by_id(\"nav-search-submit-button\")\n",
    "search_button.click()\n",
    "time.sleep(3)"
   ]
  },
  {
   "cell_type": "code",
   "execution_count": 143,
   "metadata": {},
   "outputs": [],
   "source": [
    "#set CPU Type filter to “Intel Core i7” and “Intel Core i9”\n",
    "\n",
    "#finding web element for “Intel Core i7” and clicking on it\n",
    "i7_filter = driver.find_element_by_xpath(\"/html/body/div[1]/div[2]/div[1]/div/div[2]/div/div[3]/span/div[1]/span/div/div/div[6]/ul[1]/li[26]/span/a/span\")\n",
    "i7_filter.click()\n",
    "time.sleep(3)"
   ]
  },
  {
   "cell_type": "code",
   "execution_count": 144,
   "metadata": {},
   "outputs": [],
   "source": [
    "#finding web element for “Intel Core i9” and clicking on it\n",
    "i9_filter = driver.find_element_by_xpath(\"/html/body/div[1]/div[2]/div[1]/div/div[2]/div/div[3]/span/div[1]/span/div/div/div[6]/ul[1]/li[28]/span/a/span\")\n",
    "i9_filter.click()\n",
    "time.sleep(3)"
   ]
  },
  {
   "cell_type": "code",
   "execution_count": 145,
   "metadata": {},
   "outputs": [],
   "source": [
    "#After setting the filters scrape first 10 laptops data for Title, Ratings & Price.\n",
    "\n",
    "#Let's extract all the Title tags  \n",
    "titles_tags = driver.find_elements_by_xpath(\"//h2[@class='a-size-mini a-spacing-none a-color-base s-line-clamp-2']\")"
   ]
  },
  {
   "cell_type": "code",
   "execution_count": 146,
   "metadata": {},
   "outputs": [
    {
     "data": {
      "text/plain": [
       "['ASUS TUF Dash F15 (2021), 15.6\" (39.62 cms) FHD 144Hz, Intel Core i7-11370H 11th Gen, RTX 3050 Ti 4GB Graphics, Gaming Laptop (16GB/1TB SSD/Office 2019/Windows 10/Eclipse Gray/2 kg), FX516PE-HN088TS',\n",
       " 'HP Envy 11th Gen Core i7 Processor 13.3-inch (33.78 cms) FHD Touchscreen Laptop (16GB/1TB SSD/Win 10/NVIDIA MX450 2GB/Natural Silver/1.3 kg), 13-ba1018TX',\n",
       " 'Mi Notebook Horizon Edition 14 Intel Core i7-10510U 10th Gen 14-inch (35.56 cms) Thin and Light Laptop(8GB/512GB SSD/Windows 10/Nvidia MX350 2GB Graphics/Grey/1.35Kg), XMA1904-AF+Webcam',\n",
       " 'HP Pavilion (2021) Thin & Light 11th Gen Core i7 Laptop, 16 GB RAM, 1TB SSD, Iris Xe Graphics, 14\" (35.56cms) FHD Screen, Windows 10, MS Office, Backlit Keyboard (14-dv0058TU)',\n",
       " 'MSI GF65 Thin, Intel i7-10750H, 15.6\" FHD (39.6 cm) IPS-Level 144Hz Panel Laptop (16GB/512GB NVMe SSD/Windows 10 Home/Nvidia GTX1660 Ti 6GB GDDR6/Black/1.86Kg), 10SDR-1280IN',\n",
       " 'ASUS TUF Gaming F15 (2020), 15.6-inch (39.62 cms) FHD 144Hz, Intel Core i7-10870H 10th Gen, NVIDIA GeForce GTX 1650 4GB Graphics, Gaming Laptop(8GB/512GB SSDWindows 10/Gray/2.3 Kg), FX566LH-HN255T',\n",
       " 'HP Envy 11th Gen Core i7 Processor 13.3-inch (33.78 cms) FHD Touchscreen Laptop (16GB/1TB SSD/Win 10/NVIDIA MX450 2GB/Natural Silver/1.3 kg), 13-ba1018TX',\n",
       " '2019 Apple MacBook Pro (16-inch/40.65 cm, 16GB RAM, 1TB Storage, 2.3GHz 9th Gen Intel Core i9) - Silver',\n",
       " 'Life Digital Laptop 15.6-inch (39.62 cms) (Intel Core i7, 4GB RAM, 256GB SSD, Windows 10), ZED AIR CX7',\n",
       " 'ASUS TUF Dash F15 (2021), 15.6\" (39.62 cms) FHD 144Hz, Intel Core i7-11370H 11th Gen, RTX 3050 Ti 4GB Graphics, Gaming Laptop (16GB/1TB SSD/Office 2019/Windows 10/Eclipse Gray/2 kg), FX516PE-HN088TS']"
      ]
     },
     "execution_count": 146,
     "metadata": {},
     "output_type": "execute_result"
    }
   ],
   "source": [
    "#Extracting the text from title web elements in an empty list \n",
    "title_list = []\n",
    "\n",
    "for i in titles_tags[:10]:\n",
    "    title_list.append(i.text) \n",
    "title_list"
   ]
  },
  {
   "cell_type": "code",
   "execution_count": 147,
   "metadata": {},
   "outputs": [
    {
     "data": {
      "text/plain": [
       "[<selenium.webdriver.remote.webelement.WebElement (session=\"66356f12c277e55b203597870bd31548\", element=\"c1b0eba0-5e73-4251-901a-9efa673445ea\")>,\n",
       " <selenium.webdriver.remote.webelement.WebElement (session=\"66356f12c277e55b203597870bd31548\", element=\"a1257fcb-e63d-440a-8298-5bb46b09e637\")>,\n",
       " <selenium.webdriver.remote.webelement.WebElement (session=\"66356f12c277e55b203597870bd31548\", element=\"3dd3c05d-09a8-480f-9c67-e20915d8ba33\")>,\n",
       " <selenium.webdriver.remote.webelement.WebElement (session=\"66356f12c277e55b203597870bd31548\", element=\"d27e3299-2d40-4dea-a54d-db8ff8c9457a\")>,\n",
       " <selenium.webdriver.remote.webelement.WebElement (session=\"66356f12c277e55b203597870bd31548\", element=\"d4eeb540-e84f-4c83-ab2f-25116a4e65cd\")>,\n",
       " <selenium.webdriver.remote.webelement.WebElement (session=\"66356f12c277e55b203597870bd31548\", element=\"77ead4b3-7303-41b8-b58a-eea600f93fb7\")>,\n",
       " <selenium.webdriver.remote.webelement.WebElement (session=\"66356f12c277e55b203597870bd31548\", element=\"d0f5ee6d-a766-4e16-be96-bf2a3d6b5a66\")>,\n",
       " <selenium.webdriver.remote.webelement.WebElement (session=\"66356f12c277e55b203597870bd31548\", element=\"05017091-9c5b-4f0c-86bd-fda1d8f6b464\")>,\n",
       " <selenium.webdriver.remote.webelement.WebElement (session=\"66356f12c277e55b203597870bd31548\", element=\"27ca99dc-6292-486b-bb5b-0fe9044aeb3c\")>,\n",
       " <selenium.webdriver.remote.webelement.WebElement (session=\"66356f12c277e55b203597870bd31548\", element=\"40b816ea-2955-4714-8556-c0b0a40fd17b\")>,\n",
       " <selenium.webdriver.remote.webelement.WebElement (session=\"66356f12c277e55b203597870bd31548\", element=\"145e8a84-071d-4fb3-ab82-dc3122b42796\")>,\n",
       " <selenium.webdriver.remote.webelement.WebElement (session=\"66356f12c277e55b203597870bd31548\", element=\"0fd0c3e8-5263-4713-b131-56900735beb0\")>,\n",
       " <selenium.webdriver.remote.webelement.WebElement (session=\"66356f12c277e55b203597870bd31548\", element=\"336ba0c8-ec9b-4b74-8665-055615159c55\")>,\n",
       " <selenium.webdriver.remote.webelement.WebElement (session=\"66356f12c277e55b203597870bd31548\", element=\"a38d6227-7aa1-4d65-91c4-1289816ac7f4\")>,\n",
       " <selenium.webdriver.remote.webelement.WebElement (session=\"66356f12c277e55b203597870bd31548\", element=\"0a429f11-6301-496d-9354-bcfc163526b5\")>,\n",
       " <selenium.webdriver.remote.webelement.WebElement (session=\"66356f12c277e55b203597870bd31548\", element=\"f93795bc-8662-4297-ad92-39dfc16c7d37\")>,\n",
       " <selenium.webdriver.remote.webelement.WebElement (session=\"66356f12c277e55b203597870bd31548\", element=\"eeb01dc9-d6f7-48fe-b42d-0282701bf1ab\")>,\n",
       " <selenium.webdriver.remote.webelement.WebElement (session=\"66356f12c277e55b203597870bd31548\", element=\"799edbfb-178a-438b-aa5d-8d0b04184984\")>,\n",
       " <selenium.webdriver.remote.webelement.WebElement (session=\"66356f12c277e55b203597870bd31548\", element=\"b944bb01-bf98-4746-95d3-e593dd269e11\")>,\n",
       " <selenium.webdriver.remote.webelement.WebElement (session=\"66356f12c277e55b203597870bd31548\", element=\"c1cb5dd5-a0d0-4c95-9d5e-5d275b721ae6\")>,\n",
       " <selenium.webdriver.remote.webelement.WebElement (session=\"66356f12c277e55b203597870bd31548\", element=\"bc6e223c-3631-40b7-88d9-b884cea4cd42\")>,\n",
       " <selenium.webdriver.remote.webelement.WebElement (session=\"66356f12c277e55b203597870bd31548\", element=\"e58c2a3f-9734-456f-a875-8fcc72588763\")>,\n",
       " <selenium.webdriver.remote.webelement.WebElement (session=\"66356f12c277e55b203597870bd31548\", element=\"5a1e4493-fa71-487d-8938-66e84eca775b\")>,\n",
       " <selenium.webdriver.remote.webelement.WebElement (session=\"66356f12c277e55b203597870bd31548\", element=\"25169e0e-d32b-498a-8089-a73a245beee9\")>,\n",
       " <selenium.webdriver.remote.webelement.WebElement (session=\"66356f12c277e55b203597870bd31548\", element=\"be7d1035-2ae8-493a-9226-ec604359b090\")>,\n",
       " <selenium.webdriver.remote.webelement.WebElement (session=\"66356f12c277e55b203597870bd31548\", element=\"a110beab-78d9-446d-a6d5-df10c5bb3c39\")>]"
      ]
     },
     "execution_count": 147,
     "metadata": {},
     "output_type": "execute_result"
    }
   ],
   "source": [
    "#Let's extract all the price tags  \n",
    "price_tags = driver.find_elements_by_xpath(\"//span[@class='a-price']\")\n",
    "price_tags"
   ]
  },
  {
   "cell_type": "code",
   "execution_count": 148,
   "metadata": {},
   "outputs": [
    {
     "data": {
      "text/plain": [
       "['₹1,07,990',\n",
       " '₹1,09,990',\n",
       " '₹59,999',\n",
       " '₹84,990',\n",
       " '₹81,990',\n",
       " '₹71,990',\n",
       " '₹1,09,990',\n",
       " '₹2,15,990',\n",
       " '₹34,990',\n",
       " '₹1,07,990',\n",
       " '₹74,990',\n",
       " '₹77,590',\n",
       " '₹83,590',\n",
       " '₹1,03,000',\n",
       " '₹94,999',\n",
       " '₹44,999',\n",
       " '₹1,02,990',\n",
       " '₹86,990',\n",
       " '₹87,990',\n",
       " '₹73,990',\n",
       " '₹1,03,990',\n",
       " '₹94,999',\n",
       " '₹1,03,000',\n",
       " '₹79,797',\n",
       " '₹50,999',\n",
       " '₹62,990']"
      ]
     },
     "execution_count": 148,
     "metadata": {},
     "output_type": "execute_result"
    }
   ],
   "source": [
    "#Extracting the text from price web elements in an empty list \n",
    "prices_list = []\n",
    "\n",
    "for i in price_tags:\n",
    "    prices_list.append(i.text) \n",
    "prices_list"
   ]
  },
  {
   "cell_type": "code",
   "execution_count": 149,
   "metadata": {},
   "outputs": [
    {
     "data": {
      "text/plain": [
       "[<selenium.webdriver.remote.webelement.WebElement (session=\"66356f12c277e55b203597870bd31548\", element=\"774c3feb-692d-441d-a237-8dcdb1247863\")>,\n",
       " <selenium.webdriver.remote.webelement.WebElement (session=\"66356f12c277e55b203597870bd31548\", element=\"8ea6c8ad-27ca-47f6-90ef-a68c570b9061\")>,\n",
       " <selenium.webdriver.remote.webelement.WebElement (session=\"66356f12c277e55b203597870bd31548\", element=\"2a30e06b-2f42-4d76-adba-11b1629f55b7\")>,\n",
       " <selenium.webdriver.remote.webelement.WebElement (session=\"66356f12c277e55b203597870bd31548\", element=\"15902e2a-a9d5-4693-8135-9392ddffb490\")>,\n",
       " <selenium.webdriver.remote.webelement.WebElement (session=\"66356f12c277e55b203597870bd31548\", element=\"1cdc9c36-4e80-417f-bbe1-410333e8ff21\")>,\n",
       " <selenium.webdriver.remote.webelement.WebElement (session=\"66356f12c277e55b203597870bd31548\", element=\"cf96a535-cb8f-4465-930b-cab32fb66106\")>,\n",
       " <selenium.webdriver.remote.webelement.WebElement (session=\"66356f12c277e55b203597870bd31548\", element=\"2e0896d4-75cb-4d22-90a8-1cdba4e2c82e\")>,\n",
       " <selenium.webdriver.remote.webelement.WebElement (session=\"66356f12c277e55b203597870bd31548\", element=\"d75435bd-9d88-4730-842b-68575dfd5576\")>,\n",
       " <selenium.webdriver.remote.webelement.WebElement (session=\"66356f12c277e55b203597870bd31548\", element=\"b0780685-a158-4841-8815-1938d8793497\")>,\n",
       " <selenium.webdriver.remote.webelement.WebElement (session=\"66356f12c277e55b203597870bd31548\", element=\"c1ba93b8-02e1-4709-8e83-318621b2a571\")>,\n",
       " <selenium.webdriver.remote.webelement.WebElement (session=\"66356f12c277e55b203597870bd31548\", element=\"676bb229-f550-494a-b065-8e68fd7b745d\")>,\n",
       " <selenium.webdriver.remote.webelement.WebElement (session=\"66356f12c277e55b203597870bd31548\", element=\"0b855923-992e-4ae8-b4fe-cb3c9dd94b42\")>,\n",
       " <selenium.webdriver.remote.webelement.WebElement (session=\"66356f12c277e55b203597870bd31548\", element=\"847eb2c6-b3a8-404b-ae1c-de7a7ac6879b\")>,\n",
       " <selenium.webdriver.remote.webelement.WebElement (session=\"66356f12c277e55b203597870bd31548\", element=\"ad093803-ea60-4f44-a5f2-6aeaad5ce257\")>,\n",
       " <selenium.webdriver.remote.webelement.WebElement (session=\"66356f12c277e55b203597870bd31548\", element=\"b32b5ecf-3333-4b3f-a614-67d37f8a414f\")>,\n",
       " <selenium.webdriver.remote.webelement.WebElement (session=\"66356f12c277e55b203597870bd31548\", element=\"6bfad4d2-5ce6-4f32-a1ec-56c5eb47b9c4\")>,\n",
       " <selenium.webdriver.remote.webelement.WebElement (session=\"66356f12c277e55b203597870bd31548\", element=\"404e6041-bab3-4b10-8ab5-ba21b97e9513\")>,\n",
       " <selenium.webdriver.remote.webelement.WebElement (session=\"66356f12c277e55b203597870bd31548\", element=\"7d6a1d10-87da-48c2-b657-becc870bab03\")>,\n",
       " <selenium.webdriver.remote.webelement.WebElement (session=\"66356f12c277e55b203597870bd31548\", element=\"8d6bef82-906a-4de8-a5e4-6486e6f8f589\")>,\n",
       " <selenium.webdriver.remote.webelement.WebElement (session=\"66356f12c277e55b203597870bd31548\", element=\"19ac28ed-fb23-42ae-b873-ae7d72101970\")>,\n",
       " <selenium.webdriver.remote.webelement.WebElement (session=\"66356f12c277e55b203597870bd31548\", element=\"d90b5c35-1365-4fc9-a1e2-1e5683103bf6\")>,\n",
       " <selenium.webdriver.remote.webelement.WebElement (session=\"66356f12c277e55b203597870bd31548\", element=\"ef795fc2-b374-4d20-a964-8290e56ec0fa\")>,\n",
       " <selenium.webdriver.remote.webelement.WebElement (session=\"66356f12c277e55b203597870bd31548\", element=\"2c642510-ba5d-4b4a-bb35-0cc44fafdb2c\")>,\n",
       " <selenium.webdriver.remote.webelement.WebElement (session=\"66356f12c277e55b203597870bd31548\", element=\"292e9bf7-490b-44ed-b77e-a45f3601896b\")>,\n",
       " <selenium.webdriver.remote.webelement.WebElement (session=\"66356f12c277e55b203597870bd31548\", element=\"851fd94c-076b-4cdb-bab5-d2d6ca9ba7b8\")>,\n",
       " <selenium.webdriver.remote.webelement.WebElement (session=\"66356f12c277e55b203597870bd31548\", element=\"b2535ff8-298c-46b1-a5f2-624d89fffd10\")>,\n",
       " <selenium.webdriver.remote.webelement.WebElement (session=\"66356f12c277e55b203597870bd31548\", element=\"2ae9e5d2-29f8-43df-95cf-7e00c4a3cde6\")>,\n",
       " <selenium.webdriver.remote.webelement.WebElement (session=\"66356f12c277e55b203597870bd31548\", element=\"a1b6527f-560c-4ab7-a029-61bcdd128b28\")>]"
      ]
     },
     "execution_count": 149,
     "metadata": {},
     "output_type": "execute_result"
    }
   ],
   "source": [
    "#let's extract the URLs of all the laptops listed so that I can scrape ratigs from it \n",
    "urls = []\n",
    "all_url = driver.find_elements_by_xpath(\"//a[@class='a-link-normal a-text-normal']\")\n",
    "all_url"
   ]
  },
  {
   "cell_type": "code",
   "execution_count": 150,
   "metadata": {
    "scrolled": true
   },
   "outputs": [
    {
     "data": {
      "text/plain": [
       "['https://www.amazon.in/gp/slredirect/picassoRedirect.html/ref=pa_sp_atf_computers_sr_pg1_1?ie=UTF8&adId=A05737051OF0H1VKX0MNY&url=%2FASUS-TUF-F15-i7-11370H-FX516PE-HN088TS%2Fdp%2FB094RDLV5P%2Fref%3Dsr_1_1_sspa%3Fdchild%3D1%26keywords%3DLaptop%26qid%3D1629131750%26refinements%3Dp_n_feature_thirteen_browse-bin%253A12598163031%257C16757432031%26rnid%3D12598141031%26s%3Dcomputers%26sr%3D1-1-spons%26psc%3D1&qualifier=1629131750&id=2150502210624094&widgetName=sp_atf',\n",
       " 'https://www.amazon.in/gp/slredirect/picassoRedirect.html/ref=pa_sp_atf_computers_sr_pg1_1?ie=UTF8&adId=A10081262K6KZOZ37JXYV&url=%2FHP-Processor-13-3-inch-Touchscreen-13-ba1018TX%2Fdp%2FB091FJ13Q5%2Fref%3Dsr_1_2_sspa%3Fdchild%3D1%26keywords%3DLaptop%26qid%3D1629131750%26refinements%3Dp_n_feature_thirteen_browse-bin%253A12598163031%257C16757432031%26rnid%3D12598141031%26s%3Dcomputers%26sr%3D1-2-spons%26psc%3D1&qualifier=1629131750&id=2150502210624094&widgetName=sp_atf',\n",
       " 'https://www.amazon.in/Notebook-Horizon-i7-10510U-Graphics-XMA1904-AF/dp/B089F2W1KW/ref=sr_1_3?dchild=1&keywords=Laptop&qid=1629131750&refinements=p_n_feature_thirteen_browse-bin%3A12598163031%7C16757432031&rnid=12598141031&s=computers&sr=1-3',\n",
       " 'https://www.amazon.in/HP-Pavilion-Graphics-35-56cms-14-dv0058TU/dp/B08WB857GB/ref=sr_1_4?dchild=1&keywords=Laptop&qid=1629131750&refinements=p_n_feature_thirteen_browse-bin%3A12598163031%7C16757432031&rnid=12598141031&s=computers&sr=1-4',\n",
       " 'https://www.amazon.in/MSI-i7-10750H-IPS-Level-Windows-10SDR-1280IN/dp/B093L8JCZV/ref=sr_1_5?dchild=1&keywords=Laptop&qid=1629131750&refinements=p_n_feature_thirteen_browse-bin%3A12598163031%7C16757432031&rnid=12598141031&s=computers&sr=1-5',\n",
       " 'https://www.amazon.in/ASUS-15-6-inch-i7-10870H-SSDWindows-FX566LH-HN255T/dp/B096VKVFCN/ref=sr_1_6?dchild=1&keywords=Laptop&qid=1629131750&refinements=p_n_feature_thirteen_browse-bin%3A12598163031%7C16757432031&rnid=12598141031&s=computers&sr=1-6',\n",
       " 'https://www.amazon.in/HP-Processor-13-3-inch-Touchscreen-13-ba1018TX/dp/B091FJ13Q5/ref=sr_1_7?dchild=1&keywords=Laptop&qid=1629131750&refinements=p_n_feature_thirteen_browse-bin%3A12598163031%7C16757432031&rnid=12598141031&s=computers&sr=1-7',\n",
       " 'https://www.amazon.in/Apple-MacBook-16-inch-Storage-2-3GHz/dp/B081JX8QP9/ref=sr_1_8?dchild=1&keywords=Laptop&qid=1629131750&refinements=p_n_feature_thirteen_browse-bin%3A12598163031%7C16757432031&rnid=12598141031&s=computers&sr=1-8',\n",
       " 'https://www.amazon.in/LifeDigital-Laptop-Intel%C2%AE-Storage-Windows/dp/B08HRMHZ8J/ref=sr_1_9?dchild=1&keywords=Laptop&qid=1629131750&refinements=p_n_feature_thirteen_browse-bin%3A12598163031%7C16757432031&rnid=12598141031&s=computers&sr=1-9',\n",
       " 'https://www.amazon.in/ASUS-TUF-F15-i7-11370H-FX516PE-HN088TS/dp/B094RDLV5P/ref=sr_1_10?dchild=1&keywords=Laptop&qid=1629131750&refinements=p_n_feature_thirteen_browse-bin%3A12598163031%7C16757432031&rnid=12598141031&s=computers&sr=1-10']"
      ]
     },
     "execution_count": 150,
     "metadata": {},
     "output_type": "execute_result"
    }
   ],
   "source": [
    "#Extracting the URLs of first 10 listed laptops in urls variable\n",
    "for l in all_url[0:10]:\n",
    "    urls.append(l.get_attribute('href'))\n",
    "urls"
   ]
  },
  {
   "cell_type": "code",
   "execution_count": 152,
   "metadata": {},
   "outputs": [],
   "source": [
    "#finding the ratings tag in all URLs and scraping the text from it in an empty list\n",
    "ratings_list = []\n",
    "for x in urls:\n",
    "    driver.get(x)\n",
    "    time.sleep(1)\n",
    "    try:              \n",
    "        ratings_tag=driver.find_element_by_xpath(\"//span[@class='a-size-medium a-color-base']\")\n",
    "        ratings_list.append(ratings_tag.text)\n",
    "    except NoSuchElementException as e :\n",
    "    \n",
    "        ratings_list.append(\"No rating\")"
   ]
  },
  {
   "cell_type": "code",
   "execution_count": 153,
   "metadata": {},
   "outputs": [
    {
     "data": {
      "text/plain": [
       "['4.5 out of 5',\n",
       " '4.1 out of 5',\n",
       " '4.4 out of 5',\n",
       " '4.3 out of 5',\n",
       " '3.7 out of 5',\n",
       " '3.8 out of 5',\n",
       " '4.1 out of 5',\n",
       " '4.3 out of 5',\n",
       " '3.6 out of 5',\n",
       " '4.5 out of 5']"
      ]
     },
     "execution_count": 153,
     "metadata": {},
     "output_type": "execute_result"
    }
   ],
   "source": [
    "ratings_list"
   ]
  },
  {
   "cell_type": "code",
   "execution_count": 155,
   "metadata": {},
   "outputs": [
    {
     "data": {
      "text/html": [
       "<div>\n",
       "<style scoped>\n",
       "    .dataframe tbody tr th:only-of-type {\n",
       "        vertical-align: middle;\n",
       "    }\n",
       "\n",
       "    .dataframe tbody tr th {\n",
       "        vertical-align: top;\n",
       "    }\n",
       "\n",
       "    .dataframe thead th {\n",
       "        text-align: right;\n",
       "    }\n",
       "</style>\n",
       "<table border=\"1\" class=\"dataframe\">\n",
       "  <thead>\n",
       "    <tr style=\"text-align: right;\">\n",
       "      <th></th>\n",
       "      <th>Title</th>\n",
       "      <th>Ratings</th>\n",
       "      <th>Price</th>\n",
       "    </tr>\n",
       "  </thead>\n",
       "  <tbody>\n",
       "    <tr>\n",
       "      <th>0</th>\n",
       "      <td>ASUS TUF Dash F15 (2021), 15.6\" (39.62 cms) FH...</td>\n",
       "      <td>4.5 out of 5</td>\n",
       "      <td>₹1,07,990</td>\n",
       "    </tr>\n",
       "    <tr>\n",
       "      <th>1</th>\n",
       "      <td>HP Envy 11th Gen Core i7 Processor 13.3-inch (...</td>\n",
       "      <td>4.1 out of 5</td>\n",
       "      <td>₹1,09,990</td>\n",
       "    </tr>\n",
       "    <tr>\n",
       "      <th>2</th>\n",
       "      <td>Mi Notebook Horizon Edition 14 Intel Core i7-1...</td>\n",
       "      <td>4.4 out of 5</td>\n",
       "      <td>₹59,999</td>\n",
       "    </tr>\n",
       "    <tr>\n",
       "      <th>3</th>\n",
       "      <td>HP Pavilion (2021) Thin &amp; Light 11th Gen Core ...</td>\n",
       "      <td>4.3 out of 5</td>\n",
       "      <td>₹84,990</td>\n",
       "    </tr>\n",
       "    <tr>\n",
       "      <th>4</th>\n",
       "      <td>MSI GF65 Thin, Intel i7-10750H, 15.6\" FHD (39....</td>\n",
       "      <td>3.7 out of 5</td>\n",
       "      <td>₹81,990</td>\n",
       "    </tr>\n",
       "    <tr>\n",
       "      <th>5</th>\n",
       "      <td>ASUS TUF Gaming F15 (2020), 15.6-inch (39.62 c...</td>\n",
       "      <td>3.8 out of 5</td>\n",
       "      <td>₹71,990</td>\n",
       "    </tr>\n",
       "    <tr>\n",
       "      <th>6</th>\n",
       "      <td>HP Envy 11th Gen Core i7 Processor 13.3-inch (...</td>\n",
       "      <td>4.1 out of 5</td>\n",
       "      <td>₹1,09,990</td>\n",
       "    </tr>\n",
       "    <tr>\n",
       "      <th>7</th>\n",
       "      <td>2019 Apple MacBook Pro (16-inch/40.65 cm, 16GB...</td>\n",
       "      <td>4.3 out of 5</td>\n",
       "      <td>₹2,15,990</td>\n",
       "    </tr>\n",
       "    <tr>\n",
       "      <th>8</th>\n",
       "      <td>Life Digital Laptop 15.6-inch (39.62 cms) (Int...</td>\n",
       "      <td>3.6 out of 5</td>\n",
       "      <td>₹34,990</td>\n",
       "    </tr>\n",
       "    <tr>\n",
       "      <th>9</th>\n",
       "      <td>ASUS TUF Dash F15 (2021), 15.6\" (39.62 cms) FH...</td>\n",
       "      <td>4.5 out of 5</td>\n",
       "      <td>₹1,07,990</td>\n",
       "    </tr>\n",
       "  </tbody>\n",
       "</table>\n",
       "</div>"
      ],
      "text/plain": [
       "                                               Title       Ratings      Price\n",
       "0  ASUS TUF Dash F15 (2021), 15.6\" (39.62 cms) FH...  4.5 out of 5  ₹1,07,990\n",
       "1  HP Envy 11th Gen Core i7 Processor 13.3-inch (...  4.1 out of 5  ₹1,09,990\n",
       "2  Mi Notebook Horizon Edition 14 Intel Core i7-1...  4.4 out of 5    ₹59,999\n",
       "3  HP Pavilion (2021) Thin & Light 11th Gen Core ...  4.3 out of 5    ₹84,990\n",
       "4  MSI GF65 Thin, Intel i7-10750H, 15.6\" FHD (39....  3.7 out of 5    ₹81,990\n",
       "5  ASUS TUF Gaming F15 (2020), 15.6-inch (39.62 c...  3.8 out of 5    ₹71,990\n",
       "6  HP Envy 11th Gen Core i7 Processor 13.3-inch (...  4.1 out of 5  ₹1,09,990\n",
       "7  2019 Apple MacBook Pro (16-inch/40.65 cm, 16GB...  4.3 out of 5  ₹2,15,990\n",
       "8  Life Digital Laptop 15.6-inch (39.62 cms) (Int...  3.6 out of 5    ₹34,990\n",
       "9  ASUS TUF Dash F15 (2021), 15.6\" (39.62 cms) FH...  4.5 out of 5  ₹1,07,990"
      ]
     },
     "execution_count": 155,
     "metadata": {},
     "output_type": "execute_result"
    }
   ],
   "source": [
    "#Finally creating a dataframe of first 10 laptop scraped with CPU filter.\n",
    "#Creating a dataframe for Title, Ratings & Price.\n",
    "\n",
    "df = pd.DataFrame({})\n",
    "\n",
    "df[\"Title\"] = title_list[:10]\n",
    "df[\"Ratings\"] = ratings_list[:10]\n",
    "df[\"Price\"] = prices_list[:10]\n",
    "df"
   ]
  },
  {
   "cell_type": "markdown",
   "metadata": {},
   "source": [
    "Crosschecked the 10th value on Amazon website and can confirm that the data was scraped correctly."
   ]
  },
  {
   "cell_type": "markdown",
   "metadata": {},
   "source": [
    "## Done :)"
   ]
  }
 ],
 "metadata": {
  "kernelspec": {
   "display_name": "Python 3",
   "language": "python",
   "name": "python3"
  },
  "language_info": {
   "codemirror_mode": {
    "name": "ipython",
    "version": 3
   },
   "file_extension": ".py",
   "mimetype": "text/x-python",
   "name": "python",
   "nbconvert_exporter": "python",
   "pygments_lexer": "ipython3",
   "version": "3.8.5"
  }
 },
 "nbformat": 4,
 "nbformat_minor": 5
}
