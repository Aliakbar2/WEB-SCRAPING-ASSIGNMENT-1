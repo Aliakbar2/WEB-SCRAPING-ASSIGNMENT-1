{
 "cells": [
  {
   "cell_type": "code",
   "execution_count": 95,
   "id": "33e2c9a0",
   "metadata": {},
   "outputs": [
    {
     "name": "stdout",
     "output_type": "stream",
     "text": [
      "Requirement already satisfied: selenium in c:\\users\\lenovo\\anaconda3\\lib\\site-packages (3.141.0)\n",
      "Requirement already satisfied: urllib3 in c:\\users\\lenovo\\anaconda3\\lib\\site-packages (from selenium) (1.26.4)\n"
     ]
    }
   ],
   "source": [
    "#Let's first install the Selenium library\n",
    "!pip install selenium"
   ]
  },
  {
   "cell_type": "code",
   "execution_count": 96,
   "id": "9f70beab",
   "metadata": {},
   "outputs": [],
   "source": [
    "#Now let's import the libraries\n",
    "import selenium\n",
    "import pandas as pd\n",
    "from selenium import webdriver"
   ]
  },
  {
   "cell_type": "code",
   "execution_count": 244,
   "id": "44ab3dd2",
   "metadata": {},
   "outputs": [],
   "source": [
    "#Creating driver variable and connecting to the web driver\n",
    "driver = webdriver.Chrome(\"chromedriver.exe\")"
   ]
  },
  {
   "cell_type": "markdown",
   "id": "5e14f9ab",
   "metadata": {},
   "source": [
    "### Q1: Write a python program to scrape data for “Data Analyst” Job position in “Bangalore” location. You have to scrape the job-title, job-location, company_name, experience_required. You have to scrape first 10 jobs data."
   ]
  },
  {
   "cell_type": "code",
   "execution_count": 98,
   "id": "b670a844",
   "metadata": {},
   "outputs": [],
   "source": [
    "#1. first get the webpage https://www.naukri.com/\n",
    "driver.get('https://www.naukri.com/')"
   ]
  },
  {
   "cell_type": "code",
   "execution_count": 99,
   "id": "f73d90ac",
   "metadata": {},
   "outputs": [],
   "source": [
    "#2. Enter “Data Analyst” in “Skill,Designations,Companies” field and enter “Bangalore”\n",
    "#in “enter the location” field.\n",
    "\n",
    "#sending keys to type in “Skill,Designations,Companies” field\n",
    "search_job = driver.find_element_by_id(\"qsb-keyword-sugg\")\n",
    "search_job.send_keys('Data Analyst')\n",
    "\n",
    "#sending keys to type in “enter the location” field\n",
    "search_loc = driver.find_element_by_id('qsb-location-sugg')\n",
    "search_loc.send_keys('Bangalore')\n"
   ]
  },
  {
   "cell_type": "code",
   "execution_count": 100,
   "id": "fa7544dc",
   "metadata": {},
   "outputs": [],
   "source": [
    "#3. Then click the Search button.\n",
    "search_btn = driver.find_element_by_xpath(\"//button[@class='btn']\")\n",
    "search_btn.click()"
   ]
  },
  {
   "cell_type": "code",
   "execution_count": 105,
   "id": "82da5e6a",
   "metadata": {},
   "outputs": [
    {
     "data": {
      "text/plain": [
       "[<selenium.webdriver.remote.webelement.WebElement (session=\"50c63a681c9b19999deeab7e50957ae7\", element=\"d834eb5a-6013-451e-9cef-aa45c45da625\")>,\n",
       " <selenium.webdriver.remote.webelement.WebElement (session=\"50c63a681c9b19999deeab7e50957ae7\", element=\"dacc199f-35a4-4c7f-908f-e2ad158e4f51\")>,\n",
       " <selenium.webdriver.remote.webelement.WebElement (session=\"50c63a681c9b19999deeab7e50957ae7\", element=\"fdd3fe85-4679-49b0-a14c-b9926b940ac3\")>,\n",
       " <selenium.webdriver.remote.webelement.WebElement (session=\"50c63a681c9b19999deeab7e50957ae7\", element=\"c660db26-6e13-4ba9-9f7d-03e8cdf848a7\")>,\n",
       " <selenium.webdriver.remote.webelement.WebElement (session=\"50c63a681c9b19999deeab7e50957ae7\", element=\"22a2a817-d7f6-4151-8aa3-7a1d1b4814ec\")>,\n",
       " <selenium.webdriver.remote.webelement.WebElement (session=\"50c63a681c9b19999deeab7e50957ae7\", element=\"194fc6e2-d1ff-4989-aa0e-86fdd9d21bb1\")>,\n",
       " <selenium.webdriver.remote.webelement.WebElement (session=\"50c63a681c9b19999deeab7e50957ae7\", element=\"e3dc8394-06fe-4296-89b7-d9f978e90b89\")>,\n",
       " <selenium.webdriver.remote.webelement.WebElement (session=\"50c63a681c9b19999deeab7e50957ae7\", element=\"a3404e02-2f75-4ad8-8bc0-a3180df932c3\")>,\n",
       " <selenium.webdriver.remote.webelement.WebElement (session=\"50c63a681c9b19999deeab7e50957ae7\", element=\"65caf336-fed7-4fbe-a6e4-264b7b62abcf\")>,\n",
       " <selenium.webdriver.remote.webelement.WebElement (session=\"50c63a681c9b19999deeab7e50957ae7\", element=\"b4fb7650-0408-41bc-ad24-f4c5a52d6c6e\")>,\n",
       " <selenium.webdriver.remote.webelement.WebElement (session=\"50c63a681c9b19999deeab7e50957ae7\", element=\"317a30bb-b07f-4a46-a554-3c13db295c92\")>,\n",
       " <selenium.webdriver.remote.webelement.WebElement (session=\"50c63a681c9b19999deeab7e50957ae7\", element=\"0d0e5d93-8255-4643-a6fa-265c45453989\")>,\n",
       " <selenium.webdriver.remote.webelement.WebElement (session=\"50c63a681c9b19999deeab7e50957ae7\", element=\"923ac7f7-adee-4ade-83e4-d0b86c7111a2\")>,\n",
       " <selenium.webdriver.remote.webelement.WebElement (session=\"50c63a681c9b19999deeab7e50957ae7\", element=\"e73307d5-87cd-45ac-af48-34511ca36dec\")>,\n",
       " <selenium.webdriver.remote.webelement.WebElement (session=\"50c63a681c9b19999deeab7e50957ae7\", element=\"ab2ff435-b6b8-4e64-839a-274f16f2bc44\")>,\n",
       " <selenium.webdriver.remote.webelement.WebElement (session=\"50c63a681c9b19999deeab7e50957ae7\", element=\"2b79757a-b11a-492a-b028-6bd311051bd5\")>,\n",
       " <selenium.webdriver.remote.webelement.WebElement (session=\"50c63a681c9b19999deeab7e50957ae7\", element=\"fd17eb88-50ad-4603-bda9-f0afb16d9281\")>,\n",
       " <selenium.webdriver.remote.webelement.WebElement (session=\"50c63a681c9b19999deeab7e50957ae7\", element=\"4400f676-a06d-4421-82de-9624e5bf47a8\")>,\n",
       " <selenium.webdriver.remote.webelement.WebElement (session=\"50c63a681c9b19999deeab7e50957ae7\", element=\"9b11e2ac-ed6d-4197-ac50-5b0b3b47033e\")>,\n",
       " <selenium.webdriver.remote.webelement.WebElement (session=\"50c63a681c9b19999deeab7e50957ae7\", element=\"ee159044-eecf-4888-b154-144ea4e93e23\")>]"
      ]
     },
     "execution_count": 105,
     "metadata": {},
     "output_type": "execute_result"
    }
   ],
   "source": [
    "#4. Then scrape the data for the first 10 jobs results you get.\n",
    "#Let's extract all the tags with job title\n",
    "titles_tags = driver.find_elements_by_xpath(\"//a[@class='title fw500 ellipsis']\")\n",
    "titles_tags"
   ]
  },
  {
   "cell_type": "code",
   "execution_count": 106,
   "id": "fc4a4721",
   "metadata": {},
   "outputs": [
    {
     "data": {
      "text/plain": [
       "['Business Data Analyst',\n",
       " 'Business Data Analyst',\n",
       " 'Data Analyst/Business Analyst-Gurgaon/Bangalore/Mumbai (only Females)',\n",
       " 'Senior Specialist - Data Analyst',\n",
       " 'Business/Data Analyst - SSE/LA',\n",
       " 'Business Data Analyst II',\n",
       " 'Data Analyst',\n",
       " 'Data Analyst',\n",
       " 'Senior Data Analyst',\n",
       " 'Data Analyst']"
      ]
     },
     "execution_count": 106,
     "metadata": {},
     "output_type": "execute_result"
    }
   ],
   "source": [
    "#Extracting the top 10 title text from the web elements we got\n",
    "job_titles=[]\n",
    "for i in titles_tags[:10]:       #titles_tags[:10] will display only 10 entries\n",
    "    job_titles.append(i.text)    #i.text is used to extract the text from webelement\n",
    "job_titles"
   ]
  },
  {
   "cell_type": "code",
   "execution_count": 109,
   "id": "ae2e9430",
   "metadata": {},
   "outputs": [
    {
     "data": {
      "text/plain": [
       "[<selenium.webdriver.remote.webelement.WebElement (session=\"50c63a681c9b19999deeab7e50957ae7\", element=\"37b82244-a1df-4dd1-a1f8-d13b072cf49f\")>,\n",
       " <selenium.webdriver.remote.webelement.WebElement (session=\"50c63a681c9b19999deeab7e50957ae7\", element=\"30c6226d-6491-49f9-8846-ed69924296ec\")>,\n",
       " <selenium.webdriver.remote.webelement.WebElement (session=\"50c63a681c9b19999deeab7e50957ae7\", element=\"a0ba0e76-2fbf-439c-bb43-87bb5a46ba4d\")>,\n",
       " <selenium.webdriver.remote.webelement.WebElement (session=\"50c63a681c9b19999deeab7e50957ae7\", element=\"26eba77b-485b-401a-84dd-f89e51c13698\")>,\n",
       " <selenium.webdriver.remote.webelement.WebElement (session=\"50c63a681c9b19999deeab7e50957ae7\", element=\"961c54a2-8e46-4795-bf42-764ae42eb219\")>,\n",
       " <selenium.webdriver.remote.webelement.WebElement (session=\"50c63a681c9b19999deeab7e50957ae7\", element=\"f3810ff9-efca-4456-9ea3-853c8ea2e9de\")>,\n",
       " <selenium.webdriver.remote.webelement.WebElement (session=\"50c63a681c9b19999deeab7e50957ae7\", element=\"c553fbc7-c4aa-48f0-90b2-314477d9fdcd\")>,\n",
       " <selenium.webdriver.remote.webelement.WebElement (session=\"50c63a681c9b19999deeab7e50957ae7\", element=\"329c108b-eb7f-484b-a5d9-f84e1dc8e470\")>,\n",
       " <selenium.webdriver.remote.webelement.WebElement (session=\"50c63a681c9b19999deeab7e50957ae7\", element=\"f25437ac-299b-4384-b46e-f242fbf185e5\")>,\n",
       " <selenium.webdriver.remote.webelement.WebElement (session=\"50c63a681c9b19999deeab7e50957ae7\", element=\"3ccecb86-2193-443f-9ab1-946381002ada\")>,\n",
       " <selenium.webdriver.remote.webelement.WebElement (session=\"50c63a681c9b19999deeab7e50957ae7\", element=\"b710d090-01e1-47a0-b7db-176c3fe94d15\")>,\n",
       " <selenium.webdriver.remote.webelement.WebElement (session=\"50c63a681c9b19999deeab7e50957ae7\", element=\"4852823b-4f9c-4baf-97f8-836ca6de8a45\")>,\n",
       " <selenium.webdriver.remote.webelement.WebElement (session=\"50c63a681c9b19999deeab7e50957ae7\", element=\"0d720edc-a828-4888-a49b-305939d05163\")>,\n",
       " <selenium.webdriver.remote.webelement.WebElement (session=\"50c63a681c9b19999deeab7e50957ae7\", element=\"56fd843b-9ae1-48ad-a9b2-0bca3d32321d\")>,\n",
       " <selenium.webdriver.remote.webelement.WebElement (session=\"50c63a681c9b19999deeab7e50957ae7\", element=\"48f6db2b-4d68-4f43-9732-5117c0768d93\")>,\n",
       " <selenium.webdriver.remote.webelement.WebElement (session=\"50c63a681c9b19999deeab7e50957ae7\", element=\"62540b57-de82-4551-8c33-5877f97629db\")>,\n",
       " <selenium.webdriver.remote.webelement.WebElement (session=\"50c63a681c9b19999deeab7e50957ae7\", element=\"991083fb-7e34-4e94-b907-64eaea138ed9\")>,\n",
       " <selenium.webdriver.remote.webelement.WebElement (session=\"50c63a681c9b19999deeab7e50957ae7\", element=\"5c787bcf-a0e7-49a0-ad43-7ec776e05b6d\")>,\n",
       " <selenium.webdriver.remote.webelement.WebElement (session=\"50c63a681c9b19999deeab7e50957ae7\", element=\"1279f03a-064c-4232-8fc8-a63889d5e1f9\")>,\n",
       " <selenium.webdriver.remote.webelement.WebElement (session=\"50c63a681c9b19999deeab7e50957ae7\", element=\"a1b13c4d-54e0-416d-912f-af27c683e7b1\")>]"
      ]
     },
     "execution_count": 109,
     "metadata": {},
     "output_type": "execute_result"
    }
   ],
   "source": [
    "#Let's extract all the tags with company name\n",
    "comp_tags = driver.find_elements_by_xpath(\"//a[@class='subTitle ellipsis fleft']\")\n",
    "comp_tags"
   ]
  },
  {
   "cell_type": "code",
   "execution_count": 111,
   "id": "3dd70e75",
   "metadata": {},
   "outputs": [
    {
     "data": {
      "text/plain": [
       "['Trigent Software',\n",
       " 'Trigent Software',\n",
       " 'India Medtronic Pvt. Ltd,.',\n",
       " 'Philips India Limited',\n",
       " 'CGI Information Systems and Management Consultants',\n",
       " 'Infobahn Softworld Inc.',\n",
       " 'WEIWO Communication Pvt. Ltd.',\n",
       " 'GCC SERVICES INDIA PRIVATE LIMITED',\n",
       " 'SMEDC SERVICES PRIVATE LIMITED',\n",
       " 'Allegis Services India Pvt. Ltd.']"
      ]
     },
     "execution_count": 111,
     "metadata": {},
     "output_type": "execute_result"
    }
   ],
   "source": [
    "#Extracting the company name text from the web elements we got\n",
    "comp_name=[]\n",
    "for i in comp_tags[:10]:       #This will display only 10 entries\n",
    "    comp_name.append(i.text)    #i.text is used to extract the text from webelement\n",
    "comp_name"
   ]
  },
  {
   "cell_type": "code",
   "execution_count": 112,
   "id": "767dbbee",
   "metadata": {},
   "outputs": [
    {
     "data": {
      "text/plain": [
       "[<selenium.webdriver.remote.webelement.WebElement (session=\"50c63a681c9b19999deeab7e50957ae7\", element=\"93db25aa-1c78-488b-bfa7-27aa72c17689\")>,\n",
       " <selenium.webdriver.remote.webelement.WebElement (session=\"50c63a681c9b19999deeab7e50957ae7\", element=\"b5688ab4-0fbc-42e4-8fc4-8f4038501cb6\")>,\n",
       " <selenium.webdriver.remote.webelement.WebElement (session=\"50c63a681c9b19999deeab7e50957ae7\", element=\"d60a49f9-ffbe-4ef3-98c9-961fee2fa4ee\")>,\n",
       " <selenium.webdriver.remote.webelement.WebElement (session=\"50c63a681c9b19999deeab7e50957ae7\", element=\"0cf13ba4-d00c-43a4-85b1-5369bdafa743\")>,\n",
       " <selenium.webdriver.remote.webelement.WebElement (session=\"50c63a681c9b19999deeab7e50957ae7\", element=\"bb6bbb65-7602-4a9e-bbb5-b243efee557c\")>,\n",
       " <selenium.webdriver.remote.webelement.WebElement (session=\"50c63a681c9b19999deeab7e50957ae7\", element=\"c0ae463b-b449-4f4a-8a2d-6d997b81c30f\")>,\n",
       " <selenium.webdriver.remote.webelement.WebElement (session=\"50c63a681c9b19999deeab7e50957ae7\", element=\"e402874b-b8ed-4280-83db-8e5731adb903\")>,\n",
       " <selenium.webdriver.remote.webelement.WebElement (session=\"50c63a681c9b19999deeab7e50957ae7\", element=\"9633d5ea-c76f-4e02-83fe-ad337644f00e\")>,\n",
       " <selenium.webdriver.remote.webelement.WebElement (session=\"50c63a681c9b19999deeab7e50957ae7\", element=\"a7cc8842-cc17-4d3b-ac21-58d8b9aede22\")>,\n",
       " <selenium.webdriver.remote.webelement.WebElement (session=\"50c63a681c9b19999deeab7e50957ae7\", element=\"91bdbaec-8180-4683-9751-ae3c3e708beb\")>,\n",
       " <selenium.webdriver.remote.webelement.WebElement (session=\"50c63a681c9b19999deeab7e50957ae7\", element=\"8ea81ee4-4a05-4788-8e64-58fa68a173ef\")>,\n",
       " <selenium.webdriver.remote.webelement.WebElement (session=\"50c63a681c9b19999deeab7e50957ae7\", element=\"d3a10bee-9243-47c5-ba98-2164cb46957a\")>,\n",
       " <selenium.webdriver.remote.webelement.WebElement (session=\"50c63a681c9b19999deeab7e50957ae7\", element=\"b2047947-afed-4f55-95eb-3165cc63f340\")>,\n",
       " <selenium.webdriver.remote.webelement.WebElement (session=\"50c63a681c9b19999deeab7e50957ae7\", element=\"85d2ae1a-ea85-4692-b996-6472de2281e0\")>,\n",
       " <selenium.webdriver.remote.webelement.WebElement (session=\"50c63a681c9b19999deeab7e50957ae7\", element=\"e59a2c41-21a3-4c13-9d1a-7fef059cd3ec\")>,\n",
       " <selenium.webdriver.remote.webelement.WebElement (session=\"50c63a681c9b19999deeab7e50957ae7\", element=\"cdf26824-e528-4d45-be72-7c0fd6190383\")>,\n",
       " <selenium.webdriver.remote.webelement.WebElement (session=\"50c63a681c9b19999deeab7e50957ae7\", element=\"8aff0939-7a10-4956-9f9b-8252e47aa33f\")>,\n",
       " <selenium.webdriver.remote.webelement.WebElement (session=\"50c63a681c9b19999deeab7e50957ae7\", element=\"f9ec7c59-29c6-4f95-a098-81ba403f9ced\")>,\n",
       " <selenium.webdriver.remote.webelement.WebElement (session=\"50c63a681c9b19999deeab7e50957ae7\", element=\"0df395a4-07b1-4093-93cc-92f6865b24d7\")>,\n",
       " <selenium.webdriver.remote.webelement.WebElement (session=\"50c63a681c9b19999deeab7e50957ae7\", element=\"db8380e3-cf77-4266-a1bf-f232856fc33e\")>,\n",
       " <selenium.webdriver.remote.webelement.WebElement (session=\"50c63a681c9b19999deeab7e50957ae7\", element=\"3cefe21a-07eb-4530-aff6-574c8cf73c92\")>,\n",
       " <selenium.webdriver.remote.webelement.WebElement (session=\"50c63a681c9b19999deeab7e50957ae7\", element=\"a9e02678-69b2-47de-a903-6c303d2718e1\")>]"
      ]
     },
     "execution_count": 112,
     "metadata": {},
     "output_type": "execute_result"
    }
   ],
   "source": [
    "#Let's extract all the tags with comp location\n",
    "loc_tags = driver.find_elements_by_xpath(\"//li[@class='fleft grey-text br2 placeHolderLi location']//span\")\n",
    "loc_tags"
   ]
  },
  {
   "cell_type": "code",
   "execution_count": 113,
   "id": "15be8839",
   "metadata": {},
   "outputs": [
    {
     "data": {
      "text/plain": [
       "['Bangalore/Bengaluru',\n",
       " 'Bangalore/Bengaluru',\n",
       " 'Gurgaon/Gurugram, Bangalore/Bengaluru, Mumbai (All Areas)',\n",
       " 'Bangalore/Bengaluru',\n",
       " 'Bangalore/Bengaluru',\n",
       " 'Bangalore/Bengaluru',\n",
       " 'Bangalore/Bengaluru(Ulsoor)',\n",
       " 'Bangalore/Bengaluru',\n",
       " 'Bangalore/Bengaluru',\n",
       " '(WFH during Covid)']"
      ]
     },
     "execution_count": 113,
     "metadata": {},
     "output_type": "execute_result"
    }
   ],
   "source": [
    "#Extracting the job location text from the web elements we got\n",
    "comp_loc=[]\n",
    "for i in loc_tags[:10]:       #This will display only 10 entries\n",
    "    comp_loc.append(i.text)    #i.text is used to extract the text from webelement\n",
    "comp_loc"
   ]
  },
  {
   "cell_type": "code",
   "execution_count": 114,
   "id": "3daef262",
   "metadata": {},
   "outputs": [
    {
     "data": {
      "text/plain": [
       "[<selenium.webdriver.remote.webelement.WebElement (session=\"50c63a681c9b19999deeab7e50957ae7\", element=\"e7802036-eb09-40ff-8cb2-d333d2c2a187\")>,\n",
       " <selenium.webdriver.remote.webelement.WebElement (session=\"50c63a681c9b19999deeab7e50957ae7\", element=\"853231c5-a673-4b37-a8ae-00da495ca29e\")>,\n",
       " <selenium.webdriver.remote.webelement.WebElement (session=\"50c63a681c9b19999deeab7e50957ae7\", element=\"2d840558-91fa-4113-b8ad-894ba94c5921\")>,\n",
       " <selenium.webdriver.remote.webelement.WebElement (session=\"50c63a681c9b19999deeab7e50957ae7\", element=\"3f8e95dd-848c-432a-926d-3d600f17f8b0\")>,\n",
       " <selenium.webdriver.remote.webelement.WebElement (session=\"50c63a681c9b19999deeab7e50957ae7\", element=\"c3c2b9f4-d5c7-4adc-a596-f57b2fb3cb92\")>,\n",
       " <selenium.webdriver.remote.webelement.WebElement (session=\"50c63a681c9b19999deeab7e50957ae7\", element=\"c0992ff5-2e40-4c6c-a1bd-75db6473c095\")>,\n",
       " <selenium.webdriver.remote.webelement.WebElement (session=\"50c63a681c9b19999deeab7e50957ae7\", element=\"0da9d84b-b0d5-4df0-81ac-29dee261b6af\")>,\n",
       " <selenium.webdriver.remote.webelement.WebElement (session=\"50c63a681c9b19999deeab7e50957ae7\", element=\"7f7c14a9-7ed6-4f72-81c7-dd82f16f72a0\")>,\n",
       " <selenium.webdriver.remote.webelement.WebElement (session=\"50c63a681c9b19999deeab7e50957ae7\", element=\"5d194191-d7de-4476-bdb2-4b73c4047f1b\")>,\n",
       " <selenium.webdriver.remote.webelement.WebElement (session=\"50c63a681c9b19999deeab7e50957ae7\", element=\"109bdf4d-f1ec-43fc-8b5a-2917bdee8af1\")>,\n",
       " <selenium.webdriver.remote.webelement.WebElement (session=\"50c63a681c9b19999deeab7e50957ae7\", element=\"21cb8e27-c177-42b6-8941-834fe9917645\")>,\n",
       " <selenium.webdriver.remote.webelement.WebElement (session=\"50c63a681c9b19999deeab7e50957ae7\", element=\"4e11187d-bd70-4660-ab70-558f89761bfe\")>,\n",
       " <selenium.webdriver.remote.webelement.WebElement (session=\"50c63a681c9b19999deeab7e50957ae7\", element=\"7badf566-0940-482c-a9b3-733981ce3711\")>,\n",
       " <selenium.webdriver.remote.webelement.WebElement (session=\"50c63a681c9b19999deeab7e50957ae7\", element=\"b742f07d-9830-4e3f-9e9e-e7690946f136\")>,\n",
       " <selenium.webdriver.remote.webelement.WebElement (session=\"50c63a681c9b19999deeab7e50957ae7\", element=\"aec373a6-eacb-4495-afb2-1660d8dc537d\")>,\n",
       " <selenium.webdriver.remote.webelement.WebElement (session=\"50c63a681c9b19999deeab7e50957ae7\", element=\"88177273-96ab-4d35-ba48-852d343dba81\")>,\n",
       " <selenium.webdriver.remote.webelement.WebElement (session=\"50c63a681c9b19999deeab7e50957ae7\", element=\"fb8c3a10-6dda-4340-ad7f-125ae5abef3d\")>,\n",
       " <selenium.webdriver.remote.webelement.WebElement (session=\"50c63a681c9b19999deeab7e50957ae7\", element=\"7dcd7739-5005-45f6-bd07-210369ac24cf\")>,\n",
       " <selenium.webdriver.remote.webelement.WebElement (session=\"50c63a681c9b19999deeab7e50957ae7\", element=\"e4fa14b9-6db9-40aa-a48e-fd954f782b06\")>,\n",
       " <selenium.webdriver.remote.webelement.WebElement (session=\"50c63a681c9b19999deeab7e50957ae7\", element=\"904a25bf-6683-4066-9118-adee8b1a14d3\")>]"
      ]
     },
     "execution_count": 114,
     "metadata": {},
     "output_type": "execute_result"
    }
   ],
   "source": [
    "#Let's extract all the tags with experience required\n",
    "exp_tags = driver.find_elements_by_xpath(\"//li[@class='fleft grey-text br2 placeHolderLi experience']//span\")\n",
    "exp_tags"
   ]
  },
  {
   "cell_type": "code",
   "execution_count": 115,
   "id": "ffce64ab",
   "metadata": {},
   "outputs": [
    {
     "data": {
      "text/plain": [
       "['3-5 Yrs',\n",
       " '3-5 Yrs',\n",
       " '1-4 Yrs',\n",
       " '4-8 Yrs',\n",
       " '2-5 Yrs',\n",
       " '5-8 Yrs',\n",
       " '4-8 Yrs',\n",
       " '5-9 Yrs',\n",
       " '5-8 Yrs',\n",
       " '2-5 Yrs']"
      ]
     },
     "execution_count": 115,
     "metadata": {},
     "output_type": "execute_result"
    }
   ],
   "source": [
    "#Extracting the experience text from the web elements we got\n",
    "experience_list=[]\n",
    "for i in exp_tags[:10]:       #This will display only 10 entries\n",
    "    experience_list.append(i.text)    #i.text is used to extract the text from webelement\n",
    "experience_list"
   ]
  },
  {
   "cell_type": "code",
   "execution_count": 118,
   "id": "c7ed0d45",
   "metadata": {},
   "outputs": [
    {
     "data": {
      "text/html": [
       "<div>\n",
       "<style scoped>\n",
       "    .dataframe tbody tr th:only-of-type {\n",
       "        vertical-align: middle;\n",
       "    }\n",
       "\n",
       "    .dataframe tbody tr th {\n",
       "        vertical-align: top;\n",
       "    }\n",
       "\n",
       "    .dataframe thead th {\n",
       "        text-align: right;\n",
       "    }\n",
       "</style>\n",
       "<table border=\"1\" class=\"dataframe\">\n",
       "  <thead>\n",
       "    <tr style=\"text-align: right;\">\n",
       "      <th></th>\n",
       "      <th>Job Title</th>\n",
       "      <th>Job Location</th>\n",
       "      <th>Company Name</th>\n",
       "      <th>Experience Required</th>\n",
       "    </tr>\n",
       "  </thead>\n",
       "  <tbody>\n",
       "    <tr>\n",
       "      <th>0</th>\n",
       "      <td>Business Data Analyst</td>\n",
       "      <td>Bangalore/Bengaluru</td>\n",
       "      <td>Trigent Software</td>\n",
       "      <td>3-5 Yrs</td>\n",
       "    </tr>\n",
       "    <tr>\n",
       "      <th>1</th>\n",
       "      <td>Business Data Analyst</td>\n",
       "      <td>Bangalore/Bengaluru</td>\n",
       "      <td>Trigent Software</td>\n",
       "      <td>3-5 Yrs</td>\n",
       "    </tr>\n",
       "    <tr>\n",
       "      <th>2</th>\n",
       "      <td>Data Analyst/Business Analyst-Gurgaon/Bangalor...</td>\n",
       "      <td>Gurgaon/Gurugram, Bangalore/Bengaluru, Mumbai ...</td>\n",
       "      <td>India Medtronic Pvt. Ltd,.</td>\n",
       "      <td>1-4 Yrs</td>\n",
       "    </tr>\n",
       "    <tr>\n",
       "      <th>3</th>\n",
       "      <td>Senior Specialist - Data Analyst</td>\n",
       "      <td>Bangalore/Bengaluru</td>\n",
       "      <td>Philips India Limited</td>\n",
       "      <td>4-8 Yrs</td>\n",
       "    </tr>\n",
       "    <tr>\n",
       "      <th>4</th>\n",
       "      <td>Business/Data Analyst - SSE/LA</td>\n",
       "      <td>Bangalore/Bengaluru</td>\n",
       "      <td>CGI Information Systems and Management Consult...</td>\n",
       "      <td>2-5 Yrs</td>\n",
       "    </tr>\n",
       "    <tr>\n",
       "      <th>5</th>\n",
       "      <td>Business Data Analyst II</td>\n",
       "      <td>Bangalore/Bengaluru</td>\n",
       "      <td>Infobahn Softworld Inc.</td>\n",
       "      <td>5-8 Yrs</td>\n",
       "    </tr>\n",
       "    <tr>\n",
       "      <th>6</th>\n",
       "      <td>Data Analyst</td>\n",
       "      <td>Bangalore/Bengaluru(Ulsoor)</td>\n",
       "      <td>WEIWO Communication Pvt. Ltd.</td>\n",
       "      <td>4-8 Yrs</td>\n",
       "    </tr>\n",
       "    <tr>\n",
       "      <th>7</th>\n",
       "      <td>Data Analyst</td>\n",
       "      <td>Bangalore/Bengaluru</td>\n",
       "      <td>GCC SERVICES INDIA PRIVATE LIMITED</td>\n",
       "      <td>5-9 Yrs</td>\n",
       "    </tr>\n",
       "    <tr>\n",
       "      <th>8</th>\n",
       "      <td>Senior Data Analyst</td>\n",
       "      <td>Bangalore/Bengaluru</td>\n",
       "      <td>SMEDC SERVICES PRIVATE LIMITED</td>\n",
       "      <td>5-8 Yrs</td>\n",
       "    </tr>\n",
       "    <tr>\n",
       "      <th>9</th>\n",
       "      <td>Data Analyst</td>\n",
       "      <td>(WFH during Covid)</td>\n",
       "      <td>Allegis Services India Pvt. Ltd.</td>\n",
       "      <td>2-5 Yrs</td>\n",
       "    </tr>\n",
       "  </tbody>\n",
       "</table>\n",
       "</div>"
      ],
      "text/plain": [
       "                                           Job Title  \\\n",
       "0                              Business Data Analyst   \n",
       "1                              Business Data Analyst   \n",
       "2  Data Analyst/Business Analyst-Gurgaon/Bangalor...   \n",
       "3                   Senior Specialist - Data Analyst   \n",
       "4                     Business/Data Analyst - SSE/LA   \n",
       "5                           Business Data Analyst II   \n",
       "6                                       Data Analyst   \n",
       "7                                       Data Analyst   \n",
       "8                                Senior Data Analyst   \n",
       "9                                       Data Analyst   \n",
       "\n",
       "                                        Job Location  \\\n",
       "0                                Bangalore/Bengaluru   \n",
       "1                                Bangalore/Bengaluru   \n",
       "2  Gurgaon/Gurugram, Bangalore/Bengaluru, Mumbai ...   \n",
       "3                                Bangalore/Bengaluru   \n",
       "4                                Bangalore/Bengaluru   \n",
       "5                                Bangalore/Bengaluru   \n",
       "6                        Bangalore/Bengaluru(Ulsoor)   \n",
       "7                                Bangalore/Bengaluru   \n",
       "8                                Bangalore/Bengaluru   \n",
       "9                                 (WFH during Covid)   \n",
       "\n",
       "                                        Company Name Experience Required  \n",
       "0                                   Trigent Software             3-5 Yrs  \n",
       "1                                   Trigent Software             3-5 Yrs  \n",
       "2                         India Medtronic Pvt. Ltd,.             1-4 Yrs  \n",
       "3                              Philips India Limited             4-8 Yrs  \n",
       "4  CGI Information Systems and Management Consult...             2-5 Yrs  \n",
       "5                            Infobahn Softworld Inc.             5-8 Yrs  \n",
       "6                      WEIWO Communication Pvt. Ltd.             4-8 Yrs  \n",
       "7                 GCC SERVICES INDIA PRIVATE LIMITED             5-9 Yrs  \n",
       "8                     SMEDC SERVICES PRIVATE LIMITED             5-8 Yrs  \n",
       "9                   Allegis Services India Pvt. Ltd.             2-5 Yrs  "
      ]
     },
     "execution_count": 118,
     "metadata": {},
     "output_type": "execute_result"
    }
   ],
   "source": [
    "#5. Finally create a dataframe of the scraped data.\n",
    "#Creating a dataframe for job-title, job-location, company_name, experience_required.\n",
    "\n",
    "df = pd.DataFrame({})\n",
    "\n",
    "df[\"Job Title\"] = job_titles[:10]\n",
    "df[\"Job Location\"] = comp_loc[:10]\n",
    "df[\"Company Name\"] = comp_name[:10]\n",
    "df[\"Experience Required\"] = experience_list[:10]\n",
    "df"
   ]
  },
  {
   "cell_type": "markdown",
   "id": "99830297",
   "metadata": {},
   "source": [
    "### Q2: Write a python program to scrape data for “Data Scientist” Job position in “Bangalore” location. You have to scrape the job-title, job-location, company_name, full job-description. You have to scrape first 10 jobs data."
   ]
  },
  {
   "cell_type": "code",
   "execution_count": 142,
   "id": "e2fe6bd1",
   "metadata": {},
   "outputs": [],
   "source": [
    "#1. first get the webpage https://www.naukri.com/\n",
    "driver.get('https://www.naukri.com/')"
   ]
  },
  {
   "cell_type": "code",
   "execution_count": 143,
   "id": "32868288",
   "metadata": {},
   "outputs": [],
   "source": [
    "#2. Enter “Data Scientist” in “Skill,Designations,Companies” field and enter “Bangalore”\n",
    "#in “enter the location” field.\n",
    "\n",
    "#sending keys to type in “Skill,Designations,Companies” field\n",
    "search_job = driver.find_element_by_id(\"qsb-keyword-sugg\")\n",
    "search_job.send_keys('Data Scientist')\n",
    "\n",
    "#sending keys to type in “enter the location” field\n",
    "search_loc = driver.find_element_by_id('qsb-location-sugg')\n",
    "search_loc.send_keys('Bangalore')"
   ]
  },
  {
   "cell_type": "code",
   "execution_count": 144,
   "id": "c224fe07",
   "metadata": {},
   "outputs": [],
   "source": [
    "#3. Then click the Search button.\n",
    "search_btn = driver.find_element_by_xpath(\"//button[@class='btn']\")\n",
    "search_btn.click()"
   ]
  },
  {
   "cell_type": "code",
   "execution_count": 123,
   "id": "ca20321e",
   "metadata": {},
   "outputs": [
    {
     "data": {
      "text/plain": [
       "[<selenium.webdriver.remote.webelement.WebElement (session=\"f29edb9374afad0af7ff71a3bc2cc84d\", element=\"876297e8-38a3-47ba-9a04-cfca64461e02\")>,\n",
       " <selenium.webdriver.remote.webelement.WebElement (session=\"f29edb9374afad0af7ff71a3bc2cc84d\", element=\"43dd400a-a06e-4160-81f2-6672814ac342\")>,\n",
       " <selenium.webdriver.remote.webelement.WebElement (session=\"f29edb9374afad0af7ff71a3bc2cc84d\", element=\"dee6f1b5-e9b7-4e8c-b539-9ea445ad4735\")>,\n",
       " <selenium.webdriver.remote.webelement.WebElement (session=\"f29edb9374afad0af7ff71a3bc2cc84d\", element=\"029d6550-fd5b-4096-bfe0-f2198739f847\")>,\n",
       " <selenium.webdriver.remote.webelement.WebElement (session=\"f29edb9374afad0af7ff71a3bc2cc84d\", element=\"6544083a-da19-4e1c-b85d-f4251b8c42b7\")>,\n",
       " <selenium.webdriver.remote.webelement.WebElement (session=\"f29edb9374afad0af7ff71a3bc2cc84d\", element=\"aacc1f5f-8a85-4306-80b1-67ac7e8599fe\")>,\n",
       " <selenium.webdriver.remote.webelement.WebElement (session=\"f29edb9374afad0af7ff71a3bc2cc84d\", element=\"a775da06-338d-4359-96e7-d0f86f2e0b46\")>,\n",
       " <selenium.webdriver.remote.webelement.WebElement (session=\"f29edb9374afad0af7ff71a3bc2cc84d\", element=\"da43f5ff-58ad-4e24-8f2f-4b018dced8f7\")>,\n",
       " <selenium.webdriver.remote.webelement.WebElement (session=\"f29edb9374afad0af7ff71a3bc2cc84d\", element=\"8cc78c9c-8ea0-44bb-af99-7fa3391fd0ae\")>,\n",
       " <selenium.webdriver.remote.webelement.WebElement (session=\"f29edb9374afad0af7ff71a3bc2cc84d\", element=\"b1ac90b6-c8dc-4fa5-9302-62a5b706364b\")>,\n",
       " <selenium.webdriver.remote.webelement.WebElement (session=\"f29edb9374afad0af7ff71a3bc2cc84d\", element=\"7ea7671b-835f-4587-94a7-dc17000eb244\")>,\n",
       " <selenium.webdriver.remote.webelement.WebElement (session=\"f29edb9374afad0af7ff71a3bc2cc84d\", element=\"4ddf102b-bee2-402a-a081-0e7576b3fdc6\")>,\n",
       " <selenium.webdriver.remote.webelement.WebElement (session=\"f29edb9374afad0af7ff71a3bc2cc84d\", element=\"4ebe1529-5175-40e1-8cce-36700d55a759\")>,\n",
       " <selenium.webdriver.remote.webelement.WebElement (session=\"f29edb9374afad0af7ff71a3bc2cc84d\", element=\"8469e199-4fa6-4974-8d18-688c8b80fe28\")>,\n",
       " <selenium.webdriver.remote.webelement.WebElement (session=\"f29edb9374afad0af7ff71a3bc2cc84d\", element=\"0298aead-4893-4b94-9e32-bfe5609b23a7\")>,\n",
       " <selenium.webdriver.remote.webelement.WebElement (session=\"f29edb9374afad0af7ff71a3bc2cc84d\", element=\"1964f97d-4daa-47eb-9b90-5ff0fcde25dc\")>,\n",
       " <selenium.webdriver.remote.webelement.WebElement (session=\"f29edb9374afad0af7ff71a3bc2cc84d\", element=\"6908315a-dee0-43e0-85ec-6fc60d76947d\")>,\n",
       " <selenium.webdriver.remote.webelement.WebElement (session=\"f29edb9374afad0af7ff71a3bc2cc84d\", element=\"46814eb3-2d46-4903-9c5e-1e2b5f4799ab\")>,\n",
       " <selenium.webdriver.remote.webelement.WebElement (session=\"f29edb9374afad0af7ff71a3bc2cc84d\", element=\"46e7852c-f6e2-4033-8bf8-7df99b45a710\")>,\n",
       " <selenium.webdriver.remote.webelement.WebElement (session=\"f29edb9374afad0af7ff71a3bc2cc84d\", element=\"39b34ae2-fb98-4137-a9b6-c9267437e02f\")>]"
      ]
     },
     "execution_count": 123,
     "metadata": {},
     "output_type": "execute_result"
    }
   ],
   "source": [
    "#4. Then scrape the data for the first 10 jobs results you get.\n",
    "#Let's extract all the tags with job title\n",
    "titles_tags = driver.find_elements_by_xpath(\"//a[@class='title fw500 ellipsis']\")\n",
    "titles_tags"
   ]
  },
  {
   "cell_type": "code",
   "execution_count": 124,
   "id": "4f889b80",
   "metadata": {},
   "outputs": [
    {
     "data": {
      "text/plain": [
       "['Senior Data Scientist',\n",
       " 'Data Scientist: Advanced Analytics',\n",
       " 'Senior Data Scientist',\n",
       " 'Senior Data Scientist',\n",
       " 'DATA SCIENTIST',\n",
       " 'Data Engineers , Data Scientist and SAP',\n",
       " 'Python - Data Scientist',\n",
       " 'Software Developer - Data Scientist / NLP / Machine Learning & Dot Net',\n",
       " 'Data scientist',\n",
       " 'Senior Associate - Data Scientist']"
      ]
     },
     "execution_count": 124,
     "metadata": {},
     "output_type": "execute_result"
    }
   ],
   "source": [
    "#Extracting the top 10 title text from the web elements we got\n",
    "job_titles=[]\n",
    "for i in titles_tags[:10]:       #titles_tags[:10] will display only 10 entries\n",
    "    job_titles.append(i.text)    #i.text is used to extract the text from webelement\n",
    "job_titles"
   ]
  },
  {
   "cell_type": "code",
   "execution_count": 125,
   "id": "dba1610a",
   "metadata": {},
   "outputs": [
    {
     "data": {
      "text/plain": [
       "[<selenium.webdriver.remote.webelement.WebElement (session=\"f29edb9374afad0af7ff71a3bc2cc84d\", element=\"256121f6-5fce-4d7a-a761-1386335ea023\")>,\n",
       " <selenium.webdriver.remote.webelement.WebElement (session=\"f29edb9374afad0af7ff71a3bc2cc84d\", element=\"6e268bca-3d33-4e03-bfa4-51a92e9c776a\")>,\n",
       " <selenium.webdriver.remote.webelement.WebElement (session=\"f29edb9374afad0af7ff71a3bc2cc84d\", element=\"3575a56b-5844-48cc-a18f-3af1f039cba6\")>,\n",
       " <selenium.webdriver.remote.webelement.WebElement (session=\"f29edb9374afad0af7ff71a3bc2cc84d\", element=\"dc005137-ab99-4ac2-ae18-3cbec0dc8f6c\")>,\n",
       " <selenium.webdriver.remote.webelement.WebElement (session=\"f29edb9374afad0af7ff71a3bc2cc84d\", element=\"f3a4da6d-8d89-43f4-bb39-d77aa444a08f\")>,\n",
       " <selenium.webdriver.remote.webelement.WebElement (session=\"f29edb9374afad0af7ff71a3bc2cc84d\", element=\"6512310f-6e81-43a3-8d56-18f0ed6eb93b\")>,\n",
       " <selenium.webdriver.remote.webelement.WebElement (session=\"f29edb9374afad0af7ff71a3bc2cc84d\", element=\"db7e3e28-d444-4c93-b2b9-a729091a72ae\")>,\n",
       " <selenium.webdriver.remote.webelement.WebElement (session=\"f29edb9374afad0af7ff71a3bc2cc84d\", element=\"aaea3497-6d53-475f-aacf-3a3d0f326aa8\")>,\n",
       " <selenium.webdriver.remote.webelement.WebElement (session=\"f29edb9374afad0af7ff71a3bc2cc84d\", element=\"9e6fba67-84f1-4ef3-8471-002ee305eca2\")>,\n",
       " <selenium.webdriver.remote.webelement.WebElement (session=\"f29edb9374afad0af7ff71a3bc2cc84d\", element=\"4390c2a8-c38a-4e1d-ad7c-9bc749ae61b9\")>,\n",
       " <selenium.webdriver.remote.webelement.WebElement (session=\"f29edb9374afad0af7ff71a3bc2cc84d\", element=\"81bf3a09-4b08-476d-9113-50a3cf58c8c5\")>,\n",
       " <selenium.webdriver.remote.webelement.WebElement (session=\"f29edb9374afad0af7ff71a3bc2cc84d\", element=\"85ddc92b-8296-4182-bb79-f45b37bc3e6d\")>,\n",
       " <selenium.webdriver.remote.webelement.WebElement (session=\"f29edb9374afad0af7ff71a3bc2cc84d\", element=\"30038cf4-3e0e-4dc6-8eb1-42189577dc41\")>,\n",
       " <selenium.webdriver.remote.webelement.WebElement (session=\"f29edb9374afad0af7ff71a3bc2cc84d\", element=\"70a03832-7575-4273-8b9a-f3346db04e8c\")>,\n",
       " <selenium.webdriver.remote.webelement.WebElement (session=\"f29edb9374afad0af7ff71a3bc2cc84d\", element=\"f04bee1b-cafc-427b-a0d4-d9a445a1a334\")>,\n",
       " <selenium.webdriver.remote.webelement.WebElement (session=\"f29edb9374afad0af7ff71a3bc2cc84d\", element=\"94f46cd9-8b38-49fb-81ca-e16e053280e2\")>,\n",
       " <selenium.webdriver.remote.webelement.WebElement (session=\"f29edb9374afad0af7ff71a3bc2cc84d\", element=\"29052a55-87ef-4e3b-b02f-d1209696e276\")>,\n",
       " <selenium.webdriver.remote.webelement.WebElement (session=\"f29edb9374afad0af7ff71a3bc2cc84d\", element=\"0d557458-4500-45bf-8987-18dc314d775a\")>,\n",
       " <selenium.webdriver.remote.webelement.WebElement (session=\"f29edb9374afad0af7ff71a3bc2cc84d\", element=\"bfd22fbb-dedb-4c9f-b688-7d65479eec38\")>,\n",
       " <selenium.webdriver.remote.webelement.WebElement (session=\"f29edb9374afad0af7ff71a3bc2cc84d\", element=\"e7029864-deca-4699-a877-23563e824fae\")>]"
      ]
     },
     "execution_count": 125,
     "metadata": {},
     "output_type": "execute_result"
    }
   ],
   "source": [
    "#Let's extract all the tags with company name\n",
    "comp_tags = driver.find_elements_by_xpath(\"//a[@class='subTitle ellipsis fleft']\")\n",
    "comp_tags"
   ]
  },
  {
   "cell_type": "code",
   "execution_count": 126,
   "id": "8dc83c35",
   "metadata": {},
   "outputs": [
    {
     "data": {
      "text/plain": [
       "['Philips India Limited',\n",
       " 'IBM India Pvt. Limited',\n",
       " 'SYMBIOSIS International W.L.L',\n",
       " 'Datamatics Global Services Ltd',\n",
       " 'McAfee Software (India) Pvt. Ltd',\n",
       " 'Teamware Solutions',\n",
       " 'Mindtree Limited',\n",
       " 'Cunesoft India Private Limited',\n",
       " 'Uber',\n",
       " 'Novotree Minds Consulting Pvt Limited']"
      ]
     },
     "execution_count": 126,
     "metadata": {},
     "output_type": "execute_result"
    }
   ],
   "source": [
    "#Extracting the company name text from the web elements we got\n",
    "comp_name=[]\n",
    "for i in comp_tags[:10]:       #This will display only 10 entries\n",
    "    comp_name.append(i.text)    #i.text is used to extract the text from webelement\n",
    "comp_name"
   ]
  },
  {
   "cell_type": "code",
   "execution_count": 127,
   "id": "fa0e97dc",
   "metadata": {},
   "outputs": [
    {
     "data": {
      "text/plain": [
       "[<selenium.webdriver.remote.webelement.WebElement (session=\"f29edb9374afad0af7ff71a3bc2cc84d\", element=\"04b18a7e-ad00-4c7b-9f5c-330581d89cc3\")>,\n",
       " <selenium.webdriver.remote.webelement.WebElement (session=\"f29edb9374afad0af7ff71a3bc2cc84d\", element=\"55157383-e0f1-48a3-a4d2-f403f4dd48b5\")>,\n",
       " <selenium.webdriver.remote.webelement.WebElement (session=\"f29edb9374afad0af7ff71a3bc2cc84d\", element=\"239708ec-a3b8-42a3-87e0-adcf454f9832\")>,\n",
       " <selenium.webdriver.remote.webelement.WebElement (session=\"f29edb9374afad0af7ff71a3bc2cc84d\", element=\"6bd7b516-81bc-4991-a7cf-6851c28496cc\")>,\n",
       " <selenium.webdriver.remote.webelement.WebElement (session=\"f29edb9374afad0af7ff71a3bc2cc84d\", element=\"47ebffa6-8f30-4e1a-9171-3e2c7df31cad\")>,\n",
       " <selenium.webdriver.remote.webelement.WebElement (session=\"f29edb9374afad0af7ff71a3bc2cc84d\", element=\"557e9687-303c-48bc-9ea8-2c008c90f028\")>,\n",
       " <selenium.webdriver.remote.webelement.WebElement (session=\"f29edb9374afad0af7ff71a3bc2cc84d\", element=\"0f5fb199-ae98-439a-a7f6-be2c57ef1f07\")>,\n",
       " <selenium.webdriver.remote.webelement.WebElement (session=\"f29edb9374afad0af7ff71a3bc2cc84d\", element=\"19f00b0e-695b-4a5d-9e9e-e5aaf4b5b746\")>,\n",
       " <selenium.webdriver.remote.webelement.WebElement (session=\"f29edb9374afad0af7ff71a3bc2cc84d\", element=\"3e4ada25-f9e5-46be-8310-95647fc7db62\")>,\n",
       " <selenium.webdriver.remote.webelement.WebElement (session=\"f29edb9374afad0af7ff71a3bc2cc84d\", element=\"ed4ed31b-fe5b-460e-ac4c-872b1959bbf1\")>,\n",
       " <selenium.webdriver.remote.webelement.WebElement (session=\"f29edb9374afad0af7ff71a3bc2cc84d\", element=\"dd2801f0-2e0f-440b-813f-27bfc5e500ea\")>,\n",
       " <selenium.webdriver.remote.webelement.WebElement (session=\"f29edb9374afad0af7ff71a3bc2cc84d\", element=\"1f5c30ef-e8fc-40aa-9d99-eff2a898869b\")>,\n",
       " <selenium.webdriver.remote.webelement.WebElement (session=\"f29edb9374afad0af7ff71a3bc2cc84d\", element=\"4590753d-6413-4300-bb84-a449e24818ee\")>,\n",
       " <selenium.webdriver.remote.webelement.WebElement (session=\"f29edb9374afad0af7ff71a3bc2cc84d\", element=\"d033d915-6e2e-4256-aa08-44cdad486062\")>,\n",
       " <selenium.webdriver.remote.webelement.WebElement (session=\"f29edb9374afad0af7ff71a3bc2cc84d\", element=\"32edb3ba-efa1-4d63-afb5-554c3b5e19c7\")>,\n",
       " <selenium.webdriver.remote.webelement.WebElement (session=\"f29edb9374afad0af7ff71a3bc2cc84d\", element=\"cd96279a-10b7-447d-b4c6-01c590ce319c\")>,\n",
       " <selenium.webdriver.remote.webelement.WebElement (session=\"f29edb9374afad0af7ff71a3bc2cc84d\", element=\"cc5f6935-287a-4bb6-9299-c8a3040eee20\")>,\n",
       " <selenium.webdriver.remote.webelement.WebElement (session=\"f29edb9374afad0af7ff71a3bc2cc84d\", element=\"c19d5e87-fa32-4146-8360-d5cb2369b431\")>,\n",
       " <selenium.webdriver.remote.webelement.WebElement (session=\"f29edb9374afad0af7ff71a3bc2cc84d\", element=\"91565e0b-7750-44e6-9911-8c2677bc1465\")>,\n",
       " <selenium.webdriver.remote.webelement.WebElement (session=\"f29edb9374afad0af7ff71a3bc2cc84d\", element=\"16b119ed-fbe8-45e7-acd3-0f0a1121e4f0\")>,\n",
       " <selenium.webdriver.remote.webelement.WebElement (session=\"f29edb9374afad0af7ff71a3bc2cc84d\", element=\"20669145-22ea-4d51-88fd-3a2be725890f\")>,\n",
       " <selenium.webdriver.remote.webelement.WebElement (session=\"f29edb9374afad0af7ff71a3bc2cc84d\", element=\"be640e03-0232-40ca-a67b-d48364fa8afd\")>]"
      ]
     },
     "execution_count": 127,
     "metadata": {},
     "output_type": "execute_result"
    }
   ],
   "source": [
    "#Let's extract all the tags with comp location\n",
    "loc_tags = driver.find_elements_by_xpath(\"//li[@class='fleft grey-text br2 placeHolderLi location']//span\")\n",
    "loc_tags"
   ]
  },
  {
   "cell_type": "code",
   "execution_count": 128,
   "id": "110c8819",
   "metadata": {},
   "outputs": [
    {
     "data": {
      "text/plain": [
       "['Bangalore/Bengaluru',\n",
       " 'Bangalore/Bengaluru',\n",
       " 'Bangalore/Bengaluru',\n",
       " 'Bangalore/Bengaluru',\n",
       " 'Bangalore/Bengaluru',\n",
       " 'Bangalore/Bengaluru',\n",
       " 'Bangalore/Bengaluru',\n",
       " 'Bangalore/Bengaluru',\n",
       " '(WFH during Covid)',\n",
       " 'Bangalore/Bengaluru']"
      ]
     },
     "execution_count": 128,
     "metadata": {},
     "output_type": "execute_result"
    }
   ],
   "source": [
    "#Extracting the job location text from the web elements we got\n",
    "comp_loc=[]\n",
    "for i in loc_tags[:10]:       #This will display only 10 entries\n",
    "    comp_loc.append(i.text)    #i.text is used to extract the text from webelement\n",
    "comp_loc"
   ]
  },
  {
   "cell_type": "code",
   "execution_count": 145,
   "id": "6ee3ec19",
   "metadata": {},
   "outputs": [
    {
     "data": {
      "text/plain": [
       "[<selenium.webdriver.remote.webelement.WebElement (session=\"f29edb9374afad0af7ff71a3bc2cc84d\", element=\"46d6fd83-437a-4eb0-8612-41cafb65bd24\")>,\n",
       " <selenium.webdriver.remote.webelement.WebElement (session=\"f29edb9374afad0af7ff71a3bc2cc84d\", element=\"27b0bf69-3288-4636-8ba7-528798f55216\")>,\n",
       " <selenium.webdriver.remote.webelement.WebElement (session=\"f29edb9374afad0af7ff71a3bc2cc84d\", element=\"467de27e-0e5d-4dcf-9f8e-591a077d9f81\")>,\n",
       " <selenium.webdriver.remote.webelement.WebElement (session=\"f29edb9374afad0af7ff71a3bc2cc84d\", element=\"7d9d3e7e-cb64-4d52-b21b-8a1809129a4f\")>,\n",
       " <selenium.webdriver.remote.webelement.WebElement (session=\"f29edb9374afad0af7ff71a3bc2cc84d\", element=\"d4aca1c7-2902-421d-802d-a0317ebc4823\")>,\n",
       " <selenium.webdriver.remote.webelement.WebElement (session=\"f29edb9374afad0af7ff71a3bc2cc84d\", element=\"6ff317a0-a53e-4b0b-b64b-32d0c01d9db1\")>,\n",
       " <selenium.webdriver.remote.webelement.WebElement (session=\"f29edb9374afad0af7ff71a3bc2cc84d\", element=\"722271f8-1910-4f79-a2ff-7cae6368d6ee\")>,\n",
       " <selenium.webdriver.remote.webelement.WebElement (session=\"f29edb9374afad0af7ff71a3bc2cc84d\", element=\"f9bf7043-8504-4bf6-917b-e86724160ce6\")>,\n",
       " <selenium.webdriver.remote.webelement.WebElement (session=\"f29edb9374afad0af7ff71a3bc2cc84d\", element=\"52194f25-79c9-4696-a925-d376df14cfbc\")>,\n",
       " <selenium.webdriver.remote.webelement.WebElement (session=\"f29edb9374afad0af7ff71a3bc2cc84d\", element=\"21079b91-a190-4a76-8bcf-9f41d42ca8ec\")>,\n",
       " <selenium.webdriver.remote.webelement.WebElement (session=\"f29edb9374afad0af7ff71a3bc2cc84d\", element=\"905f7c62-7c09-480c-88c1-77bda5f9ca68\")>,\n",
       " <selenium.webdriver.remote.webelement.WebElement (session=\"f29edb9374afad0af7ff71a3bc2cc84d\", element=\"97fe4c9f-665a-4c0b-b845-5bf8e2af944f\")>,\n",
       " <selenium.webdriver.remote.webelement.WebElement (session=\"f29edb9374afad0af7ff71a3bc2cc84d\", element=\"29070d2a-484e-4dea-8d5b-15a492237e4a\")>,\n",
       " <selenium.webdriver.remote.webelement.WebElement (session=\"f29edb9374afad0af7ff71a3bc2cc84d\", element=\"c5fb9a2e-10ba-4f8b-987a-8c7af9b58bed\")>,\n",
       " <selenium.webdriver.remote.webelement.WebElement (session=\"f29edb9374afad0af7ff71a3bc2cc84d\", element=\"ec3a7d65-ee77-4bc2-884b-4b9b1ff999da\")>,\n",
       " <selenium.webdriver.remote.webelement.WebElement (session=\"f29edb9374afad0af7ff71a3bc2cc84d\", element=\"2486bc7a-89e3-4621-862c-1ce5996a4a49\")>,\n",
       " <selenium.webdriver.remote.webelement.WebElement (session=\"f29edb9374afad0af7ff71a3bc2cc84d\", element=\"0c450cdc-8ab6-4095-bbf2-c5c6a60429d6\")>,\n",
       " <selenium.webdriver.remote.webelement.WebElement (session=\"f29edb9374afad0af7ff71a3bc2cc84d\", element=\"f1059f63-696e-4cd3-b9f6-ed391a76a3c9\")>,\n",
       " <selenium.webdriver.remote.webelement.WebElement (session=\"f29edb9374afad0af7ff71a3bc2cc84d\", element=\"0e7ad82c-c972-42fc-90ca-2f625d7d50fe\")>,\n",
       " <selenium.webdriver.remote.webelement.WebElement (session=\"f29edb9374afad0af7ff71a3bc2cc84d\", element=\"5a667ebc-85fb-420c-958e-1625edafbbce\")>]"
      ]
     },
     "execution_count": 145,
     "metadata": {},
     "output_type": "execute_result"
    }
   ],
   "source": [
    "#Let's extract all the tags with links\n",
    "link_tags = driver.find_elements_by_xpath(\"//a[@class='title fw500 ellipsis']\")\n",
    "link_tags"
   ]
  },
  {
   "cell_type": "code",
   "execution_count": 146,
   "id": "360073b0",
   "metadata": {},
   "outputs": [
    {
     "data": {
      "text/plain": [
       "['https://www.naukri.com/job-listings-senior-data-scientist-philips-india-limited-bangalore-bengaluru-8-to-10-years-060821501599?src=jobsearchDesk&sid=16282777048324521&xp=1&px=1',\n",
       " 'https://www.naukri.com/job-listings-data-scientist-advanced-analytics-ibm-india-pvt-limited-bangalore-bengaluru-5-to-10-years-060821907733?src=jobsearchDesk&sid=16282777048324521&xp=2&px=1',\n",
       " 'https://www.naukri.com/job-listings-senior-data-scientist-symbiosis-international-w-l-l-bangalore-bengaluru-10-to-15-years-050821004331?src=jobsearchDesk&sid=16282777048324521&xp=3&px=1',\n",
       " 'https://www.naukri.com/job-listings-senior-data-scientist-datamatics-global-services-ltd-bangalore-bengaluru-8-to-13-years-040821003517?src=jobsearchDesk&sid=16282777048324521&xp=4&px=1',\n",
       " 'https://www.naukri.com/job-listings-data-scientist-mcafee-software-india-pvt-ltd-bangalore-bengaluru-4-to-8-years-050821501145?src=jobsearchDesk&sid=16282777048324521&xp=5&px=1',\n",
       " 'https://www.naukri.com/job-listings-data-engineers-data-scientist-and-sap-teamware-solutions-bangalore-bengaluru-7-to-10-years-300721500677?src=jobsearchDesk&sid=16282777048324521&xp=6&px=1',\n",
       " 'https://www.naukri.com/job-listings-python-data-scientist-mindtree-limited-bangalore-bengaluru-3-to-5-years-040821500207?src=jobsearchDesk&sid=16282777048324521&xp=7&px=1',\n",
       " 'https://www.naukri.com/job-listings-software-developer-data-scientist-nlp-machine-learning-dot-net-cunesoft-india-private-limited-bangalore-bengaluru-3-to-8-years-190121001281?src=jobsearchDesk&sid=16282777048324521&xp=8&px=1',\n",
       " 'https://www.naukri.com/job-listings-data-scientist-uber-bangalore-bengaluru-6-to-8-years-050821500683?src=jobsearchDesk&sid=16282777048324521&xp=9&px=1',\n",
       " 'https://www.naukri.com/job-listings-senior-associate-data-scientist-novotree-minds-consulting-pvt-limited-bangalore-bengaluru-4-to-7-years-300721001832?src=jobsearchDesk&sid=16282777048324521&xp=10&px=1']"
      ]
     },
     "execution_count": 146,
     "metadata": {},
     "output_type": "execute_result"
    }
   ],
   "source": [
    "#Extracting the links from the web elements we got\n",
    "link_list=[]\n",
    "for i in link_tags[:10]:       #This will display only 10 entries\n",
    "    link_list.append(i.get_attribute('href'))    #get_attribute('href') is used to extract the links from webelement\n",
    "link_list"
   ]
  },
  {
   "cell_type": "code",
   "execution_count": 161,
   "id": "5e8ee3e3",
   "metadata": {},
   "outputs": [
    {
     "data": {
      "text/plain": [
       "['  Be a part of the Enterprise IT , Information and Data Science team and drive a strategic and actionable Data Science architecture to activate the needed business capabilities. Deliver business use cases like Care Provider (Customer, Product , IB ) 360 initiative, Product bundling , Value Based pricing , Conversational AI, Indirect Trade partner classification , Data pipeline predictions etc - an ambition to better understand the needs of Healthcare Providers, the way Philips serves its customers and how and where Philips can add value to the customer decision journey.\\nYour responsibilities\\nEnsure strategic direction for data science capabilities for Philips is created and kept up to date on a regular basis\\nContinuously evaluate the latest techniques in Artificial intelligence, machine learning, robotics, statistical analysis\\nImplement advanced algorithms for business problems based on statistical analysis, coding, deep learning, advanced data mining techniques etc.\\nDevelop new algorithms if necessary, to bring predictive, advanced statistics / learning based solutions\\nDevelop algorithms to further automate processes and feed insights back into PIL for better business outcome\\nCo-create with business / market / functions or IT platforms on requirements\\nEnsure quality of data and solution developed\\nLead and drive data mining, creating algorithms, collection of data, collection of procedures during the design, build phases of a project\\nLead and drive in deploy and testing of the solutions and insights\\nSpot and evaluate emerging/cutting edge, open source, data science/machine learning libraries\\nYou are part of:\\nYou will be part of Group IT , Information and Data Management team that drives business impact through Data Science and Advanced analytics. A team that instigates collaboration across diverse teams globally to manage Data as an asset at Philips.\\nCore competencies needed to be successful:\\nA Master s Degree or PhD in Computer Science, Econometrics, Artificial Intelligence, Applied Mathematics, Statistics or equivalent;\\n8-10 years of overall experience in data science, data analytics roles\\n8+ years of experience in multiple of machine learning, data mining, deep learning, artificial intelligence, pattern recognition areas\\nExperience in driving implementation of solutions, data and algorithms on data warehouse and lakes like Azure , AWS, SQL etc\\nDemonstrable advanced programming experience in Python or another programming language such as Azure ML/R/Python etc ;\\nStrong analytical and social skills and the capability to translate data intelligence into valuable insights for the senior stakeholders in the company\\nAbility to formulate multiple complex business problems into hypothesis and proof of concepts for testing\\nManage Projects and lead a sub-portfolio of data science project teams to deliver results\\nCoach, Guide and direct teams of internal and vendor resources\\nCollaborate across IT platform teams to deploy solutions and drive continuous improvements\\nManage senior stakeholder in the company in a matrix organization i.e. Market / BG / Function leaders',\n",
       " ' ',\n",
       " \"Required Candidate profile\\nWe are looking for a Senior Data Scientist with a min of 10 years experience in Banking Financial Domain (especially Compliance related) and a solid background in Cloudera.\\nAs a Cloudera Specialist, you must be adept in Cloudera tools like CDH, CEPH, CM, CMA, Data node EDH, HVE, JAS, NameNode, Nodemanager, QJM, QJN, RM and ZK.\\nThis will be a two years assignment to one of the Leading Class A banks in Abu Dhabi.\\nCandidate should have finished two or three full implementations of Data Analytics in Compliance in large Enterprise Banks.\\nShould be having thorough knowledge in R, Python, Scala on demand and Jupyter Notebooks.\\nShould be having hands experience in CCA Spark and Hadoop developer.\\nShould be having a Financial Compliance Background with a good knowledge and hands on expertise on Compliance related domains.\\nShould be a Machine Learning expert and create new models and use various library in that area. You should have proven skills in this area.\\nShould be having a thorough theoretical and practical idea on the following systems (From a Data Scientist Perspective)\\nHDFS\\nYarn\\nMapReduce\\nHive\\nPig\\nApache Ambari\\nHBase / Apache Impala\\nStorm\\nOozie\\nRanger\\nZookeeper\\nVarious data ingestion tools like Sqoop, flume, Kafka\\nVarious reporting tools like Drill, Phoenix, Zeppelin\\nWill be an added advantage if you have exposure to GPU processing, Tensor Flow and Data Lakes.\\nShould be able to produce high Quality Business documentation, Project Management, Agile Framework practices as needed.\\nShould inspect the current Cloudera Architecture and suggest enhancements or improve it.\\nShould be able to communicate with Senior Business Management ideas, concepts and deliverables.\\nIf you have certifications on Cloudera (Cloudera Data Engineer, Spark and Hadoop Developer), it will be an added advantage.\\nData Scientist - Compliance\\nResponsibilities:\\nUse advanced analytics methods to extract value from business data\\nPerform large-scale experimentation and build data-driven models to answer business questions\\nConduct research on cutting-edge techniques and tools in machine learning/deep learning/artificial intelligence\\nDetermine requirements that will be used to train and evolve deep learning models and algorithms\\nArticulate a vision and roadmap for the exploitation of data as a valued corporate asset\\nInfluence product teams through presentation of data-based recommendations\\nEvangelize best practices to analytics and products teams\\nAssemble large, complex data sets that meet functional / non-functional business requirements.\\nIdentify, design, and implement internal process improvements: automating manual processes, optimizing analytics delivery, re-designing infrastructure for greater scalability, etc.\\nBuild analytics tools that utilize the data to provide actionable insights into customer acquisition, operational efficiency and other key business performance metrics.\\nWork with stakeholders including the Executive, Product, Data and Design teams to assist with analytics related technical issues and support their data infrastructure needs.\\nWork with data and analytics experts to strive for greater functionality data systems\\nTypical skills and background:\\nSKILLS:\\nCan work with data to identify patterns.\\nUse judgement to form conclusions that may challenge conventional wisdom and focus on the crux of issues to identify high-leverage intervention points and strategies.\\nRapidly acquire new knowledge and learn new skills\\nSeek to understand business needs and get results that have a clear, positive, and direct impact on business performance\\nApply different strategies to convince others to change their opinions or plans and ensure that proposals or arguments are supported by strong logic and a compelling business case, addressing all relevant factors.\\nConsider the relative costs and benefits of potential actions to choose the most appropriate one\\nCommunication and storytelling\\nTeamwork and collaboration\\nBanking domain business knowledge\\nAdvanced analytics modelling and orchestration\\nSolid development skills in Java, Scala and SQL\\nSound knowledge of using data science tools and languages like Cloudera Data Science Workbench (CDSW), Jupyter Notebook, Python etc.\\nClear hands-on mastery in big datab systems - Hadoop ecosystem, Cloud technologies (AWS, Azure, Google), in-memory database systems (HANA, Hazel cast, etc) and other database systems - traditional RDBMS (Terradata, SQL Server, Oracle), and NoSQL databases (Cassandra, MongoDB, DynamoDB)\\nComfortable in dashboard development (Tableau, Powerbi, Qlik, etc) and in developing data analytics models (R, Python, Spark)\\nEXPERIENCE AND QUALIFICATION:\\nMasters degree from top-tier college/university in Computer Science, Statistics, Economics, or other closely-related field\\nMinimum of 6 years' hands-on experience with a strong data background\\nExtensive experience working with Big Data tools and building data solutions for advanced analytics\\nExperience with statistical software, scripting languages, and packages (e.g. R, MATLAB, SAS, and Python)\\nConsiderable experience in solving business problems with advanced analytical solutions\\nProven experience in conducting statistical analysis and building models with advanced scripting language such as R, SPSS, or other analytic tools.\\nExperience building and deploying predictive models, web scraping, and scalable data pipelines.\\nStrong understanding of statistical methods and skills such as Bayesian Networks Inference, linear and non-linear regression, hierarchical, mixed models/multi-level modeling\\nPractical knowledge across data extraction and transformation tools - traditional ETL tools (Informatica, Altryx) as well as more recent big data tools\\nFinancial Renumeration will be based on your skills and expertise.\\nNotice Period of 30 to 45 days preferred\\nPrevious working experience in Middle East and Gulf regions preferred Roles and Responsibilities\\n\\n\\nDesired Candidate Profile\\n\\n\\nPerks and Benefits\",\n",
       " 'Roles and Responsibilities\\n\\nDetails in lined for Hiring Team to focus:\\nThe hiring is for a single Data Scientist (7-8+yrs) as he/she shall be an individual contributor.\\nWe shall seek for a strong java/python/scala with expertise into frameworks ML (spark/keras/tensorflow).\\nML concepts has to be thorough with proven expertise in ( Decision Trees, Random Forest, NLP) Deep Learning is excluded.\\nDesired Candidate Profile\\n\\n\\nPerks and Benefits',\n",
       " 'Data Scientist Primary Location India, Bangalore Date posted 08/01/2021\\nApply Now Save Job ID: JR0024575\\n\\n\\nJob Title:\\nData Scientist\\n\\n\\nRole Overview:\\nData scientist will be doing research on innovative projects in platform engineering group at McAfee. Platform Engineering Group is the is one of the core groups responsible for collecting data from millions of sensors from various products of Enterprises, using the data to protect the customers, provide insights and necessary actions to be taken for security gap.\\n\\nThis position is an integral part of the McAfee Enterprise business segment which was acquired by Symphony Technology Group (STG) in July 2021. McAfee Enterprise and its team members remain committed to keeping governments and enterprises safe. This position is dedicated to and part of the McAfee Enterprise business.\\n\\n\\n\\nCompany Overview\\nMcAfee is a leader in personal security for consumers. Focused on protecting people, not just devices, McAfee consumer solutions adapt to users needs in an always online world, empowering them to live securely through integrated, intuitive solutions that protects their families and communities with the right security at the right moment.\\nAbout the Role:\\nDevelop Machine learning models to analyze and obtain practical insights from large volume of data that requires expertise at data exploration, analysis and feature engineering\\nExperiment and Develop POCs of innovative ideas to come up with new solutions for addressing security gaps\\nCreate machine learning pipelines to automate generation of efficient and better models\\nCommunicate and work with engineering teams to productionize the solutions\\nTaking ownership and responsibility of the solutions and driving to closure\\nParticipate in data and product analytics to develop customer insights and product features\\nImplement newer machine learning algorithms and models to improve the efficacy of the existing solutions\\nPublish research papers on the experiments and machine learning solutions\\nAbout you :\\n5+ years of experience in the field of Data Science\\n5+ years of programming experience in at least one of Python or Java\\n3+ years of working experience on large datasets using ML and experience with ML model life cycle\\nPhD degree in Computer Science, Data Science, Statistics, Mathematics or other related fields is preferred\\nDeep knowledge in Natural Language processing, Deep learning, statistics, predictive modeling and time series analysis.\\nPassionate about Cybersecurity and want to apply machine learning solutions in this space to solve security problems.\\nExperience working on Big data problems\\nExperience working on problems relevant to detecting risk, fraud and trust is an added advantage\\nExperience in working in AWS cloud environment is an added advantage\\nExperience with Publishing research papers',\n",
       " 'Dynamic recruiting professional with 7 - 10 years of high-performance tech recruiting experience with search firms and /or mid-large-sized technology companies.\\nExperience in engaging and hiring the best talent for Data Engineers, Data Scientist and SAP\\nOpen to learning from your peers managers, anything that helps you do your job better day in day out also often share best practices in hiring talent attraction strategies with them.\\nWork well with teams as also on your own as a high-impact individual contributor.\\nUse social media, job boards, Internet sourcing, and other technical means to source candidates for open jobs.\\nUnderstanding of modern recruiting methods like hackathons but are equally comfortable with old school methods as well.\\nWork with internal technology teams and hiring managers to assist with recruitment efforts across levels.\\nWork in sync with the company-wide recruitment strategy. This may include job posting optimization, recruiting marketing channel development, search selection using job boards, digital and non-digital employment marketing, comprehensive recruitment campaign planning, talent planning, stakeholder management, etc.\\nIdentify and source appropriate talent for current open roles within the organization using traditional non-traditional means of recruiting.\\nProactively develop talent pools/talent communities to dip into when hiring is in full swing.\\nManage the end-to-end recruitment process and life-cycle, including sourcing, initial assessments, telephonic personal interviews culminating in offers maintaining the appropriate MIS.',\n",
       " 'Basic Qualifications\\n3-5 years of hands-on experience in in data science, applied statistics, machine learning, data mining, statistical modeling tools and underlying algorithms 3-5 years of hands-on experience building production grade machine learning enabled solutions end to end.\\n3-5 years of experience in statistical modeling methods, time series, text mining, optimization, information retrieval\\n3-5 years hands-on experience using R, Python or and other languages appropriate for large scale analysis of numerical and textual data\\n3-5 years Hands-on experience using SQL and data mining\\nExperience with experiments, machine learning, deep learning, anomaly detection, predictive analysis, exploratory data analysis, and other areas of data science\\nExperience using large data systems Advanced data visualization experience\\nExperience in business, program and/or strategy planning Experience in business, program and/or strategy planning Experience in business, program and/or strategy planning.\\nJob Requirements:\\nPython, SQL, R Language, Machine Learning for Rules, AI Hub, Machine Learning Fundamentals, Machine Learning Application',\n",
       " 'Dear Candidates\\nWe are looking for a competent and enthusiastic candidate with the below requirement. This vital role ensures Cunesoft India Pvt Ltd (a Phlexglobal Company) Bangalore can provide a high-quality end product to internal and external users. This position requires strong technical and communication skills as well as both independent and team working, including working closely with all other areas of the software delivery team and the rest of the Technology department.\\nRoles and Responsibilities\\n\\nKey Activities\\nDevelop and improve the existing data mining and NLP related processes within our Regulatory Data Management platform\\nDevelop new ways of improving and transforming the regulatory processes of Phlexglobal customers.\\nInteract with product management, project management and development teams to develop additional modules and functions within the Phlexglobal Cloud Platform\\nDesign and create solutions for pre specified modules and functions\\nUse existing tools and techniques to develop and test new and existing work\\nDefine, create and execute automated test cases, i.e. unit tests\\nParticipate in troubleshooting and triaging of issues with different teams to drive towards root cause identification and resolution\\nSupport production deployment of applications and perform validation testing during the off-hours maintenance windows\\nSupport and fix existing and new identified issues by either customers or internal test teams.\\n\\nDesired Candidate Profile\\n\\n\\nRequired Skills & Experience\\n\\nMinimum 3+ years working experience in NLP, Artificial Intelligence, Machine Learning, Text Mining, Neural Networks\\nStrong programming skills using PYTHON\\nIn depth experience with OpenNLP, Stanford NLP or related NLP / data mining technologies\\nIn depth experience with Python and data libraries such as scikit learn, pandas, numpy, etc.\\nSelecting features, building and optimizing classifiers using Machine learning techniques\\nExcellent understanding of Machine Learning Techniques and Algorithms.\\nMust have Data mining / Natural Language Processing experience\\nMust have very good understanding of GIT\\nProcessing, Cleansing, and verifying the integrity of data\\nDevelop custom data models and algorithms to apply to data sets.\\nDefining validation strategies\\nDefining the preprocessing or feature engineering to be done on a given dataset\\nDefining data augmentation pipelines\\nTraining models and tuning their hyperparameters\\nAnalyzing the errors of the model and designing strategies to overcome them\\nDeploying models to production\\n\\nAdded advantages\\n3+ years experience using Microsoft .NET / C#\\nExposure to ML.Net, AutoML, NimbusML, etc\\nGood knowledge of Microsoft Visual Studio is preferred\\nGood to have Microsoft SQL Server, preferably Microsoft SQL Azure\\nPrevious experience in the Life sciences area\\n\\nOther requirements\\nExcellent verbal and written communication skills\\nMust be flexible, independent and self motivated\\nPunctual, Regular and consistent attendance\\nAs part of the Interview process, you should have attempted the below mentioned Kaggle project.\\n\\nhttps://www.kaggle.com/c/titanic\\n\\nWe would like to arrange a phone interview with you. Please confirm your interest in this position by sending your recent CV attached along with below details.\\n\\nTotal years of Experience :\\n\\nRelevant Experience :\\n\\nCurrent CTC :\\n\\nExpected CTC :\\n\\nNotice Period :\\n\\nCurrent Location :\\n\\nBest time to talk to you :\\n\\nCandidates with relevant experience can contact me.\\n\\nWe are looking for a candidate who can join us immediately / in less than 15-20 days / 30 days / ASAP\\n\\nPlease ignore, if you have already been interviewed within 3 months.\\n\\nThanks\\nSrini\\n\\nsarumugam@phlexglobal.com\\n+91 63660 85842\\n\\nDot Net Developer\\n\\nJunior (3-5 yrs), Mid (5-8 yrs) & Lead (8-12 yrs) level roles.\\n\\nCommercial experience in web development using the full Microsoft .Net development stack (specifically C#, MVC, .Net Core), SQL, front-end frameworks (jQuery, React, etc).\\n\\nCoding, Entity framework, Linq, Source control system (Any - TFS or GIT), Data structures\\n\\nSkilled in modern development principles (Agile, SOLID, TDD, design patterns, IoC)\\n\\nAt least theoretical knowledge - know-SQL database (example\\nAzure Cosmos)\\n\\nGood to have - Ideally experience of Azure, MVVM, microservices, message bus, containerisation, serverless.\\n\\nMicrosoft .Net development stack, C#, MVC, .Net Core, SQL, front-end frameworks, jQuery, React, Entity framework, Linq, TFS, GIT, Data structures, Agile, SOLID, TDD, design patterns, IoC, SQL database, Azure Cosmos, Azure, MVVM, microservices, message bus, containerisation, serverless',\n",
       " \"About the role\\nWe are looking for skilled motivated professionals who will support and own multiple projects globally that drive business growth while still balancing compliance risk and partner friction. The role will cover areas such as (not limited to) Sanctions screening; Partner and user compliance; Customer due diligence; Transaction monitoring; Metrics development and monitoring; and Model and Strategy development - to help balance partner friction and compliance risk\\nWhat you'll do\\nDevelop and manage user risk rating models that meet applicable regulatory requirements and are aligned with standard methodologies and practices. Interpret large amounts of complex data to formulate problem statements, concise conclusions regarding underlying risk dynamics, trends, and opportunities Identify key risk indicators and metrics while developing and monitoring key parameters, enhance reporting, and identify new areas of analytic focus to better understand operational risk.\\nOwn compliance specific area - end to end - ranging from the discovery of the business problem to eventually working with the Engineering/Product teams to execute it Strategy design and analysis of domain-specific use-cases such as Reduction of cost of compliance;\\nImprove monitoring mechanism to alert any anomaly in compliance or business metric; Improve funnel for Partner onboarding, thereby improving user experience; and Drive multiple experiments to evaluate and quantify the hypothesis Extensive data analytics and SQL query writing Predictive modeling / Machine learning algorithms - using random Forest / Decision tree / Logistic regression\\nKey Qualifications\\n6 years of proven experience in a data-focused role such as product analytics, business analytics, business operations, or data science Education in Engineering, Computer Science, Math, Economics, Statistics or equivalent experience Past experience in Payments or Compliance with a Product / Tech company serving millions of customers on multiple platforms and countries BA/BS in Mathematics, Statistics, Computer Science, Economics, Business or analytical field SQL mastery.\\nWrite efficient and complex code in SQL Experience in Python/R and in experimentation, A/B testing, and statistical modeling Define business metrics, including Key Performance Indicators, for financial products, in close partnership with Product Management and other leaders Proven ability to handle large datasets, explore and utilize raw data feeds\\nExcellent data visualization skills Love of data - you just go get the data you need and turn it into an insightful story. You know how to convert data into decisions without getting stuck in paralysis by analysis A well-organized, structured approach to problem-solving\\nStrong sense of ownership, accountability, and entrepreneurial spirit Able to lead change and solution-oriented Great communicator, problem-solver confident in decision making Independent autonomous, while still a strong teammate Enthusiastic, self-starting and thrives in changing, agile environment.\",\n",
       " 'Roles and Responsibilities\\nAs a Senior Associate you will be responsible for the overall health of a client engagement. You will be challenged with a mix of technical as well as business strategy/planning problems. As a key member of the team, you will be expected to drive adoption of new technologies, tools and process improvements within the team to build world class analytical capabilities for customers.\\n\\nPrimary Responsibilities:\\n\\nAbility to work with business users to refine analytical requirements and breakdown/solve\\ncomplex business problems\\nStaying connected with analytics industry trends in data, techniques, technologies and leveraging\\nthem to develop learning packages as well as evangelizing their use across teams\\nDepending on the client engagement, leading a team of analysts/associates and mentoring people in a fast paced, learning driven environment\\nStrong application knowledge of tools (R/SAS/Python/SPSS etc.)\\nHands on experience in statistical techniques (Regression, Machine Learning, Classification, Time series, etc.)\\nExperience of working on analytics projects and initiatives with 5+ years of experience\\n\\nAdditional Responsibilities:\\nProficiency with Git\\nUnderstanding of software development methodologies (Agile essential), values, and procedures\\nExperience or certifications with visualization tools (Tableau/Qlik/PowerBI etc.)\\nWell versed with big data handling using Hadoop, etc.\\nProject management certifications: PMP/ CAPM/ CSM\\n\\nDesired Candidate Profile\\n\\n\\nPerks and Benefits']"
      ]
     },
     "execution_count": 161,
     "metadata": {},
     "output_type": "execute_result"
    }
   ],
   "source": [
    "#opening all the links one-by-one to get the job description\n",
    "decsriptions_list = []\n",
    "\n",
    "for i in link_list:\n",
    "    driver.get(i)\n",
    "    try:\n",
    "        job_desc = driver.find_element_by_xpath(\"//div[@class='dang-inner-html']\")\n",
    "        decsriptions_list.append(job_desc.text)\n",
    "    except:\n",
    "        decsriptions_list.append(\" \")\n",
    "decsriptions_list"
   ]
  },
  {
   "cell_type": "code",
   "execution_count": 162,
   "id": "fed4e471",
   "metadata": {},
   "outputs": [
    {
     "data": {
      "text/html": [
       "<div>\n",
       "<style scoped>\n",
       "    .dataframe tbody tr th:only-of-type {\n",
       "        vertical-align: middle;\n",
       "    }\n",
       "\n",
       "    .dataframe tbody tr th {\n",
       "        vertical-align: top;\n",
       "    }\n",
       "\n",
       "    .dataframe thead th {\n",
       "        text-align: right;\n",
       "    }\n",
       "</style>\n",
       "<table border=\"1\" class=\"dataframe\">\n",
       "  <thead>\n",
       "    <tr style=\"text-align: right;\">\n",
       "      <th></th>\n",
       "      <th>Job Title</th>\n",
       "      <th>Job Location</th>\n",
       "      <th>Company Name</th>\n",
       "      <th>Job Description</th>\n",
       "    </tr>\n",
       "  </thead>\n",
       "  <tbody>\n",
       "    <tr>\n",
       "      <th>0</th>\n",
       "      <td>Senior Data Scientist</td>\n",
       "      <td>Bangalore/Bengaluru</td>\n",
       "      <td>Philips India Limited</td>\n",
       "      <td>Be a part of the Enterprise IT , Information...</td>\n",
       "    </tr>\n",
       "    <tr>\n",
       "      <th>1</th>\n",
       "      <td>Data Scientist: Advanced Analytics</td>\n",
       "      <td>Bangalore/Bengaluru</td>\n",
       "      <td>IBM India Pvt. Limited</td>\n",
       "      <td></td>\n",
       "    </tr>\n",
       "    <tr>\n",
       "      <th>2</th>\n",
       "      <td>Senior Data Scientist</td>\n",
       "      <td>Bangalore/Bengaluru</td>\n",
       "      <td>SYMBIOSIS International W.L.L</td>\n",
       "      <td>Required Candidate profile\\nWe are looking for...</td>\n",
       "    </tr>\n",
       "    <tr>\n",
       "      <th>3</th>\n",
       "      <td>Senior Data Scientist</td>\n",
       "      <td>Bangalore/Bengaluru</td>\n",
       "      <td>Datamatics Global Services Ltd</td>\n",
       "      <td>Roles and Responsibilities\\n\\nDetails in lined...</td>\n",
       "    </tr>\n",
       "    <tr>\n",
       "      <th>4</th>\n",
       "      <td>DATA SCIENTIST</td>\n",
       "      <td>Bangalore/Bengaluru</td>\n",
       "      <td>McAfee Software (India) Pvt. Ltd</td>\n",
       "      <td>Data Scientist Primary Location India, Bangalo...</td>\n",
       "    </tr>\n",
       "    <tr>\n",
       "      <th>5</th>\n",
       "      <td>Data Engineers , Data Scientist and SAP</td>\n",
       "      <td>Bangalore/Bengaluru</td>\n",
       "      <td>Teamware Solutions</td>\n",
       "      <td>Dynamic recruiting professional with 7 - 10 ye...</td>\n",
       "    </tr>\n",
       "    <tr>\n",
       "      <th>6</th>\n",
       "      <td>Python - Data Scientist</td>\n",
       "      <td>Bangalore/Bengaluru</td>\n",
       "      <td>Mindtree Limited</td>\n",
       "      <td>Basic Qualifications\\n3-5 years of hands-on ex...</td>\n",
       "    </tr>\n",
       "    <tr>\n",
       "      <th>7</th>\n",
       "      <td>Software Developer - Data Scientist / NLP / Ma...</td>\n",
       "      <td>Bangalore/Bengaluru</td>\n",
       "      <td>Cunesoft India Private Limited</td>\n",
       "      <td>Dear Candidates\\nWe are looking for a competen...</td>\n",
       "    </tr>\n",
       "    <tr>\n",
       "      <th>8</th>\n",
       "      <td>Data scientist</td>\n",
       "      <td>(WFH during Covid)</td>\n",
       "      <td>Uber</td>\n",
       "      <td>About the role\\nWe are looking for skilled mot...</td>\n",
       "    </tr>\n",
       "    <tr>\n",
       "      <th>9</th>\n",
       "      <td>Senior Associate - Data Scientist</td>\n",
       "      <td>Bangalore/Bengaluru</td>\n",
       "      <td>Novotree Minds Consulting Pvt Limited</td>\n",
       "      <td>Roles and Responsibilities\\nAs a Senior Associ...</td>\n",
       "    </tr>\n",
       "  </tbody>\n",
       "</table>\n",
       "</div>"
      ],
      "text/plain": [
       "                                           Job Title         Job Location  \\\n",
       "0                              Senior Data Scientist  Bangalore/Bengaluru   \n",
       "1                 Data Scientist: Advanced Analytics  Bangalore/Bengaluru   \n",
       "2                              Senior Data Scientist  Bangalore/Bengaluru   \n",
       "3                              Senior Data Scientist  Bangalore/Bengaluru   \n",
       "4                                     DATA SCIENTIST  Bangalore/Bengaluru   \n",
       "5            Data Engineers , Data Scientist and SAP  Bangalore/Bengaluru   \n",
       "6                            Python - Data Scientist  Bangalore/Bengaluru   \n",
       "7  Software Developer - Data Scientist / NLP / Ma...  Bangalore/Bengaluru   \n",
       "8                                     Data scientist   (WFH during Covid)   \n",
       "9                  Senior Associate - Data Scientist  Bangalore/Bengaluru   \n",
       "\n",
       "                            Company Name  \\\n",
       "0                  Philips India Limited   \n",
       "1                 IBM India Pvt. Limited   \n",
       "2          SYMBIOSIS International W.L.L   \n",
       "3         Datamatics Global Services Ltd   \n",
       "4       McAfee Software (India) Pvt. Ltd   \n",
       "5                     Teamware Solutions   \n",
       "6                       Mindtree Limited   \n",
       "7         Cunesoft India Private Limited   \n",
       "8                                   Uber   \n",
       "9  Novotree Minds Consulting Pvt Limited   \n",
       "\n",
       "                                     Job Description  \n",
       "0    Be a part of the Enterprise IT , Information...  \n",
       "1                                                     \n",
       "2  Required Candidate profile\\nWe are looking for...  \n",
       "3  Roles and Responsibilities\\n\\nDetails in lined...  \n",
       "4  Data Scientist Primary Location India, Bangalo...  \n",
       "5  Dynamic recruiting professional with 7 - 10 ye...  \n",
       "6  Basic Qualifications\\n3-5 years of hands-on ex...  \n",
       "7  Dear Candidates\\nWe are looking for a competen...  \n",
       "8  About the role\\nWe are looking for skilled mot...  \n",
       "9  Roles and Responsibilities\\nAs a Senior Associ...  "
      ]
     },
     "execution_count": 162,
     "metadata": {},
     "output_type": "execute_result"
    }
   ],
   "source": [
    "#5. Finally create a dataframe of the scraped data.\n",
    "#Creating a dataframe for job-title, job-location, company_name, full job-description.\n",
    "\n",
    "df = pd.DataFrame({})\n",
    "\n",
    "df[\"Job Title\"] = job_titles[:10]\n",
    "df[\"Job Location\"] = comp_loc[:10]\n",
    "df[\"Company Name\"] = comp_name[:10]\n",
    "df[\"Job Description\"] = decsriptions_list\n",
    "df"
   ]
  },
  {
   "cell_type": "markdown",
   "id": "730dfb19",
   "metadata": {},
   "source": [
    "### Q3: In this question you have to scrape data using the filters available on the webpage as shown\n",
    "You have to use the location and salary filter.\n",
    "You have to scrape data for “Data Scientist” designation for first 10 job results.\n",
    "You have to scrape the job-title, job-location, company_name,\n",
    "experience_required.\n",
    "The location filter to be used is “Delhi/NCR”\n",
    "The salary filter to be used is “3-6” lakhs"
   ]
  },
  {
   "cell_type": "code",
   "execution_count": 180,
   "id": "08976551",
   "metadata": {},
   "outputs": [],
   "source": [
    "#1. first get the webpage https://www.naukri.com/\n",
    "driver.get('https://www.naukri.com/')"
   ]
  },
  {
   "cell_type": "code",
   "execution_count": 181,
   "id": "9b596fba",
   "metadata": {},
   "outputs": [],
   "source": [
    "#2. Enter “Data Scientist” in “Skill,Designations,Companies” field\n",
    "search_job = driver.find_element_by_id(\"qsb-keyword-sugg\")\n",
    "search_job.send_keys('Data Scientist')"
   ]
  },
  {
   "cell_type": "code",
   "execution_count": 182,
   "id": "06e28bd9",
   "metadata": {},
   "outputs": [],
   "source": [
    "#3. Then click the Search button.\n",
    "search_btn = driver.find_element_by_xpath(\"//button[@class='btn']\")\n",
    "search_btn.click()"
   ]
  },
  {
   "cell_type": "code",
   "execution_count": 184,
   "id": "ef07f280",
   "metadata": {},
   "outputs": [],
   "source": [
    "#4. Then apply the location filter and salary filter by checking the respective boxes\n",
    "\n",
    "#We'll get the element of these two filters:\n",
    "#a.The location filter to be used is “Delhi/NCR”\n",
    "location_filter = driver.find_element_by_xpath(\"/html/body/div[1]/div[3]/div[2]/section[1]/div[2]/div[1]/div[2]/div[3]/label/p/span[1]\")\n",
    "location_filter.click()\n"
   ]
  },
  {
   "cell_type": "code",
   "execution_count": 185,
   "id": "306b66b8",
   "metadata": {},
   "outputs": [],
   "source": [
    "\n",
    "#b. The salary filter to be used is “3-6” lakhs\n",
    "salary_filter = driver.find_element_by_xpath(\"/html/body/div[1]/div[3]/div[2]/section[1]/div[2]/div[4]/div[2]/div[2]/label/p/span[1]\")\n",
    "salary_filter.click()"
   ]
  },
  {
   "cell_type": "code",
   "execution_count": 186,
   "id": "8dd9374a",
   "metadata": {},
   "outputs": [
    {
     "data": {
      "text/plain": [
       "[<selenium.webdriver.remote.webelement.WebElement (session=\"f29edb9374afad0af7ff71a3bc2cc84d\", element=\"9ea2ca67-2650-45b3-8a5e-417b369367fa\")>,\n",
       " <selenium.webdriver.remote.webelement.WebElement (session=\"f29edb9374afad0af7ff71a3bc2cc84d\", element=\"072f36ad-2987-451a-8106-0d6cccb9a060\")>,\n",
       " <selenium.webdriver.remote.webelement.WebElement (session=\"f29edb9374afad0af7ff71a3bc2cc84d\", element=\"c020bd83-3028-46e3-8a6d-a1469e1d7e9c\")>,\n",
       " <selenium.webdriver.remote.webelement.WebElement (session=\"f29edb9374afad0af7ff71a3bc2cc84d\", element=\"cca698b3-9aca-472b-9cda-fb5b1f232b64\")>,\n",
       " <selenium.webdriver.remote.webelement.WebElement (session=\"f29edb9374afad0af7ff71a3bc2cc84d\", element=\"a9b13ded-af63-491d-9864-eb5814165120\")>,\n",
       " <selenium.webdriver.remote.webelement.WebElement (session=\"f29edb9374afad0af7ff71a3bc2cc84d\", element=\"ad4dada2-980f-4181-a006-1f78ff4c1870\")>,\n",
       " <selenium.webdriver.remote.webelement.WebElement (session=\"f29edb9374afad0af7ff71a3bc2cc84d\", element=\"c5985c30-242e-4753-8886-888f97bbcc26\")>,\n",
       " <selenium.webdriver.remote.webelement.WebElement (session=\"f29edb9374afad0af7ff71a3bc2cc84d\", element=\"e0dcb02d-36d5-4763-a090-b77aea536e20\")>,\n",
       " <selenium.webdriver.remote.webelement.WebElement (session=\"f29edb9374afad0af7ff71a3bc2cc84d\", element=\"1a79258d-6133-4348-8daf-e6bed7629f4f\")>,\n",
       " <selenium.webdriver.remote.webelement.WebElement (session=\"f29edb9374afad0af7ff71a3bc2cc84d\", element=\"0132f834-ef62-4c80-a11d-67b28b90ce2f\")>,\n",
       " <selenium.webdriver.remote.webelement.WebElement (session=\"f29edb9374afad0af7ff71a3bc2cc84d\", element=\"03f30b40-f3d6-4201-8361-fc18e69ead56\")>,\n",
       " <selenium.webdriver.remote.webelement.WebElement (session=\"f29edb9374afad0af7ff71a3bc2cc84d\", element=\"25c3a3fa-e54e-4f63-89f0-df7ae3ad51d4\")>,\n",
       " <selenium.webdriver.remote.webelement.WebElement (session=\"f29edb9374afad0af7ff71a3bc2cc84d\", element=\"339b4d20-6cf8-48b2-beb6-29fc7cef938b\")>,\n",
       " <selenium.webdriver.remote.webelement.WebElement (session=\"f29edb9374afad0af7ff71a3bc2cc84d\", element=\"b1d20016-54b4-413c-bb24-4ea08582c62a\")>,\n",
       " <selenium.webdriver.remote.webelement.WebElement (session=\"f29edb9374afad0af7ff71a3bc2cc84d\", element=\"9e7d925c-3f94-4258-bb32-8f91a1c940e0\")>,\n",
       " <selenium.webdriver.remote.webelement.WebElement (session=\"f29edb9374afad0af7ff71a3bc2cc84d\", element=\"f6fea3c1-d522-4369-8704-625fdf10ef0c\")>,\n",
       " <selenium.webdriver.remote.webelement.WebElement (session=\"f29edb9374afad0af7ff71a3bc2cc84d\", element=\"49ee3e56-0de4-49ca-b0ea-b27f3baf5689\")>,\n",
       " <selenium.webdriver.remote.webelement.WebElement (session=\"f29edb9374afad0af7ff71a3bc2cc84d\", element=\"dc2f582f-8ea6-49c8-9602-c24769341781\")>,\n",
       " <selenium.webdriver.remote.webelement.WebElement (session=\"f29edb9374afad0af7ff71a3bc2cc84d\", element=\"7de800ca-5cf3-485f-ad01-246446951cdd\")>,\n",
       " <selenium.webdriver.remote.webelement.WebElement (session=\"f29edb9374afad0af7ff71a3bc2cc84d\", element=\"8bebac07-cada-40cf-9e3a-5e37485aa270\")>]"
      ]
     },
     "execution_count": 186,
     "metadata": {},
     "output_type": "execute_result"
    }
   ],
   "source": [
    "#4. Then scrape the data for the first 10 jobs results you get.\n",
    "#Let's extract all the tags with job title\n",
    "titles_tags = driver.find_elements_by_xpath(\"//a[@class='title fw500 ellipsis']\")\n",
    "titles_tags"
   ]
  },
  {
   "cell_type": "code",
   "execution_count": 187,
   "id": "41aa104e",
   "metadata": {},
   "outputs": [
    {
     "data": {
      "text/plain": [
       "['Data Scientist / Sr. Data Scientist',\n",
       " 'Only Fresher / Data Scientist / Data Analyst / Analytics - MNC Jobs',\n",
       " 'Data Scientist',\n",
       " 'Senior Data Scientist - Noida',\n",
       " 'Data Scientist / Data Analyst',\n",
       " 'Immediate Openings For DATA Scientist with 6 To 7 yrs of Experience',\n",
       " 'Data Scientist',\n",
       " 'Senior Data Scientist',\n",
       " 'Data Scientist',\n",
       " 'Data Scientist - Machine Learning/NLP']"
      ]
     },
     "execution_count": 187,
     "metadata": {},
     "output_type": "execute_result"
    }
   ],
   "source": [
    "#Extracting the top 10 title text from the web elements we got\n",
    "job_titles=[]\n",
    "for i in titles_tags[:10]:       #titles_tags[:10] will display only 10 entries\n",
    "    job_titles.append(i.text)    #i.text is used to extract the text from webelement\n",
    "job_titles"
   ]
  },
  {
   "cell_type": "code",
   "execution_count": 188,
   "id": "9cc830db",
   "metadata": {},
   "outputs": [
    {
     "data": {
      "text/plain": [
       "[<selenium.webdriver.remote.webelement.WebElement (session=\"f29edb9374afad0af7ff71a3bc2cc84d\", element=\"e132fc95-247d-485f-bf98-9c5187267c42\")>,\n",
       " <selenium.webdriver.remote.webelement.WebElement (session=\"f29edb9374afad0af7ff71a3bc2cc84d\", element=\"dafea151-51d8-4ba3-9b7b-a8779585f86a\")>,\n",
       " <selenium.webdriver.remote.webelement.WebElement (session=\"f29edb9374afad0af7ff71a3bc2cc84d\", element=\"ee33ca4f-3273-4e6e-9cbd-25cfd7a17782\")>,\n",
       " <selenium.webdriver.remote.webelement.WebElement (session=\"f29edb9374afad0af7ff71a3bc2cc84d\", element=\"188884ab-2aee-44ea-b549-31f395b23410\")>,\n",
       " <selenium.webdriver.remote.webelement.WebElement (session=\"f29edb9374afad0af7ff71a3bc2cc84d\", element=\"ba7071af-31fa-45a3-98fd-b7af49ec3a90\")>,\n",
       " <selenium.webdriver.remote.webelement.WebElement (session=\"f29edb9374afad0af7ff71a3bc2cc84d\", element=\"4906459c-c3be-4f0e-933b-fbe037cfab8f\")>,\n",
       " <selenium.webdriver.remote.webelement.WebElement (session=\"f29edb9374afad0af7ff71a3bc2cc84d\", element=\"4811f06a-ec1a-4a2c-9dc8-d3f4a9cb3e72\")>,\n",
       " <selenium.webdriver.remote.webelement.WebElement (session=\"f29edb9374afad0af7ff71a3bc2cc84d\", element=\"ba71895e-e7ab-493f-b770-b60349770c89\")>,\n",
       " <selenium.webdriver.remote.webelement.WebElement (session=\"f29edb9374afad0af7ff71a3bc2cc84d\", element=\"721ae28a-7623-4a79-9a50-95605cd8e5f1\")>,\n",
       " <selenium.webdriver.remote.webelement.WebElement (session=\"f29edb9374afad0af7ff71a3bc2cc84d\", element=\"e710bdb5-5ed3-43f0-94d9-ff63acb2ca53\")>,\n",
       " <selenium.webdriver.remote.webelement.WebElement (session=\"f29edb9374afad0af7ff71a3bc2cc84d\", element=\"b9b7b57b-d175-4265-9130-b330fc2b229a\")>,\n",
       " <selenium.webdriver.remote.webelement.WebElement (session=\"f29edb9374afad0af7ff71a3bc2cc84d\", element=\"b69bf007-8eb7-4e2d-b624-e8140df34cbb\")>,\n",
       " <selenium.webdriver.remote.webelement.WebElement (session=\"f29edb9374afad0af7ff71a3bc2cc84d\", element=\"ca31c52c-97f8-4dd0-a515-774f234fb31a\")>,\n",
       " <selenium.webdriver.remote.webelement.WebElement (session=\"f29edb9374afad0af7ff71a3bc2cc84d\", element=\"700786a6-1e78-408b-ae7f-a22328f3194b\")>,\n",
       " <selenium.webdriver.remote.webelement.WebElement (session=\"f29edb9374afad0af7ff71a3bc2cc84d\", element=\"f445c882-f3ee-4d4b-afcb-5a3eb42d5beb\")>,\n",
       " <selenium.webdriver.remote.webelement.WebElement (session=\"f29edb9374afad0af7ff71a3bc2cc84d\", element=\"a8c48410-88ee-4cb6-ae79-b10e9214c61c\")>,\n",
       " <selenium.webdriver.remote.webelement.WebElement (session=\"f29edb9374afad0af7ff71a3bc2cc84d\", element=\"8f478d69-5274-401a-ba00-c9aa35f491eb\")>,\n",
       " <selenium.webdriver.remote.webelement.WebElement (session=\"f29edb9374afad0af7ff71a3bc2cc84d\", element=\"1bee6e8a-16e1-440a-b5d6-62b03e351043\")>,\n",
       " <selenium.webdriver.remote.webelement.WebElement (session=\"f29edb9374afad0af7ff71a3bc2cc84d\", element=\"3b45181f-4c4e-42bb-b524-2fa298292601\")>,\n",
       " <selenium.webdriver.remote.webelement.WebElement (session=\"f29edb9374afad0af7ff71a3bc2cc84d\", element=\"24c28f5e-276c-4bdc-b768-bc7724f60260\")>]"
      ]
     },
     "execution_count": 188,
     "metadata": {},
     "output_type": "execute_result"
    }
   ],
   "source": [
    "#Let's extract all the tags with company name\n",
    "comp_tags = driver.find_elements_by_xpath(\"//a[@class='subTitle ellipsis fleft']\")\n",
    "comp_tags"
   ]
  },
  {
   "cell_type": "code",
   "execution_count": 189,
   "id": "53ac898e",
   "metadata": {},
   "outputs": [
    {
     "data": {
      "text/plain": [
       "['WEGARNER SOLUTIONS PRIVATE LIMITED',\n",
       " 'GABA Consultancy services',\n",
       " 'CBRE South Asia Pvt Ltd',\n",
       " 'Optum Global Solutions (India) Private Limited',\n",
       " 'CARS24',\n",
       " 'Entune IT Consulting Private Limited',\n",
       " 'Decimal Technologies Pvt Ltd.',\n",
       " 'inVentiv International Pharma Services Pvt. Ltd.',\n",
       " 'R Systems International Ltd.',\n",
       " 'TalPro']"
      ]
     },
     "execution_count": 189,
     "metadata": {},
     "output_type": "execute_result"
    }
   ],
   "source": [
    "#Extracting the company name text from the web elements we got\n",
    "comp_name=[]\n",
    "for i in comp_tags[:10]:       #This will display only 10 entries\n",
    "    comp_name.append(i.text)    #i.text is used to extract the text from webelement\n",
    "comp_name"
   ]
  },
  {
   "cell_type": "code",
   "execution_count": 190,
   "id": "9771f7b6",
   "metadata": {},
   "outputs": [
    {
     "data": {
      "text/plain": [
       "[<selenium.webdriver.remote.webelement.WebElement (session=\"f29edb9374afad0af7ff71a3bc2cc84d\", element=\"558abf68-dccc-4ad3-8180-4f42aab34ce9\")>,\n",
       " <selenium.webdriver.remote.webelement.WebElement (session=\"f29edb9374afad0af7ff71a3bc2cc84d\", element=\"50a3b818-62ab-4c2a-a390-33eecaa26063\")>,\n",
       " <selenium.webdriver.remote.webelement.WebElement (session=\"f29edb9374afad0af7ff71a3bc2cc84d\", element=\"9c59b0cf-40c9-4d29-b6b1-607486d19264\")>,\n",
       " <selenium.webdriver.remote.webelement.WebElement (session=\"f29edb9374afad0af7ff71a3bc2cc84d\", element=\"e18d9ba1-df0a-45ac-af44-34be2e3c7217\")>,\n",
       " <selenium.webdriver.remote.webelement.WebElement (session=\"f29edb9374afad0af7ff71a3bc2cc84d\", element=\"ece65796-5244-4fda-ab3b-1b93400eef2a\")>,\n",
       " <selenium.webdriver.remote.webelement.WebElement (session=\"f29edb9374afad0af7ff71a3bc2cc84d\", element=\"a4e56a1f-5bac-4f76-92f4-f4c9da8a050d\")>,\n",
       " <selenium.webdriver.remote.webelement.WebElement (session=\"f29edb9374afad0af7ff71a3bc2cc84d\", element=\"d113620a-d672-4148-b912-8e5aeee2117d\")>,\n",
       " <selenium.webdriver.remote.webelement.WebElement (session=\"f29edb9374afad0af7ff71a3bc2cc84d\", element=\"abb19e2c-a422-4ebc-9a25-c32a26fd4ea5\")>,\n",
       " <selenium.webdriver.remote.webelement.WebElement (session=\"f29edb9374afad0af7ff71a3bc2cc84d\", element=\"75f1136c-df9d-4ff3-a62e-21ed7b58a514\")>,\n",
       " <selenium.webdriver.remote.webelement.WebElement (session=\"f29edb9374afad0af7ff71a3bc2cc84d\", element=\"917d60bf-628f-4514-bc99-95a2eaad1c9b\")>,\n",
       " <selenium.webdriver.remote.webelement.WebElement (session=\"f29edb9374afad0af7ff71a3bc2cc84d\", element=\"dd076574-9048-4cf2-af1c-20db80526041\")>,\n",
       " <selenium.webdriver.remote.webelement.WebElement (session=\"f29edb9374afad0af7ff71a3bc2cc84d\", element=\"b661d35b-468f-4c4e-9e7e-b12196dcfa53\")>,\n",
       " <selenium.webdriver.remote.webelement.WebElement (session=\"f29edb9374afad0af7ff71a3bc2cc84d\", element=\"85521f72-ac40-45cc-b90a-611876e51799\")>,\n",
       " <selenium.webdriver.remote.webelement.WebElement (session=\"f29edb9374afad0af7ff71a3bc2cc84d\", element=\"8c6190b8-6543-43e5-a217-d1beec3c8242\")>,\n",
       " <selenium.webdriver.remote.webelement.WebElement (session=\"f29edb9374afad0af7ff71a3bc2cc84d\", element=\"cd8c7c60-d736-49ae-8ca9-06a4b7b6823e\")>,\n",
       " <selenium.webdriver.remote.webelement.WebElement (session=\"f29edb9374afad0af7ff71a3bc2cc84d\", element=\"83f38028-e039-42a3-9a43-4c8049893728\")>,\n",
       " <selenium.webdriver.remote.webelement.WebElement (session=\"f29edb9374afad0af7ff71a3bc2cc84d\", element=\"d33c8f89-c7c1-4878-8e13-4cebe03ef43d\")>,\n",
       " <selenium.webdriver.remote.webelement.WebElement (session=\"f29edb9374afad0af7ff71a3bc2cc84d\", element=\"72e8f911-56d7-47a8-8a42-cc40c1e32ab2\")>,\n",
       " <selenium.webdriver.remote.webelement.WebElement (session=\"f29edb9374afad0af7ff71a3bc2cc84d\", element=\"c7de910e-816f-468f-aba6-bddaf902397c\")>,\n",
       " <selenium.webdriver.remote.webelement.WebElement (session=\"f29edb9374afad0af7ff71a3bc2cc84d\", element=\"11ad6a0f-f99d-4ec9-b458-1ad3fad68b23\")>,\n",
       " <selenium.webdriver.remote.webelement.WebElement (session=\"f29edb9374afad0af7ff71a3bc2cc84d\", element=\"94acc54c-0cb9-4aaf-ad0a-b7086391632a\")>,\n",
       " <selenium.webdriver.remote.webelement.WebElement (session=\"f29edb9374afad0af7ff71a3bc2cc84d\", element=\"dfc668b6-ea9e-47b3-af14-193f2a070896\")>,\n",
       " <selenium.webdriver.remote.webelement.WebElement (session=\"f29edb9374afad0af7ff71a3bc2cc84d\", element=\"e20d7c80-9b6c-4d3f-a4e8-3024e395ad20\")>]"
      ]
     },
     "execution_count": 190,
     "metadata": {},
     "output_type": "execute_result"
    }
   ],
   "source": [
    "#Let's extract all the tags with comp location\n",
    "loc_tags = driver.find_elements_by_xpath(\"//li[@class='fleft grey-text br2 placeHolderLi location']//span\")\n",
    "loc_tags"
   ]
  },
  {
   "cell_type": "code",
   "execution_count": 191,
   "id": "d244427c",
   "metadata": {},
   "outputs": [
    {
     "data": {
      "text/plain": [
       "['Noida, Pune, Mumbai (All Areas)',\n",
       " 'Noida, Gurgaon/Gurugram, Delhi / NCR',\n",
       " 'Gurgaon/Gurugram',\n",
       " 'Noida',\n",
       " 'Gurgaon/Gurugram',\n",
       " 'Kolkata, Hyderabad/Secunderabad, Pune, Ahmedabad, Chennai, Bangalore/Bengaluru, Delhi / NCR, Mumbai (All Areas)',\n",
       " '(WFH during Covid)',\n",
       " 'Gurgaon/Gurugram',\n",
       " 'Hyderabad/Secunderabad, Gurgaon/Gurugram, Bangalore/Bengaluru',\n",
       " 'Noida(Sector-59 Noida)']"
      ]
     },
     "execution_count": 191,
     "metadata": {},
     "output_type": "execute_result"
    }
   ],
   "source": [
    "#Extracting the job location text from the web elements we got\n",
    "comp_loc=[]\n",
    "for i in loc_tags[:10]:       #This will display only 10 entries\n",
    "    comp_loc.append(i.text)    #i.text is used to extract the text from webelement\n",
    "comp_loc"
   ]
  },
  {
   "cell_type": "code",
   "execution_count": 192,
   "id": "65162bba",
   "metadata": {},
   "outputs": [
    {
     "data": {
      "text/plain": [
       "[<selenium.webdriver.remote.webelement.WebElement (session=\"f29edb9374afad0af7ff71a3bc2cc84d\", element=\"a255ae1f-f285-4052-aff9-53e0f2c4fd28\")>,\n",
       " <selenium.webdriver.remote.webelement.WebElement (session=\"f29edb9374afad0af7ff71a3bc2cc84d\", element=\"58e9b448-4dc7-4656-aa28-84dcecb5d0e8\")>,\n",
       " <selenium.webdriver.remote.webelement.WebElement (session=\"f29edb9374afad0af7ff71a3bc2cc84d\", element=\"fe2baf44-5f0d-46b3-bf2e-7c0e9c7fe564\")>,\n",
       " <selenium.webdriver.remote.webelement.WebElement (session=\"f29edb9374afad0af7ff71a3bc2cc84d\", element=\"b18eccaa-e5db-4322-95a4-02fdbd6ee623\")>,\n",
       " <selenium.webdriver.remote.webelement.WebElement (session=\"f29edb9374afad0af7ff71a3bc2cc84d\", element=\"d1bc792e-02c1-4be9-8eef-a7093f658032\")>,\n",
       " <selenium.webdriver.remote.webelement.WebElement (session=\"f29edb9374afad0af7ff71a3bc2cc84d\", element=\"29f259cf-78ae-4cb6-9936-bcadd6d30a70\")>,\n",
       " <selenium.webdriver.remote.webelement.WebElement (session=\"f29edb9374afad0af7ff71a3bc2cc84d\", element=\"347111c2-63de-4e63-ac08-78e1d71b3b09\")>,\n",
       " <selenium.webdriver.remote.webelement.WebElement (session=\"f29edb9374afad0af7ff71a3bc2cc84d\", element=\"a72f681b-7b27-4179-93af-e338e56d0fce\")>,\n",
       " <selenium.webdriver.remote.webelement.WebElement (session=\"f29edb9374afad0af7ff71a3bc2cc84d\", element=\"b4d3d758-0deb-496c-a532-c34aaa38474b\")>,\n",
       " <selenium.webdriver.remote.webelement.WebElement (session=\"f29edb9374afad0af7ff71a3bc2cc84d\", element=\"732e890b-755a-44fb-9f52-e8b290c340b1\")>,\n",
       " <selenium.webdriver.remote.webelement.WebElement (session=\"f29edb9374afad0af7ff71a3bc2cc84d\", element=\"8b1eb8a2-3c10-48f9-8cb6-f501caca563c\")>,\n",
       " <selenium.webdriver.remote.webelement.WebElement (session=\"f29edb9374afad0af7ff71a3bc2cc84d\", element=\"015f8a48-b1ed-466b-b848-6a6b28d3a2a6\")>,\n",
       " <selenium.webdriver.remote.webelement.WebElement (session=\"f29edb9374afad0af7ff71a3bc2cc84d\", element=\"351f64a9-27b0-4142-8ae4-8c169431e8d0\")>,\n",
       " <selenium.webdriver.remote.webelement.WebElement (session=\"f29edb9374afad0af7ff71a3bc2cc84d\", element=\"ed0784d6-ef1a-45da-884b-14c4a386e431\")>,\n",
       " <selenium.webdriver.remote.webelement.WebElement (session=\"f29edb9374afad0af7ff71a3bc2cc84d\", element=\"89f457e9-7c6e-48d2-a32b-678fad324d93\")>,\n",
       " <selenium.webdriver.remote.webelement.WebElement (session=\"f29edb9374afad0af7ff71a3bc2cc84d\", element=\"40275a38-769a-42fa-95e4-f069ca3b9aa9\")>,\n",
       " <selenium.webdriver.remote.webelement.WebElement (session=\"f29edb9374afad0af7ff71a3bc2cc84d\", element=\"f34739de-9f51-4eac-aba9-d401647a7e16\")>,\n",
       " <selenium.webdriver.remote.webelement.WebElement (session=\"f29edb9374afad0af7ff71a3bc2cc84d\", element=\"879163d9-dabf-4366-a007-2c5fbcdf3b3a\")>,\n",
       " <selenium.webdriver.remote.webelement.WebElement (session=\"f29edb9374afad0af7ff71a3bc2cc84d\", element=\"1df844df-c1cb-441e-8a8a-dc980615734e\")>,\n",
       " <selenium.webdriver.remote.webelement.WebElement (session=\"f29edb9374afad0af7ff71a3bc2cc84d\", element=\"d319477d-e53f-4b61-bebb-ba892844d7ed\")>]"
      ]
     },
     "execution_count": 192,
     "metadata": {},
     "output_type": "execute_result"
    }
   ],
   "source": [
    "#Let's extract all the tags with experience required\n",
    "exp_tags = driver.find_elements_by_xpath(\"//li[@class='fleft grey-text br2 placeHolderLi experience']//span\")\n",
    "exp_tags"
   ]
  },
  {
   "cell_type": "code",
   "execution_count": 193,
   "id": "d05dbf85",
   "metadata": {},
   "outputs": [
    {
     "data": {
      "text/plain": [
       "['0-5 Yrs',\n",
       " '0-0 Yrs',\n",
       " '2-4 Yrs',\n",
       " '2-6 Yrs',\n",
       " '1-5 Yrs',\n",
       " '5-8 Yrs',\n",
       " '1-3 Yrs',\n",
       " '3-6 Yrs',\n",
       " '5-10 Yrs',\n",
       " '2-6 Yrs']"
      ]
     },
     "execution_count": 193,
     "metadata": {},
     "output_type": "execute_result"
    }
   ],
   "source": [
    "#Extracting the experience text from the web elements we got\n",
    "experience_list=[]\n",
    "for i in exp_tags[:10]:       #This will display only 10 entries\n",
    "    experience_list.append(i.text)    #i.text is used to extract the text from webelement\n",
    "experience_list"
   ]
  },
  {
   "cell_type": "code",
   "execution_count": 194,
   "id": "f9017f98",
   "metadata": {},
   "outputs": [
    {
     "data": {
      "text/html": [
       "<div>\n",
       "<style scoped>\n",
       "    .dataframe tbody tr th:only-of-type {\n",
       "        vertical-align: middle;\n",
       "    }\n",
       "\n",
       "    .dataframe tbody tr th {\n",
       "        vertical-align: top;\n",
       "    }\n",
       "\n",
       "    .dataframe thead th {\n",
       "        text-align: right;\n",
       "    }\n",
       "</style>\n",
       "<table border=\"1\" class=\"dataframe\">\n",
       "  <thead>\n",
       "    <tr style=\"text-align: right;\">\n",
       "      <th></th>\n",
       "      <th>Job Title</th>\n",
       "      <th>Job Location</th>\n",
       "      <th>Company Name</th>\n",
       "      <th>Experience Required</th>\n",
       "    </tr>\n",
       "  </thead>\n",
       "  <tbody>\n",
       "    <tr>\n",
       "      <th>0</th>\n",
       "      <td>Data Scientist / Sr. Data Scientist</td>\n",
       "      <td>Noida, Pune, Mumbai (All Areas)</td>\n",
       "      <td>WEGARNER SOLUTIONS PRIVATE LIMITED</td>\n",
       "      <td>0-5 Yrs</td>\n",
       "    </tr>\n",
       "    <tr>\n",
       "      <th>1</th>\n",
       "      <td>Only Fresher / Data Scientist / Data Analyst /...</td>\n",
       "      <td>Noida, Gurgaon/Gurugram, Delhi / NCR</td>\n",
       "      <td>GABA Consultancy services</td>\n",
       "      <td>0-0 Yrs</td>\n",
       "    </tr>\n",
       "    <tr>\n",
       "      <th>2</th>\n",
       "      <td>Data Scientist</td>\n",
       "      <td>Gurgaon/Gurugram</td>\n",
       "      <td>CBRE South Asia Pvt Ltd</td>\n",
       "      <td>2-4 Yrs</td>\n",
       "    </tr>\n",
       "    <tr>\n",
       "      <th>3</th>\n",
       "      <td>Senior Data Scientist - Noida</td>\n",
       "      <td>Noida</td>\n",
       "      <td>Optum Global Solutions (India) Private Limited</td>\n",
       "      <td>2-6 Yrs</td>\n",
       "    </tr>\n",
       "    <tr>\n",
       "      <th>4</th>\n",
       "      <td>Data Scientist / Data Analyst</td>\n",
       "      <td>Gurgaon/Gurugram</td>\n",
       "      <td>CARS24</td>\n",
       "      <td>1-5 Yrs</td>\n",
       "    </tr>\n",
       "    <tr>\n",
       "      <th>5</th>\n",
       "      <td>Immediate Openings For DATA Scientist with 6 T...</td>\n",
       "      <td>Kolkata, Hyderabad/Secunderabad, Pune, Ahmedab...</td>\n",
       "      <td>Entune IT Consulting Private Limited</td>\n",
       "      <td>5-8 Yrs</td>\n",
       "    </tr>\n",
       "    <tr>\n",
       "      <th>6</th>\n",
       "      <td>Data Scientist</td>\n",
       "      <td>(WFH during Covid)</td>\n",
       "      <td>Decimal Technologies Pvt Ltd.</td>\n",
       "      <td>1-3 Yrs</td>\n",
       "    </tr>\n",
       "    <tr>\n",
       "      <th>7</th>\n",
       "      <td>Senior Data Scientist</td>\n",
       "      <td>Gurgaon/Gurugram</td>\n",
       "      <td>inVentiv International Pharma Services Pvt. Ltd.</td>\n",
       "      <td>3-6 Yrs</td>\n",
       "    </tr>\n",
       "    <tr>\n",
       "      <th>8</th>\n",
       "      <td>Data Scientist</td>\n",
       "      <td>Hyderabad/Secunderabad, Gurgaon/Gurugram, Bang...</td>\n",
       "      <td>R Systems International Ltd.</td>\n",
       "      <td>5-10 Yrs</td>\n",
       "    </tr>\n",
       "    <tr>\n",
       "      <th>9</th>\n",
       "      <td>Data Scientist - Machine Learning/NLP</td>\n",
       "      <td>Noida(Sector-59 Noida)</td>\n",
       "      <td>TalPro</td>\n",
       "      <td>2-6 Yrs</td>\n",
       "    </tr>\n",
       "  </tbody>\n",
       "</table>\n",
       "</div>"
      ],
      "text/plain": [
       "                                           Job Title  \\\n",
       "0                Data Scientist / Sr. Data Scientist   \n",
       "1  Only Fresher / Data Scientist / Data Analyst /...   \n",
       "2                                     Data Scientist   \n",
       "3                      Senior Data Scientist - Noida   \n",
       "4                      Data Scientist / Data Analyst   \n",
       "5  Immediate Openings For DATA Scientist with 6 T...   \n",
       "6                                     Data Scientist   \n",
       "7                              Senior Data Scientist   \n",
       "8                                     Data Scientist   \n",
       "9              Data Scientist - Machine Learning/NLP   \n",
       "\n",
       "                                        Job Location  \\\n",
       "0                    Noida, Pune, Mumbai (All Areas)   \n",
       "1               Noida, Gurgaon/Gurugram, Delhi / NCR   \n",
       "2                                   Gurgaon/Gurugram   \n",
       "3                                              Noida   \n",
       "4                                   Gurgaon/Gurugram   \n",
       "5  Kolkata, Hyderabad/Secunderabad, Pune, Ahmedab...   \n",
       "6                                 (WFH during Covid)   \n",
       "7                                   Gurgaon/Gurugram   \n",
       "8  Hyderabad/Secunderabad, Gurgaon/Gurugram, Bang...   \n",
       "9                             Noida(Sector-59 Noida)   \n",
       "\n",
       "                                       Company Name Experience Required  \n",
       "0                WEGARNER SOLUTIONS PRIVATE LIMITED             0-5 Yrs  \n",
       "1                         GABA Consultancy services             0-0 Yrs  \n",
       "2                           CBRE South Asia Pvt Ltd             2-4 Yrs  \n",
       "3    Optum Global Solutions (India) Private Limited             2-6 Yrs  \n",
       "4                                            CARS24             1-5 Yrs  \n",
       "5              Entune IT Consulting Private Limited             5-8 Yrs  \n",
       "6                     Decimal Technologies Pvt Ltd.             1-3 Yrs  \n",
       "7  inVentiv International Pharma Services Pvt. Ltd.             3-6 Yrs  \n",
       "8                      R Systems International Ltd.            5-10 Yrs  \n",
       "9                                            TalPro             2-6 Yrs  "
      ]
     },
     "execution_count": 194,
     "metadata": {},
     "output_type": "execute_result"
    }
   ],
   "source": [
    "#5. Finally create a dataframe of the scraped with applied filters.\n",
    "#Creating a dataframe for job-title, job-location, company_name, experience_required.\n",
    "\n",
    "df = pd.DataFrame({})\n",
    "\n",
    "df[\"Job Title\"] = job_titles[:10]\n",
    "df[\"Job Location\"] = comp_loc[:10]\n",
    "df[\"Company Name\"] = comp_name[:10]\n",
    "df[\"Experience Required\"] = experience_list[:10]\n",
    "df"
   ]
  },
  {
   "cell_type": "markdown",
   "id": "2a6072e4",
   "metadata": {},
   "source": [
    "### Q4: Write a python program to scrape data for first 10 job results for Data scientist Designation in Noida location. You have to scrape company_name, No. of days ago when job was posted, Rating of the company.\n"
   ]
  },
  {
   "cell_type": "code",
   "execution_count": 196,
   "id": "eb896dfc",
   "metadata": {},
   "outputs": [],
   "source": [
    "#1. first get the webpage 'https://www.glassdoor.co.in/index.htm'\n",
    "\n",
    "#driver.get('https://www.glassdoor.co.in/index.htm')"
   ]
  },
  {
   "cell_type": "code",
   "execution_count": 198,
   "id": "84e4d81b",
   "metadata": {},
   "outputs": [
    {
     "ename": "AttributeError",
     "evalue": "'WebDriver' object has no attribute 'get_element_by_ID'",
     "output_type": "error",
     "traceback": [
      "\u001b[1;31m---------------------------------------------------------------------------\u001b[0m",
      "\u001b[1;31mAttributeError\u001b[0m                            Traceback (most recent call last)",
      "\u001b[1;32m<ipython-input-198-ffa26e307dab>\u001b[0m in \u001b[0;36m<module>\u001b[1;34m\u001b[0m\n\u001b[0;32m      3\u001b[0m \u001b[1;33m\u001b[0m\u001b[0m\n\u001b[0;32m      4\u001b[0m \u001b[1;31m#sending keys to type in “Job Title,Keyword,Company” field\u001b[0m\u001b[1;33m\u001b[0m\u001b[1;33m\u001b[0m\u001b[1;33m\u001b[0m\u001b[0m\n\u001b[1;32m----> 5\u001b[1;33m \u001b[0msearch_job\u001b[0m \u001b[1;33m=\u001b[0m \u001b[0mdriver\u001b[0m\u001b[1;33m.\u001b[0m\u001b[0mget_element_by_ID\u001b[0m\u001b[1;33m(\u001b[0m\u001b[1;34m'KeywordSearch'\u001b[0m\u001b[1;33m)\u001b[0m\u001b[1;33m\u001b[0m\u001b[1;33m\u001b[0m\u001b[0m\n\u001b[0m\u001b[0;32m      6\u001b[0m \u001b[0msearch_job\u001b[0m\u001b[1;33m.\u001b[0m\u001b[0msend_keys\u001b[0m\u001b[1;33m(\u001b[0m\u001b[1;34m\"Data Scientist\"\u001b[0m\u001b[1;33m)\u001b[0m\u001b[1;33m\u001b[0m\u001b[1;33m\u001b[0m\u001b[0m\n",
      "\u001b[1;31mAttributeError\u001b[0m: 'WebDriver' object has no attribute 'get_element_by_ID'"
     ]
    }
   ],
   "source": [
    "#2. Enter “Data Scientist” in “Job Title,Keyword,Company” field and enter “Noida”\n",
    "#in “location” field\n",
    "\n",
    "#sending keys to type in “Job Title,Keyword,Company” field\n",
    "\n",
    "#search_job = driver.get_element_by_ID('KeywordSearch')\n",
    "#search_job.send_keys(\"Data Scientist\")*/"
   ]
  },
  {
   "cell_type": "code",
   "execution_count": null,
   "id": "7dd817ee",
   "metadata": {},
   "outputs": [],
   "source": []
  },
  {
   "cell_type": "code",
   "execution_count": null,
   "id": "d9b6da2b",
   "metadata": {},
   "outputs": [],
   "source": []
  },
  {
   "cell_type": "markdown",
   "id": "d35e7c37",
   "metadata": {},
   "source": [
    "### Q6 : Scrape data of first 100 sunglasses listings on flipkart.com. You have to scrape four attributes:\n",
    "1. Brand\n",
    "2. Product Description\n",
    "3. Price\n",
    "4. Discount %"
   ]
  },
  {
   "cell_type": "code",
   "execution_count": 245,
   "id": "cf8babac",
   "metadata": {},
   "outputs": [],
   "source": [
    "#1. first get the webpage 'https://www.flipkart.com/'\n",
    "\n",
    "driver.get('https://www.flipkart.com/')"
   ]
  },
  {
   "cell_type": "code",
   "execution_count": 246,
   "id": "6ba646e8",
   "metadata": {},
   "outputs": [
    {
     "ename": "ElementClickInterceptedException",
     "evalue": "Message: element click intercepted: Element <button class=\"L0Z3Pu\" type=\"submit\">...</button> is not clickable at point (556, 28). Other element would receive the click: <div class=\"_36HLxm col col-3-5\">...</div>\n  (Session info: chrome=92.0.4515.131)\n",
     "output_type": "error",
     "traceback": [
      "\u001b[1;31m---------------------------------------------------------------------------\u001b[0m",
      "\u001b[1;31mElementClickInterceptedException\u001b[0m          Traceback (most recent call last)",
      "\u001b[1;32m<ipython-input-246-2c285d8fa082>\u001b[0m in \u001b[0;36m<module>\u001b[1;34m\u001b[0m\n\u001b[0;32m      5\u001b[0m \u001b[1;31m#clicking on the search button to show the result\u001b[0m\u001b[1;33m\u001b[0m\u001b[1;33m\u001b[0m\u001b[1;33m\u001b[0m\u001b[0m\n\u001b[0;32m      6\u001b[0m \u001b[0msearch_button\u001b[0m \u001b[1;33m=\u001b[0m \u001b[0mdriver\u001b[0m\u001b[1;33m.\u001b[0m\u001b[0mfind_element_by_xpath\u001b[0m\u001b[1;33m(\u001b[0m\u001b[1;34m\"//button[@class='L0Z3Pu']\"\u001b[0m\u001b[1;33m)\u001b[0m\u001b[1;33m\u001b[0m\u001b[1;33m\u001b[0m\u001b[0m\n\u001b[1;32m----> 7\u001b[1;33m \u001b[0msearch_button\u001b[0m\u001b[1;33m.\u001b[0m\u001b[0mclick\u001b[0m\u001b[1;33m(\u001b[0m\u001b[1;33m)\u001b[0m\u001b[1;33m\u001b[0m\u001b[1;33m\u001b[0m\u001b[0m\n\u001b[0m",
      "\u001b[1;32m~\\anaconda3\\lib\\site-packages\\selenium\\webdriver\\remote\\webelement.py\u001b[0m in \u001b[0;36mclick\u001b[1;34m(self)\u001b[0m\n\u001b[0;32m     78\u001b[0m     \u001b[1;32mdef\u001b[0m \u001b[0mclick\u001b[0m\u001b[1;33m(\u001b[0m\u001b[0mself\u001b[0m\u001b[1;33m)\u001b[0m\u001b[1;33m:\u001b[0m\u001b[1;33m\u001b[0m\u001b[1;33m\u001b[0m\u001b[0m\n\u001b[0;32m     79\u001b[0m         \u001b[1;34m\"\"\"Clicks the element.\"\"\"\u001b[0m\u001b[1;33m\u001b[0m\u001b[1;33m\u001b[0m\u001b[0m\n\u001b[1;32m---> 80\u001b[1;33m         \u001b[0mself\u001b[0m\u001b[1;33m.\u001b[0m\u001b[0m_execute\u001b[0m\u001b[1;33m(\u001b[0m\u001b[0mCommand\u001b[0m\u001b[1;33m.\u001b[0m\u001b[0mCLICK_ELEMENT\u001b[0m\u001b[1;33m)\u001b[0m\u001b[1;33m\u001b[0m\u001b[1;33m\u001b[0m\u001b[0m\n\u001b[0m\u001b[0;32m     81\u001b[0m \u001b[1;33m\u001b[0m\u001b[0m\n\u001b[0;32m     82\u001b[0m     \u001b[1;32mdef\u001b[0m \u001b[0msubmit\u001b[0m\u001b[1;33m(\u001b[0m\u001b[0mself\u001b[0m\u001b[1;33m)\u001b[0m\u001b[1;33m:\u001b[0m\u001b[1;33m\u001b[0m\u001b[1;33m\u001b[0m\u001b[0m\n",
      "\u001b[1;32m~\\anaconda3\\lib\\site-packages\\selenium\\webdriver\\remote\\webelement.py\u001b[0m in \u001b[0;36m_execute\u001b[1;34m(self, command, params)\u001b[0m\n\u001b[0;32m    631\u001b[0m             \u001b[0mparams\u001b[0m \u001b[1;33m=\u001b[0m \u001b[1;33m{\u001b[0m\u001b[1;33m}\u001b[0m\u001b[1;33m\u001b[0m\u001b[1;33m\u001b[0m\u001b[0m\n\u001b[0;32m    632\u001b[0m         \u001b[0mparams\u001b[0m\u001b[1;33m[\u001b[0m\u001b[1;34m'id'\u001b[0m\u001b[1;33m]\u001b[0m \u001b[1;33m=\u001b[0m \u001b[0mself\u001b[0m\u001b[1;33m.\u001b[0m\u001b[0m_id\u001b[0m\u001b[1;33m\u001b[0m\u001b[1;33m\u001b[0m\u001b[0m\n\u001b[1;32m--> 633\u001b[1;33m         \u001b[1;32mreturn\u001b[0m \u001b[0mself\u001b[0m\u001b[1;33m.\u001b[0m\u001b[0m_parent\u001b[0m\u001b[1;33m.\u001b[0m\u001b[0mexecute\u001b[0m\u001b[1;33m(\u001b[0m\u001b[0mcommand\u001b[0m\u001b[1;33m,\u001b[0m \u001b[0mparams\u001b[0m\u001b[1;33m)\u001b[0m\u001b[1;33m\u001b[0m\u001b[1;33m\u001b[0m\u001b[0m\n\u001b[0m\u001b[0;32m    634\u001b[0m \u001b[1;33m\u001b[0m\u001b[0m\n\u001b[0;32m    635\u001b[0m     \u001b[1;32mdef\u001b[0m \u001b[0mfind_element\u001b[0m\u001b[1;33m(\u001b[0m\u001b[0mself\u001b[0m\u001b[1;33m,\u001b[0m \u001b[0mby\u001b[0m\u001b[1;33m=\u001b[0m\u001b[0mBy\u001b[0m\u001b[1;33m.\u001b[0m\u001b[0mID\u001b[0m\u001b[1;33m,\u001b[0m \u001b[0mvalue\u001b[0m\u001b[1;33m=\u001b[0m\u001b[1;32mNone\u001b[0m\u001b[1;33m)\u001b[0m\u001b[1;33m:\u001b[0m\u001b[1;33m\u001b[0m\u001b[1;33m\u001b[0m\u001b[0m\n",
      "\u001b[1;32m~\\anaconda3\\lib\\site-packages\\selenium\\webdriver\\remote\\webdriver.py\u001b[0m in \u001b[0;36mexecute\u001b[1;34m(self, driver_command, params)\u001b[0m\n\u001b[0;32m    319\u001b[0m         \u001b[0mresponse\u001b[0m \u001b[1;33m=\u001b[0m \u001b[0mself\u001b[0m\u001b[1;33m.\u001b[0m\u001b[0mcommand_executor\u001b[0m\u001b[1;33m.\u001b[0m\u001b[0mexecute\u001b[0m\u001b[1;33m(\u001b[0m\u001b[0mdriver_command\u001b[0m\u001b[1;33m,\u001b[0m \u001b[0mparams\u001b[0m\u001b[1;33m)\u001b[0m\u001b[1;33m\u001b[0m\u001b[1;33m\u001b[0m\u001b[0m\n\u001b[0;32m    320\u001b[0m         \u001b[1;32mif\u001b[0m \u001b[0mresponse\u001b[0m\u001b[1;33m:\u001b[0m\u001b[1;33m\u001b[0m\u001b[1;33m\u001b[0m\u001b[0m\n\u001b[1;32m--> 321\u001b[1;33m             \u001b[0mself\u001b[0m\u001b[1;33m.\u001b[0m\u001b[0merror_handler\u001b[0m\u001b[1;33m.\u001b[0m\u001b[0mcheck_response\u001b[0m\u001b[1;33m(\u001b[0m\u001b[0mresponse\u001b[0m\u001b[1;33m)\u001b[0m\u001b[1;33m\u001b[0m\u001b[1;33m\u001b[0m\u001b[0m\n\u001b[0m\u001b[0;32m    322\u001b[0m             response['value'] = self._unwrap_value(\n\u001b[0;32m    323\u001b[0m                 response.get('value', None))\n",
      "\u001b[1;32m~\\anaconda3\\lib\\site-packages\\selenium\\webdriver\\remote\\errorhandler.py\u001b[0m in \u001b[0;36mcheck_response\u001b[1;34m(self, response)\u001b[0m\n\u001b[0;32m    240\u001b[0m                 \u001b[0malert_text\u001b[0m \u001b[1;33m=\u001b[0m \u001b[0mvalue\u001b[0m\u001b[1;33m[\u001b[0m\u001b[1;34m'alert'\u001b[0m\u001b[1;33m]\u001b[0m\u001b[1;33m.\u001b[0m\u001b[0mget\u001b[0m\u001b[1;33m(\u001b[0m\u001b[1;34m'text'\u001b[0m\u001b[1;33m)\u001b[0m\u001b[1;33m\u001b[0m\u001b[1;33m\u001b[0m\u001b[0m\n\u001b[0;32m    241\u001b[0m             \u001b[1;32mraise\u001b[0m \u001b[0mexception_class\u001b[0m\u001b[1;33m(\u001b[0m\u001b[0mmessage\u001b[0m\u001b[1;33m,\u001b[0m \u001b[0mscreen\u001b[0m\u001b[1;33m,\u001b[0m \u001b[0mstacktrace\u001b[0m\u001b[1;33m,\u001b[0m \u001b[0malert_text\u001b[0m\u001b[1;33m)\u001b[0m\u001b[1;33m\u001b[0m\u001b[1;33m\u001b[0m\u001b[0m\n\u001b[1;32m--> 242\u001b[1;33m         \u001b[1;32mraise\u001b[0m \u001b[0mexception_class\u001b[0m\u001b[1;33m(\u001b[0m\u001b[0mmessage\u001b[0m\u001b[1;33m,\u001b[0m \u001b[0mscreen\u001b[0m\u001b[1;33m,\u001b[0m \u001b[0mstacktrace\u001b[0m\u001b[1;33m)\u001b[0m\u001b[1;33m\u001b[0m\u001b[1;33m\u001b[0m\u001b[0m\n\u001b[0m\u001b[0;32m    243\u001b[0m \u001b[1;33m\u001b[0m\u001b[0m\n\u001b[0;32m    244\u001b[0m     \u001b[1;32mdef\u001b[0m \u001b[0m_value_or_default\u001b[0m\u001b[1;33m(\u001b[0m\u001b[0mself\u001b[0m\u001b[1;33m,\u001b[0m \u001b[0mobj\u001b[0m\u001b[1;33m,\u001b[0m \u001b[0mkey\u001b[0m\u001b[1;33m,\u001b[0m \u001b[0mdefault\u001b[0m\u001b[1;33m)\u001b[0m\u001b[1;33m:\u001b[0m\u001b[1;33m\u001b[0m\u001b[1;33m\u001b[0m\u001b[0m\n",
      "\u001b[1;31mElementClickInterceptedException\u001b[0m: Message: element click intercepted: Element <button class=\"L0Z3Pu\" type=\"submit\">...</button> is not clickable at point (556, 28). Other element would receive the click: <div class=\"_36HLxm col col-3-5\">...</div>\n  (Session info: chrome=92.0.4515.131)\n"
     ]
    }
   ],
   "source": [
    "#2. Enter “sunglasses” in the search field where “search for products, brands and more” is written and click the search icon\n",
    "search_product = driver.find_element_by_name('q')\n",
    "search_product.send_keys('sunglasses')\n",
    "\n"
   ]
  },
  {
   "cell_type": "code",
   "execution_count": 247,
   "id": "9a34c808",
   "metadata": {},
   "outputs": [],
   "source": [
    "#clicking on the search button to show the result\n",
    "search_button = driver.find_element_by_xpath(\"//button[@class='L0Z3Pu']\")\n",
    "search_button.click()"
   ]
  },
  {
   "cell_type": "code",
   "execution_count": 253,
   "id": "15317eef",
   "metadata": {},
   "outputs": [
    {
     "data": {
      "text/plain": [
       "[<selenium.webdriver.remote.webelement.WebElement (session=\"0974e13369fb2bd1c32f9894dbf8d40c\", element=\"9c527109-27f3-40ee-8d21-e89bc9653023\")>,\n",
       " <selenium.webdriver.remote.webelement.WebElement (session=\"0974e13369fb2bd1c32f9894dbf8d40c\", element=\"1725be0b-98c3-4495-bf8c-2129eae8a3e9\")>,\n",
       " <selenium.webdriver.remote.webelement.WebElement (session=\"0974e13369fb2bd1c32f9894dbf8d40c\", element=\"5b814201-5627-42a6-84c4-1c49fd4a4559\")>,\n",
       " <selenium.webdriver.remote.webelement.WebElement (session=\"0974e13369fb2bd1c32f9894dbf8d40c\", element=\"c76015d8-2ebe-4cb4-bca3-a19326f0ef51\")>,\n",
       " <selenium.webdriver.remote.webelement.WebElement (session=\"0974e13369fb2bd1c32f9894dbf8d40c\", element=\"3f4a5b85-17e0-4b90-9a99-c8b77b10589c\")>,\n",
       " <selenium.webdriver.remote.webelement.WebElement (session=\"0974e13369fb2bd1c32f9894dbf8d40c\", element=\"ddef94b4-c364-4b73-bf8f-6f5023044d3f\")>,\n",
       " <selenium.webdriver.remote.webelement.WebElement (session=\"0974e13369fb2bd1c32f9894dbf8d40c\", element=\"c0060f26-9ffb-482d-98d0-0bd2678c6006\")>,\n",
       " <selenium.webdriver.remote.webelement.WebElement (session=\"0974e13369fb2bd1c32f9894dbf8d40c\", element=\"43a182a2-acc6-42fa-8cce-e4fb5358f4f0\")>,\n",
       " <selenium.webdriver.remote.webelement.WebElement (session=\"0974e13369fb2bd1c32f9894dbf8d40c\", element=\"2cbf732f-e5b3-4997-a013-d8375871ff63\")>,\n",
       " <selenium.webdriver.remote.webelement.WebElement (session=\"0974e13369fb2bd1c32f9894dbf8d40c\", element=\"dac950af-d622-426d-88aa-a37bb99a1eb3\")>,\n",
       " <selenium.webdriver.remote.webelement.WebElement (session=\"0974e13369fb2bd1c32f9894dbf8d40c\", element=\"86980592-9e78-471b-a830-ab3b1a249cd9\")>,\n",
       " <selenium.webdriver.remote.webelement.WebElement (session=\"0974e13369fb2bd1c32f9894dbf8d40c\", element=\"ece93b2c-c95e-4ade-9bcf-8644b625da33\")>,\n",
       " <selenium.webdriver.remote.webelement.WebElement (session=\"0974e13369fb2bd1c32f9894dbf8d40c\", element=\"64772ffa-17d1-4481-b459-15132d04e76d\")>,\n",
       " <selenium.webdriver.remote.webelement.WebElement (session=\"0974e13369fb2bd1c32f9894dbf8d40c\", element=\"380b8a82-013c-44c9-aa37-36084c2e484c\")>,\n",
       " <selenium.webdriver.remote.webelement.WebElement (session=\"0974e13369fb2bd1c32f9894dbf8d40c\", element=\"84f16443-c5c2-41ea-a023-f95196a95ddc\")>,\n",
       " <selenium.webdriver.remote.webelement.WebElement (session=\"0974e13369fb2bd1c32f9894dbf8d40c\", element=\"e8d52976-0c22-46f6-ad93-bf5146183180\")>,\n",
       " <selenium.webdriver.remote.webelement.WebElement (session=\"0974e13369fb2bd1c32f9894dbf8d40c\", element=\"900f9590-c16f-4dea-9584-daca7e099a5e\")>,\n",
       " <selenium.webdriver.remote.webelement.WebElement (session=\"0974e13369fb2bd1c32f9894dbf8d40c\", element=\"b9734fb2-c316-40d1-acdb-ceef1f0fe869\")>,\n",
       " <selenium.webdriver.remote.webelement.WebElement (session=\"0974e13369fb2bd1c32f9894dbf8d40c\", element=\"9cbb1b18-6cc9-4dd7-8f82-f70b216cd1ad\")>,\n",
       " <selenium.webdriver.remote.webelement.WebElement (session=\"0974e13369fb2bd1c32f9894dbf8d40c\", element=\"4aa56e52-5cd9-40fb-9f31-8e9fbbb272f9\")>,\n",
       " <selenium.webdriver.remote.webelement.WebElement (session=\"0974e13369fb2bd1c32f9894dbf8d40c\", element=\"4f87e2f7-fbd3-4ace-bfbb-9e72677d12bc\")>,\n",
       " <selenium.webdriver.remote.webelement.WebElement (session=\"0974e13369fb2bd1c32f9894dbf8d40c\", element=\"5fa1a829-856d-420d-b1ba-2abcc5c51419\")>,\n",
       " <selenium.webdriver.remote.webelement.WebElement (session=\"0974e13369fb2bd1c32f9894dbf8d40c\", element=\"5cb7451f-eb95-4337-8951-5ac8f8e32b08\")>,\n",
       " <selenium.webdriver.remote.webelement.WebElement (session=\"0974e13369fb2bd1c32f9894dbf8d40c\", element=\"a125efd4-97c7-492c-b93b-f1b23f975fd3\")>,\n",
       " <selenium.webdriver.remote.webelement.WebElement (session=\"0974e13369fb2bd1c32f9894dbf8d40c\", element=\"af3f88f4-0005-4fcd-9982-3fc5b12ad0b0\")>,\n",
       " <selenium.webdriver.remote.webelement.WebElement (session=\"0974e13369fb2bd1c32f9894dbf8d40c\", element=\"3632b11d-1f39-459c-870e-636ff819ad19\")>,\n",
       " <selenium.webdriver.remote.webelement.WebElement (session=\"0974e13369fb2bd1c32f9894dbf8d40c\", element=\"d6d28c20-2230-41e2-a0b8-5dec3884c733\")>,\n",
       " <selenium.webdriver.remote.webelement.WebElement (session=\"0974e13369fb2bd1c32f9894dbf8d40c\", element=\"bd956491-70cf-495d-af56-3be0ea3a7ed2\")>,\n",
       " <selenium.webdriver.remote.webelement.WebElement (session=\"0974e13369fb2bd1c32f9894dbf8d40c\", element=\"deae4851-7964-426a-b15b-9a853f28fe9c\")>,\n",
       " <selenium.webdriver.remote.webelement.WebElement (session=\"0974e13369fb2bd1c32f9894dbf8d40c\", element=\"f7abc630-a87a-400c-8430-29319a797ed7\")>,\n",
       " <selenium.webdriver.remote.webelement.WebElement (session=\"0974e13369fb2bd1c32f9894dbf8d40c\", element=\"f7293183-0935-4ba4-b265-c27fd700fd86\")>,\n",
       " <selenium.webdriver.remote.webelement.WebElement (session=\"0974e13369fb2bd1c32f9894dbf8d40c\", element=\"8bc886cc-cbfe-46b1-b840-2daa059cad2e\")>,\n",
       " <selenium.webdriver.remote.webelement.WebElement (session=\"0974e13369fb2bd1c32f9894dbf8d40c\", element=\"585b8a2c-7e50-4b81-9e72-f05dbf8635de\")>,\n",
       " <selenium.webdriver.remote.webelement.WebElement (session=\"0974e13369fb2bd1c32f9894dbf8d40c\", element=\"0c6f064d-2f72-46e9-97ec-b74fe5f6d9b6\")>,\n",
       " <selenium.webdriver.remote.webelement.WebElement (session=\"0974e13369fb2bd1c32f9894dbf8d40c\", element=\"1816aedd-4fae-47f4-8041-bb49adff5118\")>,\n",
       " <selenium.webdriver.remote.webelement.WebElement (session=\"0974e13369fb2bd1c32f9894dbf8d40c\", element=\"d5c47218-d5d6-4503-8e60-216c05d5d716\")>,\n",
       " <selenium.webdriver.remote.webelement.WebElement (session=\"0974e13369fb2bd1c32f9894dbf8d40c\", element=\"e465e04c-bc4d-47c9-954b-7261ea254ea5\")>,\n",
       " <selenium.webdriver.remote.webelement.WebElement (session=\"0974e13369fb2bd1c32f9894dbf8d40c\", element=\"16c13cc9-b98a-4a75-a025-9e32b7d6e7b1\")>,\n",
       " <selenium.webdriver.remote.webelement.WebElement (session=\"0974e13369fb2bd1c32f9894dbf8d40c\", element=\"7a79afa9-2753-4d1f-b1fa-7f14afbdd33f\")>,\n",
       " <selenium.webdriver.remote.webelement.WebElement (session=\"0974e13369fb2bd1c32f9894dbf8d40c\", element=\"d1ce5246-ea1a-40c7-98af-e86bdbbaf758\")>]"
      ]
     },
     "execution_count": 253,
     "metadata": {},
     "output_type": "execute_result"
    }
   ],
   "source": [
    "#3. After that you will reach to a webpage having a lot of sunglasses. From this page you can scrap the required data as usual.\n",
    "\n",
    "#Let's scrape the data for Brand\n",
    "#finding the Brand tags from the first page\n",
    "brand_tags1 = driver.find_elements_by_xpath(\"//div[@class='_2WkVRV']\")\n",
    "brand_tags1"
   ]
  },
  {
   "cell_type": "code",
   "execution_count": 254,
   "id": "2041bae5",
   "metadata": {},
   "outputs": [
    {
     "data": {
      "text/plain": [
       "[<selenium.webdriver.remote.webelement.WebElement (session=\"0974e13369fb2bd1c32f9894dbf8d40c\", element=\"7f2cc766-3a49-4dd9-b57d-2ca2925fff8f\")>,\n",
       " <selenium.webdriver.remote.webelement.WebElement (session=\"0974e13369fb2bd1c32f9894dbf8d40c\", element=\"006c2f65-ced5-4e79-8add-30f3706d0f3a\")>,\n",
       " <selenium.webdriver.remote.webelement.WebElement (session=\"0974e13369fb2bd1c32f9894dbf8d40c\", element=\"ea5f4366-197e-4e3a-a2ba-5d15e9d62ee3\")>,\n",
       " <selenium.webdriver.remote.webelement.WebElement (session=\"0974e13369fb2bd1c32f9894dbf8d40c\", element=\"083d8d76-e46d-4924-9e55-a967a85673e5\")>,\n",
       " <selenium.webdriver.remote.webelement.WebElement (session=\"0974e13369fb2bd1c32f9894dbf8d40c\", element=\"b7b70f79-ef80-4e3b-b809-82f5a8557a55\")>,\n",
       " <selenium.webdriver.remote.webelement.WebElement (session=\"0974e13369fb2bd1c32f9894dbf8d40c\", element=\"56c3bd84-978c-466f-bbab-91d68ac21dcc\")>,\n",
       " <selenium.webdriver.remote.webelement.WebElement (session=\"0974e13369fb2bd1c32f9894dbf8d40c\", element=\"7605fc2b-5b55-4f3b-88ed-6bd4f24ad18b\")>,\n",
       " <selenium.webdriver.remote.webelement.WebElement (session=\"0974e13369fb2bd1c32f9894dbf8d40c\", element=\"524ce1cf-04f6-4806-9800-8688e6e241b9\")>,\n",
       " <selenium.webdriver.remote.webelement.WebElement (session=\"0974e13369fb2bd1c32f9894dbf8d40c\", element=\"51609fa8-26b6-4f2f-b385-9f8c929c7147\")>,\n",
       " <selenium.webdriver.remote.webelement.WebElement (session=\"0974e13369fb2bd1c32f9894dbf8d40c\", element=\"83cfb778-88ba-4dd0-815f-746486becd5c\")>,\n",
       " <selenium.webdriver.remote.webelement.WebElement (session=\"0974e13369fb2bd1c32f9894dbf8d40c\", element=\"b04e1794-c8e0-4abf-8ea5-8cc9c6c7af3f\")>,\n",
       " <selenium.webdriver.remote.webelement.WebElement (session=\"0974e13369fb2bd1c32f9894dbf8d40c\", element=\"967e68a0-51fa-432a-abe7-8e9547e3c071\")>,\n",
       " <selenium.webdriver.remote.webelement.WebElement (session=\"0974e13369fb2bd1c32f9894dbf8d40c\", element=\"2a55f05b-9e4d-4b5a-99dc-9381c6c9bc36\")>,\n",
       " <selenium.webdriver.remote.webelement.WebElement (session=\"0974e13369fb2bd1c32f9894dbf8d40c\", element=\"ec4f273b-97f0-4c0a-b20f-cde2cada5808\")>,\n",
       " <selenium.webdriver.remote.webelement.WebElement (session=\"0974e13369fb2bd1c32f9894dbf8d40c\", element=\"5f8d8fd4-83dd-401c-acd9-c24cffef03c6\")>,\n",
       " <selenium.webdriver.remote.webelement.WebElement (session=\"0974e13369fb2bd1c32f9894dbf8d40c\", element=\"6812741d-ed17-49b3-9c55-5779fd703ac9\")>,\n",
       " <selenium.webdriver.remote.webelement.WebElement (session=\"0974e13369fb2bd1c32f9894dbf8d40c\", element=\"b65816f6-a05b-428a-9d25-8a92c0fc1733\")>,\n",
       " <selenium.webdriver.remote.webelement.WebElement (session=\"0974e13369fb2bd1c32f9894dbf8d40c\", element=\"bffb0fee-2e64-41ee-af48-0567547ad764\")>,\n",
       " <selenium.webdriver.remote.webelement.WebElement (session=\"0974e13369fb2bd1c32f9894dbf8d40c\", element=\"02cc9459-ca39-47bd-937b-ddbf315a24fa\")>,\n",
       " <selenium.webdriver.remote.webelement.WebElement (session=\"0974e13369fb2bd1c32f9894dbf8d40c\", element=\"55953359-15e3-4b5a-8f29-88f65965521d\")>,\n",
       " <selenium.webdriver.remote.webelement.WebElement (session=\"0974e13369fb2bd1c32f9894dbf8d40c\", element=\"8054dfa1-db7c-4518-a293-20e0b906f25f\")>,\n",
       " <selenium.webdriver.remote.webelement.WebElement (session=\"0974e13369fb2bd1c32f9894dbf8d40c\", element=\"d68aa76e-3b39-4663-85b5-c64f4e9ff9d8\")>,\n",
       " <selenium.webdriver.remote.webelement.WebElement (session=\"0974e13369fb2bd1c32f9894dbf8d40c\", element=\"48ac9112-0bbb-4b3e-b340-bda1b8cef9a9\")>,\n",
       " <selenium.webdriver.remote.webelement.WebElement (session=\"0974e13369fb2bd1c32f9894dbf8d40c\", element=\"48725ba8-47e3-49e7-af81-6175619aa72b\")>,\n",
       " <selenium.webdriver.remote.webelement.WebElement (session=\"0974e13369fb2bd1c32f9894dbf8d40c\", element=\"3aee6086-a699-40ff-9a40-ba6b7325f6fb\")>,\n",
       " <selenium.webdriver.remote.webelement.WebElement (session=\"0974e13369fb2bd1c32f9894dbf8d40c\", element=\"44ff5b6a-ad96-4196-8830-e7b0370849fb\")>,\n",
       " <selenium.webdriver.remote.webelement.WebElement (session=\"0974e13369fb2bd1c32f9894dbf8d40c\", element=\"b15cfa30-b786-4515-bbbe-4ce004cc45f5\")>,\n",
       " <selenium.webdriver.remote.webelement.WebElement (session=\"0974e13369fb2bd1c32f9894dbf8d40c\", element=\"51e3695f-5583-4f98-9aad-db68ec20c1c2\")>,\n",
       " <selenium.webdriver.remote.webelement.WebElement (session=\"0974e13369fb2bd1c32f9894dbf8d40c\", element=\"4e7afd35-d65f-489f-8980-d997a489a97c\")>,\n",
       " <selenium.webdriver.remote.webelement.WebElement (session=\"0974e13369fb2bd1c32f9894dbf8d40c\", element=\"e865d7ac-02de-4b79-a2a4-a8f9127e84dd\")>,\n",
       " <selenium.webdriver.remote.webelement.WebElement (session=\"0974e13369fb2bd1c32f9894dbf8d40c\", element=\"30072f52-b31d-461d-9697-c001157e3ec2\")>,\n",
       " <selenium.webdriver.remote.webelement.WebElement (session=\"0974e13369fb2bd1c32f9894dbf8d40c\", element=\"b15623bc-2fbf-4c43-bfd0-c413cb96d033\")>,\n",
       " <selenium.webdriver.remote.webelement.WebElement (session=\"0974e13369fb2bd1c32f9894dbf8d40c\", element=\"32fc7ae2-7fbb-4547-9119-2006e0d6fa7f\")>,\n",
       " <selenium.webdriver.remote.webelement.WebElement (session=\"0974e13369fb2bd1c32f9894dbf8d40c\", element=\"c6fe94be-8700-4a13-be19-5ec9882d3d1e\")>,\n",
       " <selenium.webdriver.remote.webelement.WebElement (session=\"0974e13369fb2bd1c32f9894dbf8d40c\", element=\"3783c26b-8220-42f3-9bdd-7d64c4d72aff\")>,\n",
       " <selenium.webdriver.remote.webelement.WebElement (session=\"0974e13369fb2bd1c32f9894dbf8d40c\", element=\"6a8d966c-8cba-4dfd-8f07-fa88c8c065e3\")>,\n",
       " <selenium.webdriver.remote.webelement.WebElement (session=\"0974e13369fb2bd1c32f9894dbf8d40c\", element=\"70b032a4-e6ea-4341-87ee-c0f9d04e8f49\")>,\n",
       " <selenium.webdriver.remote.webelement.WebElement (session=\"0974e13369fb2bd1c32f9894dbf8d40c\", element=\"200825fa-701b-4079-8986-c56d15034949\")>,\n",
       " <selenium.webdriver.remote.webelement.WebElement (session=\"0974e13369fb2bd1c32f9894dbf8d40c\", element=\"edca7c86-8c33-4473-9990-4f72e8927627\")>]"
      ]
     },
     "execution_count": 254,
     "metadata": {},
     "output_type": "execute_result"
    }
   ],
   "source": [
    "#finding the Product Description tags from the first page\n",
    "description_tags1 = driver.find_elements_by_xpath(\"//a[@class='IRpwTa']\")\n",
    "description_tags1"
   ]
  },
  {
   "cell_type": "code",
   "execution_count": 255,
   "id": "39004825",
   "metadata": {},
   "outputs": [
    {
     "data": {
      "text/plain": [
       "[<selenium.webdriver.remote.webelement.WebElement (session=\"0974e13369fb2bd1c32f9894dbf8d40c\", element=\"5ec4efd8-f4f4-46b0-a07e-40ac3bbd246e\")>,\n",
       " <selenium.webdriver.remote.webelement.WebElement (session=\"0974e13369fb2bd1c32f9894dbf8d40c\", element=\"564b5d79-f14e-4ad7-8782-f14722b24b9c\")>,\n",
       " <selenium.webdriver.remote.webelement.WebElement (session=\"0974e13369fb2bd1c32f9894dbf8d40c\", element=\"2844285f-aef1-4956-b2af-a2b03f4c585f\")>,\n",
       " <selenium.webdriver.remote.webelement.WebElement (session=\"0974e13369fb2bd1c32f9894dbf8d40c\", element=\"8a7b3fda-742c-46ea-b30f-606625aec557\")>,\n",
       " <selenium.webdriver.remote.webelement.WebElement (session=\"0974e13369fb2bd1c32f9894dbf8d40c\", element=\"d193f650-1c10-4124-840a-a643f5e1f089\")>,\n",
       " <selenium.webdriver.remote.webelement.WebElement (session=\"0974e13369fb2bd1c32f9894dbf8d40c\", element=\"550fb9f5-e4f3-4879-aa20-9aed9f0151cb\")>,\n",
       " <selenium.webdriver.remote.webelement.WebElement (session=\"0974e13369fb2bd1c32f9894dbf8d40c\", element=\"bddc5ff2-72cb-4c88-a0b9-f707a47c2e61\")>,\n",
       " <selenium.webdriver.remote.webelement.WebElement (session=\"0974e13369fb2bd1c32f9894dbf8d40c\", element=\"b25bd7d4-1ac7-438e-9308-7bb5c8fb4acf\")>,\n",
       " <selenium.webdriver.remote.webelement.WebElement (session=\"0974e13369fb2bd1c32f9894dbf8d40c\", element=\"1df512f3-402e-4cf9-a1af-58e0f92aa2d6\")>,\n",
       " <selenium.webdriver.remote.webelement.WebElement (session=\"0974e13369fb2bd1c32f9894dbf8d40c\", element=\"43aa7d63-3c93-4d95-b0c9-7d54a769eca4\")>,\n",
       " <selenium.webdriver.remote.webelement.WebElement (session=\"0974e13369fb2bd1c32f9894dbf8d40c\", element=\"6a9968ea-7d1e-4b13-aeb1-91b89f3be346\")>,\n",
       " <selenium.webdriver.remote.webelement.WebElement (session=\"0974e13369fb2bd1c32f9894dbf8d40c\", element=\"4bd52748-1d7f-4fe5-817f-33bdc90f6f0a\")>,\n",
       " <selenium.webdriver.remote.webelement.WebElement (session=\"0974e13369fb2bd1c32f9894dbf8d40c\", element=\"3e76dba7-0585-4a94-ae0d-67c75d466e23\")>,\n",
       " <selenium.webdriver.remote.webelement.WebElement (session=\"0974e13369fb2bd1c32f9894dbf8d40c\", element=\"edb200e0-71c8-4999-9fa1-14a6a62f862d\")>,\n",
       " <selenium.webdriver.remote.webelement.WebElement (session=\"0974e13369fb2bd1c32f9894dbf8d40c\", element=\"196b651a-5f7a-4e52-8e9f-4e96b2e5f06a\")>,\n",
       " <selenium.webdriver.remote.webelement.WebElement (session=\"0974e13369fb2bd1c32f9894dbf8d40c\", element=\"2ba27ba1-18a2-4119-b0bd-e3894d3887af\")>,\n",
       " <selenium.webdriver.remote.webelement.WebElement (session=\"0974e13369fb2bd1c32f9894dbf8d40c\", element=\"32b73f8b-82fa-4be6-9226-9582b7e14a4c\")>,\n",
       " <selenium.webdriver.remote.webelement.WebElement (session=\"0974e13369fb2bd1c32f9894dbf8d40c\", element=\"d53e2895-71b6-4691-8a0c-e669e7f0b183\")>,\n",
       " <selenium.webdriver.remote.webelement.WebElement (session=\"0974e13369fb2bd1c32f9894dbf8d40c\", element=\"804c5a98-4e31-408d-9595-310ddffe3b2c\")>,\n",
       " <selenium.webdriver.remote.webelement.WebElement (session=\"0974e13369fb2bd1c32f9894dbf8d40c\", element=\"49fcb624-f091-4474-8fe8-f681fd346326\")>,\n",
       " <selenium.webdriver.remote.webelement.WebElement (session=\"0974e13369fb2bd1c32f9894dbf8d40c\", element=\"7efe78dd-d41f-4b79-ba99-a615fca53943\")>,\n",
       " <selenium.webdriver.remote.webelement.WebElement (session=\"0974e13369fb2bd1c32f9894dbf8d40c\", element=\"56576f58-d2b2-42cc-b064-d5d1be362880\")>,\n",
       " <selenium.webdriver.remote.webelement.WebElement (session=\"0974e13369fb2bd1c32f9894dbf8d40c\", element=\"28017fe0-a146-437c-9815-4e74fb1c9f8b\")>,\n",
       " <selenium.webdriver.remote.webelement.WebElement (session=\"0974e13369fb2bd1c32f9894dbf8d40c\", element=\"9affd4e5-047f-4f4e-b1e1-abecd3bf897b\")>,\n",
       " <selenium.webdriver.remote.webelement.WebElement (session=\"0974e13369fb2bd1c32f9894dbf8d40c\", element=\"56b26875-791d-4c02-941f-a482885fd2c5\")>,\n",
       " <selenium.webdriver.remote.webelement.WebElement (session=\"0974e13369fb2bd1c32f9894dbf8d40c\", element=\"6cb49519-74ba-4754-b350-aa70ab5c4dc2\")>,\n",
       " <selenium.webdriver.remote.webelement.WebElement (session=\"0974e13369fb2bd1c32f9894dbf8d40c\", element=\"233316c8-7937-4764-a35d-871145edb5ad\")>,\n",
       " <selenium.webdriver.remote.webelement.WebElement (session=\"0974e13369fb2bd1c32f9894dbf8d40c\", element=\"3f42f6b8-94a1-4705-992d-dc2b7c2fd5c6\")>,\n",
       " <selenium.webdriver.remote.webelement.WebElement (session=\"0974e13369fb2bd1c32f9894dbf8d40c\", element=\"eadcb564-2bce-4715-a468-f859e558e5f7\")>,\n",
       " <selenium.webdriver.remote.webelement.WebElement (session=\"0974e13369fb2bd1c32f9894dbf8d40c\", element=\"83cf6076-fb4d-4122-95aa-89d15acc8788\")>,\n",
       " <selenium.webdriver.remote.webelement.WebElement (session=\"0974e13369fb2bd1c32f9894dbf8d40c\", element=\"7c2109d7-1f6f-4d65-b8d0-97169b51617f\")>,\n",
       " <selenium.webdriver.remote.webelement.WebElement (session=\"0974e13369fb2bd1c32f9894dbf8d40c\", element=\"56c84984-915d-405f-af0f-9825732673de\")>,\n",
       " <selenium.webdriver.remote.webelement.WebElement (session=\"0974e13369fb2bd1c32f9894dbf8d40c\", element=\"e0b00e82-adbb-4589-ac60-7e12ed1506b0\")>,\n",
       " <selenium.webdriver.remote.webelement.WebElement (session=\"0974e13369fb2bd1c32f9894dbf8d40c\", element=\"932a4b93-b2ae-4f60-a51d-c76d59168707\")>,\n",
       " <selenium.webdriver.remote.webelement.WebElement (session=\"0974e13369fb2bd1c32f9894dbf8d40c\", element=\"7f7f7880-df95-4250-82ff-0ba688387072\")>,\n",
       " <selenium.webdriver.remote.webelement.WebElement (session=\"0974e13369fb2bd1c32f9894dbf8d40c\", element=\"9de6c43c-a2ed-451b-8a13-50635f5a0b97\")>,\n",
       " <selenium.webdriver.remote.webelement.WebElement (session=\"0974e13369fb2bd1c32f9894dbf8d40c\", element=\"6b88b85a-91a4-4324-a932-05662a6584da\")>,\n",
       " <selenium.webdriver.remote.webelement.WebElement (session=\"0974e13369fb2bd1c32f9894dbf8d40c\", element=\"bcdd3872-4d74-4c1e-8bca-7fe32b61dfd3\")>,\n",
       " <selenium.webdriver.remote.webelement.WebElement (session=\"0974e13369fb2bd1c32f9894dbf8d40c\", element=\"c71a1d61-150a-4cab-9daf-46e5646bbb7c\")>,\n",
       " <selenium.webdriver.remote.webelement.WebElement (session=\"0974e13369fb2bd1c32f9894dbf8d40c\", element=\"b072edb0-840e-4f03-979f-1e090a0f655d\")>]"
      ]
     },
     "execution_count": 255,
     "metadata": {},
     "output_type": "execute_result"
    }
   ],
   "source": [
    "#finding the Price tags from the first page\n",
    "price_tags1 = driver.find_elements_by_xpath(\"//div[@class='_30jeq3']\")\n",
    "price_tags1"
   ]
  },
  {
   "cell_type": "code",
   "execution_count": 256,
   "id": "26ce9cf2",
   "metadata": {},
   "outputs": [
    {
     "data": {
      "text/plain": [
       "[<selenium.webdriver.remote.webelement.WebElement (session=\"0974e13369fb2bd1c32f9894dbf8d40c\", element=\"abd09a77-1516-4b70-b1fe-ebb9795e017e\")>,\n",
       " <selenium.webdriver.remote.webelement.WebElement (session=\"0974e13369fb2bd1c32f9894dbf8d40c\", element=\"fc07687d-5afc-483f-a248-986e9c9217be\")>,\n",
       " <selenium.webdriver.remote.webelement.WebElement (session=\"0974e13369fb2bd1c32f9894dbf8d40c\", element=\"8c83dc95-ce7a-4017-a9ea-028a5a66701b\")>,\n",
       " <selenium.webdriver.remote.webelement.WebElement (session=\"0974e13369fb2bd1c32f9894dbf8d40c\", element=\"05876515-7d6d-4004-9a3d-48cfde620102\")>,\n",
       " <selenium.webdriver.remote.webelement.WebElement (session=\"0974e13369fb2bd1c32f9894dbf8d40c\", element=\"7b2ec131-008f-429d-b770-26dd1cd1b178\")>,\n",
       " <selenium.webdriver.remote.webelement.WebElement (session=\"0974e13369fb2bd1c32f9894dbf8d40c\", element=\"578fdca0-8f0b-4857-a826-2eccd8c00208\")>,\n",
       " <selenium.webdriver.remote.webelement.WebElement (session=\"0974e13369fb2bd1c32f9894dbf8d40c\", element=\"d2b84e0c-059f-457b-9e3c-08b967232ae3\")>,\n",
       " <selenium.webdriver.remote.webelement.WebElement (session=\"0974e13369fb2bd1c32f9894dbf8d40c\", element=\"3a55d468-5668-4664-a159-a9e3d0737807\")>,\n",
       " <selenium.webdriver.remote.webelement.WebElement (session=\"0974e13369fb2bd1c32f9894dbf8d40c\", element=\"acb179d4-7048-4c01-a691-ea7111db7878\")>,\n",
       " <selenium.webdriver.remote.webelement.WebElement (session=\"0974e13369fb2bd1c32f9894dbf8d40c\", element=\"e83f1bc6-da5d-4b73-8896-1b217d14a110\")>,\n",
       " <selenium.webdriver.remote.webelement.WebElement (session=\"0974e13369fb2bd1c32f9894dbf8d40c\", element=\"f3cb013a-eae2-4a16-8546-6fc9dbe91754\")>,\n",
       " <selenium.webdriver.remote.webelement.WebElement (session=\"0974e13369fb2bd1c32f9894dbf8d40c\", element=\"f5e22f3b-2760-4b7e-bcd6-e5ddeb869469\")>,\n",
       " <selenium.webdriver.remote.webelement.WebElement (session=\"0974e13369fb2bd1c32f9894dbf8d40c\", element=\"8812418d-be91-4a9e-b67d-adb1098043db\")>,\n",
       " <selenium.webdriver.remote.webelement.WebElement (session=\"0974e13369fb2bd1c32f9894dbf8d40c\", element=\"e352650f-ae23-4391-ba5b-c5a76973b672\")>,\n",
       " <selenium.webdriver.remote.webelement.WebElement (session=\"0974e13369fb2bd1c32f9894dbf8d40c\", element=\"deccbf1b-c513-4116-a792-9e4a41e82da3\")>,\n",
       " <selenium.webdriver.remote.webelement.WebElement (session=\"0974e13369fb2bd1c32f9894dbf8d40c\", element=\"6b23db46-5214-4ffe-a138-666fd7273299\")>,\n",
       " <selenium.webdriver.remote.webelement.WebElement (session=\"0974e13369fb2bd1c32f9894dbf8d40c\", element=\"729e8b19-b2bd-4aef-a00e-0a7ed7142cc0\")>,\n",
       " <selenium.webdriver.remote.webelement.WebElement (session=\"0974e13369fb2bd1c32f9894dbf8d40c\", element=\"de294fd4-ca33-49e6-975c-f21f67ecce3f\")>,\n",
       " <selenium.webdriver.remote.webelement.WebElement (session=\"0974e13369fb2bd1c32f9894dbf8d40c\", element=\"fb224816-3d12-4f4b-b795-b4250fc35ec7\")>,\n",
       " <selenium.webdriver.remote.webelement.WebElement (session=\"0974e13369fb2bd1c32f9894dbf8d40c\", element=\"fb88993e-ac16-4fdc-a4c1-853ce6378b86\")>,\n",
       " <selenium.webdriver.remote.webelement.WebElement (session=\"0974e13369fb2bd1c32f9894dbf8d40c\", element=\"63979e13-05b4-4011-aa4e-acd24a838a77\")>,\n",
       " <selenium.webdriver.remote.webelement.WebElement (session=\"0974e13369fb2bd1c32f9894dbf8d40c\", element=\"a69f62f4-f8c8-4a50-9bd9-8c00e2f1ee98\")>,\n",
       " <selenium.webdriver.remote.webelement.WebElement (session=\"0974e13369fb2bd1c32f9894dbf8d40c\", element=\"753347b3-da90-4b4b-8f6d-18245ed2ecdb\")>,\n",
       " <selenium.webdriver.remote.webelement.WebElement (session=\"0974e13369fb2bd1c32f9894dbf8d40c\", element=\"93806fbd-a642-498e-947b-33bdb2b30ccd\")>,\n",
       " <selenium.webdriver.remote.webelement.WebElement (session=\"0974e13369fb2bd1c32f9894dbf8d40c\", element=\"246c2c3f-0829-40c8-8267-46f520e0d8cd\")>,\n",
       " <selenium.webdriver.remote.webelement.WebElement (session=\"0974e13369fb2bd1c32f9894dbf8d40c\", element=\"1e23dce1-5590-44ae-b45e-3dbbef995489\")>,\n",
       " <selenium.webdriver.remote.webelement.WebElement (session=\"0974e13369fb2bd1c32f9894dbf8d40c\", element=\"ce79be7e-38a7-4d95-a033-8d1a4f59841b\")>,\n",
       " <selenium.webdriver.remote.webelement.WebElement (session=\"0974e13369fb2bd1c32f9894dbf8d40c\", element=\"2d0ad42f-21a6-4f92-845e-533ded81cee6\")>,\n",
       " <selenium.webdriver.remote.webelement.WebElement (session=\"0974e13369fb2bd1c32f9894dbf8d40c\", element=\"4ec018ee-9f76-4467-b7b3-a15f84497a9d\")>,\n",
       " <selenium.webdriver.remote.webelement.WebElement (session=\"0974e13369fb2bd1c32f9894dbf8d40c\", element=\"43dcf955-8392-41bb-841d-0b0720323097\")>,\n",
       " <selenium.webdriver.remote.webelement.WebElement (session=\"0974e13369fb2bd1c32f9894dbf8d40c\", element=\"bd506b72-59ba-4188-bdd0-afd3402abf48\")>,\n",
       " <selenium.webdriver.remote.webelement.WebElement (session=\"0974e13369fb2bd1c32f9894dbf8d40c\", element=\"4f4983fa-c86e-419f-af28-f1a5edee5721\")>,\n",
       " <selenium.webdriver.remote.webelement.WebElement (session=\"0974e13369fb2bd1c32f9894dbf8d40c\", element=\"381db88e-3116-4c93-9c2f-786e6aa34ee2\")>,\n",
       " <selenium.webdriver.remote.webelement.WebElement (session=\"0974e13369fb2bd1c32f9894dbf8d40c\", element=\"d200eaa8-b318-4bd1-80b5-d73363805745\")>,\n",
       " <selenium.webdriver.remote.webelement.WebElement (session=\"0974e13369fb2bd1c32f9894dbf8d40c\", element=\"125556e9-60ad-443b-9dad-1facc81bc231\")>,\n",
       " <selenium.webdriver.remote.webelement.WebElement (session=\"0974e13369fb2bd1c32f9894dbf8d40c\", element=\"54f1748d-4718-43f4-a179-ae2888792210\")>,\n",
       " <selenium.webdriver.remote.webelement.WebElement (session=\"0974e13369fb2bd1c32f9894dbf8d40c\", element=\"1e801fb4-2374-412d-93ae-1c5c4150d21a\")>,\n",
       " <selenium.webdriver.remote.webelement.WebElement (session=\"0974e13369fb2bd1c32f9894dbf8d40c\", element=\"09912be6-756e-45a7-b8b5-aa834038cd09\")>,\n",
       " <selenium.webdriver.remote.webelement.WebElement (session=\"0974e13369fb2bd1c32f9894dbf8d40c\", element=\"5ee44951-e283-4171-9cb7-edf4e5e2654d\")>,\n",
       " <selenium.webdriver.remote.webelement.WebElement (session=\"0974e13369fb2bd1c32f9894dbf8d40c\", element=\"22f06963-86d3-4da8-99c9-565a8d0a00fa\")>]"
      ]
     },
     "execution_count": 256,
     "metadata": {},
     "output_type": "execute_result"
    }
   ],
   "source": [
    "#finding the Discount % tags from the first page\n",
    "discount_tags1 = driver.find_elements_by_xpath(\"//div[@class='_3Ay6Sb']//span\")\n",
    "discount_tags1"
   ]
  },
  {
   "cell_type": "code",
   "execution_count": 257,
   "id": "30ec2bbc",
   "metadata": {},
   "outputs": [],
   "source": [
    "#4. after scraping data from the first page, go to the “Next” Button at the bottom of the page , then click on it\n",
    "\n",
    "#Clicking the Next button\n",
    "next_button = driver.find_element_by_xpath(\"//a[@class='_1LKTO3']//span\")\n",
    "next_button.click()"
   ]
  },
  {
   "cell_type": "code",
   "execution_count": 277,
   "id": "815158b0",
   "metadata": {},
   "outputs": [
    {
     "data": {
      "text/plain": [
       "['https://www.flipkart.com/search?q=sunglasses&otracker=search&otracker1=search&marketplace=FLIPKART&as-show=off&as=off&page=1',\n",
       " 'https://www.flipkart.com/search?q=sunglasses&otracker=search&otracker1=search&marketplace=FLIPKART&as-show=off&as=off&page=2',\n",
       " 'https://www.flipkart.com/search?q=sunglasses&otracker=search&otracker1=search&marketplace=FLIPKART&as-show=off&as=off&page=3',\n",
       " 'https://www.flipkart.com/search?q=sunglasses&otracker=search&otracker1=search&marketplace=FLIPKART&as-show=off&as=off&page=4',\n",
       " 'https://www.flipkart.com/search?q=sunglasses&otracker=search&otracker1=search&marketplace=FLIPKART&as-show=off&as=off&page=5',\n",
       " 'https://www.flipkart.com/search?q=sunglasses&otracker=search&otracker1=search&marketplace=FLIPKART&as-show=off&as=off&page=6',\n",
       " 'https://www.flipkart.com/search?q=sunglasses&otracker=search&otracker1=search&marketplace=FLIPKART&as-show=off&as=off&page=7',\n",
       " 'https://www.flipkart.com/search?q=sunglasses&otracker=search&otracker1=search&marketplace=FLIPKART&as-show=off&as=off&page=8',\n",
       " 'https://www.flipkart.com/search?q=sunglasses&otracker=search&otracker1=search&marketplace=FLIPKART&as-show=off&as=off&page=9',\n",
       " 'https://www.flipkart.com/search?q=sunglasses&otracker=search&otracker1=search&marketplace=FLIPKART&as-show=off&as=off&page=10',\n",
       " 'https://www.flipkart.com/search?q=sunglasses&otracker=search&otracker1=search&marketplace=FLIPKART&as-show=off&as=off&page=2']"
      ]
     },
     "execution_count": 277,
     "metadata": {},
     "output_type": "execute_result"
    }
   ],
   "source": [
    "#Getting the links of pages\n",
    "page_url = []\n",
    "url = driver.find_elements_by_xpath(\"//nav[@class='yFHi8N']//a\")\n",
    "for i in url:\n",
    "    page_url.append(i.get_attribute('href'))\n",
    "page_url"
   ]
  },
  {
   "cell_type": "code",
   "execution_count": 280,
   "id": "2e95a077",
   "metadata": {},
   "outputs": [
    {
     "data": {
      "text/plain": [
       "['HAMIW COLLECTION',\n",
       " 'Wrogn',\n",
       " 'Elligator',\n",
       " 'Fastrack',\n",
       " 'Fastrack',\n",
       " 'Fastrack',\n",
       " 'kingsunglasses',\n",
       " 'ROYAL SON',\n",
       " 'PIRASO',\n",
       " 'Fastrack',\n",
       " 'PIRASO',\n",
       " 'VINCENT CHASE',\n",
       " 'PHENOMENAL',\n",
       " 'kingsunglasses',\n",
       " 'Fastrack',\n",
       " 'ROYAL SON',\n",
       " 'Fastrack',\n",
       " 'kingsunglasses',\n",
       " 'Fastrack',\n",
       " 'ROYAL SON',\n",
       " 'kingsunglasses',\n",
       " 'Silver Kartz',\n",
       " 'Fastrack',\n",
       " 'ROYAL SON',\n",
       " 'ROZZETTA CRAFT',\n",
       " 'Singco India',\n",
       " 'hipe',\n",
       " 'Wrogn',\n",
       " 'Fastrack',\n",
       " 'Elligator',\n",
       " 'Elligator',\n",
       " 'ROYAL SON',\n",
       " 'NuVew',\n",
       " 'Fastrack',\n",
       " 'GANSTA',\n",
       " 'ROYAL SON',\n",
       " 'kingsunglasses',\n",
       " 'ROYAL SON',\n",
       " 'Fastrack',\n",
       " 'PIRASO',\n",
       " 'SRPM',\n",
       " 'Fastrack',\n",
       " 'Fravy',\n",
       " 'HAMIW COLLECTION',\n",
       " 'kingsunglasses',\n",
       " 'NuVew',\n",
       " 'NuVew',\n",
       " 'Wrogn',\n",
       " 'kingsunglasses',\n",
       " 'Fastrack',\n",
       " 'Fastrack',\n",
       " 'LIZA ANGEL',\n",
       " 'DEIXELS',\n",
       " 'Elligator',\n",
       " 'Singco',\n",
       " 'ROYAL SON',\n",
       " 'ROZZETTA CRAFT',\n",
       " 'Singco India',\n",
       " 'DEIXELS',\n",
       " 'VINCENT CHASE',\n",
       " 'PIRASO',\n",
       " 'ROYAL SON',\n",
       " 'Fastrack',\n",
       " 'ROYAL SON',\n",
       " 'Fastrack',\n",
       " 'PIRASO',\n",
       " 'AISLIN',\n",
       " 'ROYAL SON',\n",
       " 'GANSTA',\n",
       " 'Villain',\n",
       " 'GANSTA',\n",
       " 'ROYAL SON',\n",
       " 'Fastrack',\n",
       " 'SUNBEE',\n",
       " 'hipe',\n",
       " 'ROYAL SON',\n",
       " 'NuVew',\n",
       " 'PHENOMENAL',\n",
       " 'kingsunglasses',\n",
       " 'ROYAL SON',\n",
       " 'PIRASO',\n",
       " 'Fastrack',\n",
       " 'ROZZETTA CRAFT',\n",
       " 'HAMIW COLLECTION',\n",
       " 'PHENOMENAL',\n",
       " 'PHENOMENAL',\n",
       " 'Badfella',\n",
       " 'Wrogn',\n",
       " 'hipe',\n",
       " 'Fastrack',\n",
       " 'kingsunglasses',\n",
       " 'LIZA ANGEL',\n",
       " 'ROYAL SON',\n",
       " 'kingsunglasses',\n",
       " 'kingsunglasses',\n",
       " 'ROYAL SON',\n",
       " 'Crackers',\n",
       " 'NuVew',\n",
       " 'PIRASO',\n",
       " 'ROYAL SON',\n",
       " 'Fastrack',\n",
       " 'NuVew',\n",
       " 'Flizz',\n",
       " 'VINCENT CHASE',\n",
       " 'Fravy',\n",
       " 'ROZZETTA CRAFT',\n",
       " 'NuVew',\n",
       " 'ROYAL SON',\n",
       " 'Fastrack',\n",
       " 'ROYAL SON',\n",
       " 'Elligator',\n",
       " 'ROYAL SON',\n",
       " 'ROYAL SON',\n",
       " 'AISLIN',\n",
       " 'Fastrack',\n",
       " 'ROYAL SON',\n",
       " 'hipe',\n",
       " 'kingsunglasses',\n",
       " 'GANSTA',\n",
       " 'Wrogn']"
      ]
     },
     "execution_count": 280,
     "metadata": {},
     "output_type": "execute_result"
    }
   ],
   "source": [
    "brand_list = []\n",
    "for i in page_url[:3]:\n",
    "    driver.get(i)\n",
    "    brand_tags = driver.find_elements_by_xpath(\"//div[@class='_2WkVRV']\")\n",
    "    for i in brand_tags:\n",
    "        brand_list.append(i.text)\n",
    "brand_list"
   ]
  },
  {
   "cell_type": "code",
   "execution_count": 281,
   "id": "3f29473a",
   "metadata": {},
   "outputs": [
    {
     "data": {
      "text/plain": [
       "120"
      ]
     },
     "execution_count": 281,
     "metadata": {},
     "output_type": "execute_result"
    }
   ],
   "source": [
    "len(brand_list)"
   ]
  },
  {
   "cell_type": "code",
   "execution_count": null,
   "id": "9f8cb172",
   "metadata": {},
   "outputs": [],
   "source": []
  },
  {
   "cell_type": "code",
   "execution_count": null,
   "id": "06293cbc",
   "metadata": {},
   "outputs": [],
   "source": []
  },
  {
   "cell_type": "code",
   "execution_count": null,
   "id": "7baec45b",
   "metadata": {},
   "outputs": [],
   "source": []
  },
  {
   "cell_type": "code",
   "execution_count": null,
   "id": "9b0124f3",
   "metadata": {},
   "outputs": [],
   "source": []
  },
  {
   "cell_type": "code",
   "execution_count": null,
   "id": "48170259",
   "metadata": {},
   "outputs": [],
   "source": []
  },
  {
   "cell_type": "code",
   "execution_count": null,
   "id": "8a791d8a",
   "metadata": {},
   "outputs": [],
   "source": []
  },
  {
   "cell_type": "code",
   "execution_count": null,
   "id": "95c2014d",
   "metadata": {},
   "outputs": [],
   "source": []
  },
  {
   "cell_type": "code",
   "execution_count": null,
   "id": "856fa753",
   "metadata": {},
   "outputs": [],
   "source": []
  },
  {
   "cell_type": "code",
   "execution_count": null,
   "id": "629447df",
   "metadata": {},
   "outputs": [],
   "source": []
  },
  {
   "cell_type": "code",
   "execution_count": null,
   "id": "0edab464",
   "metadata": {},
   "outputs": [],
   "source": []
  },
  {
   "cell_type": "code",
   "execution_count": null,
   "id": "b69f84de",
   "metadata": {},
   "outputs": [],
   "source": []
  },
  {
   "cell_type": "code",
   "execution_count": null,
   "id": "4a6e947e",
   "metadata": {},
   "outputs": [],
   "source": []
  },
  {
   "cell_type": "code",
   "execution_count": null,
   "id": "a75e26f5",
   "metadata": {},
   "outputs": [],
   "source": []
  },
  {
   "cell_type": "code",
   "execution_count": null,
   "id": "4b6e7643",
   "metadata": {},
   "outputs": [],
   "source": []
  },
  {
   "cell_type": "code",
   "execution_count": null,
   "id": "120fdb1e",
   "metadata": {},
   "outputs": [],
   "source": []
  },
  {
   "cell_type": "code",
   "execution_count": null,
   "id": "24f8efd7",
   "metadata": {},
   "outputs": [],
   "source": []
  },
  {
   "cell_type": "code",
   "execution_count": null,
   "id": "447fafcc",
   "metadata": {},
   "outputs": [],
   "source": []
  },
  {
   "cell_type": "code",
   "execution_count": null,
   "id": "13c95c6e",
   "metadata": {},
   "outputs": [],
   "source": []
  },
  {
   "cell_type": "code",
   "execution_count": null,
   "id": "11a3003d",
   "metadata": {},
   "outputs": [],
   "source": []
  },
  {
   "cell_type": "code",
   "execution_count": null,
   "id": "65856e1f",
   "metadata": {},
   "outputs": [],
   "source": []
  },
  {
   "cell_type": "code",
   "execution_count": null,
   "id": "62778333",
   "metadata": {},
   "outputs": [],
   "source": []
  },
  {
   "cell_type": "code",
   "execution_count": null,
   "id": "b07dda77",
   "metadata": {},
   "outputs": [],
   "source": []
  },
  {
   "cell_type": "code",
   "execution_count": null,
   "id": "eb4fa951",
   "metadata": {},
   "outputs": [],
   "source": []
  },
  {
   "cell_type": "code",
   "execution_count": null,
   "id": "4fd58129",
   "metadata": {},
   "outputs": [],
   "source": []
  },
  {
   "cell_type": "code",
   "execution_count": null,
   "id": "a26dc405",
   "metadata": {},
   "outputs": [],
   "source": []
  },
  {
   "cell_type": "code",
   "execution_count": null,
   "id": "52ecc2bb",
   "metadata": {},
   "outputs": [],
   "source": []
  },
  {
   "cell_type": "code",
   "execution_count": null,
   "id": "97f4e2ef",
   "metadata": {},
   "outputs": [],
   "source": []
  },
  {
   "cell_type": "code",
   "execution_count": null,
   "id": "a5b77cc0",
   "metadata": {},
   "outputs": [],
   "source": []
  },
  {
   "cell_type": "code",
   "execution_count": null,
   "id": "e7ab02a1",
   "metadata": {},
   "outputs": [],
   "source": [
    "\"\"\" brand = []\n",
    "description = []\n",
    "price = []\n",
    "discount = []\n",
    "\n",
    "for a,b,c,d in brand_tags1,description_tags1,price_tags1,discount_tags1:\n",
    "    brand.append(a.text)\n",
    "    description.append(b.text)\n",
    "    price.append(c.text)\n",
    "    discount.append(d.text)\n",
    "brand\"\"\""
   ]
  },
  {
   "cell_type": "code",
   "execution_count": null,
   "id": "a35b2eea",
   "metadata": {},
   "outputs": [],
   "source": []
  },
  {
   "cell_type": "code",
   "execution_count": null,
   "id": "92026276",
   "metadata": {},
   "outputs": [],
   "source": []
  },
  {
   "cell_type": "code",
   "execution_count": null,
   "id": "94b85bfa",
   "metadata": {},
   "outputs": [],
   "source": []
  },
  {
   "cell_type": "code",
   "execution_count": null,
   "id": "68154c62",
   "metadata": {},
   "outputs": [],
   "source": []
  },
  {
   "cell_type": "code",
   "execution_count": null,
   "id": "ac5b1b2a",
   "metadata": {},
   "outputs": [],
   "source": []
  },
  {
   "cell_type": "code",
   "execution_count": null,
   "id": "685d256a",
   "metadata": {},
   "outputs": [],
   "source": []
  },
  {
   "cell_type": "code",
   "execution_count": null,
   "id": "4a5fc9a8",
   "metadata": {},
   "outputs": [],
   "source": []
  },
  {
   "cell_type": "code",
   "execution_count": null,
   "id": "3d0cef3b",
   "metadata": {},
   "outputs": [],
   "source": []
  },
  {
   "cell_type": "code",
   "execution_count": null,
   "id": "0324e62f",
   "metadata": {},
   "outputs": [],
   "source": []
  },
  {
   "cell_type": "code",
   "execution_count": null,
   "id": "9787a0ef",
   "metadata": {},
   "outputs": [],
   "source": []
  },
  {
   "cell_type": "code",
   "execution_count": null,
   "id": "ca10d370",
   "metadata": {},
   "outputs": [],
   "source": []
  },
  {
   "cell_type": "code",
   "execution_count": null,
   "id": "42cc84b8",
   "metadata": {},
   "outputs": [],
   "source": []
  },
  {
   "cell_type": "code",
   "execution_count": null,
   "id": "bc0bf579",
   "metadata": {},
   "outputs": [],
   "source": []
  },
  {
   "cell_type": "code",
   "execution_count": null,
   "id": "76a7b230",
   "metadata": {},
   "outputs": [],
   "source": []
  },
  {
   "cell_type": "code",
   "execution_count": null,
   "id": "f208f0a6",
   "metadata": {},
   "outputs": [],
   "source": []
  },
  {
   "cell_type": "code",
   "execution_count": null,
   "id": "eb685e11",
   "metadata": {},
   "outputs": [],
   "source": []
  },
  {
   "cell_type": "code",
   "execution_count": null,
   "id": "579f1820",
   "metadata": {},
   "outputs": [],
   "source": []
  },
  {
   "cell_type": "code",
   "execution_count": null,
   "id": "e69237ea",
   "metadata": {},
   "outputs": [],
   "source": []
  },
  {
   "cell_type": "code",
   "execution_count": null,
   "id": "0835af31",
   "metadata": {},
   "outputs": [],
   "source": []
  },
  {
   "cell_type": "code",
   "execution_count": null,
   "id": "ecd88671",
   "metadata": {},
   "outputs": [],
   "source": []
  },
  {
   "cell_type": "code",
   "execution_count": null,
   "id": "12f9ccb0",
   "metadata": {},
   "outputs": [],
   "source": []
  },
  {
   "cell_type": "code",
   "execution_count": null,
   "id": "fb8af427",
   "metadata": {},
   "outputs": [],
   "source": []
  },
  {
   "cell_type": "code",
   "execution_count": null,
   "id": "8834fb04",
   "metadata": {},
   "outputs": [],
   "source": []
  },
  {
   "cell_type": "code",
   "execution_count": null,
   "id": "e0877c9e",
   "metadata": {},
   "outputs": [],
   "source": []
  },
  {
   "cell_type": "code",
   "execution_count": null,
   "id": "51ad84e4",
   "metadata": {},
   "outputs": [],
   "source": []
  },
  {
   "cell_type": "code",
   "execution_count": null,
   "id": "965a40f0",
   "metadata": {},
   "outputs": [],
   "source": []
  }
 ],
 "metadata": {
  "kernelspec": {
   "display_name": "Python 3",
   "language": "python",
   "name": "python3"
  },
  "language_info": {
   "codemirror_mode": {
    "name": "ipython",
    "version": 3
   },
   "file_extension": ".py",
   "mimetype": "text/x-python",
   "name": "python",
   "nbconvert_exporter": "python",
   "pygments_lexer": "ipython3",
   "version": "3.8.8"
  }
 },
 "nbformat": 4,
 "nbformat_minor": 5
}
